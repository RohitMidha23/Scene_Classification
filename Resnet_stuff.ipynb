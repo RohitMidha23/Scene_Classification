{
 "cells": [
  {
   "cell_type": "code",
   "execution_count": null,
   "metadata": {},
   "outputs": [],
   "source": [
    "import keras"
   ]
  },
  {
   "cell_type": "code",
   "execution_count": null,
   "metadata": {},
   "outputs": [],
   "source": [
    "import tensorflow"
   ]
  },
  {
   "cell_type": "code",
   "execution_count": 1,
   "metadata": {},
   "outputs": [
    {
     "name": "stderr",
     "output_type": "stream",
     "text": [
      "Using TensorFlow backend.\n"
     ]
    }
   ],
   "source": [
    "from keras.models import Sequential\n",
    "from scipy.misc import imread\n",
    "get_ipython().magic('matplotlib inline')\n",
    "import matplotlib.pyplot as plt\n",
    "import numpy as np\n",
    "import keras\n",
    "from keras.layers import Dense\n",
    "import pandas as pd\n",
    "\n",
    "from keras.applications import ResNet50\n",
    "from keras.preprocessing import image\n",
    "from keras.applications import imagenet_utils\n",
    "from keras.applications.vgg16 import decode_predictions\n",
    "from keras.applications.vgg16 import preprocess_input\n",
    "from keras.preprocessing.image import img_to_array\n",
    "from keras.preprocessing.image import load_img\n",
    "import argparse \n",
    "\n",
    "import os\n",
    "import tarfile"
   ]
  },
  {
   "cell_type": "code",
   "execution_count": 2,
   "metadata": {},
   "outputs": [],
   "source": [
    "img_size=224"
   ]
  },
  {
   "cell_type": "code",
   "execution_count": 3,
   "metadata": {},
   "outputs": [],
   "source": [
    "train=pd.read_csv('train-scene/train.csv')\n",
    "test=pd.read_csv('test.csv')\n",
    "image_path='train-scene/train/'"
   ]
  },
  {
   "cell_type": "code",
   "execution_count": 4,
   "metadata": {},
   "outputs": [],
   "source": [
    "import os\n",
    "import matplotlib.pyplot as plot\n",
    "import cv2\n",
    "import numpy as np"
   ]
  },
  {
   "cell_type": "code",
   "execution_count": 5,
   "metadata": {},
   "outputs": [],
   "source": [
    "from scipy.misc import imresize\n",
    "from keras.preprocessing.image import load_img\n",
    "train_img=[]\n",
    "for i in range(len(train)):\n",
    "    temp_img=load_img(image_path+train['image_name'][i],target_size=(224,224))\n",
    "    temp_img=image.img_to_array(temp_img)\n",
    "    train_img.append(temp_img)\n",
    "    \n",
    "train_img=np.array(train_img)\n",
    "train_img=preprocess_input(train_img)\n",
    "\n"
   ]
  },
  {
   "cell_type": "code",
   "execution_count": 6,
   "metadata": {},
   "outputs": [],
   "source": [
    "test_img=[]\n",
    "for i in range(len(test)):\n",
    "    temp_img=image.load_img(image_path+test['image_name'][i],target_size=(224,224))\n",
    "    temp_img=image.img_to_array(temp_img)\n",
    "    test_img.append(temp_img)"
   ]
  },
  {
   "cell_type": "code",
   "execution_count": 7,
   "metadata": {},
   "outputs": [],
   "source": [
    "test_img=np.array(test_img)\n",
    "test_img=preprocess_input(test_img)"
   ]
  },
  {
   "cell_type": "code",
   "execution_count": 12,
   "metadata": {},
   "outputs": [
    {
     "name": "stderr",
     "output_type": "stream",
     "text": [
      "c:\\users\\rohit\\appdata\\local\\programs\\python\\python36\\lib\\site-packages\\keras_applications\\resnet50.py:265: UserWarning: The output shape of `ResNet50(include_top=False)` has been changed since Keras 2.2.0.\n",
      "  warnings.warn('The output shape of `ResNet50(include_top=False)` '\n"
     ]
    }
   ],
   "source": [
    "from keras.applications import ResNet50\n",
    "from keras.models import Sequential\n",
    "from keras.layers import Dense, Flatten, GlobalAveragePooling2D\n",
    "from keras.applications.resnet50 import preprocess_input\n",
    "from keras.preprocessing.image import ImageDataGenerator\n",
    "\n",
    "num_classes = 6\n",
    "\n",
    "#model = Sequential()\n",
    "#model.add(ResNet50(include_top=False,pooling='avg',weights='imagenet'))\n",
    "#model.add(Dense(num_classes,activation='softmax'))\n",
    "\n",
    "#model.layers[0].trainable = False\n",
    "\n",
    "#model.compile(optimizer='sgd', loss='categorical_crossentropy', metrics=['accuracy'])\n",
    "model = ResNet50(weights='imagenet', include_top=False)\n"
   ]
  },
  {
   "cell_type": "code",
   "execution_count": 13,
   "metadata": {},
   "outputs": [],
   "source": [
    "features_train=model.predict(train_img)\n",
    "features_test=model.predict(test_img)"
   ]
  },
  {
   "cell_type": "code",
   "execution_count": 15,
   "metadata": {},
   "outputs": [],
   "source": [
    "train_x=features_train.reshape(17034,100352)\n",
    "train_y=np.asarray(train['label'])"
   ]
  },
  {
   "cell_type": "code",
   "execution_count": 16,
   "metadata": {},
   "outputs": [],
   "source": [
    "train_y=np.asarray(train['label'])\n",
    "# performing one-hot encoding for the target variable\n",
    "\n",
    "train_y=pd.get_dummies(train_y)\n",
    "train_y=np.array(train_y)\n",
    "# creating training and validation set\n",
    "\n",
    "from sklearn.model_selection import train_test_split\n",
    "X_train, X_valid, Y_train, Y_valid=train_test_split(train_x,train_y,test_size=0.15, random_state=42)"
   ]
  },
  {
   "cell_type": "code",
   "execution_count": 17,
   "metadata": {},
   "outputs": [
    {
     "name": "stdout",
     "output_type": "stream",
     "text": [
      "Train on 14478 samples, validate on 2556 samples\n",
      "Epoch 1/20\n",
      "14478/14478 [==============================] - 42s 3ms/step - loss: 0.3870 - acc: 0.8858 - val_loss: 0.2727 - val_acc: 0.9194\n",
      "Epoch 2/20\n",
      "14478/14478 [==============================] - 31s 2ms/step - loss: 0.2380 - acc: 0.9239 - val_loss: 0.2490 - val_acc: 0.9174\n",
      "Epoch 3/20\n",
      "14478/14478 [==============================] - 30s 2ms/step - loss: 0.2268 - acc: 0.9276 - val_loss: 0.2407 - val_acc: 0.9198\n",
      "Epoch 4/20\n",
      "14478/14478 [==============================] - 30s 2ms/step - loss: 0.2339 - acc: 0.9221 - val_loss: 0.2767 - val_acc: 0.9053\n",
      "Epoch 5/20\n",
      "14478/14478 [==============================] - 30s 2ms/step - loss: 0.2388 - acc: 0.9237 - val_loss: 0.2419 - val_acc: 0.9206\n",
      "Epoch 6/20\n",
      "14478/14478 [==============================] - 31s 2ms/step - loss: 0.2264 - acc: 0.9309 - val_loss: 0.2707 - val_acc: 0.9100\n",
      "Epoch 7/20\n",
      "14478/14478 [==============================] - 30s 2ms/step - loss: 0.2338 - acc: 0.9279 - val_loss: 0.2825 - val_acc: 0.9034\n",
      "Epoch 8/20\n",
      "14478/14478 [==============================] - 30s 2ms/step - loss: 0.2423 - acc: 0.9244 - val_loss: 0.2701 - val_acc: 0.9096\n",
      "Epoch 9/20\n",
      "14478/14478 [==============================] - 30s 2ms/step - loss: 0.2886 - acc: 0.9063 - val_loss: 0.3380 - val_acc: 0.8775\n",
      "Epoch 10/20\n",
      "14478/14478 [==============================] - 30s 2ms/step - loss: 0.2590 - acc: 0.9203 - val_loss: 0.2686 - val_acc: 0.9128\n",
      "Epoch 11/20\n",
      "14478/14478 [==============================] - 30s 2ms/step - loss: 0.2774 - acc: 0.9081 - val_loss: 0.3120 - val_acc: 0.8877\n",
      "Epoch 12/20\n",
      "14478/14478 [==============================] - 31s 2ms/step - loss: 0.2499 - acc: 0.9164 - val_loss: 0.2884 - val_acc: 0.9061\n",
      "Epoch 13/20\n",
      "14478/14478 [==============================] - 30s 2ms/step - loss: 0.2424 - acc: 0.9255 - val_loss: 0.3342 - val_acc: 0.8924\n",
      "Epoch 14/20\n",
      "14478/14478 [==============================] - 30s 2ms/step - loss: 0.2773 - acc: 0.9123 - val_loss: 0.3340 - val_acc: 0.8889\n",
      "Epoch 15/20\n",
      "14478/14478 [==============================] - 30s 2ms/step - loss: 0.2560 - acc: 0.9170 - val_loss: 0.2901 - val_acc: 0.9014\n",
      "Epoch 16/20\n",
      "14478/14478 [==============================] - 31s 2ms/step - loss: 0.2103 - acc: 0.9320 - val_loss: 0.2690 - val_acc: 0.9206\n",
      "Epoch 17/20\n",
      "14478/14478 [==============================] - 30s 2ms/step - loss: 0.2320 - acc: 0.9247 - val_loss: 0.2684 - val_acc: 0.9085\n",
      "Epoch 18/20\n",
      "14478/14478 [==============================] - 30s 2ms/step - loss: 0.2495 - acc: 0.9205 - val_loss: 0.3108 - val_acc: 0.8924\n",
      "Epoch 19/20\n",
      "14478/14478 [==============================] - 30s 2ms/step - loss: 0.2471 - acc: 0.9182 - val_loss: 0.2751 - val_acc: 0.9108\n",
      "Epoch 20/20\n",
      "14478/14478 [==============================] - 30s 2ms/step - loss: 0.2380 - acc: 0.9236 - val_loss: 0.3239 - val_acc: 0.8928\n"
     ]
    },
    {
     "data": {
      "text/plain": [
       "<keras.callbacks.History at 0x1f175adb390>"
      ]
     },
     "execution_count": 17,
     "metadata": {},
     "output_type": "execute_result"
    }
   ],
   "source": [
    "from keras.layers import Dense, Activation\n",
    "model=Sequential()\n",
    "\n",
    "model.add(Dense(1000, input_dim=100352, activation='relu',kernel_initializer='uniform'))\n",
    "keras.layers.core.Dropout(0.3, noise_shape=None, seed=None)\n",
    "\n",
    "model.add(Dense(500,input_dim=1000,activation='relu'))\n",
    "keras.layers.core.Dropout(0.4, noise_shape=None, seed=None)\n",
    "\n",
    "model.add(Dense(150,input_dim=500,activation='sigmoid'))\n",
    "keras.layers.core.Dropout(0.2, noise_shape=None, seed=None)\n",
    "\n",
    "model.add(Dense(units=6))\n",
    "model.add(Activation('softmax'))\n",
    "\n",
    "model.compile(loss='categorical_crossentropy', optimizer=\"adam\", metrics=['accuracy'])\n",
    "\n",
    "# fitting the model \n",
    "\n",
    "model.fit(X_train, Y_train, epochs=20, batch_size=30,validation_data=(X_valid,Y_valid))"
   ]
  },
  {
   "cell_type": "code",
   "execution_count": 18,
   "metadata": {},
   "outputs": [],
   "source": [
    "validation_x=features_test.reshape(7301,100352)"
   ]
  },
  {
   "cell_type": "code",
   "execution_count": 19,
   "metadata": {},
   "outputs": [],
   "source": [
    "classes = model.predict(validation_x, batch_size=30)\n",
    "class_labels = np.argmax(classes, axis=1)\n",
    "class_labels_dt=pd.DataFrame(class_labels)\n",
    "class_labels_dt.columns=['label']"
   ]
  },
  {
   "cell_type": "code",
   "execution_count": 20,
   "metadata": {},
   "outputs": [
    {
     "data": {
      "text/html": [
       "<div>\n",
       "<style scoped>\n",
       "    .dataframe tbody tr th:only-of-type {\n",
       "        vertical-align: middle;\n",
       "    }\n",
       "\n",
       "    .dataframe tbody tr th {\n",
       "        vertical-align: top;\n",
       "    }\n",
       "\n",
       "    .dataframe thead th {\n",
       "        text-align: right;\n",
       "    }\n",
       "</style>\n",
       "<table border=\"1\" class=\"dataframe\">\n",
       "  <thead>\n",
       "    <tr style=\"text-align: right;\">\n",
       "      <th></th>\n",
       "      <th>label</th>\n",
       "    </tr>\n",
       "  </thead>\n",
       "  <tbody>\n",
       "    <tr>\n",
       "      <th>0</th>\n",
       "      <td>5</td>\n",
       "    </tr>\n",
       "    <tr>\n",
       "      <th>1</th>\n",
       "      <td>0</td>\n",
       "    </tr>\n",
       "    <tr>\n",
       "      <th>2</th>\n",
       "      <td>4</td>\n",
       "    </tr>\n",
       "    <tr>\n",
       "      <th>3</th>\n",
       "      <td>4</td>\n",
       "    </tr>\n",
       "    <tr>\n",
       "      <th>4</th>\n",
       "      <td>5</td>\n",
       "    </tr>\n",
       "  </tbody>\n",
       "</table>\n",
       "</div>"
      ],
      "text/plain": [
       "   label\n",
       "0      5\n",
       "1      0\n",
       "2      4\n",
       "3      4\n",
       "4      5"
      ]
     },
     "execution_count": 20,
     "metadata": {},
     "output_type": "execute_result"
    }
   ],
   "source": [
    "class_labels_dt.head()"
   ]
  },
  {
   "cell_type": "code",
   "execution_count": 21,
   "metadata": {},
   "outputs": [],
   "source": [
    "frames=[test,class_labels_dt]\n",
    "result = pd.concat(frames,axis=1)"
   ]
  },
  {
   "cell_type": "code",
   "execution_count": 22,
   "metadata": {},
   "outputs": [
    {
     "data": {
      "text/html": [
       "<div>\n",
       "<style scoped>\n",
       "    .dataframe tbody tr th:only-of-type {\n",
       "        vertical-align: middle;\n",
       "    }\n",
       "\n",
       "    .dataframe tbody tr th {\n",
       "        vertical-align: top;\n",
       "    }\n",
       "\n",
       "    .dataframe thead th {\n",
       "        text-align: right;\n",
       "    }\n",
       "</style>\n",
       "<table border=\"1\" class=\"dataframe\">\n",
       "  <thead>\n",
       "    <tr style=\"text-align: right;\">\n",
       "      <th></th>\n",
       "      <th>image_name</th>\n",
       "      <th>label</th>\n",
       "    </tr>\n",
       "  </thead>\n",
       "  <tbody>\n",
       "    <tr>\n",
       "      <th>0</th>\n",
       "      <td>3.jpg</td>\n",
       "      <td>5</td>\n",
       "    </tr>\n",
       "    <tr>\n",
       "      <th>1</th>\n",
       "      <td>5.jpg</td>\n",
       "      <td>0</td>\n",
       "    </tr>\n",
       "    <tr>\n",
       "      <th>2</th>\n",
       "      <td>6.jpg</td>\n",
       "      <td>4</td>\n",
       "    </tr>\n",
       "    <tr>\n",
       "      <th>3</th>\n",
       "      <td>11.jpg</td>\n",
       "      <td>4</td>\n",
       "    </tr>\n",
       "    <tr>\n",
       "      <th>4</th>\n",
       "      <td>14.jpg</td>\n",
       "      <td>5</td>\n",
       "    </tr>\n",
       "  </tbody>\n",
       "</table>\n",
       "</div>"
      ],
      "text/plain": [
       "  image_name  label\n",
       "0      3.jpg      5\n",
       "1      5.jpg      0\n",
       "2      6.jpg      4\n",
       "3     11.jpg      4\n",
       "4     14.jpg      5"
      ]
     },
     "execution_count": 22,
     "metadata": {},
     "output_type": "execute_result"
    }
   ],
   "source": [
    "result.head()\n"
   ]
  },
  {
   "cell_type": "code",
   "execution_count": 23,
   "metadata": {},
   "outputs": [],
   "source": [
    "result.to_csv('resnet50_15.csv')"
   ]
  },
  {
   "cell_type": "code",
   "execution_count": 24,
   "metadata": {},
   "outputs": [],
   "source": [
    "save_dir = os.path.join(os.getcwd(), 'saved_models')\n",
    "model_name = 'trained_resnet50_model_15.h5'"
   ]
  },
  {
   "cell_type": "code",
   "execution_count": 25,
   "metadata": {},
   "outputs": [
    {
     "name": "stdout",
     "output_type": "stream",
     "text": [
      "Saved trained model at C:\\Users\\rohit\\Desktop\\ML\\Scene_Classification\\saved_models\\trained_resnet50_model_15.h5 \n"
     ]
    }
   ],
   "source": [
    "if not os.path.isdir(save_dir):\n",
    "    os.makedirs(save_dir)\n",
    "model_path = os.path.join(save_dir, model_name)\n",
    "model.save(model_path)\n",
    "print('Saved trained model at %s ' % model_path)"
   ]
  },
  {
   "cell_type": "code",
   "execution_count": null,
   "metadata": {},
   "outputs": [],
   "source": []
  }
 ],
 "metadata": {
  "kernelspec": {
   "display_name": "Python 3",
   "language": "python",
   "name": "python3"
  },
  "language_info": {
   "codemirror_mode": {
    "name": "ipython",
    "version": 3
   },
   "file_extension": ".py",
   "mimetype": "text/x-python",
   "name": "python",
   "nbconvert_exporter": "python",
   "pygments_lexer": "ipython3",
   "version": "3.6.8"
  }
 },
 "nbformat": 4,
 "nbformat_minor": 2
}
