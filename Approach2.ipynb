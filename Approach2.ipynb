{
 "cells": [
  {
   "cell_type": "code",
   "execution_count": 1,
   "metadata": {},
   "outputs": [],
   "source": [
    "from __future__ import print_function, division\n",
    "import os\n",
    "import torch\n",
    "import pandas as pd\n",
    "from skimage import io, transform\n",
    "import numpy as np\n",
    "import matplotlib.pyplot as plt\n",
    "from torch.utils.data import Dataset, DataLoader\n",
    "from torchvision import transforms, utils\n",
    "from PIL import Image\n",
    "\n",
    "import torchvision\n",
    "import torch.nn as nn\n",
    "import torch.optim as optim\n",
    "from torch.optim import lr_scheduler\n",
    "import numpy as np\n",
    "import time\n",
    "import os\n",
    "import argparse\n",
    "# from tensorboardX import SummaryWriter\n",
    "from torch.utils.data.sampler import SubsetRandomSampler"
   ]
  },
  {
   "cell_type": "code",
   "execution_count": 2,
   "metadata": {},
   "outputs": [],
   "source": [
    "class SceneDataset(Dataset):\n",
    "\n",
    "    def __init__(self, csv_file, root_dir, transform=None, mode='train'):\n",
    "        \"\"\"\n",
    "        Args:\n",
    "            csv_file (string): Path to the csv file with annotations.\n",
    "            root_dir (string): Directory with all the images.\n",
    "            transform (callable, optional): Optional transform to be applied\n",
    "                on a sample.\n",
    "        \"\"\"\n",
    "        self.mode = mode\n",
    "        self.image_frame = pd.read_csv(csv_file)\n",
    "        self.img_name = self.image_frame.image_name\n",
    "        self.root_dir = root_dir\n",
    "        self.transform = transform\n",
    "\n",
    "    def __len__(self):\n",
    "        return len(self.img_name)\n",
    "\n",
    "    def __getitem__(self, idx):\n",
    "        image = cv2.imread(self.root_dir + '/' + self.img_name[idx])\n",
    "        if self.mode == 'train':\n",
    "            label = self.image_frame.iloc[idx].label\n",
    "\n",
    "        if self.transform:\n",
    "            image = self.transform(Image.fromarray(image))\n",
    "\n",
    "        if self.mode == 'train':\n",
    "            return image, label\n",
    "        else:\n",
    "            return image"
   ]
  },
  {
   "cell_type": "code",
   "execution_count": 5,
   "metadata": {},
   "outputs": [],
   "source": [
    "#Input the Training and Testing Data\n",
    "import cv2\n",
    "train_path = 'train-scene/train'\n",
    "\n",
    "train_dataset = SceneDataset(csv_file='train-scene/train.csv',\n",
    "                                    root_dir=train_path, transform=transforms.Compose([\n",
    "                                               transforms.RandomHorizontalFlip(),\n",
    "#                                                transforms.RandomVerticalFlip(),\n",
    "#                                                transforms.RandomRotation(90),\n",
    "                                               transforms.Resize((224, 224)),\n",
    "                                               transforms.RandomRotation(30),\n",
    "                                               transforms.ToTensor()\n",
    "                                           ]), mode = 'train')\n",
    "train_dataloader = DataLoader(train_dataset, batch_size=32,\n",
    "                        shuffle=False, num_workers=0)"
   ]
  },
  {
   "cell_type": "code",
   "execution_count": 6,
   "metadata": {},
   "outputs": [],
   "source": [
    "\n",
    "test_dataset = SceneDataset(csv_file='test.csv', root_dir=train_path, transform=transforms.Compose([transforms.Resize((224, 224)), transforms.ToTensor()]), mode = 'val')\n",
    "test_dataloader = DataLoader(test_dataset, batch_size=32,\n",
    "                        shuffle=False, num_workers=0)\n",
    "\n",
    "validation_split = .15\n",
    "dataset_size = len(train_dataset)\n",
    "indices = list(range(dataset_size))\n",
    "split = int(np.floor(validation_split * dataset_size))\n",
    "# if shuffle_dataset :\n",
    "#     np.random.seed(random_seed)\n",
    "#     np.random.shuffle(indices)\n",
    "train_indices, val_indices = indices[split:], indices[:split]\n",
    "\n",
    "# Creating PT data samplers and loaders:\n",
    "train_sampler = SubsetRandomSampler(train_indices)\n",
    "valid_sampler = SubsetRandomSampler(val_indices)\n",
    "train_loader = torch.utils.data.DataLoader(train_dataset, batch_size=32, \n",
    "                                           sampler=train_sampler,shuffle=False, num_workers=0)\n",
    "val_loader = torch.utils.data.DataLoader(train_dataset, batch_size=32,\n",
    "                                                sampler=valid_sampler, shuffle=False, num_workers=0)"
   ]
  },
  {
   "cell_type": "code",
   "execution_count": 7,
   "metadata": {},
   "outputs": [
    {
     "name": "stdout",
     "output_type": "stream",
     "text": [
      "{'train': 14479, 'val': 2555}\n",
      "533 229 453 80\n"
     ]
    }
   ],
   "source": [
    "dataset_sizes = {'train': len(train_dataset) - split, 'val': split}\n",
    "print (dataset_sizes)\n",
    "print (len(train_dataloader), len(test_dataloader), len(train_loader), len(val_loader))"
   ]
  },
  {
   "cell_type": "code",
   "execution_count": 8,
   "metadata": {},
   "outputs": [
    {
     "name": "stderr",
     "output_type": "stream",
     "text": [
      "c:\\users\\rohit\\virtualenv\\lib\\site-packages\\torchvision\\models\\densenet.py:212: UserWarning: nn.init.kaiming_normal is now deprecated in favor of nn.init.kaiming_normal_.\n",
      "  nn.init.kaiming_normal(m.weight.data)\n"
     ]
    },
    {
     "name": "stdout",
     "output_type": "stream",
     "text": [
      "364\n"
     ]
    }
   ],
   "source": [
    "import torch\n",
    "import torch.nn as nn\n",
    "import torch.optim as optim\n",
    "from torch.optim import lr_scheduler\n",
    "from torch.autograd import Variable\n",
    "import torchvision\n",
    "from torchvision import datasets, models, transforms\n",
    "\n",
    "import numpy as np\n",
    "import time\n",
    "import os\n",
    "from tqdm import tqdm\n",
    "from sklearn.metrics import accuracy_score\n",
    "import pandas as pd\n",
    "\n",
    "\n",
    "\n",
    "n_class = 6\n",
    "kernel_size = (1,1)\n",
    "stride = (1,1)\n",
    "\n",
    "\"\"\" training functions\n",
    "\"\"\"\n",
    "model_conv = torchvision.models.densenet121(pretrained=False)\n",
    "num_ftrs = model_conv.classifier.in_features\n",
    "maxm = 0\n",
    "for i, param in model_conv.named_parameters():\n",
    "    maxm = maxm + 1\n",
    "    if maxm < 182:\n",
    "      param.requires_grad = False\n",
    "print(maxm)\n",
    "#model_conv.fc = nn.Sequential(\n",
    "#            nn.Linear(512,400),\n",
    "#            nn.Dropout(0.4),\n",
    "#            nn.Conv2d(400,num_ftrs,8),\n",
    "#            nn.MaxPool2d(3, 3),\n",
    "#            nn.Linear(num_ftrs, 6))\n",
    "model_conv.fc = nn.Linear(num_ftrs,6)\n",
    "model_conv = model_conv.cuda()"
   ]
  },
  {
   "cell_type": "code",
   "execution_count": 9,
   "metadata": {},
   "outputs": [],
   "source": [
    "\n",
    "criterion = nn.CrossEntropyLoss().cuda()\n",
    "optimizer_conv = optim.Adam(list(filter(lambda p: p.requires_grad, model_conv.parameters())), lr=5e-4)\n",
    "exp_lr_scheduler = lr_scheduler.ReduceLROnPlateau(optimizer_conv,mode = 'min', patience=3, factor = 0.5)\n",
    "\n",
    "\n"
   ]
  },
  {
   "cell_type": "code",
   "execution_count": 12,
   "metadata": {},
   "outputs": [],
   "source": [
    "def train_model(model, dataloaders, dataset_sizes, criterion, optimizer, scheduler, use_gpu, num_epochs=25, mixup = False, alpha = 0.1):\n",
    "    since = time.time()\n",
    "\n",
    "    best_model_wts = model.state_dict()\n",
    "    best_acc = 0.0\n",
    "\n",
    "    for epoch in range(num_epochs):\n",
    "        print('Epoch {}/{}'.format(epoch, num_epochs - 1))\n",
    "        print('-' * 10)\n",
    "        for phase in ['train', 'val']:\n",
    "            if phase == 'train':\n",
    "                model.train(True)  # Set model to training mode\n",
    "            else:\n",
    "                model.train(False)  # Set model to evaluate mode\n",
    "\n",
    "            running_loss = 0.0\n",
    "            running_corrects = 0\n",
    "\n",
    "            # Iterate over data.\n",
    "            # get the inputs\n",
    "            for data in tqdm(dataloaders[phase]):\n",
    "                inputs, labels = data\n",
    "                if use_gpu:\n",
    "                    inputs, labels = Variable(inputs.cuda()), Variable(labels.cuda())\n",
    "                    inputs, labels = inputs.cuda(), labels.cuda()\n",
    "                else:\n",
    "                    inputs, labels = Variable(inputs), Variable(labels)\n",
    "\n",
    "                # zero the parameter gradients\n",
    "                optimizer.zero_grad()\n",
    "\n",
    "                # forward\n",
    "                outputs = model(inputs)\n",
    "                if type(outputs) == tuple:\n",
    "                    outputs, _ = outputs\n",
    "                _, preds = torch.max(outputs.data, 1)\n",
    "                loss = criterion(outputs, labels)\n",
    "\n",
    "                # backward + optimize only if in training phase\n",
    "                if phase == 'train':\n",
    "                    loss.backward()\n",
    "                    optimizer.step()\n",
    "\n",
    "                # statistics\n",
    "                running_loss += loss.data\n",
    "                running_corrects += torch.sum(preds == labels.data)\n",
    "\n",
    "            epoch_loss = float(running_loss.cpu()) / dataset_sizes[phase]\n",
    "            epoch_acc = float(running_corrects.cpu()) / dataset_sizes[phase]\n",
    "\n",
    "\n",
    "            print('{} Loss: {:.4f} Acc: {:.4f}'.format(\n",
    "                'phase', epoch_loss, epoch_acc))\n",
    "#             print (int(running_corrects.cpu()))\n",
    "\n",
    "            # deep copy the model\n",
    "            if phase == 'val' and epoch_acc > best_acc:\n",
    "                best_acc = epoch_acc\n",
    "                best_model_wts = model.state_dict()\n",
    "        scheduler.step(epoch_loss)\n",
    "        for param_group in optimizer.param_groups:\n",
    "          print(param_group['lr'])\n",
    "\n",
    "\n",
    "    time_elapsed = time.time() - since\n",
    "    print('Training complete in {:.0f}m {:.0f}s'.format(\n",
    "        time_elapsed // 60, time_elapsed % 60))\n",
    "    print('Best val Acc: {:4f}'.format(best_acc))\n",
    "\n",
    "    # load best model weights\n",
    "    model.load_state_dict(best_model_wts)\n",
    "    return model\n",
    "\n"
   ]
  },
  {
   "cell_type": "code",
   "execution_count": 15,
   "metadata": {},
   "outputs": [
    {
     "name": "stdout",
     "output_type": "stream",
     "text": [
      "Epoch 0/1\n",
      "----------\n"
     ]
    },
    {
     "name": "stderr",
     "output_type": "stream",
     "text": [
      "\n",
      "  0%|                                                                                          | 0/453 [00:00<?, ?it/s]\n",
      "  0%|▏                                                                                 | 1/453 [00:00<02:08,  3.51it/s]\n",
      "  0%|▎                                                                                 | 2/453 [00:00<02:05,  3.59it/s]\n",
      "  1%|▌                                                                                 | 3/453 [00:00<02:02,  3.68it/s]\n",
      "  1%|▋                                                                                 | 4/453 [00:01<02:02,  3.67it/s]\n",
      "  1%|▉                                                                                 | 5/453 [00:01<02:00,  3.72it/s]\n",
      "  1%|█                                                                                 | 6/453 [00:01<02:04,  3.60it/s]\n",
      "  2%|█▎                                                                                | 7/453 [00:01<02:04,  3.58it/s]\n",
      "  2%|█▍                                                                                | 8/453 [00:02<02:06,  3.51it/s]\n",
      "  2%|█▋                                                                                | 9/453 [00:02<02:04,  3.58it/s]\n",
      "  2%|█▊                                                                               | 10/453 [00:02<02:05,  3.54it/s]\n",
      "  2%|█▉                                                                               | 11/453 [00:03<02:05,  3.54it/s]\n",
      "  3%|██▏                                                                              | 12/453 [00:03<02:03,  3.56it/s]\n",
      "  3%|██▎                                                                              | 13/453 [00:03<02:05,  3.51it/s]\n",
      "  3%|██▌                                                                              | 14/453 [00:03<02:05,  3.48it/s]\n",
      "  3%|██▋                                                                              | 15/453 [00:04<02:02,  3.58it/s]\n",
      "  4%|██▊                                                                              | 16/453 [00:04<01:59,  3.65it/s]\n",
      "  4%|███                                                                              | 17/453 [00:04<01:58,  3.68it/s]\n",
      "  4%|███▏                                                                             | 18/453 [00:04<01:57,  3.69it/s]\n",
      "  4%|███▍                                                                             | 19/453 [00:05<01:59,  3.62it/s]\n",
      "  4%|███▌                                                                             | 20/453 [00:05<02:01,  3.58it/s]\n",
      "  5%|███▊                                                                             | 21/453 [00:05<01:58,  3.66it/s]\n",
      "  5%|███▉                                                                             | 22/453 [00:06<01:56,  3.68it/s]\n",
      "  5%|████                                                                             | 23/453 [00:06<01:55,  3.71it/s]\n",
      "  5%|████▎                                                                            | 24/453 [00:06<01:55,  3.71it/s]\n",
      "  6%|████▍                                                                            | 25/453 [00:06<01:58,  3.61it/s]\n",
      "  6%|████▋                                                                            | 26/453 [00:07<02:00,  3.55it/s]\n",
      "  6%|████▊                                                                            | 27/453 [00:07<01:57,  3.63it/s]\n",
      "  6%|█████                                                                            | 28/453 [00:07<01:58,  3.58it/s]\n",
      "  6%|█████▏                                                                           | 29/453 [00:08<01:56,  3.63it/s]\n",
      "  7%|█████▎                                                                           | 30/453 [00:08<01:59,  3.54it/s]\n",
      "  7%|█████▌                                                                           | 31/453 [00:08<01:57,  3.59it/s]\n",
      "  7%|█████▋                                                                           | 32/453 [00:08<01:58,  3.54it/s]\n",
      "  7%|█████▉                                                                           | 33/453 [00:09<02:00,  3.49it/s]\n",
      "  8%|██████                                                                           | 34/453 [00:09<02:01,  3.45it/s]\n",
      "  8%|██████▎                                                                          | 35/453 [00:09<02:05,  3.34it/s]\n",
      "  8%|██████▍                                                                          | 36/453 [00:10<02:03,  3.37it/s]\n",
      "  8%|██████▌                                                                          | 37/453 [00:10<02:07,  3.26it/s]\n",
      "  8%|██████▊                                                                          | 38/453 [00:10<02:06,  3.29it/s]\n",
      "  9%|██████▉                                                                          | 39/453 [00:10<02:01,  3.41it/s]\n",
      "  9%|███████▏                                                                         | 40/453 [00:11<01:58,  3.49it/s]\n",
      "  9%|███████▎                                                                         | 41/453 [00:11<01:57,  3.52it/s]\n",
      "  9%|███████▌                                                                         | 42/453 [00:11<01:55,  3.55it/s]\n",
      "  9%|███████▋                                                                         | 43/453 [00:12<01:53,  3.63it/s]\n",
      " 10%|███████▊                                                                         | 44/453 [00:12<01:53,  3.60it/s]\n",
      " 10%|████████                                                                         | 45/453 [00:12<01:51,  3.64it/s]\n",
      " 10%|████████▏                                                                        | 46/453 [00:12<01:53,  3.60it/s]\n",
      " 10%|████████▍                                                                        | 47/453 [00:13<01:57,  3.46it/s]\n",
      " 11%|████████▌                                                                        | 48/453 [00:13<01:58,  3.41it/s]\n",
      " 11%|████████▊                                                                        | 49/453 [00:13<02:05,  3.21it/s]\n",
      " 11%|████████▉                                                                        | 50/453 [00:14<02:09,  3.12it/s]\n",
      " 11%|█████████                                                                        | 51/453 [00:14<02:10,  3.08it/s]\n",
      " 11%|█████████▎                                                                       | 52/453 [00:14<02:08,  3.13it/s]\n",
      " 12%|█████████▍                                                                       | 53/453 [00:15<02:02,  3.26it/s]\n",
      " 12%|█████████▋                                                                       | 54/453 [00:15<01:58,  3.38it/s]\n",
      " 12%|█████████▊                                                                       | 55/453 [00:15<01:54,  3.49it/s]\n",
      " 12%|██████████                                                                       | 56/453 [00:15<01:51,  3.57it/s]\n",
      " 13%|██████████▏                                                                      | 57/453 [00:16<01:49,  3.63it/s]\n",
      " 13%|██████████▎                                                                      | 58/453 [00:16<01:47,  3.69it/s]\n",
      " 13%|██████████▌                                                                      | 59/453 [00:16<01:49,  3.61it/s]\n",
      " 13%|██████████▋                                                                      | 60/453 [00:17<01:47,  3.67it/s]\n",
      " 13%|██████████▉                                                                      | 61/453 [00:17<01:45,  3.70it/s]\n",
      " 14%|███████████                                                                      | 62/453 [00:17<01:49,  3.57it/s]\n",
      " 14%|███████████▎                                                                     | 63/453 [00:17<01:46,  3.65it/s]\n",
      " 14%|███████████▍                                                                     | 64/453 [00:18<01:46,  3.66it/s]\n",
      " 14%|███████████▌                                                                     | 65/453 [00:18<01:46,  3.65it/s]\n",
      " 15%|███████████▊                                                                     | 66/453 [00:18<01:46,  3.64it/s]\n",
      " 15%|███████████▉                                                                     | 67/453 [00:18<01:44,  3.68it/s]\n"
     ]
    },
    {
     "name": "stderr",
     "output_type": "stream",
     "text": [
      " 15%|████████████▏                                                                    | 68/453 [00:19<01:43,  3.73it/s]\n",
      " 15%|████████████▎                                                                    | 69/453 [00:19<01:42,  3.76it/s]\n",
      " 15%|████████████▌                                                                    | 70/453 [00:19<01:42,  3.73it/s]\n",
      " 16%|████████████▋                                                                    | 71/453 [00:19<01:42,  3.71it/s]\n",
      " 16%|████████████▊                                                                    | 72/453 [00:20<01:43,  3.67it/s]\n",
      " 16%|█████████████                                                                    | 73/453 [00:20<01:42,  3.71it/s]\n",
      " 16%|█████████████▏                                                                   | 74/453 [00:20<01:42,  3.69it/s]\n",
      " 17%|█████████████▍                                                                   | 75/453 [00:21<01:42,  3.70it/s]\n",
      " 17%|█████████████▌                                                                   | 76/453 [00:21<01:41,  3.72it/s]\n",
      " 17%|█████████████▊                                                                   | 77/453 [00:21<01:40,  3.74it/s]\n",
      " 17%|█████████████▉                                                                   | 78/453 [00:21<01:42,  3.66it/s]\n",
      " 17%|██████████████▏                                                                  | 79/453 [00:22<01:43,  3.63it/s]\n",
      " 18%|██████████████▎                                                                  | 80/453 [00:22<01:44,  3.55it/s]\n",
      " 18%|██████████████▍                                                                  | 81/453 [00:22<01:43,  3.61it/s]\n",
      " 18%|██████████████▋                                                                  | 82/453 [00:23<01:42,  3.61it/s]\n",
      " 18%|██████████████▊                                                                  | 83/453 [00:23<01:41,  3.66it/s]\n",
      " 19%|███████████████                                                                  | 84/453 [00:23<01:40,  3.68it/s]\n",
      " 19%|███████████████▏                                                                 | 85/453 [00:23<01:41,  3.62it/s]\n",
      " 19%|███████████████▍                                                                 | 86/453 [00:24<01:43,  3.56it/s]\n",
      " 19%|███████████████▌                                                                 | 87/453 [00:24<01:42,  3.57it/s]\n",
      " 19%|███████████████▋                                                                 | 88/453 [00:24<01:41,  3.59it/s]\n",
      " 20%|███████████████▉                                                                 | 89/453 [00:24<01:43,  3.52it/s]\n",
      " 20%|████████████████                                                                 | 90/453 [00:25<01:41,  3.58it/s]\n",
      " 20%|████████████████▎                                                                | 91/453 [00:25<01:42,  3.54it/s]\n",
      " 20%|████████████████▍                                                                | 92/453 [00:25<01:41,  3.56it/s]\n",
      " 21%|████████████████▋                                                                | 93/453 [00:26<01:39,  3.61it/s]\n",
      " 21%|████████████████▊                                                                | 94/453 [00:26<01:42,  3.50it/s]\n",
      " 21%|████████████████▉                                                                | 95/453 [00:26<01:53,  3.15it/s]\n",
      " 21%|█████████████████▏                                                               | 96/453 [00:27<01:58,  3.02it/s]\n",
      " 21%|█████████████████▎                                                               | 97/453 [00:27<01:59,  2.98it/s]\n",
      " 22%|█████████████████▌                                                               | 98/453 [00:27<01:55,  3.08it/s]\n",
      " 22%|█████████████████▋                                                               | 99/453 [00:28<01:48,  3.27it/s]\n",
      " 22%|█████████████████▋                                                              | 100/453 [00:28<01:44,  3.38it/s]\n",
      " 22%|█████████████████▊                                                              | 101/453 [00:28<01:42,  3.44it/s]\n",
      " 23%|██████████████████                                                              | 102/453 [00:28<01:38,  3.55it/s]\n",
      " 23%|██████████████████▏                                                             | 103/453 [00:29<01:39,  3.52it/s]\n",
      " 23%|██████████████████▎                                                             | 104/453 [00:29<01:39,  3.52it/s]\n",
      " 23%|██████████████████▌                                                             | 105/453 [00:29<01:38,  3.53it/s]\n",
      " 23%|██████████████████▋                                                             | 106/453 [00:30<01:39,  3.47it/s]\n",
      " 24%|██████████████████▉                                                             | 107/453 [00:30<01:40,  3.43it/s]\n",
      " 24%|███████████████████                                                             | 108/453 [00:30<01:39,  3.47it/s]\n",
      " 24%|███████████████████▏                                                            | 109/453 [00:30<01:39,  3.46it/s]\n",
      " 24%|███████████████████▍                                                            | 110/453 [00:31<01:37,  3.51it/s]\n",
      " 25%|███████████████████▌                                                            | 111/453 [00:31<01:37,  3.50it/s]\n",
      " 25%|███████████████████▊                                                            | 112/453 [00:31<01:37,  3.49it/s]\n",
      " 25%|███████████████████▉                                                            | 113/453 [00:32<01:37,  3.49it/s]\n",
      " 25%|████████████████████▏                                                           | 114/453 [00:32<01:36,  3.50it/s]\n",
      " 25%|████████████████████▎                                                           | 115/453 [00:32<01:35,  3.54it/s]\n",
      " 26%|████████████████████▍                                                           | 116/453 [00:32<01:33,  3.62it/s]\n",
      " 26%|████████████████████▋                                                           | 117/453 [00:33<01:32,  3.63it/s]\n",
      " 26%|████████████████████▊                                                           | 118/453 [00:33<01:30,  3.69it/s]\n",
      " 26%|█████████████████████                                                           | 119/453 [00:33<01:30,  3.70it/s]\n",
      " 26%|█████████████████████▏                                                          | 120/453 [00:33<01:32,  3.62it/s]\n",
      " 27%|█████████████████████▎                                                          | 121/453 [00:34<01:30,  3.65it/s]\n",
      " 27%|█████████████████████▌                                                          | 122/453 [00:34<01:30,  3.68it/s]\n",
      " 27%|█████████████████████▋                                                          | 123/453 [00:34<01:29,  3.68it/s]\n",
      " 27%|█████████████████████▉                                                          | 124/453 [00:35<01:28,  3.72it/s]\n",
      " 28%|██████████████████████                                                          | 125/453 [00:35<01:27,  3.75it/s]\n",
      " 28%|██████████████████████▎                                                         | 126/453 [00:35<01:27,  3.74it/s]\n",
      " 28%|██████████████████████▍                                                         | 127/453 [00:35<01:27,  3.75it/s]\n",
      " 28%|██████████████████████▌                                                         | 128/453 [00:36<01:27,  3.70it/s]\n",
      " 28%|██████████████████████▊                                                         | 129/453 [00:36<01:29,  3.63it/s]\n",
      " 29%|██████████████████████▉                                                         | 130/453 [00:36<01:28,  3.63it/s]\n",
      " 29%|███████████████████████▏                                                        | 131/453 [00:36<01:29,  3.62it/s]\n",
      " 29%|███████████████████████▎                                                        | 132/453 [00:37<01:27,  3.66it/s]\n",
      " 29%|███████████████████████▍                                                        | 133/453 [00:37<01:26,  3.71it/s]\n",
      " 30%|███████████████████████▋                                                        | 134/453 [00:37<01:25,  3.72it/s]\n",
      " 30%|███████████████████████▊                                                        | 135/453 [00:37<01:24,  3.74it/s]\n"
     ]
    },
    {
     "name": "stderr",
     "output_type": "stream",
     "text": [
      " 30%|████████████████████████                                                        | 136/453 [00:38<01:27,  3.63it/s]\n",
      " 30%|████████████████████████▏                                                       | 137/453 [00:38<01:25,  3.69it/s]\n",
      " 30%|████████████████████████▎                                                       | 138/453 [00:38<01:25,  3.70it/s]\n",
      " 31%|████████████████████████▌                                                       | 139/453 [00:39<01:24,  3.73it/s]\n",
      " 31%|████████████████████████▋                                                       | 140/453 [00:39<01:27,  3.60it/s]\n",
      " 31%|████████████████████████▉                                                       | 141/453 [00:39<01:26,  3.62it/s]\n",
      " 31%|█████████████████████████                                                       | 142/453 [00:39<01:24,  3.67it/s]\n",
      " 32%|█████████████████████████▎                                                      | 143/453 [00:40<01:23,  3.69it/s]\n",
      " 32%|█████████████████████████▍                                                      | 144/453 [00:40<01:24,  3.66it/s]\n",
      " 32%|█████████████████████████▌                                                      | 145/453 [00:40<01:25,  3.60it/s]\n",
      " 32%|█████████████████████████▊                                                      | 146/453 [00:41<01:26,  3.56it/s]\n",
      " 32%|█████████████████████████▉                                                      | 147/453 [00:41<01:24,  3.63it/s]\n",
      " 33%|██████████████████████████▏                                                     | 148/453 [00:41<01:22,  3.68it/s]\n",
      " 33%|██████████████████████████▎                                                     | 149/453 [00:41<01:22,  3.70it/s]\n",
      " 33%|██████████████████████████▍                                                     | 150/453 [00:42<01:25,  3.54it/s]\n",
      " 33%|██████████████████████████▋                                                     | 151/453 [00:42<01:23,  3.63it/s]\n",
      " 34%|██████████████████████████▊                                                     | 152/453 [00:42<01:22,  3.64it/s]\n",
      " 34%|███████████████████████████                                                     | 153/453 [00:42<01:23,  3.61it/s]\n",
      " 34%|███████████████████████████▏                                                    | 154/453 [00:43<01:22,  3.63it/s]\n",
      " 34%|███████████████████████████▎                                                    | 155/453 [00:43<01:20,  3.70it/s]\n",
      " 34%|███████████████████████████▌                                                    | 156/453 [00:43<01:19,  3.73it/s]\n",
      " 35%|███████████████████████████▋                                                    | 157/453 [00:44<01:19,  3.74it/s]\n",
      " 35%|███████████████████████████▉                                                    | 158/453 [00:44<01:18,  3.75it/s]\n",
      " 35%|████████████████████████████                                                    | 159/453 [00:44<01:18,  3.74it/s]\n",
      " 35%|████████████████████████████▎                                                   | 160/453 [00:44<01:18,  3.74it/s]\n",
      " 36%|████████████████████████████▍                                                   | 161/453 [00:45<01:18,  3.70it/s]\n",
      " 36%|████████████████████████████▌                                                   | 162/453 [00:45<01:20,  3.61it/s]\n",
      " 36%|████████████████████████████▊                                                   | 163/453 [00:45<01:20,  3.60it/s]\n",
      " 36%|████████████████████████████▉                                                   | 164/453 [00:45<01:21,  3.55it/s]\n",
      " 36%|█████████████████████████████▏                                                  | 165/453 [00:46<01:21,  3.53it/s]\n",
      " 37%|█████████████████████████████▎                                                  | 166/453 [00:46<01:20,  3.56it/s]\n",
      " 37%|█████████████████████████████▍                                                  | 167/453 [00:46<01:21,  3.52it/s]\n",
      " 37%|█████████████████████████████▋                                                  | 168/453 [00:47<01:22,  3.47it/s]\n",
      " 37%|█████████████████████████████▊                                                  | 169/453 [00:47<01:24,  3.36it/s]\n",
      " 38%|██████████████████████████████                                                  | 170/453 [00:47<01:22,  3.45it/s]\n",
      " 38%|██████████████████████████████▏                                                 | 171/453 [00:47<01:22,  3.42it/s]\n",
      " 38%|██████████████████████████████▍                                                 | 172/453 [00:48<01:22,  3.39it/s]\n",
      " 38%|██████████████████████████████▌                                                 | 173/453 [00:48<01:21,  3.44it/s]\n",
      " 38%|██████████████████████████████▋                                                 | 174/453 [00:48<01:22,  3.40it/s]\n",
      " 39%|██████████████████████████████▉                                                 | 175/453 [00:49<01:21,  3.41it/s]\n",
      " 39%|███████████████████████████████                                                 | 176/453 [00:49<01:18,  3.52it/s]\n",
      " 39%|███████████████████████████████▎                                                | 177/453 [00:49<01:17,  3.57it/s]\n",
      " 39%|███████████████████████████████▍                                                | 178/453 [00:49<01:17,  3.57it/s]\n",
      " 40%|███████████████████████████████▌                                                | 179/453 [00:50<01:17,  3.55it/s]\n",
      " 40%|███████████████████████████████▊                                                | 180/453 [00:50<01:15,  3.61it/s]\n",
      " 40%|███████████████████████████████▉                                                | 181/453 [00:50<01:14,  3.67it/s]\n",
      " 40%|████████████████████████████████▏                                               | 182/453 [00:51<01:13,  3.69it/s]\n",
      " 40%|████████████████████████████████▎                                               | 183/453 [00:51<01:12,  3.72it/s]\n",
      " 41%|████████████████████████████████▍                                               | 184/453 [00:51<01:13,  3.67it/s]\n",
      " 41%|████████████████████████████████▋                                               | 185/453 [00:51<01:12,  3.69it/s]\n",
      " 41%|████████████████████████████████▊                                               | 186/453 [00:52<01:13,  3.61it/s]\n",
      " 41%|█████████████████████████████████                                               | 187/453 [00:52<01:12,  3.68it/s]\n",
      " 42%|█████████████████████████████████▏                                              | 188/453 [00:52<01:11,  3.71it/s]\n",
      " 42%|█████████████████████████████████▍                                              | 189/453 [00:52<01:10,  3.73it/s]\n",
      " 42%|█████████████████████████████████▌                                              | 190/453 [00:53<01:09,  3.76it/s]\n",
      " 42%|█████████████████████████████████▋                                              | 191/453 [00:53<01:09,  3.77it/s]\n",
      " 42%|█████████████████████████████████▉                                              | 192/453 [00:53<01:10,  3.71it/s]\n",
      " 43%|██████████████████████████████████                                              | 193/453 [00:54<01:12,  3.59it/s]\n",
      " 43%|██████████████████████████████████▎                                             | 194/453 [00:54<01:12,  3.55it/s]\n",
      " 43%|██████████████████████████████████▍                                             | 195/453 [00:54<01:12,  3.57it/s]\n",
      " 43%|██████████████████████████████████▌                                             | 196/453 [00:54<01:11,  3.62it/s]\n",
      " 43%|██████████████████████████████████▊                                             | 197/453 [00:55<01:12,  3.55it/s]\n",
      " 44%|██████████████████████████████████▉                                             | 198/453 [00:55<01:11,  3.54it/s]\n",
      " 44%|███████████████████████████████████▏                                            | 199/453 [00:55<01:10,  3.63it/s]\n",
      " 44%|███████████████████████████████████▎                                            | 200/453 [00:56<01:10,  3.58it/s]\n",
      " 44%|███████████████████████████████████▍                                            | 201/453 [00:56<01:10,  3.59it/s]\n",
      " 45%|███████████████████████████████████▋                                            | 202/453 [00:56<01:10,  3.58it/s]\n",
      " 45%|███████████████████████████████████▊                                            | 203/453 [00:56<01:09,  3.58it/s]\n"
     ]
    },
    {
     "name": "stderr",
     "output_type": "stream",
     "text": [
      " 45%|████████████████████████████████████                                            | 204/453 [00:57<01:11,  3.46it/s]\n",
      " 45%|████████████████████████████████████▏                                           | 205/453 [00:57<01:11,  3.45it/s]\n",
      " 45%|████████████████████████████████████▍                                           | 206/453 [00:57<01:16,  3.25it/s]\n",
      " 46%|████████████████████████████████████▌                                           | 207/453 [00:58<01:17,  3.19it/s]\n",
      " 46%|████████████████████████████████████▋                                           | 208/453 [00:58<01:19,  3.07it/s]\n",
      " 46%|████████████████████████████████████▉                                           | 209/453 [00:58<01:17,  3.13it/s]\n",
      " 46%|█████████████████████████████████████                                           | 210/453 [00:59<01:13,  3.31it/s]\n",
      " 47%|█████████████████████████████████████▎                                          | 211/453 [00:59<01:12,  3.36it/s]\n",
      " 47%|█████████████████████████████████████▍                                          | 212/453 [00:59<01:11,  3.39it/s]\n",
      " 47%|█████████████████████████████████████▌                                          | 213/453 [00:59<01:09,  3.45it/s]\n",
      " 47%|█████████████████████████████████████▊                                          | 214/453 [01:00<01:08,  3.51it/s]\n",
      " 47%|█████████████████████████████████████▉                                          | 215/453 [01:00<01:06,  3.57it/s]\n",
      " 48%|██████████████████████████████████████▏                                         | 216/453 [01:00<01:05,  3.60it/s]\n",
      " 48%|██████████████████████████████████████▎                                         | 217/453 [01:00<01:05,  3.62it/s]\n",
      " 48%|██████████████████████████████████████▍                                         | 218/453 [01:01<01:03,  3.68it/s]\n",
      " 48%|██████████████████████████████████████▋                                         | 219/453 [01:01<01:03,  3.69it/s]\n",
      " 49%|██████████████████████████████████████▊                                         | 220/453 [01:01<01:04,  3.62it/s]\n",
      " 49%|███████████████████████████████████████                                         | 221/453 [01:02<01:03,  3.66it/s]\n",
      " 49%|███████████████████████████████████████▏                                        | 222/453 [01:02<01:02,  3.68it/s]\n",
      " 49%|███████████████████████████████████████▍                                        | 223/453 [01:02<01:02,  3.69it/s]\n",
      " 49%|███████████████████████████████████████▌                                        | 224/453 [01:02<01:01,  3.69it/s]\n",
      " 50%|███████████████████████████████████████▋                                        | 225/453 [01:03<01:01,  3.72it/s]\n",
      " 50%|███████████████████████████████████████▉                                        | 226/453 [01:03<01:01,  3.72it/s]\n",
      " 50%|████████████████████████████████████████                                        | 227/453 [01:03<01:00,  3.71it/s]\n",
      " 50%|████████████████████████████████████████▎                                       | 228/453 [01:03<01:01,  3.68it/s]\n",
      " 51%|████████████████████████████████████████▍                                       | 229/453 [01:04<01:00,  3.70it/s]\n",
      " 51%|████████████████████████████████████████▌                                       | 230/453 [01:04<01:02,  3.58it/s]\n",
      " 51%|████████████████████████████████████████▊                                       | 231/453 [01:04<01:01,  3.62it/s]\n",
      " 51%|████████████████████████████████████████▉                                       | 232/453 [01:05<01:00,  3.66it/s]\n",
      " 51%|█████████████████████████████████████████▏                                      | 233/453 [01:05<01:01,  3.61it/s]\n",
      " 52%|█████████████████████████████████████████▎                                      | 234/453 [01:05<00:59,  3.66it/s]\n",
      " 52%|█████████████████████████████████████████▌                                      | 235/453 [01:05<00:58,  3.70it/s]\n",
      " 52%|█████████████████████████████████████████▋                                      | 236/453 [01:06<00:59,  3.66it/s]\n",
      " 52%|█████████████████████████████████████████▊                                      | 237/453 [01:06<00:59,  3.63it/s]\n",
      " 53%|██████████████████████████████████████████                                      | 238/453 [01:06<00:58,  3.65it/s]\n",
      " 53%|██████████████████████████████████████████▏                                     | 239/453 [01:06<00:58,  3.69it/s]\n",
      " 53%|██████████████████████████████████████████▍                                     | 240/453 [01:07<00:57,  3.70it/s]\n",
      " 53%|██████████████████████████████████████████▌                                     | 241/453 [01:07<00:58,  3.64it/s]\n",
      " 53%|██████████████████████████████████████████▋                                     | 242/453 [01:07<00:57,  3.69it/s]\n",
      " 54%|██████████████████████████████████████████▉                                     | 243/453 [01:08<00:56,  3.72it/s]\n",
      " 54%|███████████████████████████████████████████                                     | 244/453 [01:08<00:57,  3.67it/s]\n",
      " 54%|███████████████████████████████████████████▎                                    | 245/453 [01:08<00:56,  3.67it/s]\n",
      " 54%|███████████████████████████████████████████▍                                    | 246/453 [01:08<00:57,  3.62it/s]\n",
      " 55%|███████████████████████████████████████████▌                                    | 247/453 [01:09<00:56,  3.62it/s]\n",
      " 55%|███████████████████████████████████████████▊                                    | 248/453 [01:09<00:57,  3.55it/s]\n",
      " 55%|███████████████████████████████████████████▉                                    | 249/453 [01:09<00:56,  3.61it/s]\n",
      " 55%|████████████████████████████████████████████▏                                   | 250/453 [01:10<00:56,  3.62it/s]\n",
      " 55%|████████████████████████████████████████████▎                                   | 251/453 [01:10<00:55,  3.65it/s]\n",
      " 56%|████████████████████████████████████████████▌                                   | 252/453 [01:10<00:55,  3.62it/s]\n",
      " 56%|████████████████████████████████████████████▋                                   | 253/453 [01:10<00:54,  3.66it/s]\n",
      " 56%|████████████████████████████████████████████▊                                   | 254/453 [01:11<00:54,  3.68it/s]\n",
      " 56%|█████████████████████████████████████████████                                   | 255/453 [01:11<00:55,  3.56it/s]\n",
      " 57%|█████████████████████████████████████████████▏                                  | 256/453 [01:11<00:54,  3.60it/s]\n",
      " 57%|█████████████████████████████████████████████▍                                  | 257/453 [01:11<00:54,  3.62it/s]\n",
      " 57%|█████████████████████████████████████████████▌                                  | 258/453 [01:12<00:54,  3.60it/s]\n",
      " 57%|█████████████████████████████████████████████▋                                  | 259/453 [01:12<00:53,  3.66it/s]\n",
      " 57%|█████████████████████████████████████████████▉                                  | 260/453 [01:12<00:53,  3.64it/s]\n",
      " 58%|██████████████████████████████████████████████                                  | 261/453 [01:13<00:52,  3.66it/s]\n",
      " 58%|██████████████████████████████████████████████▎                                 | 262/453 [01:13<00:51,  3.68it/s]\n",
      " 58%|██████████████████████████████████████████████▍                                 | 263/453 [01:13<00:52,  3.61it/s]\n",
      " 58%|██████████████████████████████████████████████▌                                 | 264/453 [01:13<00:55,  3.38it/s]\n",
      " 58%|██████████████████████████████████████████████▊                                 | 265/453 [01:14<00:56,  3.35it/s]\n",
      " 59%|██████████████████████████████████████████████▉                                 | 266/453 [01:14<00:54,  3.46it/s]\n",
      " 59%|███████████████████████████████████████████████▏                                | 267/453 [01:14<00:56,  3.27it/s]\n",
      " 59%|███████████████████████████████████████████████▎                                | 268/453 [01:15<00:57,  3.22it/s]\n",
      " 59%|███████████████████████████████████████████████▌                                | 269/453 [01:15<00:55,  3.30it/s]\n",
      " 60%|███████████████████████████████████████████████▋                                | 270/453 [01:15<00:57,  3.16it/s]\n",
      " 60%|███████████████████████████████████████████████▊                                | 271/453 [01:16<00:58,  3.11it/s]\n"
     ]
    },
    {
     "name": "stderr",
     "output_type": "stream",
     "text": [
      " 60%|████████████████████████████████████████████████                                | 272/453 [01:16<00:59,  3.04it/s]\n",
      " 60%|████████████████████████████████████████████████▏                               | 273/453 [01:16<01:01,  2.93it/s]\n",
      " 60%|████████████████████████████████████████████████▍                               | 274/453 [01:17<01:00,  2.95it/s]\n",
      " 61%|████████████████████████████████████████████████▌                               | 275/453 [01:17<01:00,  2.93it/s]\n",
      " 61%|████████████████████████████████████████████████▋                               | 276/453 [01:17<01:00,  2.92it/s]\n",
      " 61%|████████████████████████████████████████████████▉                               | 277/453 [01:18<01:00,  2.93it/s]\n",
      " 61%|█████████████████████████████████████████████████                               | 278/453 [01:18<00:58,  3.00it/s]\n",
      " 62%|█████████████████████████████████████████████████▎                              | 279/453 [01:18<00:54,  3.18it/s]\n",
      " 62%|█████████████████████████████████████████████████▍                              | 280/453 [01:19<00:51,  3.34it/s]\n",
      " 62%|█████████████████████████████████████████████████▌                              | 281/453 [01:19<00:50,  3.44it/s]\n",
      " 62%|█████████████████████████████████████████████████▊                              | 282/453 [01:19<00:49,  3.48it/s]\n",
      " 62%|█████████████████████████████████████████████████▉                              | 283/453 [01:19<00:48,  3.50it/s]\n",
      " 63%|██████████████████████████████████████████████████▏                             | 284/453 [01:20<00:47,  3.57it/s]\n",
      " 63%|██████████████████████████████████████████████████▎                             | 285/453 [01:20<00:46,  3.59it/s]\n",
      " 63%|██████████████████████████████████████████████████▌                             | 286/453 [01:20<00:48,  3.48it/s]\n",
      " 63%|██████████████████████████████████████████████████▋                             | 287/453 [01:21<00:46,  3.58it/s]\n",
      " 64%|██████████████████████████████████████████████████▊                             | 288/453 [01:21<00:45,  3.62it/s]\n",
      " 64%|███████████████████████████████████████████████████                             | 289/453 [01:21<00:45,  3.60it/s]\n",
      " 64%|███████████████████████████████████████████████████▏                            | 290/453 [01:21<00:47,  3.45it/s]\n",
      " 64%|███████████████████████████████████████████████████▍                            | 291/453 [01:22<00:45,  3.55it/s]\n",
      " 64%|███████████████████████████████████████████████████▌                            | 292/453 [01:22<00:44,  3.61it/s]\n",
      " 65%|███████████████████████████████████████████████████▋                            | 293/453 [01:22<00:44,  3.63it/s]\n",
      " 65%|███████████████████████████████████████████████████▉                            | 294/453 [01:22<00:44,  3.56it/s]\n",
      " 65%|████████████████████████████████████████████████████                            | 295/453 [01:23<00:43,  3.63it/s]\n",
      " 65%|████████████████████████████████████████████████████▎                           | 296/453 [01:23<00:42,  3.66it/s]\n",
      " 66%|████████████████████████████████████████████████████▍                           | 297/453 [01:23<00:42,  3.66it/s]\n",
      " 66%|████████████████████████████████████████████████████▋                           | 298/453 [01:24<00:42,  3.69it/s]\n",
      " 66%|████████████████████████████████████████████████████▊                           | 299/453 [01:24<00:41,  3.67it/s]\n",
      " 66%|████████████████████████████████████████████████████▉                           | 300/453 [01:24<00:43,  3.54it/s]\n",
      " 66%|█████████████████████████████████████████████████████▏                          | 301/453 [01:24<00:41,  3.63it/s]\n",
      " 67%|█████████████████████████████████████████████████████▎                          | 302/453 [01:25<00:41,  3.66it/s]\n",
      " 67%|█████████████████████████████████████████████████████▌                          | 303/453 [01:25<00:40,  3.66it/s]\n",
      " 67%|█████████████████████████████████████████████████████▋                          | 304/453 [01:25<00:40,  3.66it/s]\n",
      " 67%|█████████████████████████████████████████████████████▊                          | 305/453 [01:25<00:41,  3.56it/s]\n",
      " 68%|██████████████████████████████████████████████████████                          | 306/453 [01:26<00:41,  3.55it/s]\n",
      " 68%|██████████████████████████████████████████████████████▏                         | 307/453 [01:26<00:41,  3.51it/s]\n",
      " 68%|██████████████████████████████████████████████████████▍                         | 308/453 [01:26<00:40,  3.59it/s]\n",
      " 68%|██████████████████████████████████████████████████████▌                         | 309/453 [01:27<00:39,  3.60it/s]\n",
      " 68%|██████████████████████████████████████████████████████▋                         | 310/453 [01:27<00:38,  3.67it/s]\n",
      " 69%|██████████████████████████████████████████████████████▉                         | 311/453 [01:27<00:39,  3.63it/s]\n",
      " 69%|███████████████████████████████████████████████████████                         | 312/453 [01:27<00:38,  3.62it/s]\n",
      " 69%|███████████████████████████████████████████████████████▎                        | 313/453 [01:28<00:38,  3.66it/s]\n",
      " 69%|███████████████████████████████████████████████████████▍                        | 314/453 [01:28<00:39,  3.49it/s]\n",
      " 70%|███████████████████████████████████████████████████████▋                        | 315/453 [01:28<00:41,  3.30it/s]\n",
      " 70%|███████████████████████████████████████████████████████▊                        | 316/453 [01:29<00:43,  3.15it/s]\n",
      " 70%|███████████████████████████████████████████████████████▉                        | 317/453 [01:29<00:43,  3.13it/s]\n",
      " 70%|████████████████████████████████████████████████████████▏                       | 318/453 [01:29<00:40,  3.32it/s]\n",
      " 70%|████████████████████████████████████████████████████████▎                       | 319/453 [01:30<00:39,  3.43it/s]\n",
      " 71%|████████████████████████████████████████████████████████▌                       | 320/453 [01:30<00:37,  3.52it/s]\n",
      " 71%|████████████████████████████████████████████████████████▋                       | 321/453 [01:30<00:37,  3.52it/s]\n",
      " 71%|████████████████████████████████████████████████████████▊                       | 322/453 [01:30<00:36,  3.57it/s]\n",
      " 71%|█████████████████████████████████████████████████████████                       | 323/453 [01:31<00:36,  3.56it/s]\n",
      " 72%|█████████████████████████████████████████████████████████▏                      | 324/453 [01:31<00:36,  3.58it/s]\n",
      " 72%|█████████████████████████████████████████████████████████▍                      | 325/453 [01:31<00:35,  3.58it/s]\n",
      " 72%|█████████████████████████████████████████████████████████▌                      | 326/453 [01:32<00:35,  3.55it/s]\n",
      " 72%|█████████████████████████████████████████████████████████▋                      | 327/453 [01:32<00:35,  3.59it/s]\n",
      " 72%|█████████████████████████████████████████████████████████▉                      | 328/453 [01:32<00:34,  3.58it/s]\n",
      " 73%|██████████████████████████████████████████████████████████                      | 329/453 [01:32<00:34,  3.58it/s]\n",
      " 73%|██████████████████████████████████████████████████████████▎                     | 330/453 [01:33<00:33,  3.63it/s]\n",
      " 73%|██████████████████████████████████████████████████████████▍                     | 331/453 [01:33<00:33,  3.62it/s]\n",
      " 73%|██████████████████████████████████████████████████████████▋                     | 332/453 [01:33<00:32,  3.67it/s]\n",
      " 74%|██████████████████████████████████████████████████████████▊                     | 333/453 [01:33<00:32,  3.65it/s]\n",
      " 74%|██████████████████████████████████████████████████████████▉                     | 334/453 [01:34<00:32,  3.69it/s]\n",
      " 74%|███████████████████████████████████████████████████████████▏                    | 335/453 [01:34<00:31,  3.71it/s]\n",
      " 74%|███████████████████████████████████████████████████████████▎                    | 336/453 [01:34<00:31,  3.73it/s]\n",
      " 74%|███████████████████████████████████████████████████████████▌                    | 337/453 [01:34<00:30,  3.75it/s]\n",
      " 75%|███████████████████████████████████████████████████████████▋                    | 338/453 [01:35<00:30,  3.76it/s]\n",
      " 75%|███████████████████████████████████████████████████████████▊                    | 339/453 [01:35<00:30,  3.71it/s]\n"
     ]
    },
    {
     "name": "stderr",
     "output_type": "stream",
     "text": [
      " 75%|████████████████████████████████████████████████████████████                    | 340/453 [01:35<00:30,  3.70it/s]\n",
      " 75%|████████████████████████████████████████████████████████████▏                   | 341/453 [01:36<00:30,  3.69it/s]\n",
      " 75%|████████████████████████████████████████████████████████████▍                   | 342/453 [01:36<00:30,  3.67it/s]\n",
      " 76%|████████████████████████████████████████████████████████████▌                   | 343/453 [01:36<00:30,  3.65it/s]\n",
      " 76%|████████████████████████████████████████████████████████████▊                   | 344/453 [01:36<00:29,  3.69it/s]\n",
      " 76%|████████████████████████████████████████████████████████████▉                   | 345/453 [01:37<00:29,  3.70it/s]\n",
      " 76%|█████████████████████████████████████████████████████████████                   | 346/453 [01:37<00:29,  3.61it/s]\n",
      " 77%|█████████████████████████████████████████████████████████████▎                  | 347/453 [01:37<00:28,  3.67it/s]\n",
      " 77%|█████████████████████████████████████████████████████████████▍                  | 348/453 [01:37<00:28,  3.67it/s]\n",
      " 77%|█████████████████████████████████████████████████████████████▋                  | 349/453 [01:38<00:28,  3.71it/s]\n",
      " 77%|█████████████████████████████████████████████████████████████▊                  | 350/453 [01:38<00:28,  3.67it/s]\n",
      " 77%|█████████████████████████████████████████████████████████████▉                  | 351/453 [01:38<00:27,  3.67it/s]\n",
      " 78%|██████████████████████████████████████████████████████████████▏                 | 352/453 [01:39<00:27,  3.66it/s]\n",
      " 78%|██████████████████████████████████████████████████████████████▎                 | 353/453 [01:39<00:27,  3.60it/s]\n",
      " 78%|██████████████████████████████████████████████████████████████▌                 | 354/453 [01:39<00:27,  3.61it/s]\n",
      " 78%|██████████████████████████████████████████████████████████████▋                 | 355/453 [01:39<00:27,  3.62it/s]\n",
      " 79%|██████████████████████████████████████████████████████████████▊                 | 356/453 [01:40<00:26,  3.60it/s]\n",
      " 79%|███████████████████████████████████████████████████████████████                 | 357/453 [01:40<00:26,  3.58it/s]\n",
      " 79%|███████████████████████████████████████████████████████████████▏                | 358/453 [01:40<00:26,  3.62it/s]\n",
      " 79%|███████████████████████████████████████████████████████████████▍                | 359/453 [01:41<00:25,  3.62it/s]\n",
      " 79%|███████████████████████████████████████████████████████████████▌                | 360/453 [01:41<00:25,  3.67it/s]\n",
      " 80%|███████████████████████████████████████████████████████████████▊                | 361/453 [01:41<00:25,  3.56it/s]\n",
      " 80%|███████████████████████████████████████████████████████████████▉                | 362/453 [01:41<00:25,  3.63it/s]\n",
      " 80%|████████████████████████████████████████████████████████████████                | 363/453 [01:42<00:25,  3.56it/s]\n",
      " 80%|████████████████████████████████████████████████████████████████▎               | 364/453 [01:42<00:24,  3.63it/s]\n",
      " 81%|████████████████████████████████████████████████████████████████▍               | 365/453 [01:42<00:24,  3.66it/s]\n",
      " 81%|████████████████████████████████████████████████████████████████▋               | 366/453 [01:42<00:23,  3.68it/s]\n",
      " 81%|████████████████████████████████████████████████████████████████▊               | 367/453 [01:43<00:23,  3.71it/s]\n",
      " 81%|████████████████████████████████████████████████████████████████▉               | 368/453 [01:43<00:23,  3.69it/s]\n",
      " 81%|█████████████████████████████████████████████████████████████████▏              | 369/453 [01:43<00:22,  3.69it/s]\n",
      " 82%|█████████████████████████████████████████████████████████████████▎              | 370/453 [01:44<00:22,  3.72it/s]\n",
      " 82%|█████████████████████████████████████████████████████████████████▌              | 371/453 [01:44<00:22,  3.67it/s]\n",
      " 82%|█████████████████████████████████████████████████████████████████▋              | 372/453 [01:44<00:22,  3.67it/s]\n",
      " 82%|█████████████████████████████████████████████████████████████████▊              | 373/453 [01:44<00:21,  3.66it/s]\n",
      " 83%|██████████████████████████████████████████████████████████████████              | 374/453 [01:45<00:21,  3.67it/s]\n",
      " 83%|██████████████████████████████████████████████████████████████████▏             | 375/453 [01:45<00:21,  3.64it/s]\n",
      " 83%|██████████████████████████████████████████████████████████████████▍             | 376/453 [01:45<00:21,  3.59it/s]\n",
      " 83%|██████████████████████████████████████████████████████████████████▌             | 377/453 [01:45<00:20,  3.64it/s]\n",
      " 83%|██████████████████████████████████████████████████████████████████▊             | 378/453 [01:46<00:20,  3.61it/s]\n",
      " 84%|██████████████████████████████████████████████████████████████████▉             | 379/453 [01:46<00:20,  3.64it/s]\n",
      " 84%|███████████████████████████████████████████████████████████████████             | 380/453 [01:46<00:20,  3.61it/s]\n",
      " 84%|███████████████████████████████████████████████████████████████████▎            | 381/453 [01:47<00:19,  3.64it/s]\n",
      " 84%|███████████████████████████████████████████████████████████████████▍            | 382/453 [01:47<00:19,  3.63it/s]\n",
      " 85%|███████████████████████████████████████████████████████████████████▋            | 383/453 [01:47<00:19,  3.66it/s]\n",
      " 85%|███████████████████████████████████████████████████████████████████▊            | 384/453 [01:47<00:19,  3.55it/s]\n",
      " 85%|███████████████████████████████████████████████████████████████████▉            | 385/453 [01:48<00:18,  3.62it/s]\n",
      " 85%|████████████████████████████████████████████████████████████████████▏           | 386/453 [01:48<00:18,  3.65it/s]\n",
      " 85%|████████████████████████████████████████████████████████████████████▎           | 387/453 [01:48<00:18,  3.54it/s]\n",
      " 86%|████████████████████████████████████████████████████████████████████▌           | 388/453 [01:48<00:18,  3.59it/s]\n",
      " 86%|████████████████████████████████████████████████████████████████████▋           | 389/453 [01:49<00:17,  3.63it/s]\n",
      " 86%|████████████████████████████████████████████████████████████████████▊           | 390/453 [01:49<00:17,  3.62it/s]\n",
      " 86%|█████████████████████████████████████████████████████████████████████           | 391/453 [01:49<00:17,  3.63it/s]\n",
      " 87%|█████████████████████████████████████████████████████████████████████▏          | 392/453 [01:50<00:16,  3.65it/s]\n",
      " 87%|█████████████████████████████████████████████████████████████████████▍          | 393/453 [01:50<00:16,  3.62it/s]\n",
      " 87%|█████████████████████████████████████████████████████████████████████▌          | 394/453 [01:50<00:16,  3.53it/s]\n",
      " 87%|█████████████████████████████████████████████████████████████████████▊          | 395/453 [01:51<00:17,  3.32it/s]\n",
      " 87%|█████████████████████████████████████████████████████████████████████▉          | 396/453 [01:51<00:17,  3.27it/s]\n",
      " 88%|██████████████████████████████████████████████████████████████████████          | 397/453 [01:51<00:16,  3.32it/s]\n",
      " 88%|██████████████████████████████████████████████████████████████████████▎         | 398/453 [01:51<00:17,  3.19it/s]\n",
      " 88%|██████████████████████████████████████████████████████████████████████▍         | 399/453 [01:52<00:16,  3.21it/s]\n",
      " 88%|██████████████████████████████████████████████████████████████████████▋         | 400/453 [01:52<00:15,  3.32it/s]\n",
      " 89%|██████████████████████████████████████████████████████████████████████▊         | 401/453 [01:52<00:15,  3.35it/s]\n",
      " 89%|██████████████████████████████████████████████████████████████████████▉         | 402/453 [01:53<00:15,  3.37it/s]\n",
      " 89%|███████████████████████████████████████████████████████████████████████▏        | 403/453 [01:53<00:14,  3.48it/s]\n",
      " 89%|███████████████████████████████████████████████████████████████████████▎        | 404/453 [01:53<00:14,  3.45it/s]\n",
      " 89%|███████████████████████████████████████████████████████████████████████▌        | 405/453 [01:53<00:13,  3.54it/s]\n",
      " 90%|███████████████████████████████████████████████████████████████████████▋        | 406/453 [01:54<00:13,  3.59it/s]\n",
      " 90%|███████████████████████████████████████████████████████████████████████▉        | 407/453 [01:54<00:12,  3.61it/s]\n"
     ]
    },
    {
     "name": "stderr",
     "output_type": "stream",
     "text": [
      " 90%|████████████████████████████████████████████████████████████████████████        | 408/453 [01:54<00:12,  3.66it/s]\n",
      " 90%|████████████████████████████████████████████████████████████████████████▏       | 409/453 [01:55<00:11,  3.68it/s]\n",
      " 91%|████████████████████████████████████████████████████████████████████████▍       | 410/453 [01:55<00:11,  3.68it/s]\n",
      " 91%|████████████████████████████████████████████████████████████████████████▌       | 411/453 [01:55<00:11,  3.66it/s]\n",
      " 91%|████████████████████████████████████████████████████████████████████████▊       | 412/453 [01:55<00:11,  3.70it/s]\n",
      " 91%|████████████████████████████████████████████████████████████████████████▉       | 413/453 [01:56<00:10,  3.68it/s]\n",
      " 91%|█████████████████████████████████████████████████████████████████████████       | 414/453 [01:56<00:10,  3.70it/s]\n",
      " 92%|█████████████████████████████████████████████████████████████████████████▎      | 415/453 [01:56<00:10,  3.72it/s]\n",
      " 92%|█████████████████████████████████████████████████████████████████████████▍      | 416/453 [01:56<00:09,  3.75it/s]\n",
      " 92%|█████████████████████████████████████████████████████████████████████████▋      | 417/453 [01:57<00:09,  3.76it/s]\n",
      " 92%|█████████████████████████████████████████████████████████████████████████▊      | 418/453 [01:57<00:09,  3.68it/s]\n",
      " 92%|█████████████████████████████████████████████████████████████████████████▉      | 419/453 [01:57<00:09,  3.53it/s]\n",
      " 93%|██████████████████████████████████████████████████████████████████████████▏     | 420/453 [01:58<00:09,  3.61it/s]\n",
      " 93%|██████████████████████████████████████████████████████████████████████████▎     | 421/453 [01:58<00:08,  3.63it/s]\n",
      " 93%|██████████████████████████████████████████████████████████████████████████▌     | 422/453 [01:58<00:08,  3.60it/s]\n",
      " 93%|██████████████████████████████████████████████████████████████████████████▋     | 423/453 [01:58<00:08,  3.53it/s]\n",
      " 94%|██████████████████████████████████████████████████████████████████████████▉     | 424/453 [01:59<00:08,  3.50it/s]\n",
      " 94%|███████████████████████████████████████████████████████████████████████████     | 425/453 [01:59<00:08,  3.43it/s]\n",
      " 94%|███████████████████████████████████████████████████████████████████████████▏    | 426/453 [01:59<00:08,  3.19it/s]\n",
      " 94%|███████████████████████████████████████████████████████████████████████████▍    | 427/453 [02:00<00:08,  3.08it/s]\n",
      " 94%|███████████████████████████████████████████████████████████████████████████▌    | 428/453 [02:00<00:08,  3.07it/s]\n",
      " 95%|███████████████████████████████████████████████████████████████████████████▊    | 429/453 [02:00<00:07,  3.24it/s]\n",
      " 95%|███████████████████████████████████████████████████████████████████████████▉    | 430/453 [02:01<00:06,  3.35it/s]\n",
      " 95%|████████████████████████████████████████████████████████████████████████████    | 431/453 [02:01<00:06,  3.47it/s]\n",
      " 95%|████████████████████████████████████████████████████████████████████████████▎   | 432/453 [02:01<00:06,  3.43it/s]\n",
      " 96%|████████████████████████████████████████████████████████████████████████████▍   | 433/453 [02:01<00:05,  3.53it/s]\n",
      " 96%|████████████████████████████████████████████████████████████████████████████▋   | 434/453 [02:02<00:05,  3.48it/s]\n",
      " 96%|████████████████████████████████████████████████████████████████████████████▊   | 435/453 [02:02<00:05,  3.58it/s]\n",
      " 96%|████████████████████████████████████████████████████████████████████████████▉   | 436/453 [02:02<00:04,  3.60it/s]\n",
      " 96%|█████████████████████████████████████████████████████████████████████████████▏  | 437/453 [02:03<00:04,  3.62it/s]\n",
      " 97%|█████████████████████████████████████████████████████████████████████████████▎  | 438/453 [02:03<00:04,  3.63it/s]\n",
      " 97%|█████████████████████████████████████████████████████████████████████████████▌  | 439/453 [02:03<00:03,  3.64it/s]\n",
      " 97%|█████████████████████████████████████████████████████████████████████████████▋  | 440/453 [02:03<00:03,  3.59it/s]\n",
      " 97%|█████████████████████████████████████████████████████████████████████████████▉  | 441/453 [02:04<00:03,  3.64it/s]\n",
      " 98%|██████████████████████████████████████████████████████████████████████████████  | 442/453 [02:04<00:03,  3.65it/s]\n",
      " 98%|██████████████████████████████████████████████████████████████████████████████▏ | 443/453 [02:04<00:02,  3.57it/s]\n",
      " 98%|██████████████████████████████████████████████████████████████████████████████▍ | 444/453 [02:04<00:02,  3.64it/s]\n",
      " 98%|██████████████████████████████████████████████████████████████████████████████▌ | 445/453 [02:05<00:02,  3.66it/s]\n",
      " 98%|██████████████████████████████████████████████████████████████████████████████▊ | 446/453 [02:05<00:01,  3.68it/s]\n",
      " 99%|██████████████████████████████████████████████████████████████████████████████▉ | 447/453 [02:05<00:01,  3.67it/s]\n",
      " 99%|███████████████████████████████████████████████████████████████████████████████ | 448/453 [02:06<00:01,  3.68it/s]\n",
      " 99%|███████████████████████████████████████████████████████████████████████████████▎| 449/453 [02:06<00:01,  3.57it/s]\n",
      " 99%|███████████████████████████████████████████████████████████████████████████████▍| 450/453 [02:06<00:00,  3.49it/s]\n",
      "100%|███████████████████████████████████████████████████████████████████████████████▋| 451/453 [02:06<00:00,  3.59it/s]\n",
      "100%|███████████████████████████████████████████████████████████████████████████████▊| 452/453 [02:07<00:00,  3.63it/s]\n",
      "100%|████████████████████████████████████████████████████████████████████████████████| 453/453 [02:07<00:00,  3.96it/s]"
     ]
    },
    {
     "name": "stdout",
     "output_type": "stream",
     "text": [
      "phase Loss: 0.0132 Acc: 0.8432\n"
     ]
    },
    {
     "name": "stderr",
     "output_type": "stream",
     "text": [
      "\n",
      "  0%|                                                                                           | 0/80 [00:00<?, ?it/s]\n",
      "  1%|█                                                                                  | 1/80 [00:00<00:11,  6.82it/s]\n",
      "  2%|██                                                                                 | 2/80 [00:00<00:12,  6.46it/s]\n",
      "  4%|███                                                                                | 3/80 [00:00<00:11,  6.55it/s]\n",
      "  5%|████▏                                                                              | 4/80 [00:00<00:11,  6.63it/s]\n",
      "  6%|█████▏                                                                             | 5/80 [00:00<00:11,  6.67it/s]\n",
      "  8%|██████▏                                                                            | 6/80 [00:00<00:11,  6.70it/s]\n",
      "  9%|███████▎                                                                           | 7/80 [00:01<00:11,  6.34it/s]\n",
      " 10%|████████▎                                                                          | 8/80 [00:01<00:11,  6.47it/s]\n",
      " 11%|█████████▎                                                                         | 9/80 [00:01<00:11,  6.43it/s]\n",
      " 12%|██████████▎                                                                       | 10/80 [00:01<00:10,  6.43it/s]\n",
      " 14%|███████████▎                                                                      | 11/80 [00:01<00:11,  6.19it/s]\n",
      " 15%|████████████▎                                                                     | 12/80 [00:01<00:11,  5.84it/s]\n",
      " 16%|█████████████▎                                                                    | 13/80 [00:02<00:11,  6.00it/s]\n",
      " 18%|██████████████▎                                                                   | 14/80 [00:02<00:10,  6.12it/s]\n",
      " 19%|███████████████▍                                                                  | 15/80 [00:02<00:10,  6.20it/s]\n",
      " 20%|████████████████▍                                                                 | 16/80 [00:02<00:10,  6.29it/s]\n",
      " 21%|█████████████████▍                                                                | 17/80 [00:02<00:10,  6.14it/s]\n",
      " 22%|██████████████████▍                                                               | 18/80 [00:02<00:10,  6.18it/s]\n",
      " 24%|███████████████████▍                                                              | 19/80 [00:03<00:09,  6.22it/s]\n",
      " 25%|████████████████████▌                                                             | 20/80 [00:03<00:09,  6.15it/s]\n",
      " 26%|█████████████████████▌                                                            | 21/80 [00:03<00:09,  6.04it/s]\n",
      " 28%|██████████████████████▌                                                           | 22/80 [00:03<00:09,  6.15it/s]\n",
      " 29%|███████████████████████▌                                                          | 23/80 [00:03<00:09,  6.12it/s]\n",
      " 30%|████████████████████████▌                                                         | 24/80 [00:03<00:09,  5.94it/s]\n",
      " 31%|█████████████████████████▋                                                        | 25/80 [00:04<00:08,  6.20it/s]\n",
      " 32%|██████████████████████████▋                                                       | 26/80 [00:04<00:08,  6.09it/s]\n",
      " 34%|███████████████████████████▋                                                      | 27/80 [00:04<00:08,  6.17it/s]\n",
      " 35%|████████████████████████████▋                                                     | 28/80 [00:04<00:08,  6.32it/s]\n",
      " 36%|█████████████████████████████▋                                                    | 29/80 [00:04<00:07,  6.44it/s]\n",
      " 38%|██████████████████████████████▊                                                   | 30/80 [00:04<00:07,  6.52it/s]\n",
      " 39%|███████████████████████████████▊                                                  | 31/80 [00:04<00:07,  6.53it/s]\n",
      " 40%|████████████████████████████████▊                                                 | 32/80 [00:05<00:07,  6.64it/s]\n",
      " 41%|█████████████████████████████████▊                                                | 33/80 [00:05<00:07,  6.52it/s]\n",
      " 42%|██████████████████████████████████▊                                               | 34/80 [00:05<00:06,  6.62it/s]\n",
      " 44%|███████████████████████████████████▉                                              | 35/80 [00:05<00:06,  6.67it/s]\n",
      " 45%|████████████████████████████████████▉                                             | 36/80 [00:05<00:06,  6.69it/s]\n",
      " 46%|█████████████████████████████████████▉                                            | 37/80 [00:05<00:06,  6.53it/s]\n",
      " 48%|██████████████████████████████████████▉                                           | 38/80 [00:06<00:06,  6.41it/s]\n",
      " 49%|███████████████████████████████████████▉                                          | 39/80 [00:06<00:06,  6.43it/s]\n",
      " 50%|█████████████████████████████████████████                                         | 40/80 [00:06<00:06,  6.54it/s]\n",
      " 51%|██████████████████████████████████████████                                        | 41/80 [00:06<00:06,  6.41it/s]\n",
      " 52%|███████████████████████████████████████████                                       | 42/80 [00:06<00:06,  6.32it/s]\n",
      " 54%|████████████████████████████████████████████                                      | 43/80 [00:06<00:05,  6.22it/s]\n",
      " 55%|█████████████████████████████████████████████                                     | 44/80 [00:06<00:05,  6.39it/s]\n",
      " 56%|██████████████████████████████████████████████▏                                   | 45/80 [00:07<00:05,  6.40it/s]\n",
      " 57%|███████████████████████████████████████████████▏                                  | 46/80 [00:07<00:05,  6.22it/s]\n",
      " 59%|████████████████████████████████████████████████▏                                 | 47/80 [00:07<00:05,  6.35it/s]\n",
      " 60%|█████████████████████████████████████████████████▏                                | 48/80 [00:07<00:05,  6.22it/s]\n",
      " 61%|██████████████████████████████████████████████████▏                               | 49/80 [00:07<00:04,  6.38it/s]\n",
      " 62%|███████████████████████████████████████████████████▎                              | 50/80 [00:07<00:04,  6.26it/s]\n",
      " 64%|████████████████████████████████████████████████████▎                             | 51/80 [00:08<00:04,  6.39it/s]\n",
      " 65%|█████████████████████████████████████████████████████▎                            | 52/80 [00:08<00:04,  6.37it/s]\n",
      " 66%|██████████████████████████████████████████████████████▎                           | 53/80 [00:08<00:04,  6.39it/s]\n",
      " 68%|███████████████████████████████████████████████████████▎                          | 54/80 [00:08<00:04,  6.16it/s]\n",
      " 69%|████████████████████████████████████████████████████████▍                         | 55/80 [00:08<00:04,  6.24it/s]\n",
      " 70%|█████████████████████████████████████████████████████████▍                        | 56/80 [00:08<00:03,  6.27it/s]\n",
      " 71%|██████████████████████████████████████████████████████████▍                       | 57/80 [00:09<00:03,  6.39it/s]\n",
      " 72%|███████████████████████████████████████████████████████████▍                      | 58/80 [00:09<00:03,  6.50it/s]\n",
      " 74%|████████████████████████████████████████████████████████████▍                     | 59/80 [00:09<00:03,  6.59it/s]\n",
      " 75%|█████████████████████████████████████████████████████████████▌                    | 60/80 [00:09<00:03,  6.48it/s]\n",
      " 76%|██████████████████████████████████████████████████████████████▌                   | 61/80 [00:09<00:02,  6.40it/s]\n",
      " 78%|███████████████████████████████████████████████████████████████▌                  | 62/80 [00:09<00:02,  6.48it/s]\n",
      " 79%|████████████████████████████████████████████████████████████████▌                 | 63/80 [00:09<00:02,  6.52it/s]\n",
      " 80%|█████████████████████████████████████████████████████████████████▌                | 64/80 [00:10<00:02,  6.59it/s]\n",
      " 81%|██████████████████████████████████████████████████████████████████▋               | 65/80 [00:10<00:02,  6.30it/s]\n",
      " 82%|███████████████████████████████████████████████████████████████████▋              | 66/80 [00:10<00:02,  6.32it/s]\n",
      " 84%|████████████████████████████████████████████████████████████████████▋             | 67/80 [00:10<00:02,  6.44it/s]\n"
     ]
    },
    {
     "name": "stderr",
     "output_type": "stream",
     "text": [
      " 85%|█████████████████████████████████████████████████████████████████████▋            | 68/80 [00:10<00:01,  6.54it/s]\n",
      " 86%|██████████████████████████████████████████████████████████████████████▋           | 69/80 [00:10<00:01,  6.33it/s]\n",
      " 88%|███████████████████████████████████████████████████████████████████████▊          | 70/80 [00:11<00:01,  6.43it/s]\n",
      " 89%|████████████████████████████████████████████████████████████████████████▊         | 71/80 [00:11<00:01,  6.44it/s]\n",
      " 90%|█████████████████████████████████████████████████████████████████████████▊        | 72/80 [00:11<00:01,  6.53it/s]\n",
      " 91%|██████████████████████████████████████████████████████████████████████████▊       | 73/80 [00:11<00:01,  6.61it/s]\n",
      " 92%|███████████████████████████████████████████████████████████████████████████▊      | 74/80 [00:11<00:00,  6.58it/s]\n",
      " 94%|████████████████████████████████████████████████████████████████████████████▉     | 75/80 [00:11<00:00,  6.57it/s]\n",
      " 95%|█████████████████████████████████████████████████████████████████████████████▉    | 76/80 [00:11<00:00,  6.59it/s]\n",
      " 96%|██████████████████████████████████████████████████████████████████████████████▉   | 77/80 [00:12<00:00,  6.39it/s]\n",
      " 98%|███████████████████████████████████████████████████████████████████████████████▉  | 78/80 [00:12<00:00,  6.34it/s]\n",
      " 99%|████████████████████████████████████████████████████████████████████████████████▉ | 79/80 [00:12<00:00,  6.40it/s]\n",
      "100%|██████████████████████████████████████████████████████████████████████████████████| 80/80 [00:12<00:00,  6.68it/s]"
     ]
    },
    {
     "name": "stdout",
     "output_type": "stream",
     "text": [
      "phase Loss: 0.0152 Acc: 0.8282\n",
      "0.0005\n",
      "Epoch 1/1\n",
      "----------\n"
     ]
    },
    {
     "name": "stderr",
     "output_type": "stream",
     "text": [
      "\n",
      "  0%|                                                                                          | 0/453 [00:00<?, ?it/s]\n",
      "  0%|▏                                                                                 | 1/453 [00:00<02:11,  3.43it/s]\n",
      "  0%|▎                                                                                 | 2/453 [00:00<02:07,  3.55it/s]\n",
      "  1%|▌                                                                                 | 3/453 [00:00<02:06,  3.56it/s]\n",
      "  1%|▋                                                                                 | 4/453 [00:01<02:06,  3.55it/s]\n",
      "  1%|▉                                                                                 | 5/453 [00:01<02:09,  3.46it/s]\n",
      "  1%|█                                                                                 | 6/453 [00:01<02:05,  3.58it/s]\n",
      "  2%|█▎                                                                                | 7/453 [00:01<02:03,  3.62it/s]\n",
      "  2%|█▍                                                                                | 8/453 [00:02<02:01,  3.66it/s]\n",
      "  2%|█▋                                                                                | 9/453 [00:02<01:59,  3.70it/s]\n",
      "  2%|█▊                                                                               | 10/453 [00:02<02:03,  3.59it/s]\n",
      "  2%|█▉                                                                               | 11/453 [00:03<02:01,  3.63it/s]\n",
      "  3%|██▏                                                                              | 12/453 [00:03<02:00,  3.65it/s]\n",
      "  3%|██▎                                                                              | 13/453 [00:03<02:03,  3.57it/s]\n",
      "  3%|██▌                                                                              | 14/453 [00:03<02:02,  3.59it/s]\n",
      "  3%|██▋                                                                              | 15/453 [00:04<02:02,  3.59it/s]\n",
      "  4%|██▊                                                                              | 16/453 [00:04<02:00,  3.62it/s]\n",
      "  4%|███                                                                              | 17/453 [00:04<02:00,  3.61it/s]\n",
      "  4%|███▏                                                                             | 18/453 [00:04<02:00,  3.60it/s]\n",
      "  4%|███▍                                                                             | 19/453 [00:05<01:59,  3.62it/s]\n",
      "  4%|███▌                                                                             | 20/453 [00:05<01:58,  3.64it/s]\n",
      "  5%|███▊                                                                             | 21/453 [00:05<01:58,  3.65it/s]\n",
      "  5%|███▉                                                                             | 22/453 [00:06<01:58,  3.64it/s]\n",
      "  5%|████                                                                             | 23/453 [00:06<01:59,  3.59it/s]\n",
      "  5%|████▎                                                                            | 24/453 [00:06<01:59,  3.59it/s]\n",
      "  6%|████▍                                                                            | 25/453 [00:06<02:01,  3.53it/s]\n",
      "  6%|████▋                                                                            | 26/453 [00:07<01:58,  3.60it/s]\n",
      "  6%|████▊                                                                            | 27/453 [00:07<01:57,  3.64it/s]\n",
      "  6%|█████                                                                            | 28/453 [00:07<01:56,  3.65it/s]\n",
      "  6%|█████▏                                                                           | 29/453 [00:08<01:55,  3.67it/s]\n",
      "  7%|█████▎                                                                           | 30/453 [00:08<01:54,  3.69it/s]\n",
      "  7%|█████▌                                                                           | 31/453 [00:08<01:55,  3.66it/s]\n",
      "  7%|█████▋                                                                           | 32/453 [00:08<01:54,  3.67it/s]\n",
      "  7%|█████▉                                                                           | 33/453 [00:09<01:54,  3.67it/s]\n",
      "  8%|██████                                                                           | 34/453 [00:09<01:54,  3.67it/s]\n",
      "  8%|██████▎                                                                          | 35/453 [00:09<01:55,  3.62it/s]\n",
      "  8%|██████▍                                                                          | 36/453 [00:09<01:54,  3.64it/s]\n",
      "  8%|██████▌                                                                          | 37/453 [00:10<01:54,  3.64it/s]\n",
      "  8%|██████▊                                                                          | 38/453 [00:10<01:56,  3.56it/s]\n",
      "  9%|██████▉                                                                          | 39/453 [00:10<02:04,  3.31it/s]\n",
      "  9%|███████▏                                                                         | 40/453 [00:11<02:08,  3.21it/s]\n",
      "  9%|███████▎                                                                         | 41/453 [00:11<02:11,  3.14it/s]\n",
      "  9%|███████▌                                                                         | 42/453 [00:11<02:06,  3.24it/s]\n",
      "  9%|███████▋                                                                         | 43/453 [00:12<02:02,  3.35it/s]\n",
      " 10%|███████▊                                                                         | 44/453 [00:12<01:58,  3.44it/s]\n",
      " 10%|████████                                                                         | 45/453 [00:12<01:57,  3.48it/s]\n",
      " 10%|████████▏                                                                        | 46/453 [00:12<01:54,  3.56it/s]\n",
      " 10%|████████▍                                                                        | 47/453 [00:13<01:54,  3.56it/s]\n",
      " 11%|████████▌                                                                        | 48/453 [00:13<01:53,  3.57it/s]\n",
      " 11%|████████▊                                                                        | 49/453 [00:13<01:51,  3.61it/s]\n",
      " 11%|████████▉                                                                        | 50/453 [00:13<01:50,  3.66it/s]\n",
      " 11%|█████████                                                                        | 51/453 [00:14<01:50,  3.65it/s]\n",
      " 11%|█████████▎                                                                       | 52/453 [00:14<01:53,  3.53it/s]\n",
      " 12%|█████████▍                                                                       | 53/453 [00:14<01:50,  3.60it/s]\n",
      " 12%|█████████▋                                                                       | 54/453 [00:15<01:49,  3.64it/s]\n",
      " 12%|█████████▊                                                                       | 55/453 [00:15<01:48,  3.65it/s]\n",
      " 12%|██████████                                                                       | 56/453 [00:15<01:48,  3.66it/s]\n",
      " 13%|██████████▏                                                                      | 57/453 [00:15<01:47,  3.69it/s]\n",
      " 13%|██████████▎                                                                      | 58/453 [00:16<01:47,  3.66it/s]\n",
      " 13%|██████████▌                                                                      | 59/453 [00:16<01:48,  3.65it/s]\n",
      " 13%|██████████▋                                                                      | 60/453 [00:16<01:47,  3.67it/s]\n",
      " 13%|██████████▉                                                                      | 61/453 [00:17<01:47,  3.65it/s]\n",
      " 14%|███████████                                                                      | 62/453 [00:17<01:46,  3.68it/s]\n",
      " 14%|███████████▎                                                                     | 63/453 [00:17<01:45,  3.68it/s]\n",
      " 14%|███████████▍                                                                     | 64/453 [00:17<01:44,  3.71it/s]\n",
      " 14%|███████████▌                                                                     | 65/453 [00:18<01:44,  3.71it/s]\n",
      " 15%|███████████▊                                                                     | 66/453 [00:18<01:44,  3.71it/s]\n",
      " 15%|███████████▉                                                                     | 67/453 [00:18<01:43,  3.72it/s]\n"
     ]
    },
    {
     "name": "stderr",
     "output_type": "stream",
     "text": [
      " 15%|████████████▏                                                                    | 68/453 [00:18<01:44,  3.70it/s]\n",
      " 15%|████████████▎                                                                    | 69/453 [00:19<01:43,  3.72it/s]\n",
      " 15%|████████████▌                                                                    | 70/453 [00:19<01:43,  3.72it/s]\n",
      " 16%|████████████▋                                                                    | 71/453 [00:19<01:42,  3.72it/s]\n",
      " 16%|████████████▊                                                                    | 72/453 [00:19<01:42,  3.73it/s]\n",
      " 16%|█████████████                                                                    | 73/453 [00:20<01:40,  3.77it/s]\n",
      " 16%|█████████████▏                                                                   | 74/453 [00:20<01:41,  3.72it/s]\n",
      " 17%|█████████████▍                                                                   | 75/453 [00:20<01:43,  3.65it/s]\n",
      " 17%|█████████████▌                                                                   | 76/453 [00:21<01:43,  3.65it/s]\n",
      " 17%|█████████████▊                                                                   | 77/453 [00:21<01:46,  3.55it/s]\n",
      " 17%|█████████████▉                                                                   | 78/453 [00:21<01:43,  3.61it/s]\n",
      " 17%|██████████████▏                                                                  | 79/453 [00:21<01:42,  3.63it/s]\n",
      " 18%|██████████████▎                                                                  | 80/453 [00:22<01:42,  3.64it/s]\n",
      " 18%|██████████████▍                                                                  | 81/453 [00:22<01:42,  3.64it/s]\n",
      " 18%|██████████████▋                                                                  | 82/453 [00:22<01:40,  3.67it/s]\n",
      " 18%|██████████████▊                                                                  | 83/453 [00:23<01:43,  3.58it/s]\n",
      " 19%|███████████████                                                                  | 84/453 [00:23<01:44,  3.51it/s]\n",
      " 19%|███████████████▏                                                                 | 85/453 [00:23<01:44,  3.53it/s]\n",
      " 19%|███████████████▍                                                                 | 86/453 [00:23<01:42,  3.56it/s]\n",
      " 19%|███████████████▌                                                                 | 87/453 [00:24<01:41,  3.61it/s]\n",
      " 19%|███████████████▋                                                                 | 88/453 [00:24<01:40,  3.63it/s]\n",
      " 20%|███████████████▉                                                                 | 89/453 [00:24<01:39,  3.65it/s]\n",
      " 20%|████████████████                                                                 | 90/453 [00:24<01:38,  3.68it/s]\n",
      " 20%|████████████████▎                                                                | 91/453 [00:25<01:37,  3.70it/s]\n",
      " 20%|████████████████▍                                                                | 92/453 [00:25<01:38,  3.67it/s]\n",
      " 21%|████████████████▋                                                                | 93/453 [00:25<01:38,  3.66it/s]\n",
      " 21%|████████████████▊                                                                | 94/453 [00:26<01:37,  3.69it/s]\n",
      " 21%|████████████████▉                                                                | 95/453 [00:26<01:36,  3.71it/s]\n",
      " 21%|█████████████████▏                                                               | 96/453 [00:26<01:36,  3.71it/s]\n",
      " 21%|█████████████████▎                                                               | 97/453 [00:26<01:36,  3.70it/s]\n",
      " 22%|█████████████████▌                                                               | 98/453 [00:27<01:36,  3.68it/s]\n",
      " 22%|█████████████████▋                                                               | 99/453 [00:27<01:35,  3.69it/s]\n",
      " 22%|█████████████████▋                                                              | 100/453 [00:27<01:39,  3.55it/s]\n",
      " 22%|█████████████████▊                                                              | 101/453 [00:28<01:45,  3.34it/s]\n",
      " 23%|██████████████████                                                              | 102/453 [00:28<01:44,  3.35it/s]\n",
      " 23%|██████████████████▏                                                             | 103/453 [00:28<01:41,  3.43it/s]\n",
      " 23%|██████████████████▎                                                             | 104/453 [00:28<01:40,  3.48it/s]\n",
      " 23%|██████████████████▌                                                             | 105/453 [00:29<01:38,  3.55it/s]\n",
      " 23%|██████████████████▋                                                             | 106/453 [00:29<01:38,  3.54it/s]\n",
      " 24%|██████████████████▉                                                             | 107/453 [00:29<01:38,  3.53it/s]\n",
      " 24%|███████████████████                                                             | 108/453 [00:29<01:35,  3.60it/s]\n",
      " 24%|███████████████████▏                                                            | 109/453 [00:30<01:34,  3.65it/s]\n",
      " 24%|███████████████████▍                                                            | 110/453 [00:30<01:35,  3.61it/s]\n",
      " 25%|███████████████████▌                                                            | 111/453 [00:30<01:33,  3.67it/s]\n",
      " 25%|███████████████████▊                                                            | 112/453 [00:31<01:32,  3.70it/s]\n",
      " 25%|███████████████████▉                                                            | 113/453 [00:31<01:32,  3.69it/s]\n",
      " 25%|████████████████████▏                                                           | 114/453 [00:31<01:31,  3.71it/s]\n",
      " 25%|████████████████████▎                                                           | 115/453 [00:31<01:31,  3.71it/s]\n",
      " 26%|████████████████████▍                                                           | 116/453 [00:32<01:30,  3.71it/s]\n",
      " 26%|████████████████████▋                                                           | 117/453 [00:32<01:30,  3.72it/s]\n",
      " 26%|████████████████████▊                                                           | 118/453 [00:32<01:29,  3.73it/s]\n",
      " 26%|█████████████████████                                                           | 119/453 [00:32<01:30,  3.68it/s]\n",
      " 26%|█████████████████████▏                                                          | 120/453 [00:33<01:30,  3.70it/s]\n",
      " 27%|█████████████████████▎                                                          | 121/453 [00:33<01:28,  3.73it/s]\n",
      " 27%|█████████████████████▌                                                          | 122/453 [00:33<01:30,  3.64it/s]\n",
      " 27%|█████████████████████▋                                                          | 123/453 [00:34<01:29,  3.68it/s]\n",
      " 27%|█████████████████████▉                                                          | 124/453 [00:34<01:29,  3.66it/s]\n",
      " 28%|██████████████████████                                                          | 125/453 [00:34<01:29,  3.67it/s]\n",
      " 28%|██████████████████████▎                                                         | 126/453 [00:34<01:30,  3.63it/s]\n",
      " 28%|██████████████████████▍                                                         | 127/453 [00:35<01:29,  3.63it/s]\n",
      " 28%|██████████████████████▌                                                         | 128/453 [00:35<01:28,  3.66it/s]\n",
      " 28%|██████████████████████▊                                                         | 129/453 [00:35<01:28,  3.68it/s]\n",
      " 29%|██████████████████████▉                                                         | 130/453 [00:35<01:28,  3.65it/s]\n",
      " 29%|███████████████████████▏                                                        | 131/453 [00:36<01:30,  3.55it/s]\n",
      " 29%|███████████████████████▎                                                        | 132/453 [00:36<01:29,  3.60it/s]\n",
      " 29%|███████████████████████▍                                                        | 133/453 [00:36<01:28,  3.63it/s]\n",
      " 30%|███████████████████████▋                                                        | 134/453 [00:37<01:28,  3.60it/s]\n",
      " 30%|███████████████████████▊                                                        | 135/453 [00:37<01:29,  3.54it/s]\n"
     ]
    },
    {
     "name": "stderr",
     "output_type": "stream",
     "text": [
      " 30%|████████████████████████                                                        | 136/453 [00:37<01:29,  3.56it/s]\n",
      " 30%|████████████████████████▏                                                       | 137/453 [00:37<01:27,  3.61it/s]\n",
      " 30%|████████████████████████▎                                                       | 138/453 [00:38<01:29,  3.53it/s]\n",
      " 31%|████████████████████████▌                                                       | 139/453 [00:38<01:26,  3.63it/s]\n",
      " 31%|████████████████████████▋                                                       | 140/453 [00:38<01:26,  3.61it/s]\n",
      " 31%|████████████████████████▉                                                       | 141/453 [00:39<01:25,  3.63it/s]\n",
      " 31%|█████████████████████████                                                       | 142/453 [00:39<01:24,  3.68it/s]\n",
      " 32%|█████████████████████████▎                                                      | 143/453 [00:39<01:23,  3.70it/s]\n",
      " 32%|█████████████████████████▍                                                      | 144/453 [00:39<01:24,  3.67it/s]\n",
      " 32%|█████████████████████████▌                                                      | 145/453 [00:40<01:22,  3.71it/s]\n",
      " 32%|█████████████████████████▊                                                      | 146/453 [00:40<01:22,  3.71it/s]\n",
      " 32%|█████████████████████████▉                                                      | 147/453 [00:40<01:24,  3.61it/s]\n",
      " 33%|██████████████████████████▏                                                     | 148/453 [00:40<01:23,  3.66it/s]\n",
      " 33%|██████████████████████████▎                                                     | 149/453 [00:41<01:22,  3.68it/s]\n",
      " 33%|██████████████████████████▍                                                     | 150/453 [00:41<01:23,  3.62it/s]\n",
      " 33%|██████████████████████████▋                                                     | 151/453 [00:41<01:30,  3.35it/s]\n",
      " 34%|██████████████████████████▊                                                     | 152/453 [00:42<01:32,  3.24it/s]\n",
      " 34%|███████████████████████████                                                     | 153/453 [00:42<01:35,  3.15it/s]\n",
      " 34%|███████████████████████████▏                                                    | 154/453 [00:42<01:32,  3.25it/s]\n",
      " 34%|███████████████████████████▎                                                    | 155/453 [00:43<01:27,  3.40it/s]\n",
      " 34%|███████████████████████████▌                                                    | 156/453 [00:43<01:24,  3.52it/s]\n",
      " 35%|███████████████████████████▋                                                    | 157/453 [00:43<01:22,  3.57it/s]\n",
      " 35%|███████████████████████████▉                                                    | 158/453 [00:43<01:20,  3.64it/s]\n",
      " 35%|████████████████████████████                                                    | 159/453 [00:44<01:22,  3.58it/s]\n",
      " 35%|████████████████████████████▎                                                   | 160/453 [00:44<01:20,  3.66it/s]\n",
      " 36%|████████████████████████████▍                                                   | 161/453 [00:44<01:22,  3.55it/s]\n",
      " 36%|████████████████████████████▌                                                   | 162/453 [00:44<01:20,  3.62it/s]\n",
      " 36%|████████████████████████████▊                                                   | 163/453 [00:45<01:19,  3.66it/s]\n",
      " 36%|████████████████████████████▉                                                   | 164/453 [00:45<01:18,  3.69it/s]\n",
      " 36%|█████████████████████████████▏                                                  | 165/453 [00:45<01:17,  3.71it/s]\n",
      " 37%|█████████████████████████████▎                                                  | 166/453 [00:46<01:16,  3.73it/s]\n",
      " 37%|█████████████████████████████▍                                                  | 167/453 [00:46<01:16,  3.73it/s]\n",
      " 37%|█████████████████████████████▋                                                  | 168/453 [00:46<01:17,  3.69it/s]\n",
      " 37%|█████████████████████████████▊                                                  | 169/453 [00:46<01:16,  3.71it/s]\n",
      " 38%|██████████████████████████████                                                  | 170/453 [00:47<01:15,  3.74it/s]\n",
      " 38%|██████████████████████████████▏                                                 | 171/453 [00:47<01:16,  3.70it/s]\n",
      " 38%|██████████████████████████████▍                                                 | 172/453 [00:47<01:16,  3.66it/s]\n",
      " 38%|██████████████████████████████▌                                                 | 173/453 [00:47<01:16,  3.67it/s]\n",
      " 38%|██████████████████████████████▋                                                 | 174/453 [00:48<01:16,  3.67it/s]\n",
      " 39%|██████████████████████████████▉                                                 | 175/453 [00:48<01:15,  3.70it/s]\n",
      " 39%|███████████████████████████████                                                 | 176/453 [00:48<01:14,  3.74it/s]\n",
      " 39%|███████████████████████████████▎                                                | 177/453 [00:48<01:13,  3.74it/s]\n",
      " 39%|███████████████████████████████▍                                                | 178/453 [00:49<01:13,  3.75it/s]\n",
      " 40%|███████████████████████████████▌                                                | 179/453 [00:49<01:14,  3.68it/s]\n",
      " 40%|███████████████████████████████▊                                                | 180/453 [00:49<01:13,  3.71it/s]\n",
      " 40%|███████████████████████████████▉                                                | 181/453 [00:50<01:12,  3.73it/s]\n",
      " 40%|████████████████████████████████▏                                               | 182/453 [00:50<01:13,  3.67it/s]\n",
      " 40%|████████████████████████████████▎                                               | 183/453 [00:50<01:12,  3.71it/s]\n",
      " 41%|████████████████████████████████▍                                               | 184/453 [00:50<01:13,  3.68it/s]\n",
      " 41%|████████████████████████████████▋                                               | 185/453 [00:51<01:12,  3.72it/s]\n",
      " 41%|████████████████████████████████▊                                               | 186/453 [00:51<01:12,  3.71it/s]\n",
      " 41%|█████████████████████████████████                                               | 187/453 [00:51<01:14,  3.57it/s]\n",
      " 42%|█████████████████████████████████▏                                              | 188/453 [00:51<01:12,  3.65it/s]\n",
      " 42%|█████████████████████████████████▍                                              | 189/453 [00:52<01:14,  3.57it/s]\n",
      " 42%|█████████████████████████████████▌                                              | 190/453 [00:52<01:11,  3.65it/s]\n",
      " 42%|█████████████████████████████████▋                                              | 191/453 [00:52<01:11,  3.69it/s]\n",
      " 42%|█████████████████████████████████▉                                              | 192/453 [00:53<01:12,  3.58it/s]\n",
      " 43%|██████████████████████████████████                                              | 193/453 [00:53<01:12,  3.58it/s]\n",
      " 43%|██████████████████████████████████▎                                             | 194/453 [00:53<01:14,  3.49it/s]\n",
      " 43%|██████████████████████████████████▍                                             | 195/453 [00:53<01:12,  3.53it/s]\n",
      " 43%|██████████████████████████████████▌                                             | 196/453 [00:54<01:11,  3.62it/s]\n",
      " 43%|██████████████████████████████████▊                                             | 197/453 [00:54<01:09,  3.66it/s]\n",
      " 44%|██████████████████████████████████▉                                             | 198/453 [00:54<01:09,  3.68it/s]\n",
      " 44%|███████████████████████████████████▏                                            | 199/453 [00:55<01:09,  3.65it/s]\n",
      " 44%|███████████████████████████████████▎                                            | 200/453 [00:55<01:08,  3.70it/s]\n",
      " 44%|███████████████████████████████████▍                                            | 201/453 [00:55<01:07,  3.73it/s]\n",
      " 45%|███████████████████████████████████▋                                            | 202/453 [00:55<01:07,  3.72it/s]\n",
      " 45%|███████████████████████████████████▊                                            | 203/453 [00:56<01:06,  3.73it/s]\n"
     ]
    },
    {
     "name": "stderr",
     "output_type": "stream",
     "text": [
      " 45%|████████████████████████████████████                                            | 204/453 [00:56<01:06,  3.73it/s]\n",
      " 45%|████████████████████████████████████▏                                           | 205/453 [00:56<01:08,  3.60it/s]\n",
      " 45%|████████████████████████████████████▍                                           | 206/453 [00:56<01:07,  3.67it/s]\n",
      " 46%|████████████████████████████████████▌                                           | 207/453 [00:57<01:07,  3.64it/s]\n",
      " 46%|████████████████████████████████████▋                                           | 208/453 [00:57<01:07,  3.63it/s]\n",
      " 46%|████████████████████████████████████▉                                           | 209/453 [00:57<01:08,  3.58it/s]\n",
      " 46%|█████████████████████████████████████                                           | 210/453 [00:58<01:06,  3.65it/s]\n",
      " 47%|█████████████████████████████████████▎                                          | 211/453 [00:58<01:05,  3.68it/s]\n",
      " 47%|█████████████████████████████████████▍                                          | 212/453 [00:58<01:06,  3.64it/s]\n",
      " 47%|█████████████████████████████████████▌                                          | 213/453 [00:58<01:05,  3.68it/s]\n",
      " 47%|█████████████████████████████████████▊                                          | 214/453 [00:59<01:05,  3.68it/s]\n",
      " 47%|█████████████████████████████████████▉                                          | 215/453 [00:59<01:04,  3.69it/s]\n",
      " 48%|██████████████████████████████████████▏                                         | 216/453 [00:59<01:03,  3.72it/s]\n",
      " 48%|██████████████████████████████████████▎                                         | 217/453 [00:59<01:03,  3.70it/s]\n",
      " 48%|██████████████████████████████████████▍                                         | 218/453 [01:00<01:04,  3.65it/s]\n",
      " 48%|██████████████████████████████████████▋                                         | 219/453 [01:00<01:04,  3.65it/s]\n",
      " 49%|██████████████████████████████████████▊                                         | 220/453 [01:00<01:06,  3.51it/s]\n",
      " 49%|███████████████████████████████████████                                         | 221/453 [01:01<01:05,  3.56it/s]\n",
      " 49%|███████████████████████████████████████▏                                        | 222/453 [01:01<01:06,  3.48it/s]\n",
      " 49%|███████████████████████████████████████▍                                        | 223/453 [01:01<01:06,  3.48it/s]\n",
      " 49%|███████████████████████████████████████▌                                        | 224/453 [01:01<01:04,  3.56it/s]\n",
      " 50%|███████████████████████████████████████▋                                        | 225/453 [01:02<01:03,  3.59it/s]\n",
      " 50%|███████████████████████████████████████▉                                        | 226/453 [01:02<01:02,  3.65it/s]\n",
      " 50%|████████████████████████████████████████                                        | 227/453 [01:02<01:02,  3.62it/s]\n",
      " 50%|████████████████████████████████████████▎                                       | 228/453 [01:02<01:01,  3.65it/s]\n",
      " 51%|████████████████████████████████████████▍                                       | 229/453 [01:03<01:01,  3.65it/s]\n",
      " 51%|████████████████████████████████████████▌                                       | 230/453 [01:03<01:00,  3.68it/s]\n",
      " 51%|████████████████████████████████████████▊                                       | 231/453 [01:03<01:01,  3.59it/s]\n",
      " 51%|████████████████████████████████████████▉                                       | 232/453 [01:04<01:00,  3.65it/s]\n",
      " 51%|█████████████████████████████████████████▏                                      | 233/453 [01:04<00:59,  3.68it/s]\n",
      " 52%|█████████████████████████████████████████▎                                      | 234/453 [01:04<00:59,  3.71it/s]\n",
      " 52%|█████████████████████████████████████████▌                                      | 235/453 [01:04<00:58,  3.74it/s]\n",
      " 52%|█████████████████████████████████████████▋                                      | 236/453 [01:05<00:58,  3.71it/s]\n",
      " 52%|█████████████████████████████████████████▊                                      | 237/453 [01:05<01:00,  3.55it/s]\n",
      " 53%|██████████████████████████████████████████                                      | 238/453 [01:05<00:59,  3.62it/s]\n",
      " 53%|██████████████████████████████████████████▏                                     | 239/453 [01:06<00:59,  3.62it/s]\n",
      " 53%|██████████████████████████████████████████▍                                     | 240/453 [01:06<00:57,  3.68it/s]\n",
      " 53%|██████████████████████████████████████████▌                                     | 241/453 [01:06<00:57,  3.72it/s]\n",
      " 53%|██████████████████████████████████████████▋                                     | 242/453 [01:06<00:56,  3.74it/s]\n",
      " 54%|██████████████████████████████████████████▉                                     | 243/453 [01:07<00:57,  3.66it/s]\n",
      " 54%|███████████████████████████████████████████                                     | 244/453 [01:07<00:56,  3.70it/s]\n",
      " 54%|███████████████████████████████████████████▎                                    | 245/453 [01:07<00:56,  3.69it/s]\n",
      " 54%|███████████████████████████████████████████▍                                    | 246/453 [01:07<00:56,  3.66it/s]\n",
      " 55%|███████████████████████████████████████████▌                                    | 247/453 [01:08<00:57,  3.56it/s]\n",
      " 55%|███████████████████████████████████████████▊                                    | 248/453 [01:08<00:56,  3.64it/s]\n",
      " 55%|███████████████████████████████████████████▉                                    | 249/453 [01:08<00:55,  3.70it/s]\n",
      " 55%|████████████████████████████████████████████▏                                   | 250/453 [01:08<00:54,  3.71it/s]\n",
      " 55%|████████████████████████████████████████████▎                                   | 251/453 [01:09<00:54,  3.71it/s]\n",
      " 56%|████████████████████████████████████████████▌                                   | 252/453 [01:09<00:54,  3.70it/s]\n",
      " 56%|████████████████████████████████████████████▋                                   | 253/453 [01:09<00:54,  3.69it/s]\n",
      " 56%|████████████████████████████████████████████▊                                   | 254/453 [01:10<00:53,  3.72it/s]\n",
      " 56%|█████████████████████████████████████████████                                   | 255/453 [01:10<00:53,  3.70it/s]\n",
      " 57%|█████████████████████████████████████████████▏                                  | 256/453 [01:10<00:55,  3.58it/s]\n",
      " 57%|█████████████████████████████████████████████▍                                  | 257/453 [01:10<00:53,  3.64it/s]\n",
      " 57%|█████████████████████████████████████████████▌                                  | 258/453 [01:11<00:53,  3.63it/s]\n",
      " 57%|█████████████████████████████████████████████▋                                  | 259/453 [01:11<00:52,  3.67it/s]\n",
      " 57%|█████████████████████████████████████████████▉                                  | 260/453 [01:11<00:52,  3.70it/s]\n",
      " 58%|██████████████████████████████████████████████                                  | 261/453 [01:12<00:53,  3.57it/s]\n",
      " 58%|██████████████████████████████████████████████▎                                 | 262/453 [01:12<00:52,  3.65it/s]\n",
      " 58%|██████████████████████████████████████████████▍                                 | 263/453 [01:12<00:53,  3.53it/s]\n",
      " 58%|██████████████████████████████████████████████▌                                 | 264/453 [01:12<00:57,  3.30it/s]\n",
      " 58%|██████████████████████████████████████████████▊                                 | 265/453 [01:13<00:59,  3.18it/s]\n",
      " 59%|██████████████████████████████████████████████▉                                 | 266/453 [01:13<01:01,  3.05it/s]\n",
      " 59%|███████████████████████████████████████████████▏                                | 267/453 [01:13<00:57,  3.26it/s]\n",
      " 59%|███████████████████████████████████████████████▎                                | 268/453 [01:14<00:55,  3.36it/s]\n",
      " 59%|███████████████████████████████████████████████▌                                | 269/453 [01:14<00:53,  3.41it/s]\n",
      " 60%|███████████████████████████████████████████████▋                                | 270/453 [01:14<00:52,  3.51it/s]\n",
      " 60%|███████████████████████████████████████████████▊                                | 271/453 [01:14<00:50,  3.58it/s]\n"
     ]
    },
    {
     "name": "stderr",
     "output_type": "stream",
     "text": [
      " 60%|████████████████████████████████████████████████                                | 272/453 [01:15<00:50,  3.59it/s]\n",
      " 60%|████████████████████████████████████████████████▏                               | 273/453 [01:15<00:49,  3.64it/s]\n",
      " 60%|████████████████████████████████████████████████▍                               | 274/453 [01:15<00:50,  3.56it/s]\n",
      " 61%|████████████████████████████████████████████████▌                               | 275/453 [01:16<00:49,  3.61it/s]\n",
      " 61%|████████████████████████████████████████████████▋                               | 276/453 [01:16<00:48,  3.62it/s]\n",
      " 61%|████████████████████████████████████████████████▉                               | 277/453 [01:16<00:47,  3.67it/s]\n",
      " 61%|█████████████████████████████████████████████████                               | 278/453 [01:16<00:48,  3.64it/s]\n",
      " 62%|█████████████████████████████████████████████████▎                              | 279/453 [01:17<00:47,  3.63it/s]\n",
      " 62%|█████████████████████████████████████████████████▍                              | 280/453 [01:17<00:47,  3.63it/s]\n",
      " 62%|█████████████████████████████████████████████████▌                              | 281/453 [01:17<00:47,  3.64it/s]\n",
      " 62%|█████████████████████████████████████████████████▊                              | 282/453 [01:17<00:46,  3.67it/s]\n",
      " 62%|█████████████████████████████████████████████████▉                              | 283/453 [01:18<00:46,  3.68it/s]\n",
      " 63%|██████████████████████████████████████████████████▏                             | 284/453 [01:18<00:45,  3.71it/s]\n",
      " 63%|██████████████████████████████████████████████████▎                             | 285/453 [01:18<00:45,  3.73it/s]\n",
      " 63%|██████████████████████████████████████████████████▌                             | 286/453 [01:19<00:44,  3.73it/s]\n",
      " 63%|██████████████████████████████████████████████████▋                             | 287/453 [01:19<00:45,  3.66it/s]\n",
      " 64%|██████████████████████████████████████████████████▊                             | 288/453 [01:19<00:48,  3.43it/s]\n",
      " 64%|███████████████████████████████████████████████████                             | 289/453 [01:19<00:47,  3.47it/s]\n",
      " 64%|███████████████████████████████████████████████████▏                            | 290/453 [01:20<00:46,  3.50it/s]\n",
      " 64%|███████████████████████████████████████████████████▍                            | 291/453 [01:20<00:45,  3.53it/s]\n",
      " 64%|███████████████████████████████████████████████████▌                            | 292/453 [01:20<00:45,  3.55it/s]\n",
      " 65%|███████████████████████████████████████████████████▋                            | 293/453 [01:21<00:45,  3.52it/s]\n",
      " 65%|███████████████████████████████████████████████████▉                            | 294/453 [01:21<00:44,  3.58it/s]\n",
      " 65%|████████████████████████████████████████████████████                            | 295/453 [01:21<00:43,  3.60it/s]\n",
      " 65%|████████████████████████████████████████████████████▎                           | 296/453 [01:21<00:43,  3.60it/s]\n",
      " 66%|████████████████████████████████████████████████████▍                           | 297/453 [01:22<00:42,  3.63it/s]\n",
      " 66%|████████████████████████████████████████████████████▋                           | 298/453 [01:22<00:43,  3.60it/s]\n",
      " 66%|████████████████████████████████████████████████████▊                           | 299/453 [01:22<00:42,  3.59it/s]\n",
      " 66%|████████████████████████████████████████████████████▉                           | 300/453 [01:23<00:43,  3.56it/s]\n",
      " 66%|█████████████████████████████████████████████████████▏                          | 301/453 [01:23<00:42,  3.61it/s]\n",
      " 67%|█████████████████████████████████████████████████████▎                          | 302/453 [01:23<00:42,  3.56it/s]\n",
      " 67%|█████████████████████████████████████████████████████▌                          | 303/453 [01:23<00:41,  3.60it/s]\n",
      " 67%|█████████████████████████████████████████████████████▋                          | 304/453 [01:24<00:40,  3.64it/s]\n",
      " 67%|█████████████████████████████████████████████████████▊                          | 305/453 [01:24<00:41,  3.57it/s]\n",
      " 68%|██████████████████████████████████████████████████████                          | 306/453 [01:24<00:40,  3.60it/s]\n",
      " 68%|██████████████████████████████████████████████████████▏                         | 307/453 [01:24<00:40,  3.60it/s]\n",
      " 68%|██████████████████████████████████████████████████████▍                         | 308/453 [01:25<00:39,  3.65it/s]\n",
      " 68%|██████████████████████████████████████████████████████▌                         | 309/453 [01:25<00:39,  3.64it/s]\n",
      " 68%|██████████████████████████████████████████████████████▋                         | 310/453 [01:25<00:39,  3.64it/s]\n",
      " 69%|██████████████████████████████████████████████████████▉                         | 311/453 [01:26<00:40,  3.53it/s]\n",
      " 69%|███████████████████████████████████████████████████████                         | 312/453 [01:26<00:39,  3.60it/s]\n",
      " 69%|███████████████████████████████████████████████████████▎                        | 313/453 [01:26<00:40,  3.48it/s]\n",
      " 69%|███████████████████████████████████████████████████████▍                        | 314/453 [01:26<00:39,  3.53it/s]\n",
      " 70%|███████████████████████████████████████████████████████▋                        | 315/453 [01:27<00:39,  3.47it/s]\n",
      " 70%|███████████████████████████████████████████████████████▊                        | 316/453 [01:27<00:39,  3.46it/s]\n",
      " 70%|███████████████████████████████████████████████████████▉                        | 317/453 [01:27<00:39,  3.46it/s]\n",
      " 70%|████████████████████████████████████████████████████████▏                       | 318/453 [01:28<00:38,  3.51it/s]\n",
      " 70%|████████████████████████████████████████████████████████▎                       | 319/453 [01:28<00:38,  3.47it/s]\n",
      " 71%|████████████████████████████████████████████████████████▌                       | 320/453 [01:28<00:37,  3.55it/s]\n",
      " 71%|████████████████████████████████████████████████████████▋                       | 321/453 [01:28<00:38,  3.46it/s]\n",
      " 71%|████████████████████████████████████████████████████████▊                       | 322/453 [01:29<00:37,  3.51it/s]\n",
      " 71%|█████████████████████████████████████████████████████████                       | 323/453 [01:29<00:37,  3.48it/s]\n",
      " 72%|█████████████████████████████████████████████████████████▏                      | 324/453 [01:29<00:36,  3.50it/s]\n",
      " 72%|█████████████████████████████████████████████████████████▍                      | 325/453 [01:30<00:36,  3.52it/s]\n",
      " 72%|█████████████████████████████████████████████████████████▌                      | 326/453 [01:30<00:35,  3.54it/s]\n",
      " 72%|█████████████████████████████████████████████████████████▋                      | 327/453 [01:30<00:35,  3.59it/s]\n",
      " 72%|█████████████████████████████████████████████████████████▉                      | 328/453 [01:30<00:35,  3.49it/s]\n",
      " 73%|██████████████████████████████████████████████████████████                      | 329/453 [01:31<00:34,  3.57it/s]\n",
      " 73%|██████████████████████████████████████████████████████████▎                     | 330/453 [01:31<00:34,  3.59it/s]\n",
      " 73%|██████████████████████████████████████████████████████████▍                     | 331/453 [01:31<00:33,  3.62it/s]\n",
      " 73%|██████████████████████████████████████████████████████████▋                     | 332/453 [01:32<00:33,  3.66it/s]\n",
      " 74%|██████████████████████████████████████████████████████████▊                     | 333/453 [01:32<00:33,  3.54it/s]\n",
      " 74%|██████████████████████████████████████████████████████████▉                     | 334/453 [01:32<00:32,  3.62it/s]\n",
      " 74%|███████████████████████████████████████████████████████████▏                    | 335/453 [01:32<00:32,  3.62it/s]\n",
      " 74%|███████████████████████████████████████████████████████████▎                    | 336/453 [01:33<00:32,  3.63it/s]\n",
      " 74%|███████████████████████████████████████████████████████████▌                    | 337/453 [01:33<00:31,  3.66it/s]\n",
      " 75%|███████████████████████████████████████████████████████████▋                    | 338/453 [01:33<00:31,  3.62it/s]\n",
      " 75%|███████████████████████████████████████████████████████████▊                    | 339/453 [01:33<00:31,  3.60it/s]\n"
     ]
    },
    {
     "name": "stderr",
     "output_type": "stream",
     "text": [
      " 75%|████████████████████████████████████████████████████████████                    | 340/453 [01:34<00:31,  3.64it/s]\n",
      " 75%|████████████████████████████████████████████████████████████▏                   | 341/453 [01:34<00:30,  3.65it/s]\n",
      " 75%|████████████████████████████████████████████████████████████▍                   | 342/453 [01:34<00:30,  3.62it/s]\n",
      " 76%|████████████████████████████████████████████████████████████▌                   | 343/453 [01:35<00:29,  3.68it/s]\n",
      " 76%|████████████████████████████████████████████████████████████▊                   | 344/453 [01:35<00:29,  3.63it/s]\n",
      " 76%|████████████████████████████████████████████████████████████▉                   | 345/453 [01:35<00:29,  3.61it/s]\n",
      " 76%|█████████████████████████████████████████████████████████████                   | 346/453 [01:35<00:29,  3.63it/s]\n",
      " 77%|█████████████████████████████████████████████████████████████▎                  | 347/453 [01:36<00:29,  3.58it/s]\n",
      " 77%|█████████████████████████████████████████████████████████████▍                  | 348/453 [01:36<00:28,  3.63it/s]\n",
      " 77%|█████████████████████████████████████████████████████████████▋                  | 349/453 [01:36<00:28,  3.66it/s]\n",
      " 77%|█████████████████████████████████████████████████████████████▊                  | 350/453 [01:36<00:28,  3.65it/s]\n",
      " 77%|█████████████████████████████████████████████████████████████▉                  | 351/453 [01:37<00:28,  3.63it/s]\n",
      " 78%|██████████████████████████████████████████████████████████████▏                 | 352/453 [01:37<00:27,  3.62it/s]\n",
      " 78%|██████████████████████████████████████████████████████████████▎                 | 353/453 [01:37<00:27,  3.67it/s]\n",
      " 78%|██████████████████████████████████████████████████████████████▌                 | 354/453 [01:38<00:26,  3.70it/s]\n",
      " 78%|██████████████████████████████████████████████████████████████▋                 | 355/453 [01:38<00:26,  3.68it/s]\n",
      " 79%|██████████████████████████████████████████████████████████████▊                 | 356/453 [01:38<00:26,  3.72it/s]\n",
      " 79%|███████████████████████████████████████████████████████████████                 | 357/453 [01:38<00:25,  3.74it/s]\n",
      " 79%|███████████████████████████████████████████████████████████████▏                | 358/453 [01:39<00:25,  3.70it/s]\n",
      " 79%|███████████████████████████████████████████████████████████████▍                | 359/453 [01:39<00:25,  3.69it/s]\n",
      " 79%|███████████████████████████████████████████████████████████████▌                | 360/453 [01:39<00:25,  3.71it/s]\n",
      " 80%|███████████████████████████████████████████████████████████████▊                | 361/453 [01:39<00:25,  3.57it/s]\n",
      " 80%|███████████████████████████████████████████████████████████████▉                | 362/453 [01:40<00:24,  3.65it/s]\n",
      " 80%|████████████████████████████████████████████████████████████████                | 363/453 [01:40<00:24,  3.67it/s]\n",
      " 80%|████████████████████████████████████████████████████████████████▎               | 364/453 [01:40<00:24,  3.62it/s]\n",
      " 81%|████████████████████████████████████████████████████████████████▍               | 365/453 [01:41<00:24,  3.66it/s]\n",
      " 81%|████████████████████████████████████████████████████████████████▋               | 366/453 [01:41<00:23,  3.71it/s]\n",
      " 81%|████████████████████████████████████████████████████████████████▊               | 367/453 [01:41<00:23,  3.71it/s]\n",
      " 81%|████████████████████████████████████████████████████████████████▉               | 368/453 [01:41<00:22,  3.74it/s]\n",
      " 81%|█████████████████████████████████████████████████████████████████▏              | 369/453 [01:42<00:22,  3.70it/s]\n",
      " 82%|█████████████████████████████████████████████████████████████████▎              | 370/453 [01:42<00:22,  3.72it/s]\n",
      " 82%|█████████████████████████████████████████████████████████████████▌              | 371/453 [01:42<00:22,  3.67it/s]\n",
      " 82%|█████████████████████████████████████████████████████████████████▋              | 372/453 [01:42<00:21,  3.71it/s]\n",
      " 82%|█████████████████████████████████████████████████████████████████▊              | 373/453 [01:43<00:21,  3.71it/s]\n",
      " 83%|██████████████████████████████████████████████████████████████████              | 374/453 [01:43<00:21,  3.61it/s]\n",
      " 83%|██████████████████████████████████████████████████████████████████▏             | 375/453 [01:43<00:22,  3.40it/s]\n",
      " 83%|██████████████████████████████████████████████████████████████████▍             | 376/453 [01:44<00:23,  3.24it/s]\n",
      " 83%|██████████████████████████████████████████████████████████████████▌             | 377/453 [01:44<00:24,  3.16it/s]\n",
      " 83%|██████████████████████████████████████████████████████████████████▊             | 378/453 [01:44<00:23,  3.23it/s]\n",
      " 84%|██████████████████████████████████████████████████████████████████▉             | 379/453 [01:45<00:22,  3.36it/s]\n",
      " 84%|███████████████████████████████████████████████████████████████████             | 380/453 [01:45<00:21,  3.40it/s]\n",
      " 84%|███████████████████████████████████████████████████████████████████▎            | 381/453 [01:45<00:20,  3.44it/s]\n",
      " 84%|███████████████████████████████████████████████████████████████████▍            | 382/453 [01:45<00:19,  3.56it/s]\n",
      " 85%|███████████████████████████████████████████████████████████████████▋            | 383/453 [01:46<00:19,  3.57it/s]\n",
      " 85%|███████████████████████████████████████████████████████████████████▊            | 384/453 [01:46<00:19,  3.57it/s]\n",
      " 85%|███████████████████████████████████████████████████████████████████▉            | 385/453 [01:46<00:18,  3.61it/s]\n",
      " 85%|████████████████████████████████████████████████████████████████████▏           | 386/453 [01:47<00:18,  3.62it/s]\n",
      " 85%|████████████████████████████████████████████████████████████████████▎           | 387/453 [01:47<00:18,  3.57it/s]\n",
      " 86%|████████████████████████████████████████████████████████████████████▌           | 388/453 [01:47<00:17,  3.63it/s]\n",
      " 86%|████████████████████████████████████████████████████████████████████▋           | 389/453 [01:47<00:17,  3.65it/s]\n",
      " 86%|████████████████████████████████████████████████████████████████████▊           | 390/453 [01:48<00:17,  3.62it/s]\n",
      " 86%|█████████████████████████████████████████████████████████████████████           | 391/453 [01:48<00:16,  3.67it/s]\n",
      " 87%|█████████████████████████████████████████████████████████████████████▏          | 392/453 [01:48<00:16,  3.67it/s]\n",
      " 87%|█████████████████████████████████████████████████████████████████████▍          | 393/453 [01:48<00:16,  3.54it/s]\n",
      " 87%|█████████████████████████████████████████████████████████████████████▌          | 394/453 [01:49<00:16,  3.62it/s]\n",
      " 87%|█████████████████████████████████████████████████████████████████████▊          | 395/453 [01:49<00:15,  3.63it/s]\n",
      " 87%|█████████████████████████████████████████████████████████████████████▉          | 396/453 [01:49<00:15,  3.62it/s]\n",
      " 88%|██████████████████████████████████████████████████████████████████████          | 397/453 [01:50<00:15,  3.65it/s]\n",
      " 88%|██████████████████████████████████████████████████████████████████████▎         | 398/453 [01:50<00:15,  3.50it/s]\n",
      " 88%|██████████████████████████████████████████████████████████████████████▍         | 399/453 [01:50<00:15,  3.59it/s]\n",
      " 88%|██████████████████████████████████████████████████████████████████████▋         | 400/453 [01:50<00:14,  3.60it/s]\n",
      " 89%|██████████████████████████████████████████████████████████████████████▊         | 401/453 [01:51<00:14,  3.64it/s]\n",
      " 89%|██████████████████████████████████████████████████████████████████████▉         | 402/453 [01:51<00:13,  3.69it/s]\n",
      " 89%|███████████████████████████████████████████████████████████████████████▏        | 403/453 [01:51<00:13,  3.72it/s]\n",
      " 89%|███████████████████████████████████████████████████████████████████████▎        | 404/453 [01:51<00:13,  3.71it/s]\n",
      " 89%|███████████████████████████████████████████████████████████████████████▌        | 405/453 [01:52<00:12,  3.73it/s]\n",
      " 90%|███████████████████████████████████████████████████████████████████████▋        | 406/453 [01:52<00:12,  3.71it/s]\n",
      " 90%|███████████████████████████████████████████████████████████████████████▉        | 407/453 [01:52<00:12,  3.69it/s]\n"
     ]
    },
    {
     "name": "stderr",
     "output_type": "stream",
     "text": [
      " 90%|████████████████████████████████████████████████████████████████████████        | 408/453 [01:53<00:12,  3.65it/s]\n",
      " 90%|████████████████████████████████████████████████████████████████████████▏       | 409/453 [01:53<00:12,  3.64it/s]\n",
      " 91%|████████████████████████████████████████████████████████████████████████▍       | 410/453 [01:53<00:11,  3.67it/s]\n",
      " 91%|████████████████████████████████████████████████████████████████████████▌       | 411/453 [01:53<00:11,  3.69it/s]\n",
      " 91%|████████████████████████████████████████████████████████████████████████▊       | 412/453 [01:54<00:11,  3.66it/s]\n",
      " 91%|████████████████████████████████████████████████████████████████████████▉       | 413/453 [01:54<00:11,  3.53it/s]\n",
      " 91%|█████████████████████████████████████████████████████████████████████████       | 414/453 [01:54<00:10,  3.63it/s]\n",
      " 92%|█████████████████████████████████████████████████████████████████████████▎      | 415/453 [01:54<00:10,  3.65it/s]\n",
      " 92%|█████████████████████████████████████████████████████████████████████████▍      | 416/453 [01:55<00:10,  3.68it/s]\n",
      " 92%|█████████████████████████████████████████████████████████████████████████▋      | 417/453 [01:55<00:09,  3.69it/s]\n",
      " 92%|█████████████████████████████████████████████████████████████████████████▊      | 418/453 [01:55<00:09,  3.69it/s]\n",
      " 92%|█████████████████████████████████████████████████████████████████████████▉      | 419/453 [01:56<00:09,  3.68it/s]\n",
      " 93%|██████████████████████████████████████████████████████████████████████████▏     | 420/453 [01:56<00:08,  3.71it/s]\n",
      " 93%|██████████████████████████████████████████████████████████████████████████▎     | 421/453 [01:56<00:08,  3.72it/s]\n",
      " 93%|██████████████████████████████████████████████████████████████████████████▌     | 422/453 [01:56<00:08,  3.72it/s]\n",
      " 93%|██████████████████████████████████████████████████████████████████████████▋     | 423/453 [01:57<00:08,  3.67it/s]\n",
      " 94%|██████████████████████████████████████████████████████████████████████████▉     | 424/453 [01:57<00:07,  3.68it/s]\n",
      " 94%|███████████████████████████████████████████████████████████████████████████     | 425/453 [01:57<00:07,  3.56it/s]\n",
      " 94%|███████████████████████████████████████████████████████████████████████████▏    | 426/453 [01:57<00:07,  3.61it/s]\n",
      " 94%|███████████████████████████████████████████████████████████████████████████▍    | 427/453 [01:58<00:07,  3.59it/s]\n",
      " 94%|███████████████████████████████████████████████████████████████████████████▌    | 428/453 [01:58<00:06,  3.59it/s]\n",
      " 95%|███████████████████████████████████████████████████████████████████████████▊    | 429/453 [01:58<00:06,  3.62it/s]\n",
      " 95%|███████████████████████████████████████████████████████████████████████████▉    | 430/453 [01:59<00:06,  3.58it/s]\n",
      " 95%|████████████████████████████████████████████████████████████████████████████    | 431/453 [01:59<00:06,  3.51it/s]\n",
      " 95%|████████████████████████████████████████████████████████████████████████████▎   | 432/453 [01:59<00:05,  3.51it/s]\n",
      " 96%|████████████████████████████████████████████████████████████████████████████▍   | 433/453 [01:59<00:05,  3.56it/s]\n",
      " 96%|████████████████████████████████████████████████████████████████████████████▋   | 434/453 [02:00<00:05,  3.58it/s]\n",
      " 96%|████████████████████████████████████████████████████████████████████████████▊   | 435/453 [02:00<00:04,  3.61it/s]\n",
      " 96%|████████████████████████████████████████████████████████████████████████████▉   | 436/453 [02:00<00:04,  3.61it/s]\n",
      " 96%|█████████████████████████████████████████████████████████████████████████████▏  | 437/453 [02:01<00:04,  3.63it/s]\n",
      " 97%|█████████████████████████████████████████████████████████████████████████████▎  | 438/453 [02:01<00:04,  3.65it/s]\n",
      " 97%|█████████████████████████████████████████████████████████████████████████████▌  | 439/453 [02:01<00:03,  3.69it/s]\n",
      " 97%|█████████████████████████████████████████████████████████████████████████████▋  | 440/453 [02:01<00:03,  3.65it/s]\n",
      " 97%|█████████████████████████████████████████████████████████████████████████████▉  | 441/453 [02:02<00:03,  3.60it/s]\n",
      " 98%|██████████████████████████████████████████████████████████████████████████████  | 442/453 [02:02<00:03,  3.61it/s]\n",
      " 98%|██████████████████████████████████████████████████████████████████████████████▏ | 443/453 [02:02<00:02,  3.66it/s]\n",
      " 98%|██████████████████████████████████████████████████████████████████████████████▍ | 444/453 [02:02<00:02,  3.64it/s]\n",
      " 98%|██████████████████████████████████████████████████████████████████████████████▌ | 445/453 [02:03<00:02,  3.68it/s]\n",
      " 98%|██████████████████████████████████████████████████████████████████████████████▊ | 446/453 [02:03<00:01,  3.68it/s]\n",
      " 99%|██████████████████████████████████████████████████████████████████████████████▉ | 447/453 [02:03<00:01,  3.67it/s]\n",
      " 99%|███████████████████████████████████████████████████████████████████████████████ | 448/453 [02:04<00:01,  3.67it/s]\n",
      " 99%|███████████████████████████████████████████████████████████████████████████████▎| 449/453 [02:04<00:01,  3.65it/s]\n",
      " 99%|███████████████████████████████████████████████████████████████████████████████▍| 450/453 [02:04<00:00,  3.69it/s]\n",
      "100%|███████████████████████████████████████████████████████████████████████████████▋| 451/453 [02:04<00:00,  3.70it/s]\n",
      "100%|███████████████████████████████████████████████████████████████████████████████▊| 452/453 [02:05<00:00,  3.67it/s]\n",
      "100%|████████████████████████████████████████████████████████████████████████████████| 453/453 [02:05<00:00,  3.90it/s]"
     ]
    },
    {
     "name": "stdout",
     "output_type": "stream",
     "text": [
      "phase Loss: 0.0127 Acc: 0.8522\n"
     ]
    },
    {
     "name": "stderr",
     "output_type": "stream",
     "text": [
      "\n",
      "  0%|                                                                                           | 0/80 [00:00<?, ?it/s]\n",
      "  1%|█                                                                                  | 1/80 [00:00<00:13,  5.97it/s]\n",
      "  2%|██                                                                                 | 2/80 [00:00<00:12,  6.11it/s]\n",
      "  4%|███                                                                                | 3/80 [00:00<00:12,  5.93it/s]\n",
      "  5%|████▏                                                                              | 4/80 [00:00<00:12,  6.00it/s]\n",
      "  6%|█████▏                                                                             | 5/80 [00:00<00:12,  6.17it/s]\n",
      "  8%|██████▏                                                                            | 6/80 [00:00<00:12,  6.10it/s]\n",
      "  9%|███████▎                                                                           | 7/80 [00:01<00:11,  6.10it/s]\n",
      " 10%|████████▎                                                                          | 8/80 [00:01<00:11,  6.30it/s]\n",
      " 11%|█████████▎                                                                         | 9/80 [00:01<00:11,  6.41it/s]\n",
      " 12%|██████████▎                                                                       | 10/80 [00:01<00:10,  6.55it/s]\n",
      " 14%|███████████▎                                                                      | 11/80 [00:01<00:10,  6.59it/s]\n",
      " 15%|████████████▎                                                                     | 12/80 [00:01<00:10,  6.49it/s]\n",
      " 16%|█████████████▎                                                                    | 13/80 [00:02<00:10,  6.30it/s]\n",
      " 18%|██████████████▎                                                                   | 14/80 [00:02<00:10,  6.24it/s]\n",
      " 19%|███████████████▍                                                                  | 15/80 [00:02<00:10,  6.38it/s]\n",
      " 20%|████████████████▍                                                                 | 16/80 [00:02<00:09,  6.46it/s]\n",
      " 21%|█████████████████▍                                                                | 17/80 [00:02<00:09,  6.33it/s]\n",
      " 22%|██████████████████▍                                                               | 18/80 [00:02<00:09,  6.33it/s]\n",
      " 24%|███████████████████▍                                                              | 19/80 [00:02<00:09,  6.51it/s]\n",
      " 25%|████████████████████▌                                                             | 20/80 [00:03<00:09,  6.52it/s]\n",
      " 26%|█████████████████████▌                                                            | 21/80 [00:03<00:08,  6.58it/s]\n",
      " 28%|██████████████████████▌                                                           | 22/80 [00:03<00:08,  6.60it/s]\n",
      " 29%|███████████████████████▌                                                          | 23/80 [00:03<00:08,  6.61it/s]\n",
      " 30%|████████████████████████▌                                                         | 24/80 [00:03<00:08,  6.65it/s]\n",
      " 31%|█████████████████████████▋                                                        | 25/80 [00:03<00:08,  6.59it/s]\n",
      " 32%|██████████████████████████▋                                                       | 26/80 [00:04<00:08,  6.59it/s]\n",
      " 34%|███████████████████████████▋                                                      | 27/80 [00:04<00:08,  6.61it/s]\n",
      " 35%|████████████████████████████▋                                                     | 28/80 [00:04<00:07,  6.51it/s]\n",
      " 36%|█████████████████████████████▋                                                    | 29/80 [00:04<00:07,  6.46it/s]\n",
      " 38%|██████████████████████████████▊                                                   | 30/80 [00:04<00:07,  6.55it/s]\n",
      " 39%|███████████████████████████████▊                                                  | 31/80 [00:04<00:07,  6.21it/s]\n",
      " 40%|████████████████████████████████▊                                                 | 32/80 [00:05<00:07,  6.33it/s]\n",
      " 41%|█████████████████████████████████▊                                                | 33/80 [00:05<00:07,  6.45it/s]\n",
      " 42%|██████████████████████████████████▊                                               | 34/80 [00:05<00:07,  6.44it/s]\n",
      " 44%|███████████████████████████████████▉                                              | 35/80 [00:05<00:06,  6.47it/s]\n",
      " 45%|████████████████████████████████████▉                                             | 36/80 [00:05<00:06,  6.34it/s]\n",
      " 46%|█████████████████████████████████████▉                                            | 37/80 [00:05<00:06,  6.33it/s]\n",
      " 48%|██████████████████████████████████████▉                                           | 38/80 [00:05<00:06,  6.38it/s]\n",
      " 49%|███████████████████████████████████████▉                                          | 39/80 [00:06<00:06,  6.44it/s]\n",
      " 50%|█████████████████████████████████████████                                         | 40/80 [00:06<00:06,  6.35it/s]\n",
      " 51%|██████████████████████████████████████████                                        | 41/80 [00:06<00:06,  6.45it/s]\n",
      " 52%|███████████████████████████████████████████                                       | 42/80 [00:06<00:05,  6.51it/s]\n",
      " 54%|████████████████████████████████████████████                                      | 43/80 [00:06<00:05,  6.57it/s]\n",
      " 55%|█████████████████████████████████████████████                                     | 44/80 [00:06<00:05,  6.66it/s]\n",
      " 56%|██████████████████████████████████████████████▏                                   | 45/80 [00:06<00:05,  6.64it/s]\n",
      " 57%|███████████████████████████████████████████████▏                                  | 46/80 [00:07<00:05,  6.63it/s]\n",
      " 59%|████████████████████████████████████████████████▏                                 | 47/80 [00:07<00:05,  6.37it/s]\n",
      " 60%|█████████████████████████████████████████████████▏                                | 48/80 [00:07<00:04,  6.43it/s]\n",
      " 61%|██████████████████████████████████████████████████▏                               | 49/80 [00:07<00:04,  6.49it/s]\n",
      " 62%|███████████████████████████████████████████████████▎                              | 50/80 [00:07<00:04,  6.47it/s]\n",
      " 64%|████████████████████████████████████████████████████▎                             | 51/80 [00:07<00:04,  6.46it/s]\n",
      " 65%|█████████████████████████████████████████████████████▎                            | 52/80 [00:08<00:04,  6.49it/s]\n",
      " 66%|██████████████████████████████████████████████████████▎                           | 53/80 [00:08<00:04,  6.40it/s]\n",
      " 68%|███████████████████████████████████████████████████████▎                          | 54/80 [00:08<00:04,  6.34it/s]\n",
      " 69%|████████████████████████████████████████████████████████▍                         | 55/80 [00:08<00:03,  6.51it/s]\n",
      " 70%|█████████████████████████████████████████████████████████▍                        | 56/80 [00:08<00:03,  6.51it/s]\n",
      " 71%|██████████████████████████████████████████████████████████▍                       | 57/80 [00:08<00:03,  6.56it/s]\n",
      " 72%|███████████████████████████████████████████████████████████▍                      | 58/80 [00:09<00:03,  6.48it/s]\n",
      " 74%|████████████████████████████████████████████████████████████▍                     | 59/80 [00:09<00:03,  5.79it/s]\n",
      " 75%|█████████████████████████████████████████████████████████████▌                    | 60/80 [00:09<00:03,  5.30it/s]\n",
      " 76%|██████████████████████████████████████████████████████████████▌                   | 61/80 [00:09<00:03,  5.06it/s]\n",
      " 78%|███████████████████████████████████████████████████████████████▌                  | 62/80 [00:09<00:03,  4.85it/s]\n",
      " 79%|████████████████████████████████████████████████████████████████▌                 | 63/80 [00:10<00:03,  4.73it/s]\n",
      " 80%|█████████████████████████████████████████████████████████████████▌                | 64/80 [00:10<00:03,  5.01it/s]\n",
      " 81%|██████████████████████████████████████████████████████████████████▋               | 65/80 [00:10<00:02,  5.41it/s]\n",
      " 82%|███████████████████████████████████████████████████████████████████▋              | 66/80 [00:10<00:02,  5.64it/s]\n",
      " 84%|████████████████████████████████████████████████████████████████████▋             | 67/80 [00:10<00:02,  5.93it/s]\n"
     ]
    },
    {
     "name": "stderr",
     "output_type": "stream",
     "text": [
      " 85%|█████████████████████████████████████████████████████████████████████▋            | 68/80 [00:10<00:01,  6.14it/s]\n",
      " 86%|██████████████████████████████████████████████████████████████████████▋           | 69/80 [00:11<00:01,  6.22it/s]\n",
      " 88%|███████████████████████████████████████████████████████████████████████▊          | 70/80 [00:11<00:01,  6.26it/s]\n",
      " 89%|████████████████████████████████████████████████████████████████████████▊         | 71/80 [00:11<00:01,  6.39it/s]\n",
      " 90%|█████████████████████████████████████████████████████████████████████████▊        | 72/80 [00:11<00:01,  6.45it/s]\n",
      " 91%|██████████████████████████████████████████████████████████████████████████▊       | 73/80 [00:11<00:01,  6.55it/s]\n",
      " 92%|███████████████████████████████████████████████████████████████████████████▊      | 74/80 [00:11<00:00,  6.48it/s]\n",
      " 94%|████████████████████████████████████████████████████████████████████████████▉     | 75/80 [00:11<00:00,  6.47it/s]\n",
      " 95%|█████████████████████████████████████████████████████████████████████████████▉    | 76/80 [00:12<00:00,  6.47it/s]\n",
      " 96%|██████████████████████████████████████████████████████████████████████████████▉   | 77/80 [00:12<00:00,  6.46it/s]\n",
      " 98%|███████████████████████████████████████████████████████████████████████████████▉  | 78/80 [00:12<00:00,  6.52it/s]\n",
      " 99%|████████████████████████████████████████████████████████████████████████████████▉ | 79/80 [00:12<00:00,  6.29it/s]\n",
      "100%|██████████████████████████████████████████████████████████████████████████████████| 80/80 [00:12<00:00,  6.43it/s]"
     ]
    },
    {
     "name": "stdout",
     "output_type": "stream",
     "text": [
      "phase Loss: 0.0166 Acc: 0.8180\n",
      "0.0005\n",
      "Training complete in 4m 38s\n",
      "Best val Acc: 0.828180\n"
     ]
    }
   ],
   "source": [
    "model_conv = train_model(model_conv, {'train':train_loader, 'val':val_loader}, dataset_sizes, criterion, optimizer_conv, exp_lr_scheduler, True,\n",
    "                     num_epochs=2)"
   ]
  },
  {
   "cell_type": "code",
   "execution_count": 26,
   "metadata": {},
   "outputs": [
    {
     "name": "stderr",
     "output_type": "stream",
     "text": [
      "\n",
      "\n",
      "\n",
      "  0%|                                                                                           | 0/80 [00:00<?, ?it/s]\n",
      "\n",
      "\n",
      "  1%|█                                                                                  | 1/80 [00:00<00:12,  6.15it/s]\n",
      "\n",
      "\n",
      "  2%|██                                                                                 | 2/80 [00:00<00:12,  6.37it/s]\n",
      "\n",
      "\n",
      "  4%|███                                                                                | 3/80 [00:00<00:12,  6.32it/s]\n",
      "\n",
      "\n",
      "  5%|████▏                                                                              | 4/80 [00:00<00:11,  6.45it/s]\n",
      "\n",
      "\n",
      "  6%|█████▏                                                                             | 5/80 [00:00<00:11,  6.57it/s]\n",
      "\n",
      "\n",
      "  8%|██████▏                                                                            | 6/80 [00:00<00:10,  6.74it/s]\n",
      "\n",
      "\n",
      "  9%|███████▎                                                                           | 7/80 [00:01<00:10,  6.67it/s]\n",
      "\n",
      "\n",
      " 10%|████████▎                                                                          | 8/80 [00:01<00:10,  6.66it/s]\n",
      "\n",
      "\n",
      " 11%|█████████▎                                                                         | 9/80 [00:01<00:11,  6.45it/s]\n",
      "\n",
      "\n",
      " 12%|██████████▎                                                                       | 10/80 [00:01<00:11,  6.19it/s]\n",
      "\n",
      "\n",
      " 14%|███████████▎                                                                      | 11/80 [00:01<00:11,  5.99it/s]\n",
      "\n",
      "\n",
      " 15%|████████████▎                                                                     | 12/80 [00:01<00:11,  6.08it/s]\n",
      "\n",
      "\n",
      " 16%|█████████████▎                                                                    | 13/80 [00:02<00:10,  6.32it/s]\n",
      "\n",
      "\n",
      " 18%|██████████████▎                                                                   | 14/80 [00:02<00:10,  6.20it/s]\n",
      "\n",
      "\n",
      " 19%|███████████████▍                                                                  | 15/80 [00:02<00:10,  6.27it/s]\n",
      "\n",
      "\n",
      " 20%|████████████████▍                                                                 | 16/80 [00:02<00:10,  6.30it/s]\n",
      "\n",
      "\n",
      " 21%|█████████████████▍                                                                | 17/80 [00:02<00:09,  6.44it/s]\n",
      "\n",
      "\n",
      " 22%|██████████████████▍                                                               | 18/80 [00:02<00:09,  6.53it/s]\n",
      "\n",
      "\n",
      " 24%|███████████████████▍                                                              | 19/80 [00:02<00:09,  6.66it/s]\n",
      "\n",
      "\n",
      " 25%|████████████████████▌                                                             | 20/80 [00:03<00:09,  6.51it/s]\n",
      "\n",
      "\n",
      " 26%|█████████████████████▌                                                            | 21/80 [00:03<00:08,  6.63it/s]\n",
      "\n",
      "\n",
      " 28%|██████████████████████▌                                                           | 22/80 [00:03<00:08,  6.68it/s]\n",
      "\n",
      "\n",
      " 29%|███████████████████████▌                                                          | 23/80 [00:03<00:08,  6.75it/s]\n",
      "\n",
      "\n",
      " 30%|████████████████████████▌                                                         | 24/80 [00:03<00:08,  6.74it/s]\n",
      "\n",
      "\n",
      " 31%|█████████████████████████▋                                                        | 25/80 [00:03<00:08,  6.82it/s]\n",
      "\n",
      "\n",
      " 32%|██████████████████████████▋                                                       | 26/80 [00:03<00:07,  6.89it/s]\n",
      "\n",
      "\n",
      " 34%|███████████████████████████▋                                                      | 27/80 [00:04<00:07,  6.93it/s]\n",
      "\n",
      "\n",
      " 35%|████████████████████████████▋                                                     | 28/80 [00:04<00:07,  6.80it/s]\n",
      "\n",
      "\n",
      " 36%|█████████████████████████████▋                                                    | 29/80 [00:04<00:07,  6.80it/s]\n",
      "\n",
      "\n",
      " 38%|██████████████████████████████▊                                                   | 30/80 [00:04<00:07,  6.75it/s]\n",
      "\n",
      "\n",
      " 39%|███████████████████████████████▊                                                  | 31/80 [00:04<00:07,  6.48it/s]\n",
      "\n",
      "\n",
      " 40%|████████████████████████████████▊                                                 | 32/80 [00:04<00:07,  6.60it/s]\n",
      "\n",
      "\n",
      " 41%|█████████████████████████████████▊                                                | 33/80 [00:05<00:07,  6.65it/s]\n",
      "\n",
      "\n",
      " 42%|██████████████████████████████████▊                                               | 34/80 [00:05<00:06,  6.63it/s]\n",
      "\n",
      "\n",
      " 44%|███████████████████████████████████▉                                              | 35/80 [00:05<00:06,  6.62it/s]\n",
      "\n",
      "\n",
      " 45%|████████████████████████████████████▉                                             | 36/80 [00:05<00:06,  6.68it/s]\n",
      "\n",
      "\n",
      " 46%|█████████████████████████████████████▉                                            | 37/80 [00:05<00:06,  6.71it/s]\n",
      "\n",
      "\n",
      " 48%|██████████████████████████████████████▉                                           | 38/80 [00:05<00:06,  6.78it/s]\n",
      "\n",
      "\n",
      " 49%|███████████████████████████████████████▉                                          | 39/80 [00:05<00:06,  6.79it/s]\n",
      "\n",
      "\n",
      " 50%|█████████████████████████████████████████                                         | 40/80 [00:06<00:05,  6.75it/s]\n",
      "\n",
      "\n",
      " 51%|██████████████████████████████████████████                                        | 41/80 [00:06<00:05,  6.77it/s]\n",
      "\n",
      "\n",
      " 52%|███████████████████████████████████████████                                       | 42/80 [00:06<00:05,  6.78it/s]\n",
      "\n",
      "\n",
      " 54%|████████████████████████████████████████████                                      | 43/80 [00:06<00:05,  6.47it/s]\n",
      "\n",
      "\n",
      " 55%|█████████████████████████████████████████████                                     | 44/80 [00:06<00:05,  6.32it/s]\n",
      "\n",
      "\n",
      " 56%|██████████████████████████████████████████████▏                                   | 45/80 [00:06<00:05,  6.20it/s]\n",
      "\n",
      "\n",
      " 57%|███████████████████████████████████████████████▏                                  | 46/80 [00:07<00:05,  6.20it/s]\n",
      "\n",
      "\n",
      " 59%|████████████████████████████████████████████████▏                                 | 47/80 [00:07<00:05,  6.25it/s]\n",
      "\n",
      "\n",
      " 60%|█████████████████████████████████████████████████▏                                | 48/80 [00:07<00:05,  6.29it/s]\n",
      "\n",
      "\n",
      " 61%|██████████████████████████████████████████████████▏                               | 49/80 [00:07<00:04,  6.26it/s]\n",
      "\n",
      "\n",
      " 62%|███████████████████████████████████████████████████▎                              | 50/80 [00:07<00:04,  6.29it/s]\n",
      "\n",
      "\n",
      " 64%|████████████████████████████████████████████████████▎                             | 51/80 [00:07<00:04,  6.47it/s]\n",
      "\n",
      "\n",
      " 65%|█████████████████████████████████████████████████████▎                            | 52/80 [00:07<00:04,  6.49it/s]\n",
      "\n",
      "\n",
      " 66%|██████████████████████████████████████████████████████▎                           | 53/80 [00:08<00:04,  6.56it/s]\n",
      "\n",
      "\n",
      " 68%|███████████████████████████████████████████████████████▎                          | 54/80 [00:08<00:03,  6.59it/s]\n",
      "\n",
      "\n",
      " 69%|████████████████████████████████████████████████████████▍                         | 55/80 [00:08<00:03,  6.54it/s]\n",
      "\n",
      "\n",
      " 70%|█████████████████████████████████████████████████████████▍                        | 56/80 [00:08<00:03,  6.55it/s]\n",
      "\n",
      "\n",
      " 71%|██████████████████████████████████████████████████████████▍                       | 57/80 [00:08<00:03,  6.68it/s]\n",
      "\n",
      "\n",
      " 72%|███████████████████████████████████████████████████████████▍                      | 58/80 [00:08<00:03,  6.75it/s]\n",
      "\n",
      "\n",
      " 74%|████████████████████████████████████████████████████████████▍                     | 59/80 [00:09<00:03,  6.68it/s]\n",
      "\n",
      "\n",
      " 75%|█████████████████████████████████████████████████████████████▌                    | 60/80 [00:09<00:03,  6.66it/s]\n",
      "\n",
      "\n",
      " 76%|██████████████████████████████████████████████████████████████▌                   | 61/80 [00:09<00:02,  6.63it/s]\n",
      "\n",
      "\n",
      " 78%|███████████████████████████████████████████████████████████████▌                  | 62/80 [00:09<00:02,  6.52it/s]\n",
      "\n",
      "\n",
      " 79%|████████████████████████████████████████████████████████████████▌                 | 63/80 [00:09<00:02,  6.49it/s]\n",
      "\n",
      "\n",
      " 80%|█████████████████████████████████████████████████████████████████▌                | 64/80 [00:09<00:02,  6.53it/s]\n",
      "\n",
      "\n",
      " 81%|██████████████████████████████████████████████████████████████████▋               | 65/80 [00:09<00:02,  6.51it/s]\n",
      "\n",
      "\n",
      " 82%|███████████████████████████████████████████████████████████████████▋              | 66/80 [00:10<00:02,  6.56it/s]\n",
      "\n",
      "\n",
      " 84%|████████████████████████████████████████████████████████████████████▋             | 67/80 [00:10<00:01,  6.69it/s]\n",
      "\n",
      "\n",
      " 85%|█████████████████████████████████████████████████████████████████████▋            | 68/80 [00:10<00:01,  6.53it/s]\n",
      "\n",
      "\n",
      " 86%|██████████████████████████████████████████████████████████████████████▋           | 69/80 [00:10<00:01,  6.54it/s]\n",
      "\n",
      "\n",
      " 88%|███████████████████████████████████████████████████████████████████████▊          | 70/80 [00:10<00:01,  6.42it/s]\n",
      "\n",
      "\n",
      " 89%|████████████████████████████████████████████████████████████████████████▊         | 71/80 [00:10<00:01,  6.57it/s]\n",
      "\n",
      "\n",
      " 90%|█████████████████████████████████████████████████████████████████████████▊        | 72/80 [00:10<00:01,  6.74it/s]\n",
      "\n",
      "\n",
      " 91%|██████████████████████████████████████████████████████████████████████████▊       | 73/80 [00:11<00:01,  6.78it/s]\n",
      "\n",
      "\n",
      " 92%|███████████████████████████████████████████████████████████████████████████▊      | 74/80 [00:11<00:00,  6.82it/s]\n",
      "\n",
      "\n",
      " 94%|████████████████████████████████████████████████████████████████████████████▉     | 75/80 [00:11<00:00,  6.82it/s]\n",
      "\n",
      "\n",
      " 95%|█████████████████████████████████████████████████████████████████████████████▉    | 76/80 [00:11<00:00,  6.81it/s]\n",
      "\n",
      "\n",
      " 96%|██████████████████████████████████████████████████████████████████████████████▉   | 77/80 [00:11<00:00,  6.62it/s]\n",
      "\n",
      "\n",
      " 98%|███████████████████████████████████████████████████████████████████████████████▉  | 78/80 [00:11<00:00,  6.63it/s]\n",
      "\n",
      "\n",
      " 99%|████████████████████████████████████████████████████████████████████████████████▉ | 79/80 [00:12<00:00,  6.68it/s]\n",
      "\n",
      "\n",
      "100%|██████████████████████████████████████████████████████████████████████████████████| 80/80 [00:12<00:00,  6.79it/s]"
     ]
    }
   ],
   "source": [
    "def test_model(model, dataloaders, optimizer, use_gpu):\n",
    "    model.train(False)\n",
    "    predictions = []\n",
    "    labels = []\n",
    "    for data in tqdm(dataloaders):\n",
    "        inputs, labels_ = data\n",
    "        if use_gpu:\n",
    "            inputs = Variable(inputs.cuda())\n",
    "        else:\n",
    "            inputs = Variable(inputs)\n",
    "\n",
    "        # zero the parameter gradients\n",
    "        optimizer.zero_grad()\n",
    "\n",
    "        # forward\n",
    "        outputs = model(inputs)\n",
    "        _, preds = torch.max(outputs.data, 1)\n",
    "        predictions.append(preds)\n",
    "        labels.append(labels_)\n",
    "\n",
    "    return predictions, labels\n",
    "  \n",
    "predictions, labels = test_model(model_conv, val_loader, optimizer_conv, True)"
   ]
  },
  {
   "cell_type": "code",
   "execution_count": 41,
   "metadata": {},
   "outputs": [],
   "source": [
    "#model_path = 'C:\\Users\\rohit\\VirtualEnv'\n",
    "torch.save(model_conv.state_dict(), 'densenet121_sequential.pth')"
   ]
  },
  {
   "cell_type": "code",
   "execution_count": 39,
   "metadata": {},
   "outputs": [],
   "source": [
    "predictions1, labels1 = torch.cat(predictions), torch.cat(labels)\n",
    "predictions1, labels1 = np.array(predictions1.cpu()), np.array(labels1)"
   ]
  },
  {
   "cell_type": "code",
   "execution_count": 40,
   "metadata": {},
   "outputs": [
    {
     "data": {
      "text/plain": [
       "array([3, 4, 0, ..., 5, 5, 4], dtype=int64)"
      ]
     },
     "execution_count": 40,
     "metadata": {},
     "output_type": "execute_result"
    }
   ],
   "source": [
    "predictions1"
   ]
  },
  {
   "cell_type": "code",
   "execution_count": 41,
   "metadata": {},
   "outputs": [
    {
     "data": {
      "text/plain": [
       "array([3, 4, 0, ..., 5, 5, 4], dtype=int64)"
      ]
     },
     "execution_count": 41,
     "metadata": {},
     "output_type": "execute_result"
    }
   ],
   "source": [
    "labels1"
   ]
  },
  {
   "cell_type": "code",
   "execution_count": 42,
   "metadata": {},
   "outputs": [
    {
     "data": {
      "text/plain": [
       "2555"
      ]
     },
     "execution_count": 42,
     "metadata": {},
     "output_type": "execute_result"
    }
   ],
   "source": [
    "len(labels1)"
   ]
  },
  {
   "cell_type": "code",
   "execution_count": 31,
   "metadata": {},
   "outputs": [],
   "source": [
    "def test1_model(model, dataloaders, optimizer, use_gpu):\n",
    "    model.train(False)\n",
    "    predictions = []\n",
    "    labels = []\n",
    "    for data in tqdm(dataloaders):\n",
    "        inputs = data\n",
    "        if use_gpu:\n",
    "            inputs = Variable(inputs.cuda())\n",
    "        else:\n",
    "            inputs = Variable(inputs)\n",
    "\n",
    "        # zero the parameter gradients\n",
    "        optimizer.zero_grad()\n",
    "\n",
    "        # forward\n",
    "        outputs = model(inputs)\n",
    "        _, preds = torch.max(outputs.data, 1)\n",
    "        predictions.append(preds)\n",
    "        #labels.append(labels_)\n",
    "\n",
    "    return predictions"
   ]
  },
  {
   "cell_type": "code",
   "execution_count": 32,
   "metadata": {},
   "outputs": [
    {
     "name": "stderr",
     "output_type": "stream",
     "text": [
      "100%|████████████████████████████████████████████████████████████████████████████████| 229/229 [00:32<00:00,  7.45it/s]\n"
     ]
    }
   ],
   "source": [
    "predictions2 = test1_model(model_conv, test_dataloader, optimizer_conv, True)"
   ]
  },
  {
   "cell_type": "code",
   "execution_count": 33,
   "metadata": {},
   "outputs": [],
   "source": [
    "\n",
    "predictions3 = torch.cat(predictions2)\n",
    "predictions3 = np.array(predictions3.cpu())"
   ]
  },
  {
   "cell_type": "code",
   "execution_count": 34,
   "metadata": {},
   "outputs": [
    {
     "data": {
      "text/plain": [
       "7301"
      ]
     },
     "execution_count": 34,
     "metadata": {},
     "output_type": "execute_result"
    }
   ],
   "source": [
    "len(predictions3)"
   ]
  },
  {
   "cell_type": "code",
   "execution_count": 35,
   "metadata": {},
   "outputs": [
    {
     "data": {
      "text/plain": [
       "array([5, 0, 4, 2, 5], dtype=int64)"
      ]
     },
     "execution_count": 35,
     "metadata": {},
     "output_type": "execute_result"
    }
   ],
   "source": [
    "predictions3[:5]"
   ]
  },
  {
   "cell_type": "code",
   "execution_count": 36,
   "metadata": {},
   "outputs": [],
   "source": [
    "result = pd.read_csv('resnet50_15_col.csv')"
   ]
  },
  {
   "cell_type": "code",
   "execution_count": 37,
   "metadata": {},
   "outputs": [
    {
     "data": {
      "text/plain": [
       "7301"
      ]
     },
     "execution_count": 37,
     "metadata": {},
     "output_type": "execute_result"
    }
   ],
   "source": [
    "result.shape[0]"
   ]
  },
  {
   "cell_type": "code",
   "execution_count": 38,
   "metadata": {},
   "outputs": [],
   "source": [
    "result['label'] = predictions3"
   ]
  },
  {
   "cell_type": "code",
   "execution_count": 39,
   "metadata": {},
   "outputs": [
    {
     "data": {
      "text/html": [
       "<div>\n",
       "<style scoped>\n",
       "    .dataframe tbody tr th:only-of-type {\n",
       "        vertical-align: middle;\n",
       "    }\n",
       "\n",
       "    .dataframe tbody tr th {\n",
       "        vertical-align: top;\n",
       "    }\n",
       "\n",
       "    .dataframe thead th {\n",
       "        text-align: right;\n",
       "    }\n",
       "</style>\n",
       "<table border=\"1\" class=\"dataframe\">\n",
       "  <thead>\n",
       "    <tr style=\"text-align: right;\">\n",
       "      <th></th>\n",
       "      <th>image_name</th>\n",
       "      <th>label</th>\n",
       "    </tr>\n",
       "  </thead>\n",
       "  <tbody>\n",
       "    <tr>\n",
       "      <th>0</th>\n",
       "      <td>3.jpg</td>\n",
       "      <td>5</td>\n",
       "    </tr>\n",
       "    <tr>\n",
       "      <th>1</th>\n",
       "      <td>5.jpg</td>\n",
       "      <td>0</td>\n",
       "    </tr>\n",
       "    <tr>\n",
       "      <th>2</th>\n",
       "      <td>6.jpg</td>\n",
       "      <td>4</td>\n",
       "    </tr>\n",
       "    <tr>\n",
       "      <th>3</th>\n",
       "      <td>11.jpg</td>\n",
       "      <td>2</td>\n",
       "    </tr>\n",
       "    <tr>\n",
       "      <th>4</th>\n",
       "      <td>14.jpg</td>\n",
       "      <td>5</td>\n",
       "    </tr>\n",
       "  </tbody>\n",
       "</table>\n",
       "</div>"
      ],
      "text/plain": [
       "  image_name  label\n",
       "0      3.jpg      5\n",
       "1      5.jpg      0\n",
       "2      6.jpg      4\n",
       "3     11.jpg      2\n",
       "4     14.jpg      5"
      ]
     },
     "execution_count": 39,
     "metadata": {},
     "output_type": "execute_result"
    }
   ],
   "source": [
    "result.head()"
   ]
  },
  {
   "cell_type": "code",
   "execution_count": 40,
   "metadata": {},
   "outputs": [],
   "source": [
    "result.to_csv('torch_densenet121_sequential.csv')"
   ]
  },
  {
   "cell_type": "markdown",
   "metadata": {},
   "source": [
    "# ResNet101"
   ]
  },
  {
   "cell_type": "code",
   "execution_count": 1,
   "metadata": {},
   "outputs": [],
   "source": [
    "from __future__ import print_function, division\n",
    "import os\n",
    "import torch\n",
    "import pandas as pd\n",
    "from skimage import io, transform\n",
    "import numpy as np\n",
    "import matplotlib.pyplot as plt\n",
    "from torch.utils.data import Dataset, DataLoader\n",
    "from torchvision import transforms, utils\n",
    "from PIL import Image\n",
    "\n",
    "import torchvision\n",
    "import torch.nn as nn\n",
    "import torch.optim as optim\n",
    "from torch.optim import lr_scheduler\n",
    "import numpy as np\n",
    "import time\n",
    "import os\n",
    "import argparse\n",
    "# from tensorboardX import SummaryWriter\n",
    "from torch.utils.data.sampler import SubsetRandomSampler"
   ]
  },
  {
   "cell_type": "code",
   "execution_count": 2,
   "metadata": {},
   "outputs": [],
   "source": [
    "class SceneDataset(Dataset):\n",
    "\n",
    "    def __init__(self, csv_file, root_dir, transform=None, mode='train'):\n",
    "        \"\"\"\n",
    "        Args:\n",
    "            csv_file (string): Path to the csv file with annotations.\n",
    "            root_dir (string): Directory with all the images.\n",
    "            transform (callable, optional): Optional transform to be applied\n",
    "                on a sample.\n",
    "        \"\"\"\n",
    "        self.mode = mode\n",
    "        self.image_frame = pd.read_csv(csv_file)\n",
    "        self.img_name = self.image_frame.image_name\n",
    "        self.root_dir = root_dir\n",
    "        self.transform = transform\n",
    "\n",
    "    def __len__(self):\n",
    "        return len(self.img_name)\n",
    "\n",
    "    def __getitem__(self, idx):\n",
    "        image = cv2.imread(self.root_dir + '/' + self.img_name[idx])\n",
    "        if self.mode == 'train':\n",
    "            label = self.image_frame.iloc[idx].label\n",
    "\n",
    "        if self.transform:\n",
    "            image = self.transform(Image.fromarray(image))\n",
    "\n",
    "        if self.mode == 'train':\n",
    "            return image, label\n",
    "        else:\n",
    "            return image"
   ]
  },
  {
   "cell_type": "code",
   "execution_count": 3,
   "metadata": {},
   "outputs": [],
   "source": [
    "#Input the Training and Testing Data\n",
    "import cv2\n",
    "train_path = 'train-scene/train'\n",
    "\n",
    "train_dataset = SceneDataset(csv_file='train-scene/train.csv',\n",
    "                                    root_dir=train_path, transform=transforms.Compose([\n",
    "                                               transforms.RandomHorizontalFlip(),\n",
    "#                                                transforms.RandomVerticalFlip(),\n",
    "#                                                transforms.RandomRotation(90),\n",
    "                                               transforms.Resize((224, 224)),\n",
    "                                               transforms.RandomRotation(30),\n",
    "                                               transforms.ToTensor()\n",
    "                                           ]), mode = 'train')\n",
    "train_dataloader = DataLoader(train_dataset, batch_size=32,\n",
    "                        shuffle=False, num_workers=0)"
   ]
  },
  {
   "cell_type": "code",
   "execution_count": 4,
   "metadata": {},
   "outputs": [],
   "source": [
    "\n",
    "test_dataset = SceneDataset(csv_file='test.csv', root_dir=train_path, transform=transforms.Compose([transforms.Resize((224, 224)), transforms.ToTensor()]), mode = 'val')\n",
    "test_dataloader = DataLoader(test_dataset, batch_size=32,\n",
    "                        shuffle=False, num_workers=0)\n",
    "\n",
    "validation_split = .15\n",
    "dataset_size = len(train_dataset)\n",
    "indices = list(range(dataset_size))\n",
    "split = int(np.floor(validation_split * dataset_size))\n",
    "# if shuffle_dataset :\n",
    "#     np.random.seed(random_seed)\n",
    "#     np.random.shuffle(indices)\n",
    "train_indices, val_indices = indices[split:], indices[:split]\n",
    "\n",
    "# Creating PT data samplers and loaders:\n",
    "train_sampler = SubsetRandomSampler(train_indices)\n",
    "valid_sampler = SubsetRandomSampler(val_indices)\n",
    "train_loader = torch.utils.data.DataLoader(train_dataset, batch_size=32, \n",
    "                                           sampler=train_sampler,shuffle=False, num_workers=0)\n",
    "val_loader = torch.utils.data.DataLoader(train_dataset, batch_size=32,\n",
    "                                                sampler=valid_sampler, shuffle=False, num_workers=0)"
   ]
  },
  {
   "cell_type": "code",
   "execution_count": 5,
   "metadata": {},
   "outputs": [
    {
     "name": "stdout",
     "output_type": "stream",
     "text": [
      "{'train': 14479, 'val': 2555}\n",
      "533 229 453 80\n"
     ]
    }
   ],
   "source": [
    "dataset_sizes = {'train': len(train_dataset) - split, 'val': split}\n",
    "print (dataset_sizes)\n",
    "print (len(train_dataloader), len(test_dataloader), len(train_loader), len(val_loader))"
   ]
  },
  {
   "cell_type": "code",
   "execution_count": 6,
   "metadata": {},
   "outputs": [],
   "source": [
    "import torch\n",
    "import torch.nn as nn\n",
    "import torch.optim as optim\n",
    "from torch.optim import lr_scheduler\n",
    "from torch.autograd import Variable\n",
    "import torchvision\n",
    "from torchvision import datasets, models, transforms\n",
    "\n",
    "import numpy as np\n",
    "import time\n",
    "import os\n",
    "from tqdm import tqdm\n",
    "from sklearn.metrics import accuracy_score\n",
    "import pandas as pd\n",
    "\n",
    "\n",
    "\n",
    "n_class = 6\n",
    "kernel_size = (1,1)\n",
    "stride = (1,1)\n",
    "\n",
    "\"\"\" training functions\n",
    "\"\"\"\n",
    "model_conv = torchvision.models.resnet101(pretrained='imagenet')\n",
    "#num_ftrs = model_conv.classifier.in_features\n",
    "#maxm = 0\n",
    "#for i, param in model_conv.named_parameters():\n",
    "#    maxm = maxm + 1\n",
    "#    if maxm < 182:\n",
    "#      param.requires_grad = False\n",
    "#print(maxm)\n",
    "#model_conv.classifier = nn.Linear(num_ftrs, 6)\n",
    "#\n"
   ]
  },
  {
   "cell_type": "code",
   "execution_count": 7,
   "metadata": {},
   "outputs": [],
   "source": [
    "maxm = 0\n",
    "for param in model_conv.parameters():\n",
    "    maxm = maxm+1\n",
    "    if maxm < 135:\n",
    "        param.requires_grad = False\n",
    "num_ftrs = model_conv.fc.in_features\n",
    "model_conv.fc = nn.Linear(num_ftrs, 6)\n",
    "model_conv = model_conv.cuda()"
   ]
  },
  {
   "cell_type": "code",
   "execution_count": 8,
   "metadata": {},
   "outputs": [],
   "source": [
    "\n",
    "criterion = nn.CrossEntropyLoss().cuda()\n",
    "optimizer_conv = optim.Adam(list(filter(lambda p: p.requires_grad, model_conv.parameters())), lr=5e-4)\n",
    "exp_lr_scheduler = lr_scheduler.ReduceLROnPlateau(optimizer_conv,mode = 'min', patience=3, factor = 0.5)\n"
   ]
  },
  {
   "cell_type": "code",
   "execution_count": 11,
   "metadata": {},
   "outputs": [],
   "source": [
    "def train_model(model, dataloaders, dataset_sizes, criterion, optimizer, scheduler, use_gpu, num_epochs=25, mixup = False, alpha = 0.1):\n",
    "    since = time.time()\n",
    "\n",
    "    best_model_wts = model.state_dict()\n",
    "    best_acc = 0.0\n",
    "\n",
    "    for epoch in range(num_epochs):\n",
    "        print('Epoch {}/{}'.format(epoch, num_epochs - 1))\n",
    "        print('-' * 10)\n",
    "        for phase in ['train', 'val']:\n",
    "            if phase == 'train':\n",
    "                model.train(True)  # Set model to training mode\n",
    "            else:\n",
    "                model.train(False)  # Set model to evaluate mode\n",
    "\n",
    "            running_loss = 0.0\n",
    "            running_corrects = 0\n",
    "\n",
    "            # Iterate over data.\n",
    "            # get the inputs\n",
    "            for data in tqdm(dataloaders[phase]):\n",
    "                inputs, labels = data\n",
    "                if use_gpu:\n",
    "                    inputs, labels = Variable(inputs), Variable(labels)\n",
    "                    inputs, labels = inputs.cuda(), labels.cuda()\n",
    "                else:\n",
    "                    inputs, labels = Variable(inputs), Variable(labels)\n",
    "\n",
    "                # zero the parameter gradients\n",
    "                optimizer.zero_grad()\n",
    "\n",
    "                # forward\n",
    "                outputs = model(inputs)\n",
    "                if type(outputs) == tuple:\n",
    "                    outputs, _ = outputs\n",
    "                _, preds = torch.max(outputs.data, 1)\n",
    "                loss = criterion(outputs, labels)\n",
    "\n",
    "                # backward + optimize only if in training phase\n",
    "                if phase == 'train':\n",
    "                    loss.backward()\n",
    "                    optimizer.step()\n",
    "\n",
    "                # statistics\n",
    "                running_loss += loss.data\n",
    "                running_corrects += torch.sum(preds == labels.data)\n",
    "\n",
    "            epoch_loss = float(running_loss.cpu()) / dataset_sizes[phase]\n",
    "            epoch_acc = float(running_corrects.cpu()) / dataset_sizes[phase]\n",
    "\n",
    "\n",
    "            print('{} Loss: {:.4f} Acc: {:.4f}'.format(\n",
    "                'phase', epoch_loss, epoch_acc))\n",
    "#             print (int(running_corrects.cpu()))\n",
    "\n",
    "            # deep copy the model\n",
    "            if phase == 'val' and epoch_acc > best_acc:\n",
    "                best_acc = epoch_acc\n",
    "                best_model_wts = model.state_dict()\n",
    "        scheduler.step(epoch_loss)\n",
    "        for param_group in optimizer.param_groups:\n",
    "          print(param_group['lr'])\n",
    "\n",
    "\n",
    "    time_elapsed = time.time() - since\n",
    "    print('Training complete in {:.0f}m {:.0f}s'.format(\n",
    "        time_elapsed // 60, time_elapsed % 60))\n",
    "    print('Best val Acc: {:4f}'.format(best_acc))\n",
    "\n",
    "    # load best model weights\n",
    "    model.load_state_dict(best_model_wts)\n",
    "    return model\n",
    "\n"
   ]
  },
  {
   "cell_type": "code",
   "execution_count": 13,
   "metadata": {},
   "outputs": [
    {
     "name": "stdout",
     "output_type": "stream",
     "text": [
      "Epoch 0/24\n",
      "----------\n"
     ]
    },
    {
     "name": "stderr",
     "output_type": "stream",
     "text": [
      "100%|████████████████████████████████████████████████████████████████████████████████| 453/453 [03:21<00:00,  2.58it/s]\n"
     ]
    },
    {
     "name": "stdout",
     "output_type": "stream",
     "text": [
      "phase Loss: 0.0058 Acc: 0.9333\n"
     ]
    },
    {
     "name": "stderr",
     "output_type": "stream",
     "text": [
      "100%|██████████████████████████████████████████████████████████████████████████████████| 80/80 [00:13<00:00,  5.90it/s]\n"
     ]
    },
    {
     "name": "stdout",
     "output_type": "stream",
     "text": [
      "phase Loss: 0.0080 Acc: 0.9205\n",
      "0.0005\n",
      "Epoch 1/24\n",
      "----------\n"
     ]
    },
    {
     "name": "stderr",
     "output_type": "stream",
     "text": [
      "100%|████████████████████████████████████████████████████████████████████████████████| 453/453 [03:24<00:00,  2.63it/s]\n"
     ]
    },
    {
     "name": "stdout",
     "output_type": "stream",
     "text": [
      "phase Loss: 0.0050 Acc: 0.9421\n"
     ]
    },
    {
     "name": "stderr",
     "output_type": "stream",
     "text": [
      "100%|██████████████████████████████████████████████████████████████████████████████████| 80/80 [00:13<00:00,  5.89it/s]\n"
     ]
    },
    {
     "name": "stdout",
     "output_type": "stream",
     "text": [
      "phase Loss: 0.0066 Acc: 0.9311\n",
      "0.0005\n",
      "Epoch 2/24\n",
      "----------\n"
     ]
    },
    {
     "name": "stderr",
     "output_type": "stream",
     "text": [
      "100%|████████████████████████████████████████████████████████████████████████████████| 453/453 [03:22<00:00,  2.61it/s]\n"
     ]
    },
    {
     "name": "stdout",
     "output_type": "stream",
     "text": [
      "phase Loss: 0.0048 Acc: 0.9453\n"
     ]
    },
    {
     "name": "stderr",
     "output_type": "stream",
     "text": [
      "100%|██████████████████████████████████████████████████████████████████████████████████| 80/80 [00:13<00:00,  5.92it/s]\n"
     ]
    },
    {
     "name": "stdout",
     "output_type": "stream",
     "text": [
      "phase Loss: 0.0069 Acc: 0.9252\n",
      "0.0005\n",
      "Epoch 3/24\n",
      "----------\n"
     ]
    },
    {
     "name": "stderr",
     "output_type": "stream",
     "text": [
      "100%|████████████████████████████████████████████████████████████████████████████████| 453/453 [03:22<00:00,  2.58it/s]\n"
     ]
    },
    {
     "name": "stdout",
     "output_type": "stream",
     "text": [
      "phase Loss: 0.0046 Acc: 0.9462\n"
     ]
    },
    {
     "name": "stderr",
     "output_type": "stream",
     "text": [
      "100%|██████████████████████████████████████████████████████████████████████████████████| 80/80 [00:13<00:00,  5.87it/s]\n"
     ]
    },
    {
     "name": "stdout",
     "output_type": "stream",
     "text": [
      "phase Loss: 0.0090 Acc: 0.9135\n",
      "0.00025\n",
      "Epoch 4/24\n",
      "----------\n"
     ]
    },
    {
     "name": "stderr",
     "output_type": "stream",
     "text": [
      "100%|████████████████████████████████████████████████████████████████████████████████| 453/453 [03:22<00:00,  2.63it/s]\n"
     ]
    },
    {
     "name": "stdout",
     "output_type": "stream",
     "text": [
      "phase Loss: 0.0030 Acc: 0.9650\n"
     ]
    },
    {
     "name": "stderr",
     "output_type": "stream",
     "text": [
      "100%|██████████████████████████████████████████████████████████████████████████████████| 80/80 [00:13<00:00,  5.83it/s]\n"
     ]
    },
    {
     "name": "stdout",
     "output_type": "stream",
     "text": [
      "phase Loss: 0.0068 Acc: 0.9339\n",
      "0.00025\n",
      "Epoch 5/24\n",
      "----------\n"
     ]
    },
    {
     "name": "stderr",
     "output_type": "stream",
     "text": [
      "100%|████████████████████████████████████████████████████████████████████████████████| 453/453 [03:22<00:00,  2.58it/s]\n"
     ]
    },
    {
     "name": "stdout",
     "output_type": "stream",
     "text": [
      "phase Loss: 0.0024 Acc: 0.9736\n"
     ]
    },
    {
     "name": "stderr",
     "output_type": "stream",
     "text": [
      "100%|██████████████████████████████████████████████████████████████████████████████████| 80/80 [00:13<00:00,  5.85it/s]\n"
     ]
    },
    {
     "name": "stdout",
     "output_type": "stream",
     "text": [
      "phase Loss: 0.0074 Acc: 0.9374\n",
      "0.00025\n",
      "Epoch 6/24\n",
      "----------\n"
     ]
    },
    {
     "name": "stderr",
     "output_type": "stream",
     "text": [
      "100%|████████████████████████████████████████████████████████████████████████████████| 453/453 [03:22<00:00,  2.66it/s]\n"
     ]
    },
    {
     "name": "stdout",
     "output_type": "stream",
     "text": [
      "phase Loss: 0.0024 Acc: 0.9721\n"
     ]
    },
    {
     "name": "stderr",
     "output_type": "stream",
     "text": [
      "100%|██████████████████████████████████████████████████████████████████████████████████| 80/80 [00:13<00:00,  5.79it/s]\n"
     ]
    },
    {
     "name": "stdout",
     "output_type": "stream",
     "text": [
      "phase Loss: 0.0076 Acc: 0.9307\n",
      "0.00025\n",
      "Epoch 7/24\n",
      "----------\n"
     ]
    },
    {
     "name": "stderr",
     "output_type": "stream",
     "text": [
      "100%|████████████████████████████████████████████████████████████████████████████████| 453/453 [03:22<00:00,  2.55it/s]\n"
     ]
    },
    {
     "name": "stdout",
     "output_type": "stream",
     "text": [
      "phase Loss: 0.0020 Acc: 0.9779\n"
     ]
    },
    {
     "name": "stderr",
     "output_type": "stream",
     "text": [
      "100%|██████████████████████████████████████████████████████████████████████████████████| 80/80 [00:13<00:00,  5.79it/s]\n"
     ]
    },
    {
     "name": "stdout",
     "output_type": "stream",
     "text": [
      "phase Loss: 0.0074 Acc: 0.9370\n",
      "0.000125\n",
      "Epoch 8/24\n",
      "----------\n"
     ]
    },
    {
     "name": "stderr",
     "output_type": "stream",
     "text": [
      "100%|████████████████████████████████████████████████████████████████████████████████| 453/453 [03:23<00:00,  2.64it/s]\n"
     ]
    },
    {
     "name": "stdout",
     "output_type": "stream",
     "text": [
      "phase Loss: 0.0013 Acc: 0.9858\n"
     ]
    },
    {
     "name": "stderr",
     "output_type": "stream",
     "text": [
      "100%|██████████████████████████████████████████████████████████████████████████████████| 80/80 [00:13<00:00,  5.74it/s]\n"
     ]
    },
    {
     "name": "stdout",
     "output_type": "stream",
     "text": [
      "phase Loss: 0.0075 Acc: 0.9358\n",
      "0.000125\n",
      "Epoch 9/24\n",
      "----------\n"
     ]
    },
    {
     "name": "stderr",
     "output_type": "stream",
     "text": [
      "100%|████████████████████████████████████████████████████████████████████████████████| 453/453 [03:22<00:00,  2.57it/s]\n"
     ]
    },
    {
     "name": "stdout",
     "output_type": "stream",
     "text": [
      "phase Loss: 0.0009 Acc: 0.9891\n"
     ]
    },
    {
     "name": "stderr",
     "output_type": "stream",
     "text": [
      "100%|██████████████████████████████████████████████████████████████████████████████████| 80/80 [00:13<00:00,  5.82it/s]\n"
     ]
    },
    {
     "name": "stdout",
     "output_type": "stream",
     "text": [
      "phase Loss: 0.0082 Acc: 0.9307\n",
      "0.000125\n",
      "Epoch 10/24\n",
      "----------\n"
     ]
    },
    {
     "name": "stderr",
     "output_type": "stream",
     "text": [
      "100%|████████████████████████████████████████████████████████████████████████████████| 453/453 [03:21<00:00,  2.67it/s]\n"
     ]
    },
    {
     "name": "stdout",
     "output_type": "stream",
     "text": [
      "phase Loss: 0.0009 Acc: 0.9901\n"
     ]
    },
    {
     "name": "stderr",
     "output_type": "stream",
     "text": [
      "100%|██████████████████████████████████████████████████████████████████████████████████| 80/80 [00:13<00:00,  5.84it/s]\n"
     ]
    },
    {
     "name": "stdout",
     "output_type": "stream",
     "text": [
      "phase Loss: 0.0091 Acc: 0.9260\n",
      "0.000125\n",
      "Epoch 11/24\n",
      "----------\n"
     ]
    },
    {
     "name": "stderr",
     "output_type": "stream",
     "text": [
      "100%|████████████████████████████████████████████████████████████████████████████████| 453/453 [03:23<00:00,  2.59it/s]\n"
     ]
    },
    {
     "name": "stdout",
     "output_type": "stream",
     "text": [
      "phase Loss: 0.0009 Acc: 0.9897\n"
     ]
    },
    {
     "name": "stderr",
     "output_type": "stream",
     "text": [
      "100%|██████████████████████████████████████████████████████████████████████████████████| 80/80 [00:13<00:00,  5.71it/s]\n"
     ]
    },
    {
     "name": "stdout",
     "output_type": "stream",
     "text": [
      "phase Loss: 0.0096 Acc: 0.9311\n",
      "6.25e-05\n",
      "Epoch 12/24\n",
      "----------\n"
     ]
    },
    {
     "name": "stderr",
     "output_type": "stream",
     "text": [
      "100%|████████████████████████████████████████████████████████████████████████████████| 453/453 [03:23<00:00,  2.63it/s]\n"
     ]
    },
    {
     "name": "stdout",
     "output_type": "stream",
     "text": [
      "phase Loss: 0.0006 Acc: 0.9936\n"
     ]
    },
    {
     "name": "stderr",
     "output_type": "stream",
     "text": [
      "100%|██████████████████████████████████████████████████████████████████████████████████| 80/80 [00:13<00:00,  5.87it/s]\n"
     ]
    },
    {
     "name": "stdout",
     "output_type": "stream",
     "text": [
      "phase Loss: 0.0094 Acc: 0.9331\n",
      "6.25e-05\n",
      "Epoch 13/24\n",
      "----------\n"
     ]
    },
    {
     "name": "stderr",
     "output_type": "stream",
     "text": [
      "100%|████████████████████████████████████████████████████████████████████████████████| 453/453 [03:21<00:00,  2.55it/s]\n"
     ]
    },
    {
     "name": "stdout",
     "output_type": "stream",
     "text": [
      "phase Loss: 0.0004 Acc: 0.9963\n"
     ]
    },
    {
     "name": "stderr",
     "output_type": "stream",
     "text": [
      "100%|██████████████████████████████████████████████████████████████████████████████████| 80/80 [00:13<00:00,  5.98it/s]\n"
     ]
    },
    {
     "name": "stdout",
     "output_type": "stream",
     "text": [
      "phase Loss: 0.0100 Acc: 0.9346\n",
      "6.25e-05\n",
      "Epoch 14/24\n",
      "----------\n"
     ]
    },
    {
     "name": "stderr",
     "output_type": "stream",
     "text": [
      "100%|████████████████████████████████████████████████████████████████████████████████| 453/453 [03:21<00:00,  2.56it/s]\n"
     ]
    },
    {
     "name": "stdout",
     "output_type": "stream",
     "text": [
      "phase Loss: 0.0004 Acc: 0.9951\n"
     ]
    },
    {
     "name": "stderr",
     "output_type": "stream",
     "text": [
      "100%|██████████████████████████████████████████████████████████████████████████████████| 80/80 [00:13<00:00,  5.84it/s]\n"
     ]
    },
    {
     "name": "stdout",
     "output_type": "stream",
     "text": [
      "phase Loss: 0.0102 Acc: 0.9362\n",
      "6.25e-05\n",
      "Epoch 15/24\n",
      "----------\n"
     ]
    },
    {
     "name": "stderr",
     "output_type": "stream",
     "text": [
      "100%|████████████████████████████████████████████████████████████████████████████████| 453/453 [03:21<00:00,  2.58it/s]\n"
     ]
    },
    {
     "name": "stdout",
     "output_type": "stream",
     "text": [
      "phase Loss: 0.0004 Acc: 0.9960\n"
     ]
    },
    {
     "name": "stderr",
     "output_type": "stream",
     "text": [
      "100%|██████████████████████████████████████████████████████████████████████████████████| 80/80 [00:13<00:00,  5.76it/s]\n"
     ]
    },
    {
     "name": "stdout",
     "output_type": "stream",
     "text": [
      "phase Loss: 0.0099 Acc: 0.9386\n",
      "3.125e-05\n",
      "Epoch 16/24\n",
      "----------\n"
     ]
    },
    {
     "name": "stderr",
     "output_type": "stream",
     "text": [
      "100%|████████████████████████████████████████████████████████████████████████████████| 453/453 [03:23<00:00,  2.54it/s]\n"
     ]
    },
    {
     "name": "stdout",
     "output_type": "stream",
     "text": [
      "phase Loss: 0.0003 Acc: 0.9974\n"
     ]
    },
    {
     "name": "stderr",
     "output_type": "stream",
     "text": [
      "100%|██████████████████████████████████████████████████████████████████████████████████| 80/80 [00:13<00:00,  5.86it/s]\n"
     ]
    },
    {
     "name": "stdout",
     "output_type": "stream",
     "text": [
      "phase Loss: 0.0104 Acc: 0.9350\n",
      "3.125e-05\n",
      "Epoch 17/24\n",
      "----------\n"
     ]
    },
    {
     "name": "stderr",
     "output_type": "stream",
     "text": [
      "100%|████████████████████████████████████████████████████████████████████████████████| 453/453 [03:22<00:00,  2.63it/s]\n"
     ]
    },
    {
     "name": "stdout",
     "output_type": "stream",
     "text": [
      "phase Loss: 0.0003 Acc: 0.9972\n"
     ]
    },
    {
     "name": "stderr",
     "output_type": "stream",
     "text": [
      "100%|██████████████████████████████████████████████████████████████████████████████████| 80/80 [00:13<00:00,  5.86it/s]\n"
     ]
    },
    {
     "name": "stdout",
     "output_type": "stream",
     "text": [
      "phase Loss: 0.0103 Acc: 0.9374\n",
      "3.125e-05\n",
      "Epoch 18/24\n",
      "----------\n"
     ]
    },
    {
     "name": "stderr",
     "output_type": "stream",
     "text": [
      "100%|████████████████████████████████████████████████████████████████████████████████| 453/453 [03:21<00:00,  2.66it/s]\n"
     ]
    },
    {
     "name": "stdout",
     "output_type": "stream",
     "text": [
      "phase Loss: 0.0003 Acc: 0.9978\n"
     ]
    },
    {
     "name": "stderr",
     "output_type": "stream",
     "text": [
      "100%|██████████████████████████████████████████████████████████████████████████████████| 80/80 [00:13<00:00,  5.91it/s]\n"
     ]
    },
    {
     "name": "stdout",
     "output_type": "stream",
     "text": [
      "phase Loss: 0.0101 Acc: 0.9374\n",
      "3.125e-05\n",
      "Epoch 19/24\n",
      "----------\n"
     ]
    },
    {
     "name": "stderr",
     "output_type": "stream",
     "text": [
      "100%|████████████████████████████████████████████████████████████████████████████████| 453/453 [03:22<00:00,  2.64it/s]\n"
     ]
    },
    {
     "name": "stdout",
     "output_type": "stream",
     "text": [
      "phase Loss: 0.0003 Acc: 0.9977\n"
     ]
    },
    {
     "name": "stderr",
     "output_type": "stream",
     "text": [
      "100%|██████████████████████████████████████████████████████████████████████████████████| 80/80 [00:13<00:00,  5.96it/s]\n"
     ]
    },
    {
     "name": "stdout",
     "output_type": "stream",
     "text": [
      "phase Loss: 0.0099 Acc: 0.9409\n",
      "1.5625e-05\n",
      "Epoch 20/24\n",
      "----------\n"
     ]
    },
    {
     "name": "stderr",
     "output_type": "stream",
     "text": [
      "100%|████████████████████████████████████████████████████████████████████████████████| 453/453 [03:22<00:00,  2.63it/s]\n"
     ]
    },
    {
     "name": "stdout",
     "output_type": "stream",
     "text": [
      "phase Loss: 0.0002 Acc: 0.9980\n"
     ]
    },
    {
     "name": "stderr",
     "output_type": "stream",
     "text": [
      "100%|██████████████████████████████████████████████████████████████████████████████████| 80/80 [00:13<00:00,  5.93it/s]\n"
     ]
    },
    {
     "name": "stdout",
     "output_type": "stream",
     "text": [
      "phase Loss: 0.0105 Acc: 0.9362\n",
      "1.5625e-05\n",
      "Epoch 21/24\n",
      "----------\n"
     ]
    },
    {
     "name": "stderr",
     "output_type": "stream",
     "text": [
      "100%|████████████████████████████████████████████████████████████████████████████████| 453/453 [03:22<00:00,  2.65it/s]\n"
     ]
    },
    {
     "name": "stdout",
     "output_type": "stream",
     "text": [
      "phase Loss: 0.0002 Acc: 0.9983\n"
     ]
    },
    {
     "name": "stderr",
     "output_type": "stream",
     "text": [
      "100%|██████████████████████████████████████████████████████████████████████████████████| 80/80 [00:13<00:00,  6.03it/s]\n"
     ]
    },
    {
     "name": "stdout",
     "output_type": "stream",
     "text": [
      "phase Loss: 0.0105 Acc: 0.9393\n",
      "1.5625e-05\n",
      "Epoch 22/24\n",
      "----------\n"
     ]
    },
    {
     "name": "stderr",
     "output_type": "stream",
     "text": [
      "100%|████████████████████████████████████████████████████████████████████████████████| 453/453 [03:21<00:00,  2.66it/s]\n"
     ]
    },
    {
     "name": "stdout",
     "output_type": "stream",
     "text": [
      "phase Loss: 0.0002 Acc: 0.9982\n"
     ]
    },
    {
     "name": "stderr",
     "output_type": "stream",
     "text": [
      "100%|██████████████████████████████████████████████████████████████████████████████████| 80/80 [00:13<00:00,  5.86it/s]\n"
     ]
    },
    {
     "name": "stdout",
     "output_type": "stream",
     "text": [
      "phase Loss: 0.0098 Acc: 0.9362\n",
      "1.5625e-05\n",
      "Epoch 23/24\n",
      "----------\n"
     ]
    },
    {
     "name": "stderr",
     "output_type": "stream",
     "text": [
      "100%|████████████████████████████████████████████████████████████████████████████████| 453/453 [03:23<00:00,  2.61it/s]\n"
     ]
    },
    {
     "name": "stdout",
     "output_type": "stream",
     "text": [
      "phase Loss: 0.0002 Acc: 0.9981\n"
     ]
    },
    {
     "name": "stderr",
     "output_type": "stream",
     "text": [
      "100%|██████████████████████████████████████████████████████████████████████████████████| 80/80 [00:13<00:00,  5.86it/s]\n"
     ]
    },
    {
     "name": "stdout",
     "output_type": "stream",
     "text": [
      "phase Loss: 0.0101 Acc: 0.9378\n",
      "7.8125e-06\n",
      "Epoch 24/24\n",
      "----------\n"
     ]
    },
    {
     "name": "stderr",
     "output_type": "stream",
     "text": [
      "100%|████████████████████████████████████████████████████████████████████████████████| 453/453 [03:21<00:00,  2.63it/s]\n"
     ]
    },
    {
     "name": "stdout",
     "output_type": "stream",
     "text": [
      "phase Loss: 0.0002 Acc: 0.9982\n"
     ]
    },
    {
     "name": "stderr",
     "output_type": "stream",
     "text": [
      "100%|██████████████████████████████████████████████████████████████████████████████████| 80/80 [00:13<00:00,  5.88it/s]\n"
     ]
    },
    {
     "name": "stdout",
     "output_type": "stream",
     "text": [
      "phase Loss: 0.0108 Acc: 0.9386\n",
      "7.8125e-06\n",
      "Training complete in 90m 3s\n",
      "Best val Acc: 0.940900\n"
     ]
    }
   ],
   "source": [
    "model_conv = train_model(model_conv, {'train':train_loader, 'val':val_loader}, dataset_sizes, criterion, optimizer_conv, exp_lr_scheduler, True,\n",
    "                     num_epochs=25)"
   ]
  },
  {
   "cell_type": "code",
   "execution_count": null,
   "metadata": {},
   "outputs": [],
   "source": []
  },
  {
   "cell_type": "code",
   "execution_count": 14,
   "metadata": {},
   "outputs": [],
   "source": [
    "#model_path = 'C:\\Users\\rohit\\VirtualEnv'\n",
    "torch.save(model_conv.state_dict(), 'resnet101.pth')"
   ]
  },
  {
   "cell_type": "code",
   "execution_count": 15,
   "metadata": {},
   "outputs": [],
   "source": [
    "def test1_model(model, dataloaders, optimizer, use_gpu):\n",
    "    model.train(False)\n",
    "    predictions = []\n",
    "    labels = []\n",
    "    for data in tqdm(dataloaders):\n",
    "        inputs = data\n",
    "        if use_gpu:\n",
    "            inputs = Variable(inputs.cuda())\n",
    "        else:\n",
    "            inputs = Variable(inputs)\n",
    "\n",
    "        # zero the parameter gradients\n",
    "        optimizer.zero_grad()\n",
    "\n",
    "        # forward\n",
    "        outputs = model(inputs)\n",
    "        _, preds = torch.max(outputs.data, 1)\n",
    "        predictions.append(preds)\n",
    "        #labels.append(labels_)\n",
    "\n",
    "    return predictions"
   ]
  },
  {
   "cell_type": "code",
   "execution_count": 16,
   "metadata": {},
   "outputs": [
    {
     "name": "stderr",
     "output_type": "stream",
     "text": [
      "100%|████████████████████████████████████████████████████████████████████████████████| 229/229 [00:35<00:00,  4.73it/s]\n"
     ]
    }
   ],
   "source": [
    "predictions2 = test1_model(model_conv, test_dataloader, optimizer_conv, True)"
   ]
  },
  {
   "cell_type": "code",
   "execution_count": 17,
   "metadata": {},
   "outputs": [],
   "source": [
    "\n",
    "predictions3 = torch.cat(predictions2)\n",
    "predictions3 = np.array(predictions3.cpu())"
   ]
  },
  {
   "cell_type": "code",
   "execution_count": 18,
   "metadata": {},
   "outputs": [
    {
     "data": {
      "text/plain": [
       "7301"
      ]
     },
     "execution_count": 18,
     "metadata": {},
     "output_type": "execute_result"
    }
   ],
   "source": [
    "len(predictions3)"
   ]
  },
  {
   "cell_type": "code",
   "execution_count": 19,
   "metadata": {},
   "outputs": [
    {
     "data": {
      "text/plain": [
       "array([5, 0, 4, 4, 5], dtype=int64)"
      ]
     },
     "execution_count": 19,
     "metadata": {},
     "output_type": "execute_result"
    }
   ],
   "source": [
    "predictions3[:5]"
   ]
  },
  {
   "cell_type": "code",
   "execution_count": 20,
   "metadata": {},
   "outputs": [],
   "source": [
    "result = pd.read_csv('resnet50_15_col.csv')"
   ]
  },
  {
   "cell_type": "code",
   "execution_count": 21,
   "metadata": {},
   "outputs": [
    {
     "data": {
      "text/plain": [
       "7301"
      ]
     },
     "execution_count": 21,
     "metadata": {},
     "output_type": "execute_result"
    }
   ],
   "source": [
    "result.shape[0]"
   ]
  },
  {
   "cell_type": "code",
   "execution_count": 22,
   "metadata": {},
   "outputs": [],
   "source": [
    "result['label'] = predictions3"
   ]
  },
  {
   "cell_type": "code",
   "execution_count": 23,
   "metadata": {},
   "outputs": [
    {
     "data": {
      "text/html": [
       "<div>\n",
       "<style scoped>\n",
       "    .dataframe tbody tr th:only-of-type {\n",
       "        vertical-align: middle;\n",
       "    }\n",
       "\n",
       "    .dataframe tbody tr th {\n",
       "        vertical-align: top;\n",
       "    }\n",
       "\n",
       "    .dataframe thead th {\n",
       "        text-align: right;\n",
       "    }\n",
       "</style>\n",
       "<table border=\"1\" class=\"dataframe\">\n",
       "  <thead>\n",
       "    <tr style=\"text-align: right;\">\n",
       "      <th></th>\n",
       "      <th>image_name</th>\n",
       "      <th>label</th>\n",
       "    </tr>\n",
       "  </thead>\n",
       "  <tbody>\n",
       "    <tr>\n",
       "      <th>0</th>\n",
       "      <td>3.jpg</td>\n",
       "      <td>5</td>\n",
       "    </tr>\n",
       "    <tr>\n",
       "      <th>1</th>\n",
       "      <td>5.jpg</td>\n",
       "      <td>0</td>\n",
       "    </tr>\n",
       "    <tr>\n",
       "      <th>2</th>\n",
       "      <td>6.jpg</td>\n",
       "      <td>4</td>\n",
       "    </tr>\n",
       "    <tr>\n",
       "      <th>3</th>\n",
       "      <td>11.jpg</td>\n",
       "      <td>4</td>\n",
       "    </tr>\n",
       "    <tr>\n",
       "      <th>4</th>\n",
       "      <td>14.jpg</td>\n",
       "      <td>5</td>\n",
       "    </tr>\n",
       "  </tbody>\n",
       "</table>\n",
       "</div>"
      ],
      "text/plain": [
       "  image_name  label\n",
       "0      3.jpg      5\n",
       "1      5.jpg      0\n",
       "2      6.jpg      4\n",
       "3     11.jpg      4\n",
       "4     14.jpg      5"
      ]
     },
     "execution_count": 23,
     "metadata": {},
     "output_type": "execute_result"
    }
   ],
   "source": [
    "result.head()"
   ]
  },
  {
   "cell_type": "code",
   "execution_count": 24,
   "metadata": {},
   "outputs": [],
   "source": [
    "result.to_csv('torch_resnet101.csv')"
   ]
  },
  {
   "cell_type": "markdown",
   "metadata": {},
   "source": [
    "# ResNet152"
   ]
  },
  {
   "cell_type": "code",
   "execution_count": 1,
   "metadata": {},
   "outputs": [],
   "source": [
    "from __future__ import print_function, division\n",
    "import os\n",
    "import torch\n",
    "import pandas as pd\n",
    "from skimage import io, transform\n",
    "import numpy as np\n",
    "import matplotlib.pyplot as plt\n",
    "from torch.utils.data import Dataset, DataLoader\n",
    "from torchvision import transforms, utils\n",
    "from PIL import Image\n",
    "\n",
    "import torchvision\n",
    "import torch.nn as nn\n",
    "import torch.optim as optim\n",
    "from torch.optim import lr_scheduler\n",
    "import numpy as np\n",
    "import time\n",
    "import os\n",
    "import argparse\n",
    "# from tensorboardX import SummaryWriter\n",
    "from torch.utils.data.sampler import SubsetRandomSampler"
   ]
  },
  {
   "cell_type": "code",
   "execution_count": 2,
   "metadata": {},
   "outputs": [],
   "source": [
    "class SceneDataset(Dataset):\n",
    "\n",
    "    def __init__(self, csv_file, root_dir, transform=None, mode='train'):\n",
    "        \"\"\"\n",
    "        Args:\n",
    "            csv_file (string): Path to the csv file with annotations.\n",
    "            root_dir (string): Directory with all the images.\n",
    "            transform (callable, optional): Optional transform to be applied\n",
    "                on a sample.\n",
    "        \"\"\"\n",
    "        self.mode = mode\n",
    "        self.image_frame = pd.read_csv(csv_file)\n",
    "        self.img_name = self.image_frame.image_name\n",
    "        self.root_dir = root_dir\n",
    "        self.transform = transform\n",
    "\n",
    "    def __len__(self):\n",
    "        return len(self.img_name)\n",
    "\n",
    "    def __getitem__(self, idx):\n",
    "        image = cv2.imread(self.root_dir + '/' + self.img_name[idx])\n",
    "        if self.mode == 'train':\n",
    "            label = self.image_frame.iloc[idx].label\n",
    "\n",
    "        if self.transform:\n",
    "            image = self.transform(Image.fromarray(image))\n",
    "\n",
    "        if self.mode == 'train':\n",
    "            return image, label\n",
    "        else:\n",
    "            return image"
   ]
  },
  {
   "cell_type": "code",
   "execution_count": 3,
   "metadata": {},
   "outputs": [],
   "source": [
    "#Input the Training and Testing Data\n",
    "import cv2\n",
    "train_path = 'train-scene/train'\n",
    "\n",
    "train_dataset = SceneDataset(csv_file='train-scene/train.csv',\n",
    "                                    root_dir=train_path, transform=transforms.Compose([\n",
    "                                               transforms.RandomHorizontalFlip(),\n",
    "#                                                transforms.RandomVerticalFlip(),\n",
    "#                                                transforms.RandomRotation(90),\n",
    "                                               transforms.Resize((224, 224)),\n",
    "                                               transforms.RandomRotation(30),\n",
    "                                               transforms.ToTensor()\n",
    "                                           ]), mode = 'train')\n",
    "train_dataloader = DataLoader(train_dataset, batch_size=32,\n",
    "                        shuffle=False, num_workers=0)"
   ]
  },
  {
   "cell_type": "code",
   "execution_count": 4,
   "metadata": {},
   "outputs": [],
   "source": [
    "\n",
    "test_dataset = SceneDataset(csv_file='test.csv', root_dir=train_path, transform=transforms.Compose([transforms.Resize((224, 224)), transforms.ToTensor()]), mode = 'val')\n",
    "test_dataloader = DataLoader(test_dataset, batch_size=32,\n",
    "                        shuffle=False, num_workers=0)\n",
    "\n",
    "validation_split = .15\n",
    "dataset_size = len(train_dataset)\n",
    "indices = list(range(dataset_size))\n",
    "split = int(np.floor(validation_split * dataset_size))\n",
    "# if shuffle_dataset :\n",
    "#     np.random.seed(random_seed)\n",
    "#     np.random.shuffle(indices)\n",
    "train_indices, val_indices = indices[split:], indices[:split]\n",
    "\n",
    "# Creating PT data samplers and loaders:\n",
    "train_sampler = SubsetRandomSampler(train_indices)\n",
    "valid_sampler = SubsetRandomSampler(val_indices)\n",
    "train_loader = torch.utils.data.DataLoader(train_dataset, batch_size=32, \n",
    "                                           sampler=train_sampler,shuffle=False, num_workers=0)\n",
    "val_loader = torch.utils.data.DataLoader(train_dataset, batch_size=32,\n",
    "                                                sampler=valid_sampler, shuffle=False, num_workers=0)"
   ]
  },
  {
   "cell_type": "code",
   "execution_count": 5,
   "metadata": {},
   "outputs": [
    {
     "name": "stdout",
     "output_type": "stream",
     "text": [
      "{'train': 14479, 'val': 2555}\n",
      "533 229 453 80\n"
     ]
    }
   ],
   "source": [
    "dataset_sizes = {'train': len(train_dataset) - split, 'val': split}\n",
    "print (dataset_sizes)\n",
    "print (len(train_dataloader), len(test_dataloader), len(train_loader), len(val_loader))"
   ]
  },
  {
   "cell_type": "code",
   "execution_count": 6,
   "metadata": {},
   "outputs": [],
   "source": [
    "import torch\n",
    "import torch.nn as nn\n",
    "import torch.optim as optim\n",
    "from torch.optim import lr_scheduler\n",
    "from torch.autograd import Variable\n",
    "import torchvision\n",
    "from torchvision import datasets, models, transforms\n",
    "\n",
    "import numpy as np\n",
    "import time\n",
    "import os\n",
    "from tqdm import tqdm\n",
    "from sklearn.metrics import accuracy_score\n",
    "import pandas as pd\n",
    "\n",
    "\n",
    "\n",
    "n_class = 6\n",
    "kernel_size = (1,1)\n",
    "stride = (1,1)\n",
    "\n",
    "\"\"\" training functions\n",
    "\"\"\"\n",
    "model_conv = torchvision.models.resnet152(pretrained='imagenet')\n",
    "#num_ftrs = model_conv.classifier.in_features\n",
    "#maxm = 0\n",
    "#for i, param in model_conv.named_parameters():\n",
    "#    maxm = maxm + 1\n",
    "#    if maxm < 182:\n",
    "#      param.requires_grad = False\n",
    "#print(maxm)\n",
    "#model_conv.classifier = nn.Linear(num_ftrs, 6)\n",
    "#\n"
   ]
  },
  {
   "cell_type": "code",
   "execution_count": 11,
   "metadata": {},
   "outputs": [
    {
     "name": "stdout",
     "output_type": "stream",
     "text": [
      "467\n"
     ]
    }
   ],
   "source": [
    "maxm = 0\n",
    "for param in model_conv.parameters():\n",
    "    maxm = maxm+1\n",
    "print(maxm)"
   ]
  },
  {
   "cell_type": "code",
   "execution_count": 12,
   "metadata": {},
   "outputs": [],
   "source": [
    "maxm = 0\n",
    "for param in model_conv.parameters():\n",
    "    maxm = maxm+1\n",
    "    if maxm < 445:\n",
    "        param.requires_grad = False\n",
    "num_ftrs = model_conv.fc.in_features\n",
    "model_conv.fc = nn.Linear(num_ftrs, 6)\n",
    "model_conv = model_conv.cuda()"
   ]
  },
  {
   "cell_type": "code",
   "execution_count": 13,
   "metadata": {},
   "outputs": [],
   "source": [
    "\n",
    "criterion = nn.CrossEntropyLoss().cuda()\n",
    "optimizer_conv = optim.Adam(list(filter(lambda p: p.requires_grad, model_conv.parameters())), lr=5e-4)\n",
    "exp_lr_scheduler = lr_scheduler.ReduceLROnPlateau(optimizer_conv,mode = 'min', patience=3, factor = 0.5)\n"
   ]
  },
  {
   "cell_type": "code",
   "execution_count": 16,
   "metadata": {},
   "outputs": [],
   "source": [
    "def train_model(model, dataloaders, dataset_sizes, criterion, optimizer, scheduler, use_gpu, num_epochs=25, mixup = False, alpha = 0.1):\n",
    "    since = time.time()\n",
    "\n",
    "    best_model_wts = model.state_dict()\n",
    "    best_acc = 0.0\n",
    "\n",
    "    for epoch in range(num_epochs):\n",
    "        print('Epoch {}/{}'.format(epoch, num_epochs - 1))\n",
    "        print('-' * 10)\n",
    "        for phase in ['train', 'val']:\n",
    "            if phase == 'train':\n",
    "                model.train(True)  # Set model to training mode\n",
    "            else:\n",
    "                model.train(False)  # Set model to evaluate mode\n",
    "\n",
    "            running_loss = 0.0\n",
    "            running_corrects = 0\n",
    "\n",
    "            # Iterate over data.\n",
    "            # get the inputs\n",
    "            for data in tqdm(dataloaders[phase]):\n",
    "                inputs, labels = data\n",
    "                if use_gpu:\n",
    "                    inputs, labels = Variable(inputs.cuda()), Variable(labels.cuda())\n",
    "                    inputs, labels = inputs.cuda(), labels.cuda()\n",
    "                else:\n",
    "                    inputs, labels = Variable(inputs), Variable(labels)\n",
    "\n",
    "                # zero the parameter gradients\n",
    "                optimizer.zero_grad()\n",
    "\n",
    "                # forward\n",
    "                outputs = model(inputs)\n",
    "                if type(outputs) == tuple:\n",
    "                    outputs, _ = outputs\n",
    "                _, preds = torch.max(outputs.data, 1)\n",
    "                loss = criterion(outputs, labels)\n",
    "\n",
    "                # backward + optimize only if in training phase\n",
    "                if phase == 'train':\n",
    "                    loss.backward()\n",
    "                    optimizer.step()\n",
    "\n",
    "                # statistics\n",
    "                running_loss += loss.data\n",
    "                running_corrects += torch.sum(preds == labels.data)\n",
    "\n",
    "            epoch_loss = float(running_loss.cpu()) / dataset_sizes[phase]\n",
    "            epoch_acc = float(running_corrects.cpu()) / dataset_sizes[phase]\n",
    "\n",
    "\n",
    "            print('{} Loss: {:.4f} Acc: {:.4f}'.format(\n",
    "                'phase', epoch_loss, epoch_acc))\n",
    "#             print (int(running_corrects.cpu()))\n",
    "\n",
    "            # deep copy the model\n",
    "            if phase == 'val' and epoch_acc > best_acc:\n",
    "                best_acc = epoch_acc\n",
    "                best_model_wts = model.state_dict()\n",
    "        scheduler.step(epoch_loss)\n",
    "        for param_group in optimizer.param_groups:\n",
    "          print(param_group['lr'])\n",
    "\n",
    "\n",
    "    time_elapsed = time.time() - since\n",
    "    print('Training complete in {:.0f}m {:.0f}s'.format(\n",
    "        time_elapsed // 60, time_elapsed % 60))\n",
    "    print('Best val Acc: {:4f}'.format(best_acc))\n",
    "\n",
    "    # load best model weights\n",
    "    model.load_state_dict(best_model_wts)\n",
    "    return model\n",
    "\n"
   ]
  },
  {
   "cell_type": "code",
   "execution_count": 18,
   "metadata": {},
   "outputs": [
    {
     "name": "stdout",
     "output_type": "stream",
     "text": [
      "Epoch 0/4\n",
      "----------\n"
     ]
    },
    {
     "name": "stderr",
     "output_type": "stream",
     "text": [
      "100%|████████████████████████████████████████████████████████████████████████████████| 453/453 [01:54<00:00,  3.94it/s]\n"
     ]
    },
    {
     "name": "stdout",
     "output_type": "stream",
     "text": [
      "phase Loss: 0.0053 Acc: 0.9391\n"
     ]
    },
    {
     "name": "stderr",
     "output_type": "stream",
     "text": [
      "100%|██████████████████████████████████████████████████████████████████████████████████| 80/80 [00:17<00:00,  4.59it/s]\n"
     ]
    },
    {
     "name": "stdout",
     "output_type": "stream",
     "text": [
      "phase Loss: 0.0078 Acc: 0.9162\n",
      "0.0005\n",
      "Epoch 1/4\n",
      "----------\n"
     ]
    },
    {
     "name": "stderr",
     "output_type": "stream",
     "text": [
      "100%|████████████████████████████████████████████████████████████████████████████████| 453/453 [01:55<00:00,  3.93it/s]\n"
     ]
    },
    {
     "name": "stdout",
     "output_type": "stream",
     "text": [
      "phase Loss: 0.0051 Acc: 0.9405\n"
     ]
    },
    {
     "name": "stderr",
     "output_type": "stream",
     "text": [
      "100%|██████████████████████████████████████████████████████████████████████████████████| 80/80 [00:17<00:00,  4.58it/s]\n"
     ]
    },
    {
     "name": "stdout",
     "output_type": "stream",
     "text": [
      "phase Loss: 0.0070 Acc: 0.9303\n",
      "0.0005\n",
      "Epoch 2/4\n",
      "----------\n"
     ]
    },
    {
     "name": "stderr",
     "output_type": "stream",
     "text": [
      "100%|████████████████████████████████████████████████████████████████████████████████| 453/453 [01:55<00:00,  3.95it/s]\n"
     ]
    },
    {
     "name": "stdout",
     "output_type": "stream",
     "text": [
      "phase Loss: 0.0045 Acc: 0.9488\n"
     ]
    },
    {
     "name": "stderr",
     "output_type": "stream",
     "text": [
      "100%|██████████████████████████████████████████████████████████████████████████████████| 80/80 [00:17<00:00,  4.56it/s]\n"
     ]
    },
    {
     "name": "stdout",
     "output_type": "stream",
     "text": [
      "phase Loss: 0.0072 Acc: 0.9295\n",
      "0.0005\n",
      "Epoch 3/4\n",
      "----------\n"
     ]
    },
    {
     "name": "stderr",
     "output_type": "stream",
     "text": [
      "100%|████████████████████████████████████████████████████████████████████████████████| 453/453 [01:55<00:00,  3.92it/s]\n"
     ]
    },
    {
     "name": "stdout",
     "output_type": "stream",
     "text": [
      "phase Loss: 0.0041 Acc: 0.9519\n"
     ]
    },
    {
     "name": "stderr",
     "output_type": "stream",
     "text": [
      "100%|██████████████████████████████████████████████████████████████████████████████████| 80/80 [00:17<00:00,  4.51it/s]\n"
     ]
    },
    {
     "name": "stdout",
     "output_type": "stream",
     "text": [
      "phase Loss: 0.0071 Acc: 0.9284\n",
      "0.0005\n",
      "Epoch 4/4\n",
      "----------\n"
     ]
    },
    {
     "name": "stderr",
     "output_type": "stream",
     "text": [
      "100%|████████████████████████████████████████████████████████████████████████████████| 453/453 [01:56<00:00,  3.91it/s]\n"
     ]
    },
    {
     "name": "stdout",
     "output_type": "stream",
     "text": [
      "phase Loss: 0.0040 Acc: 0.9543\n"
     ]
    },
    {
     "name": "stderr",
     "output_type": "stream",
     "text": [
      "100%|██████████████████████████████████████████████████████████████████████████████████| 80/80 [00:17<00:00,  4.58it/s]\n"
     ]
    },
    {
     "name": "stdout",
     "output_type": "stream",
     "text": [
      "phase Loss: 0.0068 Acc: 0.9319\n",
      "0.0005\n",
      "Training complete in 11m 5s\n",
      "Best val Acc: 0.931898\n"
     ]
    }
   ],
   "source": [
    "model_conv = train_model(model_conv, {'train':train_loader, 'val':val_loader}, dataset_sizes, criterion, optimizer_conv, exp_lr_scheduler, True,\n",
    "                     num_epochs=5)"
   ]
  },
  {
   "cell_type": "code",
   "execution_count": null,
   "metadata": {},
   "outputs": [],
   "source": []
  },
  {
   "cell_type": "code",
   "execution_count": 19,
   "metadata": {},
   "outputs": [],
   "source": [
    "#model_path = 'C:\\Users\\rohit\\VirtualEnv'\n",
    "torch.save(model_conv.state_dict(), 'resnet152.pth')"
   ]
  },
  {
   "cell_type": "code",
   "execution_count": 20,
   "metadata": {},
   "outputs": [],
   "source": [
    "def test1_model(model, dataloaders, optimizer, use_gpu):\n",
    "    model.train(False)\n",
    "    predictions = []\n",
    "    labels = []\n",
    "    for data in tqdm(dataloaders):\n",
    "        inputs = data\n",
    "        if use_gpu:\n",
    "            inputs = Variable(inputs.cuda())\n",
    "        else:\n",
    "            inputs = Variable(inputs)\n",
    "\n",
    "        # zero the parameter gradients\n",
    "        optimizer.zero_grad()\n",
    "\n",
    "        # forward\n",
    "        outputs = model(inputs)\n",
    "        _, preds = torch.max(outputs.data, 1)\n",
    "        predictions.append(preds)\n",
    "        #labels.append(labels_)\n",
    "\n",
    "    return predictions"
   ]
  },
  {
   "cell_type": "code",
   "execution_count": 21,
   "metadata": {},
   "outputs": [
    {
     "name": "stderr",
     "output_type": "stream",
     "text": [
      "100%|████████████████████████████████████████████████████████████████████████████████| 229/229 [00:48<00:00,  4.56it/s]\n"
     ]
    }
   ],
   "source": [
    "predictions2 = test1_model(model_conv, test_dataloader, optimizer_conv, True)"
   ]
  },
  {
   "cell_type": "code",
   "execution_count": 22,
   "metadata": {},
   "outputs": [],
   "source": [
    "\n",
    "predictions3 = torch.cat(predictions2)\n",
    "predictions3 = np.array(predictions3.cpu())"
   ]
  },
  {
   "cell_type": "code",
   "execution_count": 23,
   "metadata": {},
   "outputs": [
    {
     "data": {
      "text/plain": [
       "7301"
      ]
     },
     "execution_count": 23,
     "metadata": {},
     "output_type": "execute_result"
    }
   ],
   "source": [
    "len(predictions3)"
   ]
  },
  {
   "cell_type": "code",
   "execution_count": 24,
   "metadata": {},
   "outputs": [
    {
     "data": {
      "text/plain": [
       "array([5, 0, 4, 2, 5], dtype=int64)"
      ]
     },
     "execution_count": 24,
     "metadata": {},
     "output_type": "execute_result"
    }
   ],
   "source": [
    "predictions3[:5]"
   ]
  },
  {
   "cell_type": "code",
   "execution_count": 25,
   "metadata": {},
   "outputs": [],
   "source": [
    "result = pd.read_csv('resnet50_15_col.csv')"
   ]
  },
  {
   "cell_type": "code",
   "execution_count": 26,
   "metadata": {},
   "outputs": [
    {
     "data": {
      "text/plain": [
       "7301"
      ]
     },
     "execution_count": 26,
     "metadata": {},
     "output_type": "execute_result"
    }
   ],
   "source": [
    "result.shape[0]"
   ]
  },
  {
   "cell_type": "code",
   "execution_count": 27,
   "metadata": {},
   "outputs": [],
   "source": [
    "result['label'] = predictions3"
   ]
  },
  {
   "cell_type": "code",
   "execution_count": 23,
   "metadata": {},
   "outputs": [
    {
     "data": {
      "text/html": [
       "<div>\n",
       "<style scoped>\n",
       "    .dataframe tbody tr th:only-of-type {\n",
       "        vertical-align: middle;\n",
       "    }\n",
       "\n",
       "    .dataframe tbody tr th {\n",
       "        vertical-align: top;\n",
       "    }\n",
       "\n",
       "    .dataframe thead th {\n",
       "        text-align: right;\n",
       "    }\n",
       "</style>\n",
       "<table border=\"1\" class=\"dataframe\">\n",
       "  <thead>\n",
       "    <tr style=\"text-align: right;\">\n",
       "      <th></th>\n",
       "      <th>image_name</th>\n",
       "      <th>label</th>\n",
       "    </tr>\n",
       "  </thead>\n",
       "  <tbody>\n",
       "    <tr>\n",
       "      <th>0</th>\n",
       "      <td>3.jpg</td>\n",
       "      <td>5</td>\n",
       "    </tr>\n",
       "    <tr>\n",
       "      <th>1</th>\n",
       "      <td>5.jpg</td>\n",
       "      <td>0</td>\n",
       "    </tr>\n",
       "    <tr>\n",
       "      <th>2</th>\n",
       "      <td>6.jpg</td>\n",
       "      <td>4</td>\n",
       "    </tr>\n",
       "    <tr>\n",
       "      <th>3</th>\n",
       "      <td>11.jpg</td>\n",
       "      <td>4</td>\n",
       "    </tr>\n",
       "    <tr>\n",
       "      <th>4</th>\n",
       "      <td>14.jpg</td>\n",
       "      <td>5</td>\n",
       "    </tr>\n",
       "  </tbody>\n",
       "</table>\n",
       "</div>"
      ],
      "text/plain": [
       "  image_name  label\n",
       "0      3.jpg      5\n",
       "1      5.jpg      0\n",
       "2      6.jpg      4\n",
       "3     11.jpg      4\n",
       "4     14.jpg      5"
      ]
     },
     "execution_count": 23,
     "metadata": {},
     "output_type": "execute_result"
    }
   ],
   "source": [
    "result.head()"
   ]
  },
  {
   "cell_type": "code",
   "execution_count": 28,
   "metadata": {},
   "outputs": [],
   "source": [
    "result.to_csv('torch_resnet152.csv')"
   ]
  },
  {
   "cell_type": "markdown",
   "metadata": {},
   "source": [
    "# Densenet169"
   ]
  },
  {
   "cell_type": "code",
   "execution_count": null,
   "metadata": {},
   "outputs": [],
   "source": []
  },
  {
   "cell_type": "code",
   "execution_count": 2,
   "metadata": {},
   "outputs": [],
   "source": [
    "from __future__ import print_function, division\n",
    "import os\n",
    "import torch\n",
    "import pandas as pd\n",
    "from skimage import io, transform\n",
    "import numpy as np\n",
    "import matplotlib.pyplot as plt\n",
    "from torch.utils.data import Dataset, DataLoader\n",
    "from torchvision import transforms, utils\n",
    "from PIL import Image\n",
    "\n",
    "import torchvision\n",
    "import torch.nn as nn\n",
    "import torch.optim as optim\n",
    "from torch.optim import lr_scheduler\n",
    "import numpy as np\n",
    "import time\n",
    "import os\n",
    "import argparse\n",
    "# from tensorboardX import SummaryWriter\n",
    "from torch.utils.data.sampler import SubsetRandomSampler"
   ]
  },
  {
   "cell_type": "code",
   "execution_count": 3,
   "metadata": {},
   "outputs": [],
   "source": [
    "class SceneDataset(Dataset):\n",
    "\n",
    "    def __init__(self, csv_file, root_dir, transform=None, mode='train'):\n",
    "        \"\"\"\n",
    "        Args:\n",
    "            csv_file (string): Path to the csv file with annotations.\n",
    "            root_dir (string): Directory with all the images.\n",
    "            transform (callable, optional): Optional transform to be applied\n",
    "                on a sample.\n",
    "        \"\"\"\n",
    "        self.mode = mode\n",
    "        self.image_frame = pd.read_csv(csv_file)\n",
    "        self.img_name = self.image_frame.image_name\n",
    "        self.root_dir = root_dir\n",
    "        self.transform = transform\n",
    "\n",
    "    def __len__(self):\n",
    "        return len(self.img_name)\n",
    "\n",
    "    def __getitem__(self, idx):\n",
    "        image = cv2.imread(self.root_dir + '/' + self.img_name[idx])\n",
    "        if self.mode == 'train':\n",
    "            label = self.image_frame.iloc[idx].label\n",
    "\n",
    "        if self.transform:\n",
    "            image = self.transform(Image.fromarray(image))\n",
    "\n",
    "        if self.mode == 'train':\n",
    "            return image, label\n",
    "        else:\n",
    "            return image"
   ]
  },
  {
   "cell_type": "code",
   "execution_count": 4,
   "metadata": {},
   "outputs": [],
   "source": [
    "#Input the Training and Testing Data\n",
    "import cv2\n",
    "train_path = 'train-scene/train'\n",
    "\n",
    "train_dataset = SceneDataset(csv_file='train-scene/train.csv',\n",
    "                                    root_dir=train_path, transform=transforms.Compose([\n",
    "                                               transforms.RandomHorizontalFlip(),\n",
    "#                                                transforms.RandomVerticalFlip(),\n",
    "#                                                transforms.RandomRotation(90),\n",
    "                                               transforms.Resize((224, 224)),\n",
    "                                               transforms.RandomRotation(30),\n",
    "                                               transforms.ToTensor()\n",
    "                                           ]), mode = 'train')\n",
    "train_dataloader = DataLoader(train_dataset, batch_size=32,\n",
    "                        shuffle=False, num_workers=0)"
   ]
  },
  {
   "cell_type": "code",
   "execution_count": 5,
   "metadata": {},
   "outputs": [],
   "source": [
    "\n",
    "test_dataset = SceneDataset(csv_file='test.csv', root_dir=train_path, transform=transforms.Compose([transforms.Resize((224, 224)), transforms.ToTensor()]), mode = 'val')\n",
    "test_dataloader = DataLoader(test_dataset, batch_size=32,\n",
    "                        shuffle=False, num_workers=0)\n",
    "\n",
    "validation_split = .15\n",
    "dataset_size = len(train_dataset)\n",
    "indices = list(range(dataset_size))\n",
    "split = int(np.floor(validation_split * dataset_size))\n",
    "# if shuffle_dataset :\n",
    "#     np.random.seed(random_seed)\n",
    "#     np.random.shuffle(indices)\n",
    "train_indices, val_indices = indices[split:], indices[:split]\n",
    "\n",
    "# Creating PT data samplers and loaders:\n",
    "train_sampler = SubsetRandomSampler(train_indices)\n",
    "valid_sampler = SubsetRandomSampler(val_indices)\n",
    "train_loader = torch.utils.data.DataLoader(train_dataset, batch_size=32, \n",
    "                                           sampler=train_sampler,shuffle=False, num_workers=0)\n",
    "val_loader = torch.utils.data.DataLoader(train_dataset, batch_size=32,\n",
    "                                                sampler=valid_sampler, shuffle=False, num_workers=0)"
   ]
  },
  {
   "cell_type": "code",
   "execution_count": 6,
   "metadata": {},
   "outputs": [
    {
     "name": "stdout",
     "output_type": "stream",
     "text": [
      "{'train': 14479, 'val': 2555}\n",
      "533 229 453 80\n"
     ]
    }
   ],
   "source": [
    "dataset_sizes = {'train': len(train_dataset) - split, 'val': split}\n",
    "print (dataset_sizes)\n",
    "print (len(train_dataloader), len(test_dataloader), len(train_loader), len(val_loader))"
   ]
  },
  {
   "cell_type": "code",
   "execution_count": 7,
   "metadata": {},
   "outputs": [
    {
     "name": "stderr",
     "output_type": "stream",
     "text": [
      "c:\\users\\rohit\\virtualenv\\lib\\site-packages\\torchvision\\models\\densenet.py:212: UserWarning: nn.init.kaiming_normal is now deprecated in favor of nn.init.kaiming_normal_.\n",
      "  nn.init.kaiming_normal(m.weight.data)\n",
      "Downloading: \"https://download.pytorch.org/models/densenet169-b2777c0a.pth\" to C:\\Users\\rohit/.torch\\models\\densenet169-b2777c0a.pth\n",
      "57365526it [00:48, 1183761.48it/s]\n"
     ]
    }
   ],
   "source": [
    "import torch\n",
    "import torch.nn as nn\n",
    "import torch.optim as optim\n",
    "from torch.optim import lr_scheduler\n",
    "from torch.autograd import Variable\n",
    "import torchvision\n",
    "from torchvision import datasets, models, transforms\n",
    "\n",
    "import numpy as np\n",
    "import time\n",
    "import os\n",
    "from tqdm import tqdm\n",
    "from sklearn.metrics import accuracy_score\n",
    "import pandas as pd\n",
    "\n",
    "\n",
    "\n",
    "n_class = 6\n",
    "kernel_size = (1,1)\n",
    "stride = (1,1)\n",
    "\n",
    "\"\"\" training functions\n",
    "\"\"\"\n",
    "model_conv = torchvision.models.densenet169(pretrained='imagenet')\n",
    "#num_ftrs = model_conv.classifier.in_features\n",
    "#maxm = 0\n",
    "#for i, param in model_conv.named_parameters():\n",
    "#    maxm = maxm + 1\n",
    "#    if maxm < 182:\n",
    "#      param.requires_grad = False\n",
    "#print(maxm)\n",
    "#model_conv.classifier = nn.Linear(num_ftrs, 6)\n",
    "#\n"
   ]
  },
  {
   "cell_type": "code",
   "execution_count": 8,
   "metadata": {},
   "outputs": [
    {
     "name": "stdout",
     "output_type": "stream",
     "text": [
      "508\n"
     ]
    }
   ],
   "source": [
    "maxm = 0\n",
    "for param in model_conv.parameters():\n",
    "    maxm = maxm+1\n",
    "print(maxm)"
   ]
  },
  {
   "cell_type": "code",
   "execution_count": 32,
   "metadata": {},
   "outputs": [],
   "source": [
    "maxm = 0\n",
    "for param in model_conv.parameters():\n",
    "    maxm = maxm+1\n",
    "    if maxm < 470:\n",
    "        param.requires_grad = False\n",
    "num_ftrs = model_conv.classifier.in_features\n",
    "model_conv.classifier = nn.Linear(num_ftrs, 6)\n",
    "model_conv = model_conv.cuda()"
   ]
  },
  {
   "cell_type": "code",
   "execution_count": 36,
   "metadata": {},
   "outputs": [],
   "source": [
    "\n",
    "criterion = nn.CrossEntropyLoss().cuda()\n",
    "optimizer_conv = optim.Adam(list(filter(lambda p: p.requires_grad, model_conv.parameters())), lr=5e-4)\n",
    "exp_lr_scheduler = lr_scheduler.ReduceLROnPlateau(optimizer_conv,mode = 'min', patience=3, factor = 0.5)\n"
   ]
  },
  {
   "cell_type": "code",
   "execution_count": 37,
   "metadata": {},
   "outputs": [],
   "source": [
    "def train_model(model, dataloaders, dataset_sizes, criterion, optimizer, scheduler, use_gpu, num_epochs=25, mixup = False, alpha = 0.1):\n",
    "    since = time.time()\n",
    "\n",
    "    best_model_wts = model.state_dict()\n",
    "    best_acc = 0.0\n",
    "\n",
    "    for epoch in range(num_epochs):\n",
    "        print('Epoch {}/{}'.format(epoch, num_epochs - 1))\n",
    "        print('-' * 10)\n",
    "        for phase in ['train', 'val']:\n",
    "            if phase == 'train':\n",
    "                model.train(True)  # Set model to training mode\n",
    "            else:\n",
    "                model.train(False)  # Set model to evaluate mode\n",
    "\n",
    "            running_loss = 0.0\n",
    "            running_corrects = 0\n",
    "\n",
    "            # Iterate over data.\n",
    "            # get the inputs\n",
    "            for data in tqdm(dataloaders[phase]):\n",
    "                inputs, labels = data\n",
    "                if use_gpu:\n",
    "                    inputs, labels = Variable(inputs), Variable(labels)\n",
    "                    inputs, labels = inputs.cuda(), labels.cuda()\n",
    "                else:\n",
    "                    inputs, labels = Variable(inputs), Variable(labels)\n",
    "\n",
    "                # zero the parameter gradients\n",
    "                optimizer.zero_grad()\n",
    "\n",
    "                # forward\n",
    "                outputs = model(inputs)\n",
    "                if type(outputs) == tuple:\n",
    "                    outputs, _ = outputs\n",
    "                _, preds = torch.max(outputs.data, 1)\n",
    "                loss = criterion(outputs, labels)\n",
    "\n",
    "                # backward + optimize only if in training phase\n",
    "                if phase == 'train':\n",
    "                    loss.backward()\n",
    "                    optimizer.step()\n",
    "\n",
    "                # statistics\n",
    "                running_loss += loss.data\n",
    "                running_corrects += torch.sum(preds == labels.data)\n",
    "\n",
    "            epoch_loss = float(running_loss.cpu()) / dataset_sizes[phase]\n",
    "            epoch_acc = float(running_corrects.cpu()) / dataset_sizes[phase]\n",
    "\n",
    "\n",
    "            print('{} Loss: {:.4f} Acc: {:.4f}'.format(\n",
    "                'phase', epoch_loss, epoch_acc))\n",
    "#             print (int(running_corrects.cpu()))\n",
    "\n",
    "            # deep copy the model\n",
    "            if phase == 'val' and epoch_acc > best_acc:\n",
    "                best_acc = epoch_acc\n",
    "                best_model_wts = model.state_dict()\n",
    "        scheduler.step(epoch_loss)\n",
    "        for param_group in optimizer.param_groups:\n",
    "          print(param_group['lr'])\n",
    "\n",
    "\n",
    "    time_elapsed = time.time() - since\n",
    "    print('Training complete in {:.0f}m {:.0f}s'.format(\n",
    "        time_elapsed // 60, time_elapsed % 60))\n",
    "    print('Best val Acc: {:4f}'.format(best_acc))\n",
    "\n",
    "    # load best model weights\n",
    "    model.load_state_dict(best_model_wts)\n",
    "    return model\n",
    "\n"
   ]
  },
  {
   "cell_type": "code",
   "execution_count": 35,
   "metadata": {},
   "outputs": [
    {
     "name": "stdout",
     "output_type": "stream",
     "text": [
      "Epoch 0/2\n",
      "----------\n"
     ]
    },
    {
     "name": "stderr",
     "output_type": "stream",
     "text": [
      "100%|████████████████████████████████████████████████████████████████████████████████| 453/453 [01:29<00:00,  5.41it/s]\n"
     ]
    },
    {
     "name": "stdout",
     "output_type": "stream",
     "text": [
      "phase Loss: 0.0527 Acc: 0.3683\n"
     ]
    },
    {
     "name": "stderr",
     "output_type": "stream",
     "text": [
      "100%|██████████████████████████████████████████████████████████████████████████████████| 80/80 [00:12<00:00,  5.97it/s]\n"
     ]
    },
    {
     "name": "stdout",
     "output_type": "stream",
     "text": [
      "phase Loss: 0.0484 Acc: 0.5499\n",
      "5e-06\n",
      "Epoch 1/2\n",
      "----------\n"
     ]
    },
    {
     "name": "stderr",
     "output_type": "stream",
     "text": [
      "100%|████████████████████████████████████████████████████████████████████████████████| 453/453 [01:30<00:00,  5.44it/s]\n"
     ]
    },
    {
     "name": "stdout",
     "output_type": "stream",
     "text": [
      "phase Loss: 0.0455 Acc: 0.6514\n"
     ]
    },
    {
     "name": "stderr",
     "output_type": "stream",
     "text": [
      "100%|██████████████████████████████████████████████████████████████████████████████████| 80/80 [00:13<00:00,  5.50it/s]\n"
     ]
    },
    {
     "name": "stdout",
     "output_type": "stream",
     "text": [
      "phase Loss: 0.0418 Acc: 0.7695\n",
      "5e-06\n",
      "Epoch 2/2\n",
      "----------\n"
     ]
    },
    {
     "name": "stderr",
     "output_type": "stream",
     "text": [
      "100%|████████████████████████████████████████████████████████████████████████████████| 453/453 [01:30<00:00,  5.55it/s]\n"
     ]
    },
    {
     "name": "stdout",
     "output_type": "stream",
     "text": [
      "phase Loss: 0.0395 Acc: 0.8158\n"
     ]
    },
    {
     "name": "stderr",
     "output_type": "stream",
     "text": [
      "100%|██████████████████████████████████████████████████████████████████████████████████| 80/80 [00:13<00:00,  6.42it/s]\n"
     ]
    },
    {
     "name": "stdout",
     "output_type": "stream",
     "text": [
      "phase Loss: 0.0358 Acc: 0.8575\n",
      "5e-06\n",
      "Training complete in 5m 11s\n",
      "Best val Acc: 0.857534\n"
     ]
    }
   ],
   "source": [
    "model_conv = train_model(model_conv, {'train':train_loader, 'val':val_loader}, dataset_sizes, criterion, optimizer_conv, exp_lr_scheduler, True,\n",
    "                     num_epochs=3)"
   ]
  },
  {
   "cell_type": "code",
   "execution_count": null,
   "metadata": {},
   "outputs": [],
   "source": []
  },
  {
   "cell_type": "code",
   "execution_count": 17,
   "metadata": {},
   "outputs": [],
   "source": [
    "#model_path = 'C:\\Users\\rohit\\VirtualEnv'\n",
    "torch.save(model_conv.state_dict(), 'densenet169.pth')"
   ]
  },
  {
   "cell_type": "code",
   "execution_count": 18,
   "metadata": {},
   "outputs": [],
   "source": [
    "def test1_model(model, dataloaders, optimizer, use_gpu):\n",
    "    model.train(False)\n",
    "    predictions = []\n",
    "    labels = []\n",
    "    for data in tqdm(dataloaders):\n",
    "        inputs = data\n",
    "        if use_gpu:\n",
    "            inputs = Variable(inputs.cuda())\n",
    "        else:\n",
    "            inputs = Variable(inputs)\n",
    "\n",
    "        # zero the parameter gradients\n",
    "        optimizer.zero_grad()\n",
    "\n",
    "        # forward\n",
    "        outputs = model(inputs)\n",
    "        _, preds = torch.max(outputs.data, 1)\n",
    "        predictions.append(preds)\n",
    "        #labels.append(labels_)\n",
    "\n",
    "    return predictions"
   ]
  },
  {
   "cell_type": "code",
   "execution_count": 19,
   "metadata": {},
   "outputs": [
    {
     "name": "stderr",
     "output_type": "stream",
     "text": [
      "100%|████████████████████████████████████████████████████████████████████████████████| 229/229 [00:33<00:00,  7.22it/s]\n"
     ]
    }
   ],
   "source": [
    "predictions2 = test1_model(model_conv, test_dataloader, optimizer_conv, True)"
   ]
  },
  {
   "cell_type": "code",
   "execution_count": 20,
   "metadata": {},
   "outputs": [],
   "source": [
    "\n",
    "predictions3 = torch.cat(predictions2)\n",
    "predictions3 = np.array(predictions3.cpu())"
   ]
  },
  {
   "cell_type": "code",
   "execution_count": 21,
   "metadata": {},
   "outputs": [
    {
     "data": {
      "text/plain": [
       "7301"
      ]
     },
     "execution_count": 21,
     "metadata": {},
     "output_type": "execute_result"
    }
   ],
   "source": [
    "len(predictions3)"
   ]
  },
  {
   "cell_type": "code",
   "execution_count": 22,
   "metadata": {},
   "outputs": [
    {
     "data": {
      "text/plain": [
       "array([5, 0, 4, 4, 5], dtype=int64)"
      ]
     },
     "execution_count": 22,
     "metadata": {},
     "output_type": "execute_result"
    }
   ],
   "source": [
    "predictions3[:5]"
   ]
  },
  {
   "cell_type": "code",
   "execution_count": 23,
   "metadata": {},
   "outputs": [],
   "source": [
    "result = pd.read_csv('resnet50_15_col.csv')"
   ]
  },
  {
   "cell_type": "code",
   "execution_count": 24,
   "metadata": {},
   "outputs": [
    {
     "data": {
      "text/plain": [
       "7301"
      ]
     },
     "execution_count": 24,
     "metadata": {},
     "output_type": "execute_result"
    }
   ],
   "source": [
    "result.shape[0]"
   ]
  },
  {
   "cell_type": "code",
   "execution_count": 25,
   "metadata": {},
   "outputs": [],
   "source": [
    "result['label'] = predictions3"
   ]
  },
  {
   "cell_type": "code",
   "execution_count": 26,
   "metadata": {},
   "outputs": [
    {
     "data": {
      "text/html": [
       "<div>\n",
       "<style scoped>\n",
       "    .dataframe tbody tr th:only-of-type {\n",
       "        vertical-align: middle;\n",
       "    }\n",
       "\n",
       "    .dataframe tbody tr th {\n",
       "        vertical-align: top;\n",
       "    }\n",
       "\n",
       "    .dataframe thead th {\n",
       "        text-align: right;\n",
       "    }\n",
       "</style>\n",
       "<table border=\"1\" class=\"dataframe\">\n",
       "  <thead>\n",
       "    <tr style=\"text-align: right;\">\n",
       "      <th></th>\n",
       "      <th>image_name</th>\n",
       "      <th>label</th>\n",
       "    </tr>\n",
       "  </thead>\n",
       "  <tbody>\n",
       "    <tr>\n",
       "      <th>0</th>\n",
       "      <td>3.jpg</td>\n",
       "      <td>5</td>\n",
       "    </tr>\n",
       "    <tr>\n",
       "      <th>1</th>\n",
       "      <td>5.jpg</td>\n",
       "      <td>0</td>\n",
       "    </tr>\n",
       "    <tr>\n",
       "      <th>2</th>\n",
       "      <td>6.jpg</td>\n",
       "      <td>4</td>\n",
       "    </tr>\n",
       "    <tr>\n",
       "      <th>3</th>\n",
       "      <td>11.jpg</td>\n",
       "      <td>4</td>\n",
       "    </tr>\n",
       "    <tr>\n",
       "      <th>4</th>\n",
       "      <td>14.jpg</td>\n",
       "      <td>5</td>\n",
       "    </tr>\n",
       "  </tbody>\n",
       "</table>\n",
       "</div>"
      ],
      "text/plain": [
       "  image_name  label\n",
       "0      3.jpg      5\n",
       "1      5.jpg      0\n",
       "2      6.jpg      4\n",
       "3     11.jpg      4\n",
       "4     14.jpg      5"
      ]
     },
     "execution_count": 26,
     "metadata": {},
     "output_type": "execute_result"
    }
   ],
   "source": [
    "result.head()"
   ]
  },
  {
   "cell_type": "code",
   "execution_count": 27,
   "metadata": {},
   "outputs": [],
   "source": [
    "result.to_csv('torch_densenet169.csv')"
   ]
  },
  {
   "cell_type": "markdown",
   "metadata": {},
   "source": [
    "# SqueezeNet"
   ]
  },
  {
   "cell_type": "code",
   "execution_count": 38,
   "metadata": {},
   "outputs": [],
   "source": [
    "from __future__ import print_function, division\n",
    "import os\n",
    "import torch\n",
    "import pandas as pd\n",
    "from skimage import io, transform\n",
    "import numpy as np\n",
    "import matplotlib.pyplot as plt\n",
    "from torch.utils.data import Dataset, DataLoader\n",
    "from torchvision import transforms, utils\n",
    "from PIL import Image\n",
    "\n",
    "import torchvision\n",
    "import torch.nn as nn\n",
    "import torch.optim as optim\n",
    "from torch.optim import lr_scheduler\n",
    "import numpy as np\n",
    "import time\n",
    "import os\n",
    "import argparse\n",
    "# from tensorboardX import SummaryWriter\n",
    "from torch.utils.data.sampler import SubsetRandomSampler"
   ]
  },
  {
   "cell_type": "code",
   "execution_count": 39,
   "metadata": {},
   "outputs": [],
   "source": [
    "class SceneDataset(Dataset):\n",
    "\n",
    "    def __init__(self, csv_file, root_dir, transform=None, mode='train'):\n",
    "        \"\"\"\n",
    "        Args:\n",
    "            csv_file (string): Path to the csv file with annotations.\n",
    "            root_dir (string): Directory with all the images.\n",
    "            transform (callable, optional): Optional transform to be applied\n",
    "                on a sample.\n",
    "        \"\"\"\n",
    "        self.mode = mode\n",
    "        self.image_frame = pd.read_csv(csv_file)\n",
    "        self.img_name = self.image_frame.image_name\n",
    "        self.root_dir = root_dir\n",
    "        self.transform = transform\n",
    "\n",
    "    def __len__(self):\n",
    "        return len(self.img_name)\n",
    "\n",
    "    def __getitem__(self, idx):\n",
    "        image = cv2.imread(self.root_dir + '/' + self.img_name[idx])\n",
    "        if self.mode == 'train':\n",
    "            label = self.image_frame.iloc[idx].label\n",
    "\n",
    "        if self.transform:\n",
    "            image = self.transform(Image.fromarray(image))\n",
    "\n",
    "        if self.mode == 'train':\n",
    "            return image, label\n",
    "        else:\n",
    "            return image"
   ]
  },
  {
   "cell_type": "code",
   "execution_count": 40,
   "metadata": {},
   "outputs": [],
   "source": [
    "#Input the Training and Testing Data\n",
    "import cv2\n",
    "train_path = 'train-scene/train'\n",
    "\n",
    "train_dataset = SceneDataset(csv_file='train-scene/train.csv',\n",
    "                                    root_dir=train_path, transform=transforms.Compose([\n",
    "                                               transforms.RandomHorizontalFlip(),\n",
    "#                                                transforms.RandomVerticalFlip(),\n",
    "#                                                transforms.RandomRotation(90),\n",
    "                                               transforms.Resize((224, 224)),\n",
    "                                               transforms.RandomRotation(30),\n",
    "                                               transforms.ToTensor()\n",
    "                                           ]), mode = 'train')\n",
    "train_dataloader = DataLoader(train_dataset, batch_size=32,\n",
    "                        shuffle=False, num_workers=0)"
   ]
  },
  {
   "cell_type": "code",
   "execution_count": 41,
   "metadata": {},
   "outputs": [],
   "source": [
    "\n",
    "test_dataset = SceneDataset(csv_file='test.csv', root_dir=train_path, transform=transforms.Compose([transforms.Resize((224, 224)), transforms.ToTensor()]), mode = 'val')\n",
    "test_dataloader = DataLoader(test_dataset, batch_size=32,\n",
    "                        shuffle=False, num_workers=0)\n",
    "\n",
    "validation_split = .15\n",
    "dataset_size = len(train_dataset)\n",
    "indices = list(range(dataset_size))\n",
    "split = int(np.floor(validation_split * dataset_size))\n",
    "# if shuffle_dataset :\n",
    "#     np.random.seed(random_seed)\n",
    "#     np.random.shuffle(indices)\n",
    "train_indices, val_indices = indices[split:], indices[:split]\n",
    "\n",
    "# Creating PT data samplers and loaders:\n",
    "train_sampler = SubsetRandomSampler(train_indices)\n",
    "valid_sampler = SubsetRandomSampler(val_indices)\n",
    "train_loader = torch.utils.data.DataLoader(train_dataset, batch_size=32, \n",
    "                                           sampler=train_sampler,shuffle=False, num_workers=0)\n",
    "val_loader = torch.utils.data.DataLoader(train_dataset, batch_size=32,\n",
    "                                                sampler=valid_sampler, shuffle=False, num_workers=0)"
   ]
  },
  {
   "cell_type": "code",
   "execution_count": 42,
   "metadata": {},
   "outputs": [
    {
     "name": "stdout",
     "output_type": "stream",
     "text": [
      "{'train': 14479, 'val': 2555}\n",
      "533 229 453 80\n"
     ]
    }
   ],
   "source": [
    "dataset_sizes = {'train': len(train_dataset) - split, 'val': split}\n",
    "print (dataset_sizes)\n",
    "print (len(train_dataloader), len(test_dataloader), len(train_loader), len(val_loader))"
   ]
  },
  {
   "cell_type": "code",
   "execution_count": 49,
   "metadata": {},
   "outputs": [
    {
     "name": "stderr",
     "output_type": "stream",
     "text": [
      "Downloading: \"https://download.pytorch.org/models/squeezenet1_1-f364aa15.pth\" to C:\\Users\\rohit/.torch\\models\\squeezenet1_1-f364aa15.pth\n",
      "4966400it [00:02, 2388291.88it/s]\n"
     ]
    }
   ],
   "source": [
    "import torch\n",
    "import torch.nn as nn\n",
    "import torch.optim as optim\n",
    "from torch.optim import lr_scheduler\n",
    "from torch.autograd import Variable\n",
    "import torchvision\n",
    "from torchvision import datasets, models, transforms\n",
    "\n",
    "import numpy as np\n",
    "import time\n",
    "import os\n",
    "from tqdm import tqdm\n",
    "from sklearn.metrics import accuracy_score\n",
    "import pandas as pd\n",
    "\n",
    "\n",
    "\n",
    "n_class = 6\n",
    "kernel_size = (1,1)\n",
    "stride = (1,1)\n",
    "\n",
    "\"\"\" training functions\n",
    "\"\"\"\n",
    "model_conv = torchvision.models.squeezenet1_1(True)\n",
    "#num_ftrs = model_conv.classifier.in_features\n",
    "#maxm = 0\n",
    "#for i, param in model_conv.named_parameters():\n",
    "#    maxm = maxm + 1\n",
    "#    if maxm < 182:\n",
    "#      param.requires_grad = False\n",
    "#print(maxm)\n",
    "#model_conv.classifier = nn.Linear(num_ftrs, 6)\n",
    "#\n"
   ]
  },
  {
   "cell_type": "code",
   "execution_count": 50,
   "metadata": {},
   "outputs": [
    {
     "name": "stdout",
     "output_type": "stream",
     "text": [
      "52\n"
     ]
    }
   ],
   "source": [
    "maxm = 0\n",
    "for param in model_conv.parameters():\n",
    "    maxm = maxm+1\n",
    "print(maxm)"
   ]
  },
  {
   "cell_type": "code",
   "execution_count": 52,
   "metadata": {},
   "outputs": [
    {
     "ename": "AttributeError",
     "evalue": "'Sequential' object has no attribute 'in_features'",
     "output_type": "error",
     "traceback": [
      "\u001b[1;31m---------------------------------------------------------------------------\u001b[0m",
      "\u001b[1;31mAttributeError\u001b[0m                            Traceback (most recent call last)",
      "\u001b[1;32m<ipython-input-52-9787095af14f>\u001b[0m in \u001b[0;36m<module>\u001b[1;34m\u001b[0m\n\u001b[0;32m      4\u001b[0m     \u001b[1;32mif\u001b[0m \u001b[0mmaxm\u001b[0m \u001b[1;33m<\u001b[0m \u001b[1;36m30\u001b[0m\u001b[1;33m:\u001b[0m\u001b[1;33m\u001b[0m\u001b[1;33m\u001b[0m\u001b[0m\n\u001b[0;32m      5\u001b[0m         \u001b[0mparam\u001b[0m\u001b[1;33m.\u001b[0m\u001b[0mrequires_grad\u001b[0m \u001b[1;33m=\u001b[0m \u001b[1;32mFalse\u001b[0m\u001b[1;33m\u001b[0m\u001b[1;33m\u001b[0m\u001b[0m\n\u001b[1;32m----> 6\u001b[1;33m \u001b[0mnum_ftrs\u001b[0m \u001b[1;33m=\u001b[0m \u001b[0mmodel_conv\u001b[0m\u001b[1;33m.\u001b[0m\u001b[0mclassifier\u001b[0m\u001b[1;33m.\u001b[0m\u001b[0min_features\u001b[0m\u001b[1;33m\u001b[0m\u001b[1;33m\u001b[0m\u001b[0m\n\u001b[0m\u001b[0;32m      7\u001b[0m \u001b[0mmodel_conv\u001b[0m\u001b[1;33m.\u001b[0m\u001b[0mclassifier\u001b[0m \u001b[1;33m=\u001b[0m \u001b[0mnn\u001b[0m\u001b[1;33m.\u001b[0m\u001b[0mLinear\u001b[0m\u001b[1;33m(\u001b[0m\u001b[0mnum_ftrs\u001b[0m\u001b[1;33m,\u001b[0m \u001b[1;36m6\u001b[0m\u001b[1;33m)\u001b[0m\u001b[1;33m\u001b[0m\u001b[1;33m\u001b[0m\u001b[0m\n\u001b[0;32m      8\u001b[0m \u001b[0mmodel_conv\u001b[0m \u001b[1;33m=\u001b[0m \u001b[0mmodel_conv\u001b[0m\u001b[1;33m.\u001b[0m\u001b[0mcuda\u001b[0m\u001b[1;33m(\u001b[0m\u001b[1;33m)\u001b[0m\u001b[1;33m\u001b[0m\u001b[1;33m\u001b[0m\u001b[0m\n",
      "\u001b[1;32mc:\\users\\rohit\\virtualenv\\lib\\site-packages\\torch\\nn\\modules\\module.py\u001b[0m in \u001b[0;36m__getattr__\u001b[1;34m(self, name)\u001b[0m\n\u001b[0;32m    533\u001b[0m                 \u001b[1;32mreturn\u001b[0m \u001b[0mmodules\u001b[0m\u001b[1;33m[\u001b[0m\u001b[0mname\u001b[0m\u001b[1;33m]\u001b[0m\u001b[1;33m\u001b[0m\u001b[1;33m\u001b[0m\u001b[0m\n\u001b[0;32m    534\u001b[0m         raise AttributeError(\"'{}' object has no attribute '{}'\".format(\n\u001b[1;32m--> 535\u001b[1;33m             type(self).__name__, name))\n\u001b[0m\u001b[0;32m    536\u001b[0m \u001b[1;33m\u001b[0m\u001b[0m\n\u001b[0;32m    537\u001b[0m     \u001b[1;32mdef\u001b[0m \u001b[0m__setattr__\u001b[0m\u001b[1;33m(\u001b[0m\u001b[0mself\u001b[0m\u001b[1;33m,\u001b[0m \u001b[0mname\u001b[0m\u001b[1;33m,\u001b[0m \u001b[0mvalue\u001b[0m\u001b[1;33m)\u001b[0m\u001b[1;33m:\u001b[0m\u001b[1;33m\u001b[0m\u001b[1;33m\u001b[0m\u001b[0m\n",
      "\u001b[1;31mAttributeError\u001b[0m: 'Sequential' object has no attribute 'in_features'"
     ]
    }
   ],
   "source": [
    "maxm = 0\n",
    "for param in model_conv.parameters():\n",
    "    maxm = maxm+1\n",
    "    if maxm < 30:\n",
    "        param.requires_grad = False\n",
    "num_ftrs = model_conv.classifier.in_features\n",
    "model_conv.classifier = nn.Linear(num_ftrs, 6)\n",
    "model_conv = model_conv.cuda()"
   ]
  },
  {
   "cell_type": "code",
   "execution_count": 13,
   "metadata": {},
   "outputs": [],
   "source": [
    "\n",
    "criterion = nn.CrossEntropyLoss().cuda()\n",
    "optimizer_conv = optim.Adam(list(filter(lambda p: p.requires_grad, model_conv.parameters())), lr=5e-4)\n",
    "exp_lr_scheduler = lr_scheduler.ReduceLROnPlateau(optimizer_conv,mode = 'min', patience=3, factor = 0.5)\n"
   ]
  },
  {
   "cell_type": "code",
   "execution_count": 16,
   "metadata": {},
   "outputs": [],
   "source": [
    "def train_model(model, dataloaders, dataset_sizes, criterion, optimizer, scheduler, use_gpu, num_epochs=25, mixup = False, alpha = 0.1):\n",
    "    since = time.time()\n",
    "\n",
    "    best_model_wts = model.state_dict()\n",
    "    best_acc = 0.0\n",
    "\n",
    "    for epoch in range(num_epochs):\n",
    "        print('Epoch {}/{}'.format(epoch, num_epochs - 1))\n",
    "        print('-' * 10)\n",
    "        for phase in ['train', 'val']:\n",
    "            if phase == 'train':\n",
    "                model.train(True)  # Set model to training mode\n",
    "            else:\n",
    "                model.train(False)  # Set model to evaluate mode\n",
    "\n",
    "            running_loss = 0.0\n",
    "            running_corrects = 0\n",
    "\n",
    "            # Iterate over data.\n",
    "            # get the inputs\n",
    "            for data in tqdm(dataloaders[phase]):\n",
    "                inputs, labels = data\n",
    "                if use_gpu:\n",
    "                    inputs, labels = Variable(inputs.cuda()), Variable(labels.cuda())\n",
    "                    inputs, labels = inputs.cuda(), labels.cuda()\n",
    "                else:\n",
    "                    inputs, labels = Variable(inputs), Variable(labels)\n",
    "\n",
    "                # zero the parameter gradients\n",
    "                optimizer.zero_grad()\n",
    "\n",
    "                # forward\n",
    "                outputs = model(inputs)\n",
    "                if type(outputs) == tuple:\n",
    "                    outputs, _ = outputs\n",
    "                _, preds = torch.max(outputs.data, 1)\n",
    "                loss = criterion(outputs, labels)\n",
    "\n",
    "                # backward + optimize only if in training phase\n",
    "                if phase == 'train':\n",
    "                    loss.backward()\n",
    "                    optimizer.step()\n",
    "\n",
    "                # statistics\n",
    "                running_loss += loss.data\n",
    "                running_corrects += torch.sum(preds == labels.data)\n",
    "\n",
    "            epoch_loss = float(running_loss.cpu()) / dataset_sizes[phase]\n",
    "            epoch_acc = float(running_corrects.cpu()) / dataset_sizes[phase]\n",
    "\n",
    "\n",
    "            print('{} Loss: {:.4f} Acc: {:.4f}'.format(\n",
    "                'phase', epoch_loss, epoch_acc))\n",
    "#             print (int(running_corrects.cpu()))\n",
    "\n",
    "            # deep copy the model\n",
    "            if phase == 'val' and epoch_acc > best_acc:\n",
    "                best_acc = epoch_acc\n",
    "                best_model_wts = model.state_dict()\n",
    "        scheduler.step(epoch_loss)\n",
    "        for param_group in optimizer.param_groups:\n",
    "          print(param_group['lr'])\n",
    "\n",
    "\n",
    "    time_elapsed = time.time() - since\n",
    "    print('Training complete in {:.0f}m {:.0f}s'.format(\n",
    "        time_elapsed // 60, time_elapsed % 60))\n",
    "    print('Best val Acc: {:4f}'.format(best_acc))\n",
    "\n",
    "    # load best model weights\n",
    "    model.load_state_dict(best_model_wts)\n",
    "    return model\n",
    "\n"
   ]
  },
  {
   "cell_type": "code",
   "execution_count": 18,
   "metadata": {},
   "outputs": [
    {
     "name": "stdout",
     "output_type": "stream",
     "text": [
      "Epoch 0/4\n",
      "----------\n"
     ]
    },
    {
     "name": "stderr",
     "output_type": "stream",
     "text": [
      "100%|████████████████████████████████████████████████████████████████████████████████| 453/453 [01:54<00:00,  3.94it/s]\n"
     ]
    },
    {
     "name": "stdout",
     "output_type": "stream",
     "text": [
      "phase Loss: 0.0053 Acc: 0.9391\n"
     ]
    },
    {
     "name": "stderr",
     "output_type": "stream",
     "text": [
      "100%|██████████████████████████████████████████████████████████████████████████████████| 80/80 [00:17<00:00,  4.59it/s]\n"
     ]
    },
    {
     "name": "stdout",
     "output_type": "stream",
     "text": [
      "phase Loss: 0.0078 Acc: 0.9162\n",
      "0.0005\n",
      "Epoch 1/4\n",
      "----------\n"
     ]
    },
    {
     "name": "stderr",
     "output_type": "stream",
     "text": [
      "100%|████████████████████████████████████████████████████████████████████████████████| 453/453 [01:55<00:00,  3.93it/s]\n"
     ]
    },
    {
     "name": "stdout",
     "output_type": "stream",
     "text": [
      "phase Loss: 0.0051 Acc: 0.9405\n"
     ]
    },
    {
     "name": "stderr",
     "output_type": "stream",
     "text": [
      "100%|██████████████████████████████████████████████████████████████████████████████████| 80/80 [00:17<00:00,  4.58it/s]\n"
     ]
    },
    {
     "name": "stdout",
     "output_type": "stream",
     "text": [
      "phase Loss: 0.0070 Acc: 0.9303\n",
      "0.0005\n",
      "Epoch 2/4\n",
      "----------\n"
     ]
    },
    {
     "name": "stderr",
     "output_type": "stream",
     "text": [
      "100%|████████████████████████████████████████████████████████████████████████████████| 453/453 [01:55<00:00,  3.95it/s]\n"
     ]
    },
    {
     "name": "stdout",
     "output_type": "stream",
     "text": [
      "phase Loss: 0.0045 Acc: 0.9488\n"
     ]
    },
    {
     "name": "stderr",
     "output_type": "stream",
     "text": [
      "100%|██████████████████████████████████████████████████████████████████████████████████| 80/80 [00:17<00:00,  4.56it/s]\n"
     ]
    },
    {
     "name": "stdout",
     "output_type": "stream",
     "text": [
      "phase Loss: 0.0072 Acc: 0.9295\n",
      "0.0005\n",
      "Epoch 3/4\n",
      "----------\n"
     ]
    },
    {
     "name": "stderr",
     "output_type": "stream",
     "text": [
      "100%|████████████████████████████████████████████████████████████████████████████████| 453/453 [01:55<00:00,  3.92it/s]\n"
     ]
    },
    {
     "name": "stdout",
     "output_type": "stream",
     "text": [
      "phase Loss: 0.0041 Acc: 0.9519\n"
     ]
    },
    {
     "name": "stderr",
     "output_type": "stream",
     "text": [
      "100%|██████████████████████████████████████████████████████████████████████████████████| 80/80 [00:17<00:00,  4.51it/s]\n"
     ]
    },
    {
     "name": "stdout",
     "output_type": "stream",
     "text": [
      "phase Loss: 0.0071 Acc: 0.9284\n",
      "0.0005\n",
      "Epoch 4/4\n",
      "----------\n"
     ]
    },
    {
     "name": "stderr",
     "output_type": "stream",
     "text": [
      "100%|████████████████████████████████████████████████████████████████████████████████| 453/453 [01:56<00:00,  3.91it/s]\n"
     ]
    },
    {
     "name": "stdout",
     "output_type": "stream",
     "text": [
      "phase Loss: 0.0040 Acc: 0.9543\n"
     ]
    },
    {
     "name": "stderr",
     "output_type": "stream",
     "text": [
      "100%|██████████████████████████████████████████████████████████████████████████████████| 80/80 [00:17<00:00,  4.58it/s]\n"
     ]
    },
    {
     "name": "stdout",
     "output_type": "stream",
     "text": [
      "phase Loss: 0.0068 Acc: 0.9319\n",
      "0.0005\n",
      "Training complete in 11m 5s\n",
      "Best val Acc: 0.931898\n"
     ]
    }
   ],
   "source": [
    "model_conv = train_model(model_conv, {'train':train_loader, 'val':val_loader}, dataset_sizes, criterion, optimizer_conv, exp_lr_scheduler, True,\n",
    "                     num_epochs=5)"
   ]
  },
  {
   "cell_type": "code",
   "execution_count": null,
   "metadata": {},
   "outputs": [],
   "source": []
  },
  {
   "cell_type": "code",
   "execution_count": 19,
   "metadata": {},
   "outputs": [],
   "source": [
    "#model_path = 'C:\\Users\\rohit\\VirtualEnv'\n",
    "torch.save(model_conv.state_dict(), 'resnet152.pth')"
   ]
  },
  {
   "cell_type": "code",
   "execution_count": 20,
   "metadata": {},
   "outputs": [],
   "source": [
    "def test1_model(model, dataloaders, optimizer, use_gpu):\n",
    "    model.train(False)\n",
    "    predictions = []\n",
    "    labels = []\n",
    "    for data in tqdm(dataloaders):\n",
    "        inputs = data\n",
    "        if use_gpu:\n",
    "            inputs = Variable(inputs.cuda())\n",
    "        else:\n",
    "            inputs = Variable(inputs)\n",
    "\n",
    "        # zero the parameter gradients\n",
    "        optimizer.zero_grad()\n",
    "\n",
    "        # forward\n",
    "        outputs = model(inputs)\n",
    "        _, preds = torch.max(outputs.data, 1)\n",
    "        predictions.append(preds)\n",
    "        #labels.append(labels_)\n",
    "\n",
    "    return predictions"
   ]
  },
  {
   "cell_type": "code",
   "execution_count": 21,
   "metadata": {},
   "outputs": [
    {
     "name": "stderr",
     "output_type": "stream",
     "text": [
      "100%|████████████████████████████████████████████████████████████████████████████████| 229/229 [00:48<00:00,  4.56it/s]\n"
     ]
    }
   ],
   "source": [
    "predictions2 = test1_model(model_conv, test_dataloader, optimizer_conv, True)"
   ]
  },
  {
   "cell_type": "code",
   "execution_count": 22,
   "metadata": {},
   "outputs": [],
   "source": [
    "\n",
    "predictions3 = torch.cat(predictions2)\n",
    "predictions3 = np.array(predictions3.cpu())"
   ]
  },
  {
   "cell_type": "code",
   "execution_count": 23,
   "metadata": {},
   "outputs": [
    {
     "data": {
      "text/plain": [
       "7301"
      ]
     },
     "execution_count": 23,
     "metadata": {},
     "output_type": "execute_result"
    }
   ],
   "source": [
    "len(predictions3)"
   ]
  },
  {
   "cell_type": "code",
   "execution_count": 24,
   "metadata": {},
   "outputs": [
    {
     "data": {
      "text/plain": [
       "array([5, 0, 4, 2, 5], dtype=int64)"
      ]
     },
     "execution_count": 24,
     "metadata": {},
     "output_type": "execute_result"
    }
   ],
   "source": [
    "predictions3[:5]"
   ]
  },
  {
   "cell_type": "code",
   "execution_count": 25,
   "metadata": {},
   "outputs": [],
   "source": [
    "result = pd.read_csv('resnet50_15_col.csv')"
   ]
  },
  {
   "cell_type": "code",
   "execution_count": 26,
   "metadata": {},
   "outputs": [
    {
     "data": {
      "text/plain": [
       "7301"
      ]
     },
     "execution_count": 26,
     "metadata": {},
     "output_type": "execute_result"
    }
   ],
   "source": [
    "result.shape[0]"
   ]
  },
  {
   "cell_type": "code",
   "execution_count": 27,
   "metadata": {},
   "outputs": [],
   "source": [
    "result['label'] = predictions3"
   ]
  },
  {
   "cell_type": "code",
   "execution_count": 23,
   "metadata": {},
   "outputs": [
    {
     "data": {
      "text/html": [
       "<div>\n",
       "<style scoped>\n",
       "    .dataframe tbody tr th:only-of-type {\n",
       "        vertical-align: middle;\n",
       "    }\n",
       "\n",
       "    .dataframe tbody tr th {\n",
       "        vertical-align: top;\n",
       "    }\n",
       "\n",
       "    .dataframe thead th {\n",
       "        text-align: right;\n",
       "    }\n",
       "</style>\n",
       "<table border=\"1\" class=\"dataframe\">\n",
       "  <thead>\n",
       "    <tr style=\"text-align: right;\">\n",
       "      <th></th>\n",
       "      <th>image_name</th>\n",
       "      <th>label</th>\n",
       "    </tr>\n",
       "  </thead>\n",
       "  <tbody>\n",
       "    <tr>\n",
       "      <th>0</th>\n",
       "      <td>3.jpg</td>\n",
       "      <td>5</td>\n",
       "    </tr>\n",
       "    <tr>\n",
       "      <th>1</th>\n",
       "      <td>5.jpg</td>\n",
       "      <td>0</td>\n",
       "    </tr>\n",
       "    <tr>\n",
       "      <th>2</th>\n",
       "      <td>6.jpg</td>\n",
       "      <td>4</td>\n",
       "    </tr>\n",
       "    <tr>\n",
       "      <th>3</th>\n",
       "      <td>11.jpg</td>\n",
       "      <td>4</td>\n",
       "    </tr>\n",
       "    <tr>\n",
       "      <th>4</th>\n",
       "      <td>14.jpg</td>\n",
       "      <td>5</td>\n",
       "    </tr>\n",
       "  </tbody>\n",
       "</table>\n",
       "</div>"
      ],
      "text/plain": [
       "  image_name  label\n",
       "0      3.jpg      5\n",
       "1      5.jpg      0\n",
       "2      6.jpg      4\n",
       "3     11.jpg      4\n",
       "4     14.jpg      5"
      ]
     },
     "execution_count": 23,
     "metadata": {},
     "output_type": "execute_result"
    }
   ],
   "source": [
    "result.head()"
   ]
  },
  {
   "cell_type": "code",
   "execution_count": 28,
   "metadata": {},
   "outputs": [],
   "source": [
    "result.to_csv('torch_resnet152.csv')"
   ]
  },
  {
   "cell_type": "markdown",
   "metadata": {},
   "source": [
    "# DenseNet on Places365"
   ]
  },
  {
   "cell_type": "code",
   "execution_count": null,
   "metadata": {},
   "outputs": [],
   "source": []
  },
  {
   "cell_type": "code",
   "execution_count": 16,
   "metadata": {},
   "outputs": [],
   "source": [
    "class SceneDataset(Dataset):\n",
    "\n",
    "    def __init__(self, csv_file, root_dir, transform=None, mode='train'):\n",
    "        \"\"\"\n",
    "        Args:\n",
    "            csv_file (string): Path to the csv file with annotations.\n",
    "            root_dir (string): Directory with all the images.\n",
    "            transform (callable, optional): Optional transform to be applied\n",
    "                on a sample.\n",
    "        \"\"\"\n",
    "        self.mode = mode\n",
    "        self.image_frame = pd.read_csv(csv_file)\n",
    "        self.img_name = self.image_frame.image_name\n",
    "        self.root_dir = root_dir\n",
    "        self.transform = transform\n",
    "\n",
    "    def __len__(self):\n",
    "        return len(self.img_name)\n",
    "\n",
    "    def __getitem__(self, idx):\n",
    "        image = cv2.imread(self.root_dir + '/' + self.img_name[idx])\n",
    "        if self.mode == 'train':\n",
    "            label = self.image_frame.iloc[idx].label\n",
    "\n",
    "        if self.transform:\n",
    "            image = self.transform(Image.fromarray(image))\n",
    "\n",
    "        if self.mode == 'train':\n",
    "            return image, label\n",
    "        else:\n",
    "            return image"
   ]
  },
  {
   "cell_type": "code",
   "execution_count": 28,
   "metadata": {},
   "outputs": [
    {
     "data": {
      "text/plain": [
       "ResNet(\n",
       "  (conv1): Conv2d(3, 64, kernel_size=(7, 7), stride=(2, 2), padding=(3, 3), bias=False)\n",
       "  (bn1): BatchNorm2d(64, eps=1e-05, momentum=0.1, affine=True, track_running_stats=True)\n",
       "  (relu): ReLU(inplace)\n",
       "  (maxpool): MaxPool2d(kernel_size=3, stride=2, padding=1, dilation=1, ceil_mode=False)\n",
       "  (layer1): Sequential(\n",
       "    (0): Bottleneck(\n",
       "      (conv1): Conv2d(64, 64, kernel_size=(1, 1), stride=(1, 1), bias=False)\n",
       "      (bn1): BatchNorm2d(64, eps=1e-05, momentum=0.1, affine=True, track_running_stats=True)\n",
       "      (conv2): Conv2d(64, 64, kernel_size=(3, 3), stride=(1, 1), padding=(1, 1), bias=False)\n",
       "      (bn2): BatchNorm2d(64, eps=1e-05, momentum=0.1, affine=True, track_running_stats=True)\n",
       "      (conv3): Conv2d(64, 256, kernel_size=(1, 1), stride=(1, 1), bias=False)\n",
       "      (bn3): BatchNorm2d(256, eps=1e-05, momentum=0.1, affine=True, track_running_stats=True)\n",
       "      (relu): ReLU(inplace)\n",
       "      (downsample): Sequential(\n",
       "        (0): Conv2d(64, 256, kernel_size=(1, 1), stride=(1, 1), bias=False)\n",
       "        (1): BatchNorm2d(256, eps=1e-05, momentum=0.1, affine=True, track_running_stats=True)\n",
       "      )\n",
       "    )\n",
       "    (1): Bottleneck(\n",
       "      (conv1): Conv2d(256, 64, kernel_size=(1, 1), stride=(1, 1), bias=False)\n",
       "      (bn1): BatchNorm2d(64, eps=1e-05, momentum=0.1, affine=True, track_running_stats=True)\n",
       "      (conv2): Conv2d(64, 64, kernel_size=(3, 3), stride=(1, 1), padding=(1, 1), bias=False)\n",
       "      (bn2): BatchNorm2d(64, eps=1e-05, momentum=0.1, affine=True, track_running_stats=True)\n",
       "      (conv3): Conv2d(64, 256, kernel_size=(1, 1), stride=(1, 1), bias=False)\n",
       "      (bn3): BatchNorm2d(256, eps=1e-05, momentum=0.1, affine=True, track_running_stats=True)\n",
       "      (relu): ReLU(inplace)\n",
       "    )\n",
       "    (2): Bottleneck(\n",
       "      (conv1): Conv2d(256, 64, kernel_size=(1, 1), stride=(1, 1), bias=False)\n",
       "      (bn1): BatchNorm2d(64, eps=1e-05, momentum=0.1, affine=True, track_running_stats=True)\n",
       "      (conv2): Conv2d(64, 64, kernel_size=(3, 3), stride=(1, 1), padding=(1, 1), bias=False)\n",
       "      (bn2): BatchNorm2d(64, eps=1e-05, momentum=0.1, affine=True, track_running_stats=True)\n",
       "      (conv3): Conv2d(64, 256, kernel_size=(1, 1), stride=(1, 1), bias=False)\n",
       "      (bn3): BatchNorm2d(256, eps=1e-05, momentum=0.1, affine=True, track_running_stats=True)\n",
       "      (relu): ReLU(inplace)\n",
       "    )\n",
       "  )\n",
       "  (layer2): Sequential(\n",
       "    (0): Bottleneck(\n",
       "      (conv1): Conv2d(256, 128, kernel_size=(1, 1), stride=(1, 1), bias=False)\n",
       "      (bn1): BatchNorm2d(128, eps=1e-05, momentum=0.1, affine=True, track_running_stats=True)\n",
       "      (conv2): Conv2d(128, 128, kernel_size=(3, 3), stride=(2, 2), padding=(1, 1), bias=False)\n",
       "      (bn2): BatchNorm2d(128, eps=1e-05, momentum=0.1, affine=True, track_running_stats=True)\n",
       "      (conv3): Conv2d(128, 512, kernel_size=(1, 1), stride=(1, 1), bias=False)\n",
       "      (bn3): BatchNorm2d(512, eps=1e-05, momentum=0.1, affine=True, track_running_stats=True)\n",
       "      (relu): ReLU(inplace)\n",
       "      (downsample): Sequential(\n",
       "        (0): Conv2d(256, 512, kernel_size=(1, 1), stride=(2, 2), bias=False)\n",
       "        (1): BatchNorm2d(512, eps=1e-05, momentum=0.1, affine=True, track_running_stats=True)\n",
       "      )\n",
       "    )\n",
       "    (1): Bottleneck(\n",
       "      (conv1): Conv2d(512, 128, kernel_size=(1, 1), stride=(1, 1), bias=False)\n",
       "      (bn1): BatchNorm2d(128, eps=1e-05, momentum=0.1, affine=True, track_running_stats=True)\n",
       "      (conv2): Conv2d(128, 128, kernel_size=(3, 3), stride=(1, 1), padding=(1, 1), bias=False)\n",
       "      (bn2): BatchNorm2d(128, eps=1e-05, momentum=0.1, affine=True, track_running_stats=True)\n",
       "      (conv3): Conv2d(128, 512, kernel_size=(1, 1), stride=(1, 1), bias=False)\n",
       "      (bn3): BatchNorm2d(512, eps=1e-05, momentum=0.1, affine=True, track_running_stats=True)\n",
       "      (relu): ReLU(inplace)\n",
       "    )\n",
       "    (2): Bottleneck(\n",
       "      (conv1): Conv2d(512, 128, kernel_size=(1, 1), stride=(1, 1), bias=False)\n",
       "      (bn1): BatchNorm2d(128, eps=1e-05, momentum=0.1, affine=True, track_running_stats=True)\n",
       "      (conv2): Conv2d(128, 128, kernel_size=(3, 3), stride=(1, 1), padding=(1, 1), bias=False)\n",
       "      (bn2): BatchNorm2d(128, eps=1e-05, momentum=0.1, affine=True, track_running_stats=True)\n",
       "      (conv3): Conv2d(128, 512, kernel_size=(1, 1), stride=(1, 1), bias=False)\n",
       "      (bn3): BatchNorm2d(512, eps=1e-05, momentum=0.1, affine=True, track_running_stats=True)\n",
       "      (relu): ReLU(inplace)\n",
       "    )\n",
       "    (3): Bottleneck(\n",
       "      (conv1): Conv2d(512, 128, kernel_size=(1, 1), stride=(1, 1), bias=False)\n",
       "      (bn1): BatchNorm2d(128, eps=1e-05, momentum=0.1, affine=True, track_running_stats=True)\n",
       "      (conv2): Conv2d(128, 128, kernel_size=(3, 3), stride=(1, 1), padding=(1, 1), bias=False)\n",
       "      (bn2): BatchNorm2d(128, eps=1e-05, momentum=0.1, affine=True, track_running_stats=True)\n",
       "      (conv3): Conv2d(128, 512, kernel_size=(1, 1), stride=(1, 1), bias=False)\n",
       "      (bn3): BatchNorm2d(512, eps=1e-05, momentum=0.1, affine=True, track_running_stats=True)\n",
       "      (relu): ReLU(inplace)\n",
       "    )\n",
       "  )\n",
       "  (layer3): Sequential(\n",
       "    (0): Bottleneck(\n",
       "      (conv1): Conv2d(512, 256, kernel_size=(1, 1), stride=(1, 1), bias=False)\n",
       "      (bn1): BatchNorm2d(256, eps=1e-05, momentum=0.1, affine=True, track_running_stats=True)\n",
       "      (conv2): Conv2d(256, 256, kernel_size=(3, 3), stride=(2, 2), padding=(1, 1), bias=False)\n",
       "      (bn2): BatchNorm2d(256, eps=1e-05, momentum=0.1, affine=True, track_running_stats=True)\n",
       "      (conv3): Conv2d(256, 1024, kernel_size=(1, 1), stride=(1, 1), bias=False)\n",
       "      (bn3): BatchNorm2d(1024, eps=1e-05, momentum=0.1, affine=True, track_running_stats=True)\n",
       "      (relu): ReLU(inplace)\n",
       "      (downsample): Sequential(\n",
       "        (0): Conv2d(512, 1024, kernel_size=(1, 1), stride=(2, 2), bias=False)\n",
       "        (1): BatchNorm2d(1024, eps=1e-05, momentum=0.1, affine=True, track_running_stats=True)\n",
       "      )\n",
       "    )\n",
       "    (1): Bottleneck(\n",
       "      (conv1): Conv2d(1024, 256, kernel_size=(1, 1), stride=(1, 1), bias=False)\n",
       "      (bn1): BatchNorm2d(256, eps=1e-05, momentum=0.1, affine=True, track_running_stats=True)\n",
       "      (conv2): Conv2d(256, 256, kernel_size=(3, 3), stride=(1, 1), padding=(1, 1), bias=False)\n",
       "      (bn2): BatchNorm2d(256, eps=1e-05, momentum=0.1, affine=True, track_running_stats=True)\n",
       "      (conv3): Conv2d(256, 1024, kernel_size=(1, 1), stride=(1, 1), bias=False)\n",
       "      (bn3): BatchNorm2d(1024, eps=1e-05, momentum=0.1, affine=True, track_running_stats=True)\n",
       "      (relu): ReLU(inplace)\n",
       "    )\n",
       "    (2): Bottleneck(\n",
       "      (conv1): Conv2d(1024, 256, kernel_size=(1, 1), stride=(1, 1), bias=False)\n",
       "      (bn1): BatchNorm2d(256, eps=1e-05, momentum=0.1, affine=True, track_running_stats=True)\n",
       "      (conv2): Conv2d(256, 256, kernel_size=(3, 3), stride=(1, 1), padding=(1, 1), bias=False)\n",
       "      (bn2): BatchNorm2d(256, eps=1e-05, momentum=0.1, affine=True, track_running_stats=True)\n",
       "      (conv3): Conv2d(256, 1024, kernel_size=(1, 1), stride=(1, 1), bias=False)\n",
       "      (bn3): BatchNorm2d(1024, eps=1e-05, momentum=0.1, affine=True, track_running_stats=True)\n",
       "      (relu): ReLU(inplace)\n",
       "    )\n",
       "    (3): Bottleneck(\n",
       "      (conv1): Conv2d(1024, 256, kernel_size=(1, 1), stride=(1, 1), bias=False)\n",
       "      (bn1): BatchNorm2d(256, eps=1e-05, momentum=0.1, affine=True, track_running_stats=True)\n",
       "      (conv2): Conv2d(256, 256, kernel_size=(3, 3), stride=(1, 1), padding=(1, 1), bias=False)\n",
       "      (bn2): BatchNorm2d(256, eps=1e-05, momentum=0.1, affine=True, track_running_stats=True)\n",
       "      (conv3): Conv2d(256, 1024, kernel_size=(1, 1), stride=(1, 1), bias=False)\n",
       "      (bn3): BatchNorm2d(1024, eps=1e-05, momentum=0.1, affine=True, track_running_stats=True)\n",
       "      (relu): ReLU(inplace)\n",
       "    )\n",
       "    (4): Bottleneck(\n",
       "      (conv1): Conv2d(1024, 256, kernel_size=(1, 1), stride=(1, 1), bias=False)\n",
       "      (bn1): BatchNorm2d(256, eps=1e-05, momentum=0.1, affine=True, track_running_stats=True)\n",
       "      (conv2): Conv2d(256, 256, kernel_size=(3, 3), stride=(1, 1), padding=(1, 1), bias=False)\n",
       "      (bn2): BatchNorm2d(256, eps=1e-05, momentum=0.1, affine=True, track_running_stats=True)\n",
       "      (conv3): Conv2d(256, 1024, kernel_size=(1, 1), stride=(1, 1), bias=False)\n",
       "      (bn3): BatchNorm2d(1024, eps=1e-05, momentum=0.1, affine=True, track_running_stats=True)\n",
       "      (relu): ReLU(inplace)\n",
       "    )\n",
       "    (5): Bottleneck(\n",
       "      (conv1): Conv2d(1024, 256, kernel_size=(1, 1), stride=(1, 1), bias=False)\n",
       "      (bn1): BatchNorm2d(256, eps=1e-05, momentum=0.1, affine=True, track_running_stats=True)\n",
       "      (conv2): Conv2d(256, 256, kernel_size=(3, 3), stride=(1, 1), padding=(1, 1), bias=False)\n",
       "      (bn2): BatchNorm2d(256, eps=1e-05, momentum=0.1, affine=True, track_running_stats=True)\n",
       "      (conv3): Conv2d(256, 1024, kernel_size=(1, 1), stride=(1, 1), bias=False)\n",
       "      (bn3): BatchNorm2d(1024, eps=1e-05, momentum=0.1, affine=True, track_running_stats=True)\n",
       "      (relu): ReLU(inplace)\n",
       "    )\n",
       "  )\n",
       "  (layer4): Sequential(\n",
       "    (0): Bottleneck(\n",
       "      (conv1): Conv2d(1024, 512, kernel_size=(1, 1), stride=(1, 1), bias=False)\n",
       "      (bn1): BatchNorm2d(512, eps=1e-05, momentum=0.1, affine=True, track_running_stats=True)\n",
       "      (conv2): Conv2d(512, 512, kernel_size=(3, 3), stride=(2, 2), padding=(1, 1), bias=False)\n",
       "      (bn2): BatchNorm2d(512, eps=1e-05, momentum=0.1, affine=True, track_running_stats=True)\n",
       "      (conv3): Conv2d(512, 2048, kernel_size=(1, 1), stride=(1, 1), bias=False)\n",
       "      (bn3): BatchNorm2d(2048, eps=1e-05, momentum=0.1, affine=True, track_running_stats=True)\n",
       "      (relu): ReLU(inplace)\n",
       "      (downsample): Sequential(\n",
       "        (0): Conv2d(1024, 2048, kernel_size=(1, 1), stride=(2, 2), bias=False)\n",
       "        (1): BatchNorm2d(2048, eps=1e-05, momentum=0.1, affine=True, track_running_stats=True)\n",
       "      )\n",
       "    )\n",
       "    (1): Bottleneck(\n",
       "      (conv1): Conv2d(2048, 512, kernel_size=(1, 1), stride=(1, 1), bias=False)\n",
       "      (bn1): BatchNorm2d(512, eps=1e-05, momentum=0.1, affine=True, track_running_stats=True)\n",
       "      (conv2): Conv2d(512, 512, kernel_size=(3, 3), stride=(1, 1), padding=(1, 1), bias=False)\n",
       "      (bn2): BatchNorm2d(512, eps=1e-05, momentum=0.1, affine=True, track_running_stats=True)\n",
       "      (conv3): Conv2d(512, 2048, kernel_size=(1, 1), stride=(1, 1), bias=False)\n",
       "      (bn3): BatchNorm2d(2048, eps=1e-05, momentum=0.1, affine=True, track_running_stats=True)\n",
       "      (relu): ReLU(inplace)\n",
       "    )\n",
       "    (2): Bottleneck(\n",
       "      (conv1): Conv2d(2048, 512, kernel_size=(1, 1), stride=(1, 1), bias=False)\n",
       "      (bn1): BatchNorm2d(512, eps=1e-05, momentum=0.1, affine=True, track_running_stats=True)\n",
       "      (conv2): Conv2d(512, 512, kernel_size=(3, 3), stride=(1, 1), padding=(1, 1), bias=False)\n",
       "      (bn2): BatchNorm2d(512, eps=1e-05, momentum=0.1, affine=True, track_running_stats=True)\n",
       "      (conv3): Conv2d(512, 2048, kernel_size=(1, 1), stride=(1, 1), bias=False)\n",
       "      (bn3): BatchNorm2d(2048, eps=1e-05, momentum=0.1, affine=True, track_running_stats=True)\n",
       "      (relu): ReLU(inplace)\n",
       "    )\n",
       "  )\n",
       "  (avgpool): AvgPool2d(kernel_size=7, stride=1, padding=0)\n",
       "  (fc): Linear(in_features=2048, out_features=365, bias=True)\n",
       ")"
      ]
     },
     "execution_count": 28,
     "metadata": {},
     "output_type": "execute_result"
    }
   ],
   "source": [
    "import torch\n",
    "from torch.autograd import Variable as V\n",
    "import torchvision.models as models\n",
    "from torchvision import transforms as trn\n",
    "from torch.nn import functional as F\n",
    "import os\n",
    "from PIL import Image\n",
    "\n",
    "arch = 'resnet50'\n",
    "model_weights = '%s_places365.pth.tar' % arch\n",
    "\n",
    "model_conv = models.__dict__[arch](num_classes=365)\n",
    "checkpoint = torch.load(model_weights, map_location=lambda storage, loc: storage)\n",
    "state_dict = {str.replace(k,'module.',''): v for k,v in checkpoint['state_dict'].items()}\n",
    "model_conv.load_state_dict(state_dict)\n",
    "model_conv.eval()\n",
    "\n",
    "#model_conv = torchvision.models.resnet50()\n",
    "#model_conv.load_state_dict(torch.load(model_weight)['state_dict'])\n"
   ]
  },
  {
   "cell_type": "code",
   "execution_count": 31,
   "metadata": {},
   "outputs": [
    {
     "name": "stdout",
     "output_type": "stream",
     "text": [
      "1064.625\n",
      "total_steps is 1064\n",
      "Epoch 0/1\n",
      "----------\n",
      "step 100 vs 1064 in 12 s\n",
      "step 200 vs 1064 in 23 s\n",
      "step 300 vs 1064 in 36 s\n",
      "step 400 vs 1064 in 47 s\n",
      "step 500 vs 1064 in 59 s\n",
      "train Loss: 0.044784 Acc: 0.000000\n",
      " * Prec@1 74.944229 Prec@3 94.405312\n",
      "step 600 vs 1064 in 70 s\n",
      "val Loss: 0.044102 Acc: 0.000000\n",
      " * Prec@1 46.731899 Prec@3 80.939339\n",
      "\n",
      "Epoch 1/1\n",
      "----------\n",
      "step 700 vs 1064 in 82 s\n",
      "step 800 vs 1064 in 93 s\n",
      "step 900 vs 1064 in 106 s\n",
      "step 1000 vs 1064 in 117 s\n",
      "step 1100 vs 1064 in 129 s\n",
      "train Loss: 0.026804 Acc: 1.000000\n",
      " * Prec@1 87.166847 Prec@3 99.195732\n",
      "step 1200 vs 1064 in 140 s\n",
      "val Loss: 0.040639 Acc: 0.000000\n",
      " * Prec@1 52.367908 Prec@3 82.583176\n",
      "\n",
      "Training complete in 2m 23s\n",
      "Best val Acc: 0.000000\n"
     ]
    }
   ],
   "source": [
    "\n",
    "data_transforms = {\n",
    "    'train': transforms.Compose([\n",
    "        transforms.Resize((224, 224)),\n",
    "        #transforms.RandomSizedCrop(224),\n",
    "        transforms.RandomHorizontalFlip(),\n",
    "        transforms.ToTensor(),\n",
    "        transforms.Normalize([0.485, 0.456, 0.406], [0.229, 0.224, 0.225])\n",
    "    ]),\n",
    "    'val': transforms.Compose([\n",
    "        #transforms.Scale(256),\n",
    "        transforms.Resize((224, 224)),\n",
    "        transforms.CenterCrop(128),\n",
    "        transforms.ToTensor(),\n",
    "        transforms.Normalize([0.485, 0.456, 0.406], [0.229, 0.224, 0.225])\n",
    "    ]),\n",
    "}\n",
    "transformed_dataset_train =  SceneDataset(csv_file='train-scene/train.csv',\n",
    "                                    root_dir=train_path, \n",
    "                                    transform=data_transforms['train']\n",
    "                                           )      \n",
    "train_dataloader = DataLoader(transformed_dataset_train, batch_size=32,\n",
    "                        shuffle=False, num_workers=0)\n",
    "validation_split = .15\n",
    "dataset_size = len(train_dataset)\n",
    "indices = list(range(dataset_size))\n",
    "split = int(np.floor(validation_split * dataset_size))\n",
    "train_indices, val_indices = indices[split:], indices[:split]\n",
    "\n",
    "# Creating PT data samplers and loaders:\n",
    "train_sampler = SubsetRandomSampler(train_indices)\n",
    "valid_sampler = SubsetRandomSampler(val_indices)\n",
    "train_loader = torch.utils.data.DataLoader(train_dataset, batch_size=32, \n",
    "                                           sampler=train_sampler,shuffle=False, num_workers=0)\n",
    "val_loader = torch.utils.data.DataLoader(train_dataset, batch_size=32,\n",
    "                                                sampler=valid_sampler, shuffle=False, num_workers=0)\n",
    "   \n",
    "batch_size = 32\n",
    "dataloader = {'train': train_dataloader,\n",
    "             'val': val_loader\n",
    "             }\n",
    "dataset_sizes = {'train': len(train_dataset) - split, 'val': split}\n",
    "\n",
    "class AverageMeter(object):\n",
    "    \"\"\"Computes and stores the average and current value\"\"\"\n",
    "    def __init__(self):\n",
    "        self.reset()\n",
    "\n",
    "    def reset(self):\n",
    "        self.val = 0\n",
    "        self.avg = 0\n",
    "        self.sum = 0\n",
    "        self.count = 0\n",
    "\n",
    "    def update(self, val, n=1):\n",
    "        self.val = val\n",
    "        self.sum += val * n\n",
    "        self.count += n\n",
    "        self.avg = self.sum / self.count\n",
    "\n",
    "def accuracy(output, target, topk=(1,)):\n",
    "    \"\"\"Computes the precision@k for the specified values of k\"\"\"\n",
    "    maxk = max(topk)\n",
    "    batch_size = target.size(0)\n",
    "\n",
    "    _, pred = output.topk(maxk, 1, True, True)\n",
    "    pred = pred.t()\n",
    "    correct = pred.eq(target.view(1, -1).expand_as(pred))\n",
    "\n",
    "    res = []\n",
    "    for k in topk:\n",
    "        correct_k = correct[:k].view(-1).float().sum(0, keepdim=True)\n",
    "        res.append(correct_k.mul_(100.0 / batch_size))\n",
    "    return res\n",
    "\n",
    "\n",
    "def train_model (model, criterion, optimizer, scheduler, num_epochs, total_steps):\n",
    "    since = time.time()\n",
    "\n",
    "    print('total_steps is %d' % total_steps)\n",
    "    mystep = 0\n",
    "\n",
    "    best_model_wts = model.state_dict()\n",
    "    best_acc = 0.0\n",
    "\n",
    "\n",
    "    for epoch in range(num_epochs):\n",
    "        print('Epoch {}/{}'.format(epoch, num_epochs - 1))\n",
    "        print('-' * 10)\n",
    "\n",
    "        if (epoch%10 == 0):\n",
    "            torch.save(best_model_wts, ('%s_model_wts_%d.pth')% (arch, epoch))\n",
    "\n",
    "        # Each epoch has a training and validation phase\n",
    "        for phase in ['train', 'val']:\n",
    "            if phase == 'train':\n",
    "                scheduler.step()\n",
    "                model.train(True)  # Set model to training mode\n",
    "            else:\n",
    "                model.train(False)  # Set model to evaluate mode\n",
    "\n",
    "            running_loss = 0.0\n",
    "            running_corrects = 0\n",
    "            top1 = AverageMeter()\n",
    "            top3 = AverageMeter()\n",
    "\n",
    "            # Iterate over data.\n",
    "            for data in dataloader[phase]:\n",
    "                # get the inputs\n",
    "                mystep = mystep + 1\n",
    "                if(mystep%100 ==0):\n",
    "                    duration = time.time() - since\n",
    "                    print('step %d vs %d in %.0f s' % (mystep, total_steps, duration))\n",
    "\n",
    "                inputs, labels = data\n",
    "\n",
    "                # wrap them in Variable\n",
    "                if use_gpu:\n",
    "                    inputs = Variable(inputs.cuda())\n",
    "                    labels = Variable(labels.cuda())\n",
    "                else:\n",
    "                    inputs, labels = Variable(inputs), Variable(labels)\n",
    "\n",
    "                # zero the parameter gradients\n",
    "                optimizer.zero_grad()\n",
    "\n",
    "                # forward\n",
    "                outputs = model(inputs)\n",
    "                _, preds = torch.max(outputs.data, 1)\n",
    "                loss = criterion(outputs, labels)\n",
    "\n",
    "                # backward + optimize only if in training phase\n",
    "                if phase == 'train':\n",
    "                    loss.backward()\n",
    "                    optimizer.step()\n",
    "\n",
    "                # statistics\n",
    "                running_loss += loss.data\n",
    "                running_corrects += torch.sum(preds == labels.data)\n",
    "#                print(type(labels)) # <class 'torch.autograd.variable.Variable'>\n",
    "#                print(type(labels.data)) # <class 'torch.cuda.LongTensor'>\n",
    "                prec1, prec3 = accuracy(outputs.data, labels.data, topk=(1, 3))\n",
    "                top1.update(prec1[0], inputs.data.size(0))\n",
    "                top3.update(prec3[0], inputs.data.size(0))\n",
    "\n",
    "            epoch_loss = running_loss / dataset_sizes[phase]\n",
    "            epoch_acc = running_corrects / dataset_sizes[phase]\n",
    "\n",
    "            #没测试batch_size不能被dataset_size整除时会不会有问题\n",
    "            print('{} Loss: {:.6f} Acc: {:.6f}'.format(\n",
    "                phase, epoch_loss, epoch_acc))\n",
    "            print(' * Prec@1 {top1.avg:.6f} Prec@3 {top3.avg:.6f}'.format(top1=top1, top3=top3))\n",
    "\n",
    "            # deep copy the model\n",
    "            if phase == 'val' and epoch_acc > best_acc:\n",
    "                best_acc = epoch_acc\n",
    "                best_model_wts = model.state_dict()\n",
    "\n",
    "        print()\n",
    "\n",
    "        #if (epoch%10 == 0):\n",
    "           # torch.save(best_model_wts, ('models/best_model_wts_%d.pth')% epoch)\n",
    "\n",
    "    time_elapsed = time.time() - since\n",
    "    print('Training complete in {:.0f}m {:.0f}s'.format(\n",
    "        time_elapsed // 60, time_elapsed % 60))\n",
    "    print('Best val Acc: {:.6f}'.format(best_acc))\n",
    "\n",
    "    # load best model weights\n",
    "    model.load_state_dict(best_model_wts)\n",
    "    return model\n",
    "\n",
    "'''trained layers'''\n",
    "#model_conv = torchvision.models.resnet18(pretrained=True)\n",
    "for param in model_conv.parameters():\n",
    "    param.requires_grad = False\n",
    "\n",
    "# Parameters of newly constructed modules have requires_grad=True by default\n",
    "num_ftrs = model_conv.fc.in_features\n",
    "model_conv.fc = nn.Linear(num_ftrs, 6)\n",
    "\n",
    "if use_gpu:\n",
    "    model_conv = model_conv.cuda()\n",
    "\n",
    "criterion = nn.CrossEntropyLoss().cuda()\n",
    "\n",
    "'''optimizer'''\n",
    "optimizer_conv = optim.SGD(model_conv.fc.parameters(), lr=0.0001, momentum=0.9)\n",
    "\n",
    "'''Decay LR by a factor of 0.1 every 100 epochs'''\n",
    "exp_lr_scheduler = lr_scheduler.StepLR(optimizer_conv, step_size=100, gamma=0.1)\n",
    "\n",
    "\n",
    "######################################################################\n",
    "# Train and evaluate\n",
    "\n",
    "num_epochs = 2\n",
    "total_steps = 1.0 * num_epochs * (dataset_sizes['train'] + dataset_sizes['val']) / batch_size\n",
    "print(total_steps)\n",
    "model_conv = train_model(model_conv, criterion, optimizer_conv,\n",
    "                         exp_lr_scheduler, num_epochs, total_steps)\n",
    "torch.save(model_conv.state_dict(), ('%s_best_model_wts_final.pth')%arch)\n"
   ]
  },
  {
   "cell_type": "code",
   "execution_count": null,
   "metadata": {},
   "outputs": [],
   "source": []
  },
  {
   "cell_type": "code",
   "execution_count": 9,
   "metadata": {},
   "outputs": [],
   "source": [
    "\n",
    "criterion = nn.CrossEntropyLoss().cuda()\n",
    "optimizer_conv = optim.Adam(list(filter(lambda p: p.requires_grad, model_conv.parameters())), lr=5e-4)\n",
    "exp_lr_scheduler = lr_scheduler.ReduceLROnPlateau(optimizer_conv,mode = 'min', patience=3, factor = 0.5)\n",
    "\n",
    "\n"
   ]
  },
  {
   "cell_type": "code",
   "execution_count": 12,
   "metadata": {},
   "outputs": [],
   "source": [
    "def train_model(model, dataloaders, dataset_sizes, criterion, optimizer, scheduler, use_gpu, num_epochs=25, mixup = False, alpha = 0.1):\n",
    "    since = time.time()\n",
    "\n",
    "    best_model_wts = model.state_dict()\n",
    "    best_acc = 0.0\n",
    "\n",
    "    for epoch in range(num_epochs):\n",
    "        print('Epoch {}/{}'.format(epoch, num_epochs - 1))\n",
    "        print('-' * 10)\n",
    "        for phase in ['train', 'val']:\n",
    "            if phase == 'train':\n",
    "                model.train(True)  # Set model to training mode\n",
    "            else:\n",
    "                model.train(False)  # Set model to evaluate mode\n",
    "\n",
    "            running_loss = 0.0\n",
    "            running_corrects = 0\n",
    "\n",
    "            # Iterate over data.\n",
    "            # get the inputs\n",
    "            for data in tqdm(dataloaders[phase]):\n",
    "                inputs, labels = data\n",
    "                if use_gpu:\n",
    "                    inputs, labels = Variable(inputs.cuda()), Variable(labels.cuda())\n",
    "                    inputs, labels = inputs.cuda(), labels.cuda()\n",
    "                else:\n",
    "                    inputs, labels = Variable(inputs), Variable(labels)\n",
    "\n",
    "                # zero the parameter gradients\n",
    "                optimizer.zero_grad()\n",
    "\n",
    "                # forward\n",
    "                outputs = model(inputs)\n",
    "                if type(outputs) == tuple:\n",
    "                    outputs, _ = outputs\n",
    "                _, preds = torch.max(outputs.data, 1)\n",
    "                loss = criterion(outputs, labels)\n",
    "\n",
    "                # backward + optimize only if in training phase\n",
    "                if phase == 'train':\n",
    "                    loss.backward()\n",
    "                    optimizer.step()\n",
    "\n",
    "                # statistics\n",
    "                running_loss += loss.data\n",
    "                running_corrects += torch.sum(preds == labels.data)\n",
    "\n",
    "            epoch_loss = float(running_loss.cpu()) / dataset_sizes[phase]\n",
    "            epoch_acc = float(running_corrects.cpu()) / dataset_sizes[phase]\n",
    "\n",
    "\n",
    "            print('{} Loss: {:.4f} Acc: {:.4f}'.format(\n",
    "                'phase', epoch_loss, epoch_acc))\n",
    "#             print (int(running_corrects.cpu()))\n",
    "\n",
    "            # deep copy the model\n",
    "            if phase == 'val' and epoch_acc > best_acc:\n",
    "                best_acc = epoch_acc\n",
    "                best_model_wts = model.state_dict()\n",
    "        scheduler.step(epoch_loss)\n",
    "        for param_group in optimizer.param_groups:\n",
    "          print(param_group['lr'])\n",
    "\n",
    "\n",
    "    time_elapsed = time.time() - since\n",
    "    print('Training complete in {:.0f}m {:.0f}s'.format(\n",
    "        time_elapsed // 60, time_elapsed % 60))\n",
    "    print('Best val Acc: {:4f}'.format(best_acc))\n",
    "\n",
    "    # load best model weights\n",
    "    model.load_state_dict(best_model_wts)\n",
    "    return model\n",
    "\n"
   ]
  },
  {
   "cell_type": "code",
   "execution_count": 15,
   "metadata": {},
   "outputs": [
    {
     "name": "stdout",
     "output_type": "stream",
     "text": [
      "Epoch 0/1\n",
      "----------\n"
     ]
    },
    {
     "name": "stderr",
     "output_type": "stream",
     "text": [
      "\n",
      "  0%|                                                                                          | 0/453 [00:00<?, ?it/s]\n",
      "  0%|▏                                                                                 | 1/453 [00:00<02:08,  3.51it/s]\n",
      "  0%|▎                                                                                 | 2/453 [00:00<02:05,  3.59it/s]\n",
      "  1%|▌                                                                                 | 3/453 [00:00<02:02,  3.68it/s]\n",
      "  1%|▋                                                                                 | 4/453 [00:01<02:02,  3.67it/s]\n",
      "  1%|▉                                                                                 | 5/453 [00:01<02:00,  3.72it/s]\n",
      "  1%|█                                                                                 | 6/453 [00:01<02:04,  3.60it/s]\n",
      "  2%|█▎                                                                                | 7/453 [00:01<02:04,  3.58it/s]\n",
      "  2%|█▍                                                                                | 8/453 [00:02<02:06,  3.51it/s]\n",
      "  2%|█▋                                                                                | 9/453 [00:02<02:04,  3.58it/s]\n",
      "  2%|█▊                                                                               | 10/453 [00:02<02:05,  3.54it/s]\n",
      "  2%|█▉                                                                               | 11/453 [00:03<02:05,  3.54it/s]\n",
      "  3%|██▏                                                                              | 12/453 [00:03<02:03,  3.56it/s]\n",
      "  3%|██▎                                                                              | 13/453 [00:03<02:05,  3.51it/s]\n",
      "  3%|██▌                                                                              | 14/453 [00:03<02:05,  3.48it/s]\n",
      "  3%|██▋                                                                              | 15/453 [00:04<02:02,  3.58it/s]\n",
      "  4%|██▊                                                                              | 16/453 [00:04<01:59,  3.65it/s]\n",
      "  4%|███                                                                              | 17/453 [00:04<01:58,  3.68it/s]\n",
      "  4%|███▏                                                                             | 18/453 [00:04<01:57,  3.69it/s]\n",
      "  4%|███▍                                                                             | 19/453 [00:05<01:59,  3.62it/s]\n",
      "  4%|███▌                                                                             | 20/453 [00:05<02:01,  3.58it/s]\n",
      "  5%|███▊                                                                             | 21/453 [00:05<01:58,  3.66it/s]\n",
      "  5%|███▉                                                                             | 22/453 [00:06<01:56,  3.68it/s]\n",
      "  5%|████                                                                             | 23/453 [00:06<01:55,  3.71it/s]\n",
      "  5%|████▎                                                                            | 24/453 [00:06<01:55,  3.71it/s]\n",
      "  6%|████▍                                                                            | 25/453 [00:06<01:58,  3.61it/s]\n",
      "  6%|████▋                                                                            | 26/453 [00:07<02:00,  3.55it/s]\n",
      "  6%|████▊                                                                            | 27/453 [00:07<01:57,  3.63it/s]\n",
      "  6%|█████                                                                            | 28/453 [00:07<01:58,  3.58it/s]\n",
      "  6%|█████▏                                                                           | 29/453 [00:08<01:56,  3.63it/s]\n",
      "  7%|█████▎                                                                           | 30/453 [00:08<01:59,  3.54it/s]\n",
      "  7%|█████▌                                                                           | 31/453 [00:08<01:57,  3.59it/s]\n",
      "  7%|█████▋                                                                           | 32/453 [00:08<01:58,  3.54it/s]\n",
      "  7%|█████▉                                                                           | 33/453 [00:09<02:00,  3.49it/s]\n",
      "  8%|██████                                                                           | 34/453 [00:09<02:01,  3.45it/s]\n",
      "  8%|██████▎                                                                          | 35/453 [00:09<02:05,  3.34it/s]\n",
      "  8%|██████▍                                                                          | 36/453 [00:10<02:03,  3.37it/s]\n",
      "  8%|██████▌                                                                          | 37/453 [00:10<02:07,  3.26it/s]\n",
      "  8%|██████▊                                                                          | 38/453 [00:10<02:06,  3.29it/s]\n",
      "  9%|██████▉                                                                          | 39/453 [00:10<02:01,  3.41it/s]\n",
      "  9%|███████▏                                                                         | 40/453 [00:11<01:58,  3.49it/s]\n",
      "  9%|███████▎                                                                         | 41/453 [00:11<01:57,  3.52it/s]\n",
      "  9%|███████▌                                                                         | 42/453 [00:11<01:55,  3.55it/s]\n",
      "  9%|███████▋                                                                         | 43/453 [00:12<01:53,  3.63it/s]\n",
      " 10%|███████▊                                                                         | 44/453 [00:12<01:53,  3.60it/s]\n",
      " 10%|████████                                                                         | 45/453 [00:12<01:51,  3.64it/s]\n",
      " 10%|████████▏                                                                        | 46/453 [00:12<01:53,  3.60it/s]\n",
      " 10%|████████▍                                                                        | 47/453 [00:13<01:57,  3.46it/s]\n",
      " 11%|████████▌                                                                        | 48/453 [00:13<01:58,  3.41it/s]\n",
      " 11%|████████▊                                                                        | 49/453 [00:13<02:05,  3.21it/s]\n",
      " 11%|████████▉                                                                        | 50/453 [00:14<02:09,  3.12it/s]\n",
      " 11%|█████████                                                                        | 51/453 [00:14<02:10,  3.08it/s]\n",
      " 11%|█████████▎                                                                       | 52/453 [00:14<02:08,  3.13it/s]\n",
      " 12%|█████████▍                                                                       | 53/453 [00:15<02:02,  3.26it/s]\n",
      " 12%|█████████▋                                                                       | 54/453 [00:15<01:58,  3.38it/s]\n",
      " 12%|█████████▊                                                                       | 55/453 [00:15<01:54,  3.49it/s]\n",
      " 12%|██████████                                                                       | 56/453 [00:15<01:51,  3.57it/s]\n",
      " 13%|██████████▏                                                                      | 57/453 [00:16<01:49,  3.63it/s]\n",
      " 13%|██████████▎                                                                      | 58/453 [00:16<01:47,  3.69it/s]\n",
      " 13%|██████████▌                                                                      | 59/453 [00:16<01:49,  3.61it/s]\n",
      " 13%|██████████▋                                                                      | 60/453 [00:17<01:47,  3.67it/s]\n",
      " 13%|██████████▉                                                                      | 61/453 [00:17<01:45,  3.70it/s]\n",
      " 14%|███████████                                                                      | 62/453 [00:17<01:49,  3.57it/s]\n",
      " 14%|███████████▎                                                                     | 63/453 [00:17<01:46,  3.65it/s]\n",
      " 14%|███████████▍                                                                     | 64/453 [00:18<01:46,  3.66it/s]\n",
      " 14%|███████████▌                                                                     | 65/453 [00:18<01:46,  3.65it/s]\n",
      " 15%|███████████▊                                                                     | 66/453 [00:18<01:46,  3.64it/s]\n",
      " 15%|███████████▉                                                                     | 67/453 [00:18<01:44,  3.68it/s]\n",
      " 15%|████████████▏                                                                    | 68/453 [00:19<01:43,  3.73it/s]\n",
      " 15%|████████████▎                                                                    | 69/453 [00:19<01:42,  3.76it/s]\n",
      " 15%|████████████▌                                                                    | 70/453 [00:19<01:42,  3.73it/s]\n",
      " 16%|████████████▋                                                                    | 71/453 [00:19<01:42,  3.71it/s]\n",
      " 16%|████████████▊                                                                    | 72/453 [00:20<01:43,  3.67it/s]\n",
      " 16%|█████████████                                                                    | 73/453 [00:20<01:42,  3.71it/s]\n",
      " 16%|█████████████▏                                                                   | 74/453 [00:20<01:42,  3.69it/s]\n",
      " 17%|█████████████▍                                                                   | 75/453 [00:21<01:42,  3.70it/s]\n",
      " 17%|█████████████▌                                                                   | 76/453 [00:21<01:41,  3.72it/s]\n",
      " 17%|█████████████▊                                                                   | 77/453 [00:21<01:40,  3.74it/s]\n",
      " 17%|█████████████▉                                                                   | 78/453 [00:21<01:42,  3.66it/s]\n",
      " 17%|██████████████▏                                                                  | 79/453 [00:22<01:43,  3.63it/s]\n",
      " 18%|██████████████▎                                                                  | 80/453 [00:22<01:44,  3.55it/s]\n",
      " 18%|██████████████▍                                                                  | 81/453 [00:22<01:43,  3.61it/s]\n",
      " 18%|██████████████▋                                                                  | 82/453 [00:23<01:42,  3.61it/s]\n",
      " 18%|██████████████▊                                                                  | 83/453 [00:23<01:41,  3.66it/s]\n",
      " 19%|███████████████                                                                  | 84/453 [00:23<01:40,  3.68it/s]\n",
      " 19%|███████████████▏                                                                 | 85/453 [00:23<01:41,  3.62it/s]\n",
      " 19%|███████████████▍                                                                 | 86/453 [00:24<01:43,  3.56it/s]\n",
      " 19%|███████████████▌                                                                 | 87/453 [00:24<01:42,  3.57it/s]\n",
      " 19%|███████████████▋                                                                 | 88/453 [00:24<01:41,  3.59it/s]\n",
      " 20%|███████████████▉                                                                 | 89/453 [00:24<01:43,  3.52it/s]\n",
      " 20%|████████████████                                                                 | 90/453 [00:25<01:41,  3.58it/s]\n",
      " 20%|████████████████▎                                                                | 91/453 [00:25<01:42,  3.54it/s]\n",
      " 20%|████████████████▍                                                                | 92/453 [00:25<01:41,  3.56it/s]\n",
      " 21%|████████████████▋                                                                | 93/453 [00:26<01:39,  3.61it/s]\n",
      " 21%|████████████████▊                                                                | 94/453 [00:26<01:42,  3.50it/s]\n",
      " 21%|████████████████▉                                                                | 95/453 [00:26<01:53,  3.15it/s]\n",
      " 21%|█████████████████▏                                                               | 96/453 [00:27<01:58,  3.02it/s]\n",
      " 21%|█████████████████▎                                                               | 97/453 [00:27<01:59,  2.98it/s]\n",
      " 22%|█████████████████▌                                                               | 98/453 [00:27<01:55,  3.08it/s]\n",
      " 22%|█████████████████▋                                                               | 99/453 [00:28<01:48,  3.27it/s]\n",
      " 22%|█████████████████▋                                                              | 100/453 [00:28<01:44,  3.38it/s]\n",
      " 22%|█████████████████▊                                                              | 101/453 [00:28<01:42,  3.44it/s]\n",
      " 23%|██████████████████                                                              | 102/453 [00:28<01:38,  3.55it/s]\n",
      " 23%|██████████████████▏                                                             | 103/453 [00:29<01:39,  3.52it/s]\n",
      " 23%|██████████████████▎                                                             | 104/453 [00:29<01:39,  3.52it/s]\n",
      " 23%|██████████████████▌                                                             | 105/453 [00:29<01:38,  3.53it/s]\n",
      " 23%|██████████████████▋                                                             | 106/453 [00:30<01:39,  3.47it/s]\n",
      " 24%|██████████████████▉                                                             | 107/453 [00:30<01:40,  3.43it/s]\n",
      " 24%|███████████████████                                                             | 108/453 [00:30<01:39,  3.47it/s]\n",
      " 24%|███████████████████▏                                                            | 109/453 [00:30<01:39,  3.46it/s]\n",
      " 24%|███████████████████▍                                                            | 110/453 [00:31<01:37,  3.51it/s]\n",
      " 25%|███████████████████▌                                                            | 111/453 [00:31<01:37,  3.50it/s]\n",
      " 25%|███████████████████▊                                                            | 112/453 [00:31<01:37,  3.49it/s]\n",
      " 25%|███████████████████▉                                                            | 113/453 [00:32<01:37,  3.49it/s]\n",
      " 25%|████████████████████▏                                                           | 114/453 [00:32<01:36,  3.50it/s]\n",
      " 25%|████████████████████▎                                                           | 115/453 [00:32<01:35,  3.54it/s]\n",
      " 26%|████████████████████▍                                                           | 116/453 [00:32<01:33,  3.62it/s]\n",
      " 26%|████████████████████▋                                                           | 117/453 [00:33<01:32,  3.63it/s]\n",
      " 26%|████████████████████▊                                                           | 118/453 [00:33<01:30,  3.69it/s]\n",
      " 26%|█████████████████████                                                           | 119/453 [00:33<01:30,  3.70it/s]\n",
      " 26%|█████████████████████▏                                                          | 120/453 [00:33<01:32,  3.62it/s]\n",
      " 27%|█████████████████████▎                                                          | 121/453 [00:34<01:30,  3.65it/s]\n",
      " 27%|█████████████████████▌                                                          | 122/453 [00:34<01:30,  3.68it/s]\n",
      " 27%|█████████████████████▋                                                          | 123/453 [00:34<01:29,  3.68it/s]\n",
      " 27%|█████████████████████▉                                                          | 124/453 [00:35<01:28,  3.72it/s]\n",
      " 28%|██████████████████████                                                          | 125/453 [00:35<01:27,  3.75it/s]\n",
      " 28%|██████████████████████▎                                                         | 126/453 [00:35<01:27,  3.74it/s]\n",
      " 28%|██████████████████████▍                                                         | 127/453 [00:35<01:27,  3.75it/s]\n",
      " 28%|██████████████████████▌                                                         | 128/453 [00:36<01:27,  3.70it/s]\n",
      " 28%|██████████████████████▊                                                         | 129/453 [00:36<01:29,  3.63it/s]\n",
      " 29%|██████████████████████▉                                                         | 130/453 [00:36<01:28,  3.63it/s]\n",
      " 29%|███████████████████████▏                                                        | 131/453 [00:36<01:29,  3.62it/s]\n",
      " 29%|███████████████████████▎                                                        | 132/453 [00:37<01:27,  3.66it/s]\n",
      " 29%|███████████████████████▍                                                        | 133/453 [00:37<01:26,  3.71it/s]\n",
      " 30%|███████████████████████▋                                                        | 134/453 [00:37<01:25,  3.72it/s]\n",
      " 30%|███████████████████████▊                                                        | 135/453 [00:37<01:24,  3.74it/s]\n"
     ]
    },
    {
     "name": "stderr",
     "output_type": "stream",
     "text": [
      " 30%|████████████████████████                                                        | 136/453 [00:38<01:27,  3.63it/s]\n",
      " 30%|████████████████████████▏                                                       | 137/453 [00:38<01:25,  3.69it/s]\n",
      " 30%|████████████████████████▎                                                       | 138/453 [00:38<01:25,  3.70it/s]\n",
      " 31%|████████████████████████▌                                                       | 139/453 [00:39<01:24,  3.73it/s]\n",
      " 31%|████████████████████████▋                                                       | 140/453 [00:39<01:27,  3.60it/s]\n",
      " 31%|████████████████████████▉                                                       | 141/453 [00:39<01:26,  3.62it/s]\n",
      " 31%|█████████████████████████                                                       | 142/453 [00:39<01:24,  3.67it/s]\n",
      " 32%|█████████████████████████▎                                                      | 143/453 [00:40<01:23,  3.69it/s]\n",
      " 32%|█████████████████████████▍                                                      | 144/453 [00:40<01:24,  3.66it/s]\n",
      " 32%|█████████████████████████▌                                                      | 145/453 [00:40<01:25,  3.60it/s]\n",
      " 32%|█████████████████████████▊                                                      | 146/453 [00:41<01:26,  3.56it/s]\n",
      " 32%|█████████████████████████▉                                                      | 147/453 [00:41<01:24,  3.63it/s]\n",
      " 33%|██████████████████████████▏                                                     | 148/453 [00:41<01:22,  3.68it/s]\n",
      " 33%|██████████████████████████▎                                                     | 149/453 [00:41<01:22,  3.70it/s]\n",
      " 33%|██████████████████████████▍                                                     | 150/453 [00:42<01:25,  3.54it/s]\n",
      " 33%|██████████████████████████▋                                                     | 151/453 [00:42<01:23,  3.63it/s]\n",
      " 34%|██████████████████████████▊                                                     | 152/453 [00:42<01:22,  3.64it/s]\n",
      " 34%|███████████████████████████                                                     | 153/453 [00:42<01:23,  3.61it/s]\n",
      " 34%|███████████████████████████▏                                                    | 154/453 [00:43<01:22,  3.63it/s]\n",
      " 34%|███████████████████████████▎                                                    | 155/453 [00:43<01:20,  3.70it/s]\n",
      " 34%|███████████████████████████▌                                                    | 156/453 [00:43<01:19,  3.73it/s]\n",
      " 35%|███████████████████████████▋                                                    | 157/453 [00:44<01:19,  3.74it/s]\n",
      " 35%|███████████████████████████▉                                                    | 158/453 [00:44<01:18,  3.75it/s]\n",
      " 35%|████████████████████████████                                                    | 159/453 [00:44<01:18,  3.74it/s]\n",
      " 35%|████████████████████████████▎                                                   | 160/453 [00:44<01:18,  3.74it/s]\n",
      " 36%|████████████████████████████▍                                                   | 161/453 [00:45<01:18,  3.70it/s]\n",
      " 36%|████████████████████████████▌                                                   | 162/453 [00:45<01:20,  3.61it/s]\n",
      " 36%|████████████████████████████▊                                                   | 163/453 [00:45<01:20,  3.60it/s]\n",
      " 36%|████████████████████████████▉                                                   | 164/453 [00:45<01:21,  3.55it/s]\n",
      " 36%|█████████████████████████████▏                                                  | 165/453 [00:46<01:21,  3.53it/s]\n",
      " 37%|█████████████████████████████▎                                                  | 166/453 [00:46<01:20,  3.56it/s]\n",
      " 37%|█████████████████████████████▍                                                  | 167/453 [00:46<01:21,  3.52it/s]\n",
      " 37%|█████████████████████████████▋                                                  | 168/453 [00:47<01:22,  3.47it/s]\n",
      " 37%|█████████████████████████████▊                                                  | 169/453 [00:47<01:24,  3.36it/s]\n",
      " 38%|██████████████████████████████                                                  | 170/453 [00:47<01:22,  3.45it/s]\n",
      " 38%|██████████████████████████████▏                                                 | 171/453 [00:47<01:22,  3.42it/s]\n",
      " 38%|██████████████████████████████▍                                                 | 172/453 [00:48<01:22,  3.39it/s]\n",
      " 38%|██████████████████████████████▌                                                 | 173/453 [00:48<01:21,  3.44it/s]\n",
      " 38%|██████████████████████████████▋                                                 | 174/453 [00:48<01:22,  3.40it/s]\n",
      " 39%|██████████████████████████████▉                                                 | 175/453 [00:49<01:21,  3.41it/s]\n",
      " 39%|███████████████████████████████                                                 | 176/453 [00:49<01:18,  3.52it/s]\n",
      " 39%|███████████████████████████████▎                                                | 177/453 [00:49<01:17,  3.57it/s]\n",
      " 39%|███████████████████████████████▍                                                | 178/453 [00:49<01:17,  3.57it/s]\n",
      " 40%|███████████████████████████████▌                                                | 179/453 [00:50<01:17,  3.55it/s]\n",
      " 40%|███████████████████████████████▊                                                | 180/453 [00:50<01:15,  3.61it/s]\n",
      " 40%|███████████████████████████████▉                                                | 181/453 [00:50<01:14,  3.67it/s]\n",
      " 40%|████████████████████████████████▏                                               | 182/453 [00:51<01:13,  3.69it/s]\n",
      " 40%|████████████████████████████████▎                                               | 183/453 [00:51<01:12,  3.72it/s]\n",
      " 41%|████████████████████████████████▍                                               | 184/453 [00:51<01:13,  3.67it/s]\n",
      " 41%|████████████████████████████████▋                                               | 185/453 [00:51<01:12,  3.69it/s]\n",
      " 41%|████████████████████████████████▊                                               | 186/453 [00:52<01:13,  3.61it/s]\n",
      " 41%|█████████████████████████████████                                               | 187/453 [00:52<01:12,  3.68it/s]\n",
      " 42%|█████████████████████████████████▏                                              | 188/453 [00:52<01:11,  3.71it/s]\n",
      " 42%|█████████████████████████████████▍                                              | 189/453 [00:52<01:10,  3.73it/s]\n",
      " 42%|█████████████████████████████████▌                                              | 190/453 [00:53<01:09,  3.76it/s]\n",
      " 42%|█████████████████████████████████▋                                              | 191/453 [00:53<01:09,  3.77it/s]\n",
      " 42%|█████████████████████████████████▉                                              | 192/453 [00:53<01:10,  3.71it/s]\n",
      " 43%|██████████████████████████████████                                              | 193/453 [00:54<01:12,  3.59it/s]\n",
      " 43%|██████████████████████████████████▎                                             | 194/453 [00:54<01:12,  3.55it/s]\n",
      " 43%|██████████████████████████████████▍                                             | 195/453 [00:54<01:12,  3.57it/s]\n",
      " 43%|██████████████████████████████████▌                                             | 196/453 [00:54<01:11,  3.62it/s]\n",
      " 43%|██████████████████████████████████▊                                             | 197/453 [00:55<01:12,  3.55it/s]\n",
      " 44%|██████████████████████████████████▉                                             | 198/453 [00:55<01:11,  3.54it/s]\n",
      " 44%|███████████████████████████████████▏                                            | 199/453 [00:55<01:10,  3.63it/s]\n",
      " 44%|███████████████████████████████████▎                                            | 200/453 [00:56<01:10,  3.58it/s]\n",
      " 44%|███████████████████████████████████▍                                            | 201/453 [00:56<01:10,  3.59it/s]\n",
      " 45%|███████████████████████████████████▋                                            | 202/453 [00:56<01:10,  3.58it/s]\n",
      " 45%|███████████████████████████████████▊                                            | 203/453 [00:56<01:09,  3.58it/s]\n",
      " 45%|████████████████████████████████████                                            | 204/453 [00:57<01:11,  3.46it/s]\n",
      " 45%|████████████████████████████████████▏                                           | 205/453 [00:57<01:11,  3.45it/s]\n",
      " 45%|████████████████████████████████████▍                                           | 206/453 [00:57<01:16,  3.25it/s]\n",
      " 46%|████████████████████████████████████▌                                           | 207/453 [00:58<01:17,  3.19it/s]\n",
      " 46%|████████████████████████████████████▋                                           | 208/453 [00:58<01:19,  3.07it/s]\n",
      " 46%|████████████████████████████████████▉                                           | 209/453 [00:58<01:17,  3.13it/s]\n",
      " 46%|█████████████████████████████████████                                           | 210/453 [00:59<01:13,  3.31it/s]\n",
      " 47%|█████████████████████████████████████▎                                          | 211/453 [00:59<01:12,  3.36it/s]\n",
      " 47%|█████████████████████████████████████▍                                          | 212/453 [00:59<01:11,  3.39it/s]\n",
      " 47%|█████████████████████████████████████▌                                          | 213/453 [00:59<01:09,  3.45it/s]\n",
      " 47%|█████████████████████████████████████▊                                          | 214/453 [01:00<01:08,  3.51it/s]\n",
      " 47%|█████████████████████████████████████▉                                          | 215/453 [01:00<01:06,  3.57it/s]\n",
      " 48%|██████████████████████████████████████▏                                         | 216/453 [01:00<01:05,  3.60it/s]\n",
      " 48%|██████████████████████████████████████▎                                         | 217/453 [01:00<01:05,  3.62it/s]\n",
      " 48%|██████████████████████████████████████▍                                         | 218/453 [01:01<01:03,  3.68it/s]\n",
      " 48%|██████████████████████████████████████▋                                         | 219/453 [01:01<01:03,  3.69it/s]\n",
      " 49%|██████████████████████████████████████▊                                         | 220/453 [01:01<01:04,  3.62it/s]\n",
      " 49%|███████████████████████████████████████                                         | 221/453 [01:02<01:03,  3.66it/s]\n",
      " 49%|███████████████████████████████████████▏                                        | 222/453 [01:02<01:02,  3.68it/s]\n",
      " 49%|███████████████████████████████████████▍                                        | 223/453 [01:02<01:02,  3.69it/s]\n",
      " 49%|███████████████████████████████████████▌                                        | 224/453 [01:02<01:01,  3.69it/s]\n",
      " 50%|███████████████████████████████████████▋                                        | 225/453 [01:03<01:01,  3.72it/s]\n",
      " 50%|███████████████████████████████████████▉                                        | 226/453 [01:03<01:01,  3.72it/s]\n",
      " 50%|████████████████████████████████████████                                        | 227/453 [01:03<01:00,  3.71it/s]\n",
      " 50%|████████████████████████████████████████▎                                       | 228/453 [01:03<01:01,  3.68it/s]\n",
      " 51%|████████████████████████████████████████▍                                       | 229/453 [01:04<01:00,  3.70it/s]\n",
      " 51%|████████████████████████████████████████▌                                       | 230/453 [01:04<01:02,  3.58it/s]\n",
      " 51%|████████████████████████████████████████▊                                       | 231/453 [01:04<01:01,  3.62it/s]\n",
      " 51%|████████████████████████████████████████▉                                       | 232/453 [01:05<01:00,  3.66it/s]\n",
      " 51%|█████████████████████████████████████████▏                                      | 233/453 [01:05<01:01,  3.61it/s]\n",
      " 52%|█████████████████████████████████████████▎                                      | 234/453 [01:05<00:59,  3.66it/s]\n",
      " 52%|█████████████████████████████████████████▌                                      | 235/453 [01:05<00:58,  3.70it/s]\n",
      " 52%|█████████████████████████████████████████▋                                      | 236/453 [01:06<00:59,  3.66it/s]\n",
      " 52%|█████████████████████████████████████████▊                                      | 237/453 [01:06<00:59,  3.63it/s]\n",
      " 53%|██████████████████████████████████████████                                      | 238/453 [01:06<00:58,  3.65it/s]\n",
      " 53%|██████████████████████████████████████████▏                                     | 239/453 [01:06<00:58,  3.69it/s]\n",
      " 53%|██████████████████████████████████████████▍                                     | 240/453 [01:07<00:57,  3.70it/s]\n",
      " 53%|██████████████████████████████████████████▌                                     | 241/453 [01:07<00:58,  3.64it/s]\n",
      " 53%|██████████████████████████████████████████▋                                     | 242/453 [01:07<00:57,  3.69it/s]\n",
      " 54%|██████████████████████████████████████████▉                                     | 243/453 [01:08<00:56,  3.72it/s]\n",
      " 54%|███████████████████████████████████████████                                     | 244/453 [01:08<00:57,  3.67it/s]\n",
      " 54%|███████████████████████████████████████████▎                                    | 245/453 [01:08<00:56,  3.67it/s]\n",
      " 54%|███████████████████████████████████████████▍                                    | 246/453 [01:08<00:57,  3.62it/s]\n",
      " 55%|███████████████████████████████████████████▌                                    | 247/453 [01:09<00:56,  3.62it/s]\n",
      " 55%|███████████████████████████████████████████▊                                    | 248/453 [01:09<00:57,  3.55it/s]\n",
      " 55%|███████████████████████████████████████████▉                                    | 249/453 [01:09<00:56,  3.61it/s]\n",
      " 55%|████████████████████████████████████████████▏                                   | 250/453 [01:10<00:56,  3.62it/s]\n",
      " 55%|████████████████████████████████████████████▎                                   | 251/453 [01:10<00:55,  3.65it/s]\n",
      " 56%|████████████████████████████████████████████▌                                   | 252/453 [01:10<00:55,  3.62it/s]\n",
      " 56%|████████████████████████████████████████████▋                                   | 253/453 [01:10<00:54,  3.66it/s]\n",
      " 56%|████████████████████████████████████████████▊                                   | 254/453 [01:11<00:54,  3.68it/s]\n",
      " 56%|█████████████████████████████████████████████                                   | 255/453 [01:11<00:55,  3.56it/s]\n",
      " 57%|█████████████████████████████████████████████▏                                  | 256/453 [01:11<00:54,  3.60it/s]\n",
      " 57%|█████████████████████████████████████████████▍                                  | 257/453 [01:11<00:54,  3.62it/s]\n",
      " 57%|█████████████████████████████████████████████▌                                  | 258/453 [01:12<00:54,  3.60it/s]\n",
      " 57%|█████████████████████████████████████████████▋                                  | 259/453 [01:12<00:53,  3.66it/s]\n",
      " 57%|█████████████████████████████████████████████▉                                  | 260/453 [01:12<00:53,  3.64it/s]\n",
      " 58%|██████████████████████████████████████████████                                  | 261/453 [01:13<00:52,  3.66it/s]\n",
      " 58%|██████████████████████████████████████████████▎                                 | 262/453 [01:13<00:51,  3.68it/s]\n",
      " 58%|██████████████████████████████████████████████▍                                 | 263/453 [01:13<00:52,  3.61it/s]\n",
      " 58%|██████████████████████████████████████████████▌                                 | 264/453 [01:13<00:55,  3.38it/s]\n",
      " 58%|██████████████████████████████████████████████▊                                 | 265/453 [01:14<00:56,  3.35it/s]\n",
      " 59%|██████████████████████████████████████████████▉                                 | 266/453 [01:14<00:54,  3.46it/s]\n",
      " 59%|███████████████████████████████████████████████▏                                | 267/453 [01:14<00:56,  3.27it/s]\n",
      " 59%|███████████████████████████████████████████████▎                                | 268/453 [01:15<00:57,  3.22it/s]\n",
      " 59%|███████████████████████████████████████████████▌                                | 269/453 [01:15<00:55,  3.30it/s]\n",
      " 60%|███████████████████████████████████████████████▋                                | 270/453 [01:15<00:57,  3.16it/s]\n",
      " 60%|███████████████████████████████████████████████▊                                | 271/453 [01:16<00:58,  3.11it/s]\n"
     ]
    },
    {
     "name": "stderr",
     "output_type": "stream",
     "text": [
      " 60%|████████████████████████████████████████████████                                | 272/453 [01:16<00:59,  3.04it/s]\n",
      " 60%|████████████████████████████████████████████████▏                               | 273/453 [01:16<01:01,  2.93it/s]\n",
      " 60%|████████████████████████████████████████████████▍                               | 274/453 [01:17<01:00,  2.95it/s]\n",
      " 61%|████████████████████████████████████████████████▌                               | 275/453 [01:17<01:00,  2.93it/s]\n",
      " 61%|████████████████████████████████████████████████▋                               | 276/453 [01:17<01:00,  2.92it/s]\n",
      " 61%|████████████████████████████████████████████████▉                               | 277/453 [01:18<01:00,  2.93it/s]\n",
      " 61%|█████████████████████████████████████████████████                               | 278/453 [01:18<00:58,  3.00it/s]\n",
      " 62%|█████████████████████████████████████████████████▎                              | 279/453 [01:18<00:54,  3.18it/s]\n",
      " 62%|█████████████████████████████████████████████████▍                              | 280/453 [01:19<00:51,  3.34it/s]\n",
      " 62%|█████████████████████████████████████████████████▌                              | 281/453 [01:19<00:50,  3.44it/s]\n",
      " 62%|█████████████████████████████████████████████████▊                              | 282/453 [01:19<00:49,  3.48it/s]\n",
      " 62%|█████████████████████████████████████████████████▉                              | 283/453 [01:19<00:48,  3.50it/s]\n",
      " 63%|██████████████████████████████████████████████████▏                             | 284/453 [01:20<00:47,  3.57it/s]\n",
      " 63%|██████████████████████████████████████████████████▎                             | 285/453 [01:20<00:46,  3.59it/s]\n",
      " 63%|██████████████████████████████████████████████████▌                             | 286/453 [01:20<00:48,  3.48it/s]\n",
      " 63%|██████████████████████████████████████████████████▋                             | 287/453 [01:21<00:46,  3.58it/s]\n",
      " 64%|██████████████████████████████████████████████████▊                             | 288/453 [01:21<00:45,  3.62it/s]\n",
      " 64%|███████████████████████████████████████████████████                             | 289/453 [01:21<00:45,  3.60it/s]\n",
      " 64%|███████████████████████████████████████████████████▏                            | 290/453 [01:21<00:47,  3.45it/s]\n",
      " 64%|███████████████████████████████████████████████████▍                            | 291/453 [01:22<00:45,  3.55it/s]\n",
      " 64%|███████████████████████████████████████████████████▌                            | 292/453 [01:22<00:44,  3.61it/s]\n",
      " 65%|███████████████████████████████████████████████████▋                            | 293/453 [01:22<00:44,  3.63it/s]\n",
      " 65%|███████████████████████████████████████████████████▉                            | 294/453 [01:22<00:44,  3.56it/s]\n",
      " 65%|████████████████████████████████████████████████████                            | 295/453 [01:23<00:43,  3.63it/s]\n",
      " 65%|████████████████████████████████████████████████████▎                           | 296/453 [01:23<00:42,  3.66it/s]\n",
      " 66%|████████████████████████████████████████████████████▍                           | 297/453 [01:23<00:42,  3.66it/s]\n",
      " 66%|████████████████████████████████████████████████████▋                           | 298/453 [01:24<00:42,  3.69it/s]\n",
      " 66%|████████████████████████████████████████████████████▊                           | 299/453 [01:24<00:41,  3.67it/s]\n",
      " 66%|████████████████████████████████████████████████████▉                           | 300/453 [01:24<00:43,  3.54it/s]\n",
      " 66%|█████████████████████████████████████████████████████▏                          | 301/453 [01:24<00:41,  3.63it/s]\n",
      " 67%|█████████████████████████████████████████████████████▎                          | 302/453 [01:25<00:41,  3.66it/s]\n",
      " 67%|█████████████████████████████████████████████████████▌                          | 303/453 [01:25<00:40,  3.66it/s]\n",
      " 67%|█████████████████████████████████████████████████████▋                          | 304/453 [01:25<00:40,  3.66it/s]\n",
      " 67%|█████████████████████████████████████████████████████▊                          | 305/453 [01:25<00:41,  3.56it/s]\n",
      " 68%|██████████████████████████████████████████████████████                          | 306/453 [01:26<00:41,  3.55it/s]\n",
      " 68%|██████████████████████████████████████████████████████▏                         | 307/453 [01:26<00:41,  3.51it/s]\n",
      " 68%|██████████████████████████████████████████████████████▍                         | 308/453 [01:26<00:40,  3.59it/s]\n",
      " 68%|██████████████████████████████████████████████████████▌                         | 309/453 [01:27<00:39,  3.60it/s]\n",
      " 68%|██████████████████████████████████████████████████████▋                         | 310/453 [01:27<00:38,  3.67it/s]\n",
      " 69%|██████████████████████████████████████████████████████▉                         | 311/453 [01:27<00:39,  3.63it/s]\n",
      " 69%|███████████████████████████████████████████████████████                         | 312/453 [01:27<00:38,  3.62it/s]\n",
      " 69%|███████████████████████████████████████████████████████▎                        | 313/453 [01:28<00:38,  3.66it/s]\n",
      " 69%|███████████████████████████████████████████████████████▍                        | 314/453 [01:28<00:39,  3.49it/s]\n",
      " 70%|███████████████████████████████████████████████████████▋                        | 315/453 [01:28<00:41,  3.30it/s]\n",
      " 70%|███████████████████████████████████████████████████████▊                        | 316/453 [01:29<00:43,  3.15it/s]\n",
      " 70%|███████████████████████████████████████████████████████▉                        | 317/453 [01:29<00:43,  3.13it/s]\n",
      " 70%|████████████████████████████████████████████████████████▏                       | 318/453 [01:29<00:40,  3.32it/s]\n",
      " 70%|████████████████████████████████████████████████████████▎                       | 319/453 [01:30<00:39,  3.43it/s]\n",
      " 71%|████████████████████████████████████████████████████████▌                       | 320/453 [01:30<00:37,  3.52it/s]\n",
      " 71%|████████████████████████████████████████████████████████▋                       | 321/453 [01:30<00:37,  3.52it/s]\n",
      " 71%|████████████████████████████████████████████████████████▊                       | 322/453 [01:30<00:36,  3.57it/s]\n",
      " 71%|█████████████████████████████████████████████████████████                       | 323/453 [01:31<00:36,  3.56it/s]\n",
      " 72%|█████████████████████████████████████████████████████████▏                      | 324/453 [01:31<00:36,  3.58it/s]\n",
      " 72%|█████████████████████████████████████████████████████████▍                      | 325/453 [01:31<00:35,  3.58it/s]\n",
      " 72%|█████████████████████████████████████████████████████████▌                      | 326/453 [01:32<00:35,  3.55it/s]\n",
      " 72%|█████████████████████████████████████████████████████████▋                      | 327/453 [01:32<00:35,  3.59it/s]\n",
      " 72%|█████████████████████████████████████████████████████████▉                      | 328/453 [01:32<00:34,  3.58it/s]\n",
      " 73%|██████████████████████████████████████████████████████████                      | 329/453 [01:32<00:34,  3.58it/s]\n",
      " 73%|██████████████████████████████████████████████████████████▎                     | 330/453 [01:33<00:33,  3.63it/s]\n",
      " 73%|██████████████████████████████████████████████████████████▍                     | 331/453 [01:33<00:33,  3.62it/s]\n",
      " 73%|██████████████████████████████████████████████████████████▋                     | 332/453 [01:33<00:32,  3.67it/s]\n",
      " 74%|██████████████████████████████████████████████████████████▊                     | 333/453 [01:33<00:32,  3.65it/s]\n",
      " 74%|██████████████████████████████████████████████████████████▉                     | 334/453 [01:34<00:32,  3.69it/s]\n",
      " 74%|███████████████████████████████████████████████████████████▏                    | 335/453 [01:34<00:31,  3.71it/s]\n",
      " 74%|███████████████████████████████████████████████████████████▎                    | 336/453 [01:34<00:31,  3.73it/s]\n",
      " 74%|███████████████████████████████████████████████████████████▌                    | 337/453 [01:34<00:30,  3.75it/s]\n",
      " 75%|███████████████████████████████████████████████████████████▋                    | 338/453 [01:35<00:30,  3.76it/s]\n",
      " 75%|███████████████████████████████████████████████████████████▊                    | 339/453 [01:35<00:30,  3.71it/s]\n",
      " 75%|████████████████████████████████████████████████████████████                    | 340/453 [01:35<00:30,  3.70it/s]\n",
      " 75%|████████████████████████████████████████████████████████████▏                   | 341/453 [01:36<00:30,  3.69it/s]\n",
      " 75%|████████████████████████████████████████████████████████████▍                   | 342/453 [01:36<00:30,  3.67it/s]\n",
      " 76%|████████████████████████████████████████████████████████████▌                   | 343/453 [01:36<00:30,  3.65it/s]\n",
      " 76%|████████████████████████████████████████████████████████████▊                   | 344/453 [01:36<00:29,  3.69it/s]\n",
      " 76%|████████████████████████████████████████████████████████████▉                   | 345/453 [01:37<00:29,  3.70it/s]\n",
      " 76%|█████████████████████████████████████████████████████████████                   | 346/453 [01:37<00:29,  3.61it/s]\n",
      " 77%|█████████████████████████████████████████████████████████████▎                  | 347/453 [01:37<00:28,  3.67it/s]\n",
      " 77%|█████████████████████████████████████████████████████████████▍                  | 348/453 [01:37<00:28,  3.67it/s]\n",
      " 77%|█████████████████████████████████████████████████████████████▋                  | 349/453 [01:38<00:28,  3.71it/s]\n",
      " 77%|█████████████████████████████████████████████████████████████▊                  | 350/453 [01:38<00:28,  3.67it/s]\n",
      " 77%|█████████████████████████████████████████████████████████████▉                  | 351/453 [01:38<00:27,  3.67it/s]\n",
      " 78%|██████████████████████████████████████████████████████████████▏                 | 352/453 [01:39<00:27,  3.66it/s]\n",
      " 78%|██████████████████████████████████████████████████████████████▎                 | 353/453 [01:39<00:27,  3.60it/s]\n",
      " 78%|██████████████████████████████████████████████████████████████▌                 | 354/453 [01:39<00:27,  3.61it/s]\n",
      " 78%|██████████████████████████████████████████████████████████████▋                 | 355/453 [01:39<00:27,  3.62it/s]\n",
      " 79%|██████████████████████████████████████████████████████████████▊                 | 356/453 [01:40<00:26,  3.60it/s]\n",
      " 79%|███████████████████████████████████████████████████████████████                 | 357/453 [01:40<00:26,  3.58it/s]\n",
      " 79%|███████████████████████████████████████████████████████████████▏                | 358/453 [01:40<00:26,  3.62it/s]\n",
      " 79%|███████████████████████████████████████████████████████████████▍                | 359/453 [01:41<00:25,  3.62it/s]\n",
      " 79%|███████████████████████████████████████████████████████████████▌                | 360/453 [01:41<00:25,  3.67it/s]\n",
      " 80%|███████████████████████████████████████████████████████████████▊                | 361/453 [01:41<00:25,  3.56it/s]\n",
      " 80%|███████████████████████████████████████████████████████████████▉                | 362/453 [01:41<00:25,  3.63it/s]\n",
      " 80%|████████████████████████████████████████████████████████████████                | 363/453 [01:42<00:25,  3.56it/s]\n",
      " 80%|████████████████████████████████████████████████████████████████▎               | 364/453 [01:42<00:24,  3.63it/s]\n",
      " 81%|████████████████████████████████████████████████████████████████▍               | 365/453 [01:42<00:24,  3.66it/s]\n",
      " 81%|████████████████████████████████████████████████████████████████▋               | 366/453 [01:42<00:23,  3.68it/s]\n",
      " 81%|████████████████████████████████████████████████████████████████▊               | 367/453 [01:43<00:23,  3.71it/s]\n",
      " 81%|████████████████████████████████████████████████████████████████▉               | 368/453 [01:43<00:23,  3.69it/s]\n",
      " 81%|█████████████████████████████████████████████████████████████████▏              | 369/453 [01:43<00:22,  3.69it/s]\n",
      " 82%|█████████████████████████████████████████████████████████████████▎              | 370/453 [01:44<00:22,  3.72it/s]\n",
      " 82%|█████████████████████████████████████████████████████████████████▌              | 371/453 [01:44<00:22,  3.67it/s]\n",
      " 82%|█████████████████████████████████████████████████████████████████▋              | 372/453 [01:44<00:22,  3.67it/s]\n",
      " 82%|█████████████████████████████████████████████████████████████████▊              | 373/453 [01:44<00:21,  3.66it/s]\n",
      " 83%|██████████████████████████████████████████████████████████████████              | 374/453 [01:45<00:21,  3.67it/s]\n",
      " 83%|██████████████████████████████████████████████████████████████████▏             | 375/453 [01:45<00:21,  3.64it/s]\n",
      " 83%|██████████████████████████████████████████████████████████████████▍             | 376/453 [01:45<00:21,  3.59it/s]\n",
      " 83%|██████████████████████████████████████████████████████████████████▌             | 377/453 [01:45<00:20,  3.64it/s]\n",
      " 83%|██████████████████████████████████████████████████████████████████▊             | 378/453 [01:46<00:20,  3.61it/s]\n",
      " 84%|██████████████████████████████████████████████████████████████████▉             | 379/453 [01:46<00:20,  3.64it/s]\n",
      " 84%|███████████████████████████████████████████████████████████████████             | 380/453 [01:46<00:20,  3.61it/s]\n",
      " 84%|███████████████████████████████████████████████████████████████████▎            | 381/453 [01:47<00:19,  3.64it/s]\n",
      " 84%|███████████████████████████████████████████████████████████████████▍            | 382/453 [01:47<00:19,  3.63it/s]\n",
      " 85%|███████████████████████████████████████████████████████████████████▋            | 383/453 [01:47<00:19,  3.66it/s]\n",
      " 85%|███████████████████████████████████████████████████████████████████▊            | 384/453 [01:47<00:19,  3.55it/s]\n",
      " 85%|███████████████████████████████████████████████████████████████████▉            | 385/453 [01:48<00:18,  3.62it/s]\n",
      " 85%|████████████████████████████████████████████████████████████████████▏           | 386/453 [01:48<00:18,  3.65it/s]\n",
      " 85%|████████████████████████████████████████████████████████████████████▎           | 387/453 [01:48<00:18,  3.54it/s]\n",
      " 86%|████████████████████████████████████████████████████████████████████▌           | 388/453 [01:48<00:18,  3.59it/s]\n",
      " 86%|████████████████████████████████████████████████████████████████████▋           | 389/453 [01:49<00:17,  3.63it/s]\n",
      " 86%|████████████████████████████████████████████████████████████████████▊           | 390/453 [01:49<00:17,  3.62it/s]\n",
      " 86%|█████████████████████████████████████████████████████████████████████           | 391/453 [01:49<00:17,  3.63it/s]\n",
      " 87%|█████████████████████████████████████████████████████████████████████▏          | 392/453 [01:50<00:16,  3.65it/s]\n",
      " 87%|█████████████████████████████████████████████████████████████████████▍          | 393/453 [01:50<00:16,  3.62it/s]\n",
      " 87%|█████████████████████████████████████████████████████████████████████▌          | 394/453 [01:50<00:16,  3.53it/s]\n",
      " 87%|█████████████████████████████████████████████████████████████████████▊          | 395/453 [01:51<00:17,  3.32it/s]\n",
      " 87%|█████████████████████████████████████████████████████████████████████▉          | 396/453 [01:51<00:17,  3.27it/s]\n",
      " 88%|██████████████████████████████████████████████████████████████████████          | 397/453 [01:51<00:16,  3.32it/s]\n",
      " 88%|██████████████████████████████████████████████████████████████████████▎         | 398/453 [01:51<00:17,  3.19it/s]\n",
      " 88%|██████████████████████████████████████████████████████████████████████▍         | 399/453 [01:52<00:16,  3.21it/s]\n",
      " 88%|██████████████████████████████████████████████████████████████████████▋         | 400/453 [01:52<00:15,  3.32it/s]\n",
      " 89%|██████████████████████████████████████████████████████████████████████▊         | 401/453 [01:52<00:15,  3.35it/s]\n",
      " 89%|██████████████████████████████████████████████████████████████████████▉         | 402/453 [01:53<00:15,  3.37it/s]\n",
      " 89%|███████████████████████████████████████████████████████████████████████▏        | 403/453 [01:53<00:14,  3.48it/s]\n",
      " 89%|███████████████████████████████████████████████████████████████████████▎        | 404/453 [01:53<00:14,  3.45it/s]\n",
      " 89%|███████████████████████████████████████████████████████████████████████▌        | 405/453 [01:53<00:13,  3.54it/s]\n",
      " 90%|███████████████████████████████████████████████████████████████████████▋        | 406/453 [01:54<00:13,  3.59it/s]\n",
      " 90%|███████████████████████████████████████████████████████████████████████▉        | 407/453 [01:54<00:12,  3.61it/s]\n"
     ]
    },
    {
     "name": "stderr",
     "output_type": "stream",
     "text": [
      " 90%|████████████████████████████████████████████████████████████████████████        | 408/453 [01:54<00:12,  3.66it/s]\n",
      " 90%|████████████████████████████████████████████████████████████████████████▏       | 409/453 [01:55<00:11,  3.68it/s]\n",
      " 91%|████████████████████████████████████████████████████████████████████████▍       | 410/453 [01:55<00:11,  3.68it/s]\n",
      " 91%|████████████████████████████████████████████████████████████████████████▌       | 411/453 [01:55<00:11,  3.66it/s]\n",
      " 91%|████████████████████████████████████████████████████████████████████████▊       | 412/453 [01:55<00:11,  3.70it/s]\n",
      " 91%|████████████████████████████████████████████████████████████████████████▉       | 413/453 [01:56<00:10,  3.68it/s]\n",
      " 91%|█████████████████████████████████████████████████████████████████████████       | 414/453 [01:56<00:10,  3.70it/s]\n",
      " 92%|█████████████████████████████████████████████████████████████████████████▎      | 415/453 [01:56<00:10,  3.72it/s]\n",
      " 92%|█████████████████████████████████████████████████████████████████████████▍      | 416/453 [01:56<00:09,  3.75it/s]\n",
      " 92%|█████████████████████████████████████████████████████████████████████████▋      | 417/453 [01:57<00:09,  3.76it/s]\n",
      " 92%|█████████████████████████████████████████████████████████████████████████▊      | 418/453 [01:57<00:09,  3.68it/s]\n",
      " 92%|█████████████████████████████████████████████████████████████████████████▉      | 419/453 [01:57<00:09,  3.53it/s]\n",
      " 93%|██████████████████████████████████████████████████████████████████████████▏     | 420/453 [01:58<00:09,  3.61it/s]\n",
      " 93%|██████████████████████████████████████████████████████████████████████████▎     | 421/453 [01:58<00:08,  3.63it/s]\n",
      " 93%|██████████████████████████████████████████████████████████████████████████▌     | 422/453 [01:58<00:08,  3.60it/s]\n",
      " 93%|██████████████████████████████████████████████████████████████████████████▋     | 423/453 [01:58<00:08,  3.53it/s]\n",
      " 94%|██████████████████████████████████████████████████████████████████████████▉     | 424/453 [01:59<00:08,  3.50it/s]\n",
      " 94%|███████████████████████████████████████████████████████████████████████████     | 425/453 [01:59<00:08,  3.43it/s]\n",
      " 94%|███████████████████████████████████████████████████████████████████████████▏    | 426/453 [01:59<00:08,  3.19it/s]\n",
      " 94%|███████████████████████████████████████████████████████████████████████████▍    | 427/453 [02:00<00:08,  3.08it/s]\n",
      " 94%|███████████████████████████████████████████████████████████████████████████▌    | 428/453 [02:00<00:08,  3.07it/s]\n",
      " 95%|███████████████████████████████████████████████████████████████████████████▊    | 429/453 [02:00<00:07,  3.24it/s]\n",
      " 95%|███████████████████████████████████████████████████████████████████████████▉    | 430/453 [02:01<00:06,  3.35it/s]\n",
      " 95%|████████████████████████████████████████████████████████████████████████████    | 431/453 [02:01<00:06,  3.47it/s]\n",
      " 95%|████████████████████████████████████████████████████████████████████████████▎   | 432/453 [02:01<00:06,  3.43it/s]\n",
      " 96%|████████████████████████████████████████████████████████████████████████████▍   | 433/453 [02:01<00:05,  3.53it/s]\n",
      " 96%|████████████████████████████████████████████████████████████████████████████▋   | 434/453 [02:02<00:05,  3.48it/s]\n",
      " 96%|████████████████████████████████████████████████████████████████████████████▊   | 435/453 [02:02<00:05,  3.58it/s]\n",
      " 96%|████████████████████████████████████████████████████████████████████████████▉   | 436/453 [02:02<00:04,  3.60it/s]\n",
      " 96%|█████████████████████████████████████████████████████████████████████████████▏  | 437/453 [02:03<00:04,  3.62it/s]\n",
      " 97%|█████████████████████████████████████████████████████████████████████████████▎  | 438/453 [02:03<00:04,  3.63it/s]\n",
      " 97%|█████████████████████████████████████████████████████████████████████████████▌  | 439/453 [02:03<00:03,  3.64it/s]\n",
      " 97%|█████████████████████████████████████████████████████████████████████████████▋  | 440/453 [02:03<00:03,  3.59it/s]\n",
      " 97%|█████████████████████████████████████████████████████████████████████████████▉  | 441/453 [02:04<00:03,  3.64it/s]\n",
      " 98%|██████████████████████████████████████████████████████████████████████████████  | 442/453 [02:04<00:03,  3.65it/s]\n",
      " 98%|██████████████████████████████████████████████████████████████████████████████▏ | 443/453 [02:04<00:02,  3.57it/s]\n",
      " 98%|██████████████████████████████████████████████████████████████████████████████▍ | 444/453 [02:04<00:02,  3.64it/s]\n",
      " 98%|██████████████████████████████████████████████████████████████████████████████▌ | 445/453 [02:05<00:02,  3.66it/s]\n",
      " 98%|██████████████████████████████████████████████████████████████████████████████▊ | 446/453 [02:05<00:01,  3.68it/s]\n",
      " 99%|██████████████████████████████████████████████████████████████████████████████▉ | 447/453 [02:05<00:01,  3.67it/s]\n",
      " 99%|███████████████████████████████████████████████████████████████████████████████ | 448/453 [02:06<00:01,  3.68it/s]\n",
      " 99%|███████████████████████████████████████████████████████████████████████████████▎| 449/453 [02:06<00:01,  3.57it/s]\n",
      " 99%|███████████████████████████████████████████████████████████████████████████████▍| 450/453 [02:06<00:00,  3.49it/s]\n",
      "100%|███████████████████████████████████████████████████████████████████████████████▋| 451/453 [02:06<00:00,  3.59it/s]\n",
      "100%|███████████████████████████████████████████████████████████████████████████████▊| 452/453 [02:07<00:00,  3.63it/s]\n",
      "100%|████████████████████████████████████████████████████████████████████████████████| 453/453 [02:07<00:00,  3.96it/s]"
     ]
    },
    {
     "name": "stdout",
     "output_type": "stream",
     "text": [
      "phase Loss: 0.0132 Acc: 0.8432\n"
     ]
    },
    {
     "name": "stderr",
     "output_type": "stream",
     "text": [
      "\n",
      "  0%|                                                                                           | 0/80 [00:00<?, ?it/s]\n",
      "  1%|█                                                                                  | 1/80 [00:00<00:11,  6.82it/s]\n",
      "  2%|██                                                                                 | 2/80 [00:00<00:12,  6.46it/s]\n",
      "  4%|███                                                                                | 3/80 [00:00<00:11,  6.55it/s]\n",
      "  5%|████▏                                                                              | 4/80 [00:00<00:11,  6.63it/s]\n",
      "  6%|█████▏                                                                             | 5/80 [00:00<00:11,  6.67it/s]\n",
      "  8%|██████▏                                                                            | 6/80 [00:00<00:11,  6.70it/s]\n",
      "  9%|███████▎                                                                           | 7/80 [00:01<00:11,  6.34it/s]\n",
      " 10%|████████▎                                                                          | 8/80 [00:01<00:11,  6.47it/s]\n",
      " 11%|█████████▎                                                                         | 9/80 [00:01<00:11,  6.43it/s]\n",
      " 12%|██████████▎                                                                       | 10/80 [00:01<00:10,  6.43it/s]\n",
      " 14%|███████████▎                                                                      | 11/80 [00:01<00:11,  6.19it/s]\n",
      " 15%|████████████▎                                                                     | 12/80 [00:01<00:11,  5.84it/s]\n",
      " 16%|█████████████▎                                                                    | 13/80 [00:02<00:11,  6.00it/s]\n",
      " 18%|██████████████▎                                                                   | 14/80 [00:02<00:10,  6.12it/s]\n",
      " 19%|███████████████▍                                                                  | 15/80 [00:02<00:10,  6.20it/s]\n",
      " 20%|████████████████▍                                                                 | 16/80 [00:02<00:10,  6.29it/s]\n",
      " 21%|█████████████████▍                                                                | 17/80 [00:02<00:10,  6.14it/s]\n",
      " 22%|██████████████████▍                                                               | 18/80 [00:02<00:10,  6.18it/s]\n",
      " 24%|███████████████████▍                                                              | 19/80 [00:03<00:09,  6.22it/s]\n",
      " 25%|████████████████████▌                                                             | 20/80 [00:03<00:09,  6.15it/s]\n",
      " 26%|█████████████████████▌                                                            | 21/80 [00:03<00:09,  6.04it/s]\n",
      " 28%|██████████████████████▌                                                           | 22/80 [00:03<00:09,  6.15it/s]\n",
      " 29%|███████████████████████▌                                                          | 23/80 [00:03<00:09,  6.12it/s]\n",
      " 30%|████████████████████████▌                                                         | 24/80 [00:03<00:09,  5.94it/s]\n",
      " 31%|█████████████████████████▋                                                        | 25/80 [00:04<00:08,  6.20it/s]\n",
      " 32%|██████████████████████████▋                                                       | 26/80 [00:04<00:08,  6.09it/s]\n",
      " 34%|███████████████████████████▋                                                      | 27/80 [00:04<00:08,  6.17it/s]\n",
      " 35%|████████████████████████████▋                                                     | 28/80 [00:04<00:08,  6.32it/s]\n",
      " 36%|█████████████████████████████▋                                                    | 29/80 [00:04<00:07,  6.44it/s]\n",
      " 38%|██████████████████████████████▊                                                   | 30/80 [00:04<00:07,  6.52it/s]\n",
      " 39%|███████████████████████████████▊                                                  | 31/80 [00:04<00:07,  6.53it/s]\n",
      " 40%|████████████████████████████████▊                                                 | 32/80 [00:05<00:07,  6.64it/s]\n",
      " 41%|█████████████████████████████████▊                                                | 33/80 [00:05<00:07,  6.52it/s]\n",
      " 42%|██████████████████████████████████▊                                               | 34/80 [00:05<00:06,  6.62it/s]\n",
      " 44%|███████████████████████████████████▉                                              | 35/80 [00:05<00:06,  6.67it/s]\n",
      " 45%|████████████████████████████████████▉                                             | 36/80 [00:05<00:06,  6.69it/s]\n",
      " 46%|█████████████████████████████████████▉                                            | 37/80 [00:05<00:06,  6.53it/s]\n",
      " 48%|██████████████████████████████████████▉                                           | 38/80 [00:06<00:06,  6.41it/s]\n",
      " 49%|███████████████████████████████████████▉                                          | 39/80 [00:06<00:06,  6.43it/s]\n",
      " 50%|█████████████████████████████████████████                                         | 40/80 [00:06<00:06,  6.54it/s]\n",
      " 51%|██████████████████████████████████████████                                        | 41/80 [00:06<00:06,  6.41it/s]\n",
      " 52%|███████████████████████████████████████████                                       | 42/80 [00:06<00:06,  6.32it/s]\n",
      " 54%|████████████████████████████████████████████                                      | 43/80 [00:06<00:05,  6.22it/s]\n",
      " 55%|█████████████████████████████████████████████                                     | 44/80 [00:06<00:05,  6.39it/s]\n",
      " 56%|██████████████████████████████████████████████▏                                   | 45/80 [00:07<00:05,  6.40it/s]\n",
      " 57%|███████████████████████████████████████████████▏                                  | 46/80 [00:07<00:05,  6.22it/s]\n",
      " 59%|████████████████████████████████████████████████▏                                 | 47/80 [00:07<00:05,  6.35it/s]\n",
      " 60%|█████████████████████████████████████████████████▏                                | 48/80 [00:07<00:05,  6.22it/s]\n",
      " 61%|██████████████████████████████████████████████████▏                               | 49/80 [00:07<00:04,  6.38it/s]\n",
      " 62%|███████████████████████████████████████████████████▎                              | 50/80 [00:07<00:04,  6.26it/s]\n",
      " 64%|████████████████████████████████████████████████████▎                             | 51/80 [00:08<00:04,  6.39it/s]\n",
      " 65%|█████████████████████████████████████████████████████▎                            | 52/80 [00:08<00:04,  6.37it/s]\n",
      " 66%|██████████████████████████████████████████████████████▎                           | 53/80 [00:08<00:04,  6.39it/s]\n",
      " 68%|███████████████████████████████████████████████████████▎                          | 54/80 [00:08<00:04,  6.16it/s]\n",
      " 69%|████████████████████████████████████████████████████████▍                         | 55/80 [00:08<00:04,  6.24it/s]\n",
      " 70%|█████████████████████████████████████████████████████████▍                        | 56/80 [00:08<00:03,  6.27it/s]\n",
      " 71%|██████████████████████████████████████████████████████████▍                       | 57/80 [00:09<00:03,  6.39it/s]\n",
      " 72%|███████████████████████████████████████████████████████████▍                      | 58/80 [00:09<00:03,  6.50it/s]\n",
      " 74%|████████████████████████████████████████████████████████████▍                     | 59/80 [00:09<00:03,  6.59it/s]\n",
      " 75%|█████████████████████████████████████████████████████████████▌                    | 60/80 [00:09<00:03,  6.48it/s]\n",
      " 76%|██████████████████████████████████████████████████████████████▌                   | 61/80 [00:09<00:02,  6.40it/s]\n",
      " 78%|███████████████████████████████████████████████████████████████▌                  | 62/80 [00:09<00:02,  6.48it/s]\n",
      " 79%|████████████████████████████████████████████████████████████████▌                 | 63/80 [00:09<00:02,  6.52it/s]\n",
      " 80%|█████████████████████████████████████████████████████████████████▌                | 64/80 [00:10<00:02,  6.59it/s]\n",
      " 81%|██████████████████████████████████████████████████████████████████▋               | 65/80 [00:10<00:02,  6.30it/s]\n",
      " 82%|███████████████████████████████████████████████████████████████████▋              | 66/80 [00:10<00:02,  6.32it/s]\n",
      " 84%|████████████████████████████████████████████████████████████████████▋             | 67/80 [00:10<00:02,  6.44it/s]\n",
      " 85%|█████████████████████████████████████████████████████████████████████▋            | 68/80 [00:10<00:01,  6.54it/s]\n",
      " 86%|██████████████████████████████████████████████████████████████████████▋           | 69/80 [00:10<00:01,  6.33it/s]\n",
      " 88%|███████████████████████████████████████████████████████████████████████▊          | 70/80 [00:11<00:01,  6.43it/s]\n",
      " 89%|████████████████████████████████████████████████████████████████████████▊         | 71/80 [00:11<00:01,  6.44it/s]\n",
      " 90%|█████████████████████████████████████████████████████████████████████████▊        | 72/80 [00:11<00:01,  6.53it/s]\n",
      " 91%|██████████████████████████████████████████████████████████████████████████▊       | 73/80 [00:11<00:01,  6.61it/s]\n",
      " 92%|███████████████████████████████████████████████████████████████████████████▊      | 74/80 [00:11<00:00,  6.58it/s]\n",
      " 94%|████████████████████████████████████████████████████████████████████████████▉     | 75/80 [00:11<00:00,  6.57it/s]\n",
      " 95%|█████████████████████████████████████████████████████████████████████████████▉    | 76/80 [00:11<00:00,  6.59it/s]\n",
      " 96%|██████████████████████████████████████████████████████████████████████████████▉   | 77/80 [00:12<00:00,  6.39it/s]\n",
      " 98%|███████████████████████████████████████████████████████████████████████████████▉  | 78/80 [00:12<00:00,  6.34it/s]\n",
      " 99%|████████████████████████████████████████████████████████████████████████████████▉ | 79/80 [00:12<00:00,  6.40it/s]\n",
      "100%|██████████████████████████████████████████████████████████████████████████████████| 80/80 [00:12<00:00,  6.68it/s]"
     ]
    },
    {
     "name": "stdout",
     "output_type": "stream",
     "text": [
      "phase Loss: 0.0152 Acc: 0.8282\n",
      "0.0005\n",
      "Epoch 1/1\n",
      "----------\n"
     ]
    },
    {
     "name": "stderr",
     "output_type": "stream",
     "text": [
      "\n",
      "  0%|                                                                                          | 0/453 [00:00<?, ?it/s]\n",
      "  0%|▏                                                                                 | 1/453 [00:00<02:11,  3.43it/s]\n",
      "  0%|▎                                                                                 | 2/453 [00:00<02:07,  3.55it/s]\n",
      "  1%|▌                                                                                 | 3/453 [00:00<02:06,  3.56it/s]\n",
      "  1%|▋                                                                                 | 4/453 [00:01<02:06,  3.55it/s]\n",
      "  1%|▉                                                                                 | 5/453 [00:01<02:09,  3.46it/s]\n",
      "  1%|█                                                                                 | 6/453 [00:01<02:05,  3.58it/s]\n",
      "  2%|█▎                                                                                | 7/453 [00:01<02:03,  3.62it/s]\n",
      "  2%|█▍                                                                                | 8/453 [00:02<02:01,  3.66it/s]\n",
      "  2%|█▋                                                                                | 9/453 [00:02<01:59,  3.70it/s]\n",
      "  2%|█▊                                                                               | 10/453 [00:02<02:03,  3.59it/s]\n",
      "  2%|█▉                                                                               | 11/453 [00:03<02:01,  3.63it/s]\n",
      "  3%|██▏                                                                              | 12/453 [00:03<02:00,  3.65it/s]\n",
      "  3%|██▎                                                                              | 13/453 [00:03<02:03,  3.57it/s]\n",
      "  3%|██▌                                                                              | 14/453 [00:03<02:02,  3.59it/s]\n",
      "  3%|██▋                                                                              | 15/453 [00:04<02:02,  3.59it/s]\n",
      "  4%|██▊                                                                              | 16/453 [00:04<02:00,  3.62it/s]\n",
      "  4%|███                                                                              | 17/453 [00:04<02:00,  3.61it/s]\n",
      "  4%|███▏                                                                             | 18/453 [00:04<02:00,  3.60it/s]\n",
      "  4%|███▍                                                                             | 19/453 [00:05<01:59,  3.62it/s]\n",
      "  4%|███▌                                                                             | 20/453 [00:05<01:58,  3.64it/s]\n",
      "  5%|███▊                                                                             | 21/453 [00:05<01:58,  3.65it/s]\n",
      "  5%|███▉                                                                             | 22/453 [00:06<01:58,  3.64it/s]\n",
      "  5%|████                                                                             | 23/453 [00:06<01:59,  3.59it/s]\n",
      "  5%|████▎                                                                            | 24/453 [00:06<01:59,  3.59it/s]\n",
      "  6%|████▍                                                                            | 25/453 [00:06<02:01,  3.53it/s]\n",
      "  6%|████▋                                                                            | 26/453 [00:07<01:58,  3.60it/s]\n",
      "  6%|████▊                                                                            | 27/453 [00:07<01:57,  3.64it/s]\n",
      "  6%|█████                                                                            | 28/453 [00:07<01:56,  3.65it/s]\n",
      "  6%|█████▏                                                                           | 29/453 [00:08<01:55,  3.67it/s]\n",
      "  7%|█████▎                                                                           | 30/453 [00:08<01:54,  3.69it/s]\n",
      "  7%|█████▌                                                                           | 31/453 [00:08<01:55,  3.66it/s]\n",
      "  7%|█████▋                                                                           | 32/453 [00:08<01:54,  3.67it/s]\n",
      "  7%|█████▉                                                                           | 33/453 [00:09<01:54,  3.67it/s]\n",
      "  8%|██████                                                                           | 34/453 [00:09<01:54,  3.67it/s]\n",
      "  8%|██████▎                                                                          | 35/453 [00:09<01:55,  3.62it/s]\n",
      "  8%|██████▍                                                                          | 36/453 [00:09<01:54,  3.64it/s]\n",
      "  8%|██████▌                                                                          | 37/453 [00:10<01:54,  3.64it/s]\n",
      "  8%|██████▊                                                                          | 38/453 [00:10<01:56,  3.56it/s]\n",
      "  9%|██████▉                                                                          | 39/453 [00:10<02:04,  3.31it/s]\n",
      "  9%|███████▏                                                                         | 40/453 [00:11<02:08,  3.21it/s]\n",
      "  9%|███████▎                                                                         | 41/453 [00:11<02:11,  3.14it/s]\n",
      "  9%|███████▌                                                                         | 42/453 [00:11<02:06,  3.24it/s]\n",
      "  9%|███████▋                                                                         | 43/453 [00:12<02:02,  3.35it/s]\n",
      " 10%|███████▊                                                                         | 44/453 [00:12<01:58,  3.44it/s]\n",
      " 10%|████████                                                                         | 45/453 [00:12<01:57,  3.48it/s]\n",
      " 10%|████████▏                                                                        | 46/453 [00:12<01:54,  3.56it/s]\n",
      " 10%|████████▍                                                                        | 47/453 [00:13<01:54,  3.56it/s]\n",
      " 11%|████████▌                                                                        | 48/453 [00:13<01:53,  3.57it/s]\n",
      " 11%|████████▊                                                                        | 49/453 [00:13<01:51,  3.61it/s]\n",
      " 11%|████████▉                                                                        | 50/453 [00:13<01:50,  3.66it/s]\n",
      " 11%|█████████                                                                        | 51/453 [00:14<01:50,  3.65it/s]\n",
      " 11%|█████████▎                                                                       | 52/453 [00:14<01:53,  3.53it/s]\n",
      " 12%|█████████▍                                                                       | 53/453 [00:14<01:50,  3.60it/s]\n",
      " 12%|█████████▋                                                                       | 54/453 [00:15<01:49,  3.64it/s]\n",
      " 12%|█████████▊                                                                       | 55/453 [00:15<01:48,  3.65it/s]\n",
      " 12%|██████████                                                                       | 56/453 [00:15<01:48,  3.66it/s]\n",
      " 13%|██████████▏                                                                      | 57/453 [00:15<01:47,  3.69it/s]\n",
      " 13%|██████████▎                                                                      | 58/453 [00:16<01:47,  3.66it/s]\n",
      " 13%|██████████▌                                                                      | 59/453 [00:16<01:48,  3.65it/s]\n",
      " 13%|██████████▋                                                                      | 60/453 [00:16<01:47,  3.67it/s]\n",
      " 13%|██████████▉                                                                      | 61/453 [00:17<01:47,  3.65it/s]\n",
      " 14%|███████████                                                                      | 62/453 [00:17<01:46,  3.68it/s]\n",
      " 14%|███████████▎                                                                     | 63/453 [00:17<01:45,  3.68it/s]\n",
      " 14%|███████████▍                                                                     | 64/453 [00:17<01:44,  3.71it/s]\n",
      " 14%|███████████▌                                                                     | 65/453 [00:18<01:44,  3.71it/s]\n",
      " 15%|███████████▊                                                                     | 66/453 [00:18<01:44,  3.71it/s]\n",
      " 15%|███████████▉                                                                     | 67/453 [00:18<01:43,  3.72it/s]\n",
      " 15%|████████████▏                                                                    | 68/453 [00:18<01:44,  3.70it/s]\n",
      " 15%|████████████▎                                                                    | 69/453 [00:19<01:43,  3.72it/s]\n",
      " 15%|████████████▌                                                                    | 70/453 [00:19<01:43,  3.72it/s]\n",
      " 16%|████████████▋                                                                    | 71/453 [00:19<01:42,  3.72it/s]\n",
      " 16%|████████████▊                                                                    | 72/453 [00:19<01:42,  3.73it/s]\n",
      " 16%|█████████████                                                                    | 73/453 [00:20<01:40,  3.77it/s]\n",
      " 16%|█████████████▏                                                                   | 74/453 [00:20<01:41,  3.72it/s]\n",
      " 17%|█████████████▍                                                                   | 75/453 [00:20<01:43,  3.65it/s]\n",
      " 17%|█████████████▌                                                                   | 76/453 [00:21<01:43,  3.65it/s]\n",
      " 17%|█████████████▊                                                                   | 77/453 [00:21<01:46,  3.55it/s]\n",
      " 17%|█████████████▉                                                                   | 78/453 [00:21<01:43,  3.61it/s]\n",
      " 17%|██████████████▏                                                                  | 79/453 [00:21<01:42,  3.63it/s]\n",
      " 18%|██████████████▎                                                                  | 80/453 [00:22<01:42,  3.64it/s]\n",
      " 18%|██████████████▍                                                                  | 81/453 [00:22<01:42,  3.64it/s]\n",
      " 18%|██████████████▋                                                                  | 82/453 [00:22<01:40,  3.67it/s]\n",
      " 18%|██████████████▊                                                                  | 83/453 [00:23<01:43,  3.58it/s]\n",
      " 19%|███████████████                                                                  | 84/453 [00:23<01:44,  3.51it/s]\n",
      " 19%|███████████████▏                                                                 | 85/453 [00:23<01:44,  3.53it/s]\n",
      " 19%|███████████████▍                                                                 | 86/453 [00:23<01:42,  3.56it/s]\n",
      " 19%|███████████████▌                                                                 | 87/453 [00:24<01:41,  3.61it/s]\n",
      " 19%|███████████████▋                                                                 | 88/453 [00:24<01:40,  3.63it/s]\n",
      " 20%|███████████████▉                                                                 | 89/453 [00:24<01:39,  3.65it/s]\n",
      " 20%|████████████████                                                                 | 90/453 [00:24<01:38,  3.68it/s]\n",
      " 20%|████████████████▎                                                                | 91/453 [00:25<01:37,  3.70it/s]\n",
      " 20%|████████████████▍                                                                | 92/453 [00:25<01:38,  3.67it/s]\n",
      " 21%|████████████████▋                                                                | 93/453 [00:25<01:38,  3.66it/s]\n",
      " 21%|████████████████▊                                                                | 94/453 [00:26<01:37,  3.69it/s]\n",
      " 21%|████████████████▉                                                                | 95/453 [00:26<01:36,  3.71it/s]\n",
      " 21%|█████████████████▏                                                               | 96/453 [00:26<01:36,  3.71it/s]\n",
      " 21%|█████████████████▎                                                               | 97/453 [00:26<01:36,  3.70it/s]\n",
      " 22%|█████████████████▌                                                               | 98/453 [00:27<01:36,  3.68it/s]\n",
      " 22%|█████████████████▋                                                               | 99/453 [00:27<01:35,  3.69it/s]\n",
      " 22%|█████████████████▋                                                              | 100/453 [00:27<01:39,  3.55it/s]\n",
      " 22%|█████████████████▊                                                              | 101/453 [00:28<01:45,  3.34it/s]\n",
      " 23%|██████████████████                                                              | 102/453 [00:28<01:44,  3.35it/s]\n",
      " 23%|██████████████████▏                                                             | 103/453 [00:28<01:41,  3.43it/s]\n",
      " 23%|██████████████████▎                                                             | 104/453 [00:28<01:40,  3.48it/s]\n",
      " 23%|██████████████████▌                                                             | 105/453 [00:29<01:38,  3.55it/s]\n",
      " 23%|██████████████████▋                                                             | 106/453 [00:29<01:38,  3.54it/s]\n",
      " 24%|██████████████████▉                                                             | 107/453 [00:29<01:38,  3.53it/s]\n",
      " 24%|███████████████████                                                             | 108/453 [00:29<01:35,  3.60it/s]\n",
      " 24%|███████████████████▏                                                            | 109/453 [00:30<01:34,  3.65it/s]\n",
      " 24%|███████████████████▍                                                            | 110/453 [00:30<01:35,  3.61it/s]\n",
      " 25%|███████████████████▌                                                            | 111/453 [00:30<01:33,  3.67it/s]\n",
      " 25%|███████████████████▊                                                            | 112/453 [00:31<01:32,  3.70it/s]\n",
      " 25%|███████████████████▉                                                            | 113/453 [00:31<01:32,  3.69it/s]\n",
      " 25%|████████████████████▏                                                           | 114/453 [00:31<01:31,  3.71it/s]\n",
      " 25%|████████████████████▎                                                           | 115/453 [00:31<01:31,  3.71it/s]\n",
      " 26%|████████████████████▍                                                           | 116/453 [00:32<01:30,  3.71it/s]\n",
      " 26%|████████████████████▋                                                           | 117/453 [00:32<01:30,  3.72it/s]\n",
      " 26%|████████████████████▊                                                           | 118/453 [00:32<01:29,  3.73it/s]\n",
      " 26%|█████████████████████                                                           | 119/453 [00:32<01:30,  3.68it/s]\n",
      " 26%|█████████████████████▏                                                          | 120/453 [00:33<01:30,  3.70it/s]\n",
      " 27%|█████████████████████▎                                                          | 121/453 [00:33<01:28,  3.73it/s]\n",
      " 27%|█████████████████████▌                                                          | 122/453 [00:33<01:30,  3.64it/s]\n",
      " 27%|█████████████████████▋                                                          | 123/453 [00:34<01:29,  3.68it/s]\n",
      " 27%|█████████████████████▉                                                          | 124/453 [00:34<01:29,  3.66it/s]\n",
      " 28%|██████████████████████                                                          | 125/453 [00:34<01:29,  3.67it/s]\n",
      " 28%|██████████████████████▎                                                         | 126/453 [00:34<01:30,  3.63it/s]\n",
      " 28%|██████████████████████▍                                                         | 127/453 [00:35<01:29,  3.63it/s]\n",
      " 28%|██████████████████████▌                                                         | 128/453 [00:35<01:28,  3.66it/s]\n",
      " 28%|██████████████████████▊                                                         | 129/453 [00:35<01:28,  3.68it/s]\n",
      " 29%|██████████████████████▉                                                         | 130/453 [00:35<01:28,  3.65it/s]\n",
      " 29%|███████████████████████▏                                                        | 131/453 [00:36<01:30,  3.55it/s]\n",
      " 29%|███████████████████████▎                                                        | 132/453 [00:36<01:29,  3.60it/s]\n",
      " 29%|███████████████████████▍                                                        | 133/453 [00:36<01:28,  3.63it/s]\n",
      " 30%|███████████████████████▋                                                        | 134/453 [00:37<01:28,  3.60it/s]\n",
      " 30%|███████████████████████▊                                                        | 135/453 [00:37<01:29,  3.54it/s]\n"
     ]
    },
    {
     "name": "stderr",
     "output_type": "stream",
     "text": [
      " 30%|████████████████████████                                                        | 136/453 [00:37<01:29,  3.56it/s]\n",
      " 30%|████████████████████████▏                                                       | 137/453 [00:37<01:27,  3.61it/s]\n",
      " 30%|████████████████████████▎                                                       | 138/453 [00:38<01:29,  3.53it/s]\n",
      " 31%|████████████████████████▌                                                       | 139/453 [00:38<01:26,  3.63it/s]\n",
      " 31%|████████████████████████▋                                                       | 140/453 [00:38<01:26,  3.61it/s]\n",
      " 31%|████████████████████████▉                                                       | 141/453 [00:39<01:25,  3.63it/s]\n",
      " 31%|█████████████████████████                                                       | 142/453 [00:39<01:24,  3.68it/s]\n",
      " 32%|█████████████████████████▎                                                      | 143/453 [00:39<01:23,  3.70it/s]\n",
      " 32%|█████████████████████████▍                                                      | 144/453 [00:39<01:24,  3.67it/s]\n",
      " 32%|█████████████████████████▌                                                      | 145/453 [00:40<01:22,  3.71it/s]\n",
      " 32%|█████████████████████████▊                                                      | 146/453 [00:40<01:22,  3.71it/s]\n",
      " 32%|█████████████████████████▉                                                      | 147/453 [00:40<01:24,  3.61it/s]\n",
      " 33%|██████████████████████████▏                                                     | 148/453 [00:40<01:23,  3.66it/s]\n",
      " 33%|██████████████████████████▎                                                     | 149/453 [00:41<01:22,  3.68it/s]\n",
      " 33%|██████████████████████████▍                                                     | 150/453 [00:41<01:23,  3.62it/s]\n",
      " 33%|██████████████████████████▋                                                     | 151/453 [00:41<01:30,  3.35it/s]\n",
      " 34%|██████████████████████████▊                                                     | 152/453 [00:42<01:32,  3.24it/s]\n",
      " 34%|███████████████████████████                                                     | 153/453 [00:42<01:35,  3.15it/s]\n",
      " 34%|███████████████████████████▏                                                    | 154/453 [00:42<01:32,  3.25it/s]\n",
      " 34%|███████████████████████████▎                                                    | 155/453 [00:43<01:27,  3.40it/s]\n",
      " 34%|███████████████████████████▌                                                    | 156/453 [00:43<01:24,  3.52it/s]\n",
      " 35%|███████████████████████████▋                                                    | 157/453 [00:43<01:22,  3.57it/s]\n",
      " 35%|███████████████████████████▉                                                    | 158/453 [00:43<01:20,  3.64it/s]\n",
      " 35%|████████████████████████████                                                    | 159/453 [00:44<01:22,  3.58it/s]\n",
      " 35%|████████████████████████████▎                                                   | 160/453 [00:44<01:20,  3.66it/s]\n",
      " 36%|████████████████████████████▍                                                   | 161/453 [00:44<01:22,  3.55it/s]\n",
      " 36%|████████████████████████████▌                                                   | 162/453 [00:44<01:20,  3.62it/s]\n",
      " 36%|████████████████████████████▊                                                   | 163/453 [00:45<01:19,  3.66it/s]\n",
      " 36%|████████████████████████████▉                                                   | 164/453 [00:45<01:18,  3.69it/s]\n",
      " 36%|█████████████████████████████▏                                                  | 165/453 [00:45<01:17,  3.71it/s]\n",
      " 37%|█████████████████████████████▎                                                  | 166/453 [00:46<01:16,  3.73it/s]\n",
      " 37%|█████████████████████████████▍                                                  | 167/453 [00:46<01:16,  3.73it/s]\n",
      " 37%|█████████████████████████████▋                                                  | 168/453 [00:46<01:17,  3.69it/s]\n",
      " 37%|█████████████████████████████▊                                                  | 169/453 [00:46<01:16,  3.71it/s]\n",
      " 38%|██████████████████████████████                                                  | 170/453 [00:47<01:15,  3.74it/s]\n",
      " 38%|██████████████████████████████▏                                                 | 171/453 [00:47<01:16,  3.70it/s]\n",
      " 38%|██████████████████████████████▍                                                 | 172/453 [00:47<01:16,  3.66it/s]\n",
      " 38%|██████████████████████████████▌                                                 | 173/453 [00:47<01:16,  3.67it/s]\n",
      " 38%|██████████████████████████████▋                                                 | 174/453 [00:48<01:16,  3.67it/s]\n",
      " 39%|██████████████████████████████▉                                                 | 175/453 [00:48<01:15,  3.70it/s]\n",
      " 39%|███████████████████████████████                                                 | 176/453 [00:48<01:14,  3.74it/s]\n",
      " 39%|███████████████████████████████▎                                                | 177/453 [00:48<01:13,  3.74it/s]\n",
      " 39%|███████████████████████████████▍                                                | 178/453 [00:49<01:13,  3.75it/s]\n",
      " 40%|███████████████████████████████▌                                                | 179/453 [00:49<01:14,  3.68it/s]\n",
      " 40%|███████████████████████████████▊                                                | 180/453 [00:49<01:13,  3.71it/s]\n",
      " 40%|███████████████████████████████▉                                                | 181/453 [00:50<01:12,  3.73it/s]\n",
      " 40%|████████████████████████████████▏                                               | 182/453 [00:50<01:13,  3.67it/s]\n",
      " 40%|████████████████████████████████▎                                               | 183/453 [00:50<01:12,  3.71it/s]\n",
      " 41%|████████████████████████████████▍                                               | 184/453 [00:50<01:13,  3.68it/s]\n",
      " 41%|████████████████████████████████▋                                               | 185/453 [00:51<01:12,  3.72it/s]\n",
      " 41%|████████████████████████████████▊                                               | 186/453 [00:51<01:12,  3.71it/s]\n",
      " 41%|█████████████████████████████████                                               | 187/453 [00:51<01:14,  3.57it/s]\n",
      " 42%|█████████████████████████████████▏                                              | 188/453 [00:51<01:12,  3.65it/s]\n",
      " 42%|█████████████████████████████████▍                                              | 189/453 [00:52<01:14,  3.57it/s]\n",
      " 42%|█████████████████████████████████▌                                              | 190/453 [00:52<01:11,  3.65it/s]\n",
      " 42%|█████████████████████████████████▋                                              | 191/453 [00:52<01:11,  3.69it/s]\n",
      " 42%|█████████████████████████████████▉                                              | 192/453 [00:53<01:12,  3.58it/s]\n",
      " 43%|██████████████████████████████████                                              | 193/453 [00:53<01:12,  3.58it/s]\n",
      " 43%|██████████████████████████████████▎                                             | 194/453 [00:53<01:14,  3.49it/s]\n",
      " 43%|██████████████████████████████████▍                                             | 195/453 [00:53<01:12,  3.53it/s]\n",
      " 43%|██████████████████████████████████▌                                             | 196/453 [00:54<01:11,  3.62it/s]\n",
      " 43%|██████████████████████████████████▊                                             | 197/453 [00:54<01:09,  3.66it/s]\n",
      " 44%|██████████████████████████████████▉                                             | 198/453 [00:54<01:09,  3.68it/s]\n",
      " 44%|███████████████████████████████████▏                                            | 199/453 [00:55<01:09,  3.65it/s]\n",
      " 44%|███████████████████████████████████▎                                            | 200/453 [00:55<01:08,  3.70it/s]\n",
      " 44%|███████████████████████████████████▍                                            | 201/453 [00:55<01:07,  3.73it/s]\n",
      " 45%|███████████████████████████████████▋                                            | 202/453 [00:55<01:07,  3.72it/s]\n",
      " 45%|███████████████████████████████████▊                                            | 203/453 [00:56<01:06,  3.73it/s]\n",
      " 45%|████████████████████████████████████                                            | 204/453 [00:56<01:06,  3.73it/s]\n",
      " 45%|████████████████████████████████████▏                                           | 205/453 [00:56<01:08,  3.60it/s]\n",
      " 45%|████████████████████████████████████▍                                           | 206/453 [00:56<01:07,  3.67it/s]\n",
      " 46%|████████████████████████████████████▌                                           | 207/453 [00:57<01:07,  3.64it/s]\n",
      " 46%|████████████████████████████████████▋                                           | 208/453 [00:57<01:07,  3.63it/s]\n",
      " 46%|████████████████████████████████████▉                                           | 209/453 [00:57<01:08,  3.58it/s]\n",
      " 46%|█████████████████████████████████████                                           | 210/453 [00:58<01:06,  3.65it/s]\n",
      " 47%|█████████████████████████████████████▎                                          | 211/453 [00:58<01:05,  3.68it/s]\n",
      " 47%|█████████████████████████████████████▍                                          | 212/453 [00:58<01:06,  3.64it/s]\n",
      " 47%|█████████████████████████████████████▌                                          | 213/453 [00:58<01:05,  3.68it/s]\n",
      " 47%|█████████████████████████████████████▊                                          | 214/453 [00:59<01:05,  3.68it/s]\n",
      " 47%|█████████████████████████████████████▉                                          | 215/453 [00:59<01:04,  3.69it/s]\n",
      " 48%|██████████████████████████████████████▏                                         | 216/453 [00:59<01:03,  3.72it/s]\n",
      " 48%|██████████████████████████████████████▎                                         | 217/453 [00:59<01:03,  3.70it/s]\n",
      " 48%|██████████████████████████████████████▍                                         | 218/453 [01:00<01:04,  3.65it/s]\n",
      " 48%|██████████████████████████████████████▋                                         | 219/453 [01:00<01:04,  3.65it/s]\n",
      " 49%|██████████████████████████████████████▊                                         | 220/453 [01:00<01:06,  3.51it/s]\n",
      " 49%|███████████████████████████████████████                                         | 221/453 [01:01<01:05,  3.56it/s]\n",
      " 49%|███████████████████████████████████████▏                                        | 222/453 [01:01<01:06,  3.48it/s]\n",
      " 49%|███████████████████████████████████████▍                                        | 223/453 [01:01<01:06,  3.48it/s]\n",
      " 49%|███████████████████████████████████████▌                                        | 224/453 [01:01<01:04,  3.56it/s]\n",
      " 50%|███████████████████████████████████████▋                                        | 225/453 [01:02<01:03,  3.59it/s]\n",
      " 50%|███████████████████████████████████████▉                                        | 226/453 [01:02<01:02,  3.65it/s]\n",
      " 50%|████████████████████████████████████████                                        | 227/453 [01:02<01:02,  3.62it/s]\n",
      " 50%|████████████████████████████████████████▎                                       | 228/453 [01:02<01:01,  3.65it/s]\n",
      " 51%|████████████████████████████████████████▍                                       | 229/453 [01:03<01:01,  3.65it/s]\n",
      " 51%|████████████████████████████████████████▌                                       | 230/453 [01:03<01:00,  3.68it/s]\n",
      " 51%|████████████████████████████████████████▊                                       | 231/453 [01:03<01:01,  3.59it/s]\n",
      " 51%|████████████████████████████████████████▉                                       | 232/453 [01:04<01:00,  3.65it/s]\n",
      " 51%|█████████████████████████████████████████▏                                      | 233/453 [01:04<00:59,  3.68it/s]\n",
      " 52%|█████████████████████████████████████████▎                                      | 234/453 [01:04<00:59,  3.71it/s]\n",
      " 52%|█████████████████████████████████████████▌                                      | 235/453 [01:04<00:58,  3.74it/s]\n",
      " 52%|█████████████████████████████████████████▋                                      | 236/453 [01:05<00:58,  3.71it/s]\n",
      " 52%|█████████████████████████████████████████▊                                      | 237/453 [01:05<01:00,  3.55it/s]\n",
      " 53%|██████████████████████████████████████████                                      | 238/453 [01:05<00:59,  3.62it/s]\n",
      " 53%|██████████████████████████████████████████▏                                     | 239/453 [01:06<00:59,  3.62it/s]\n",
      " 53%|██████████████████████████████████████████▍                                     | 240/453 [01:06<00:57,  3.68it/s]\n",
      " 53%|██████████████████████████████████████████▌                                     | 241/453 [01:06<00:57,  3.72it/s]\n",
      " 53%|██████████████████████████████████████████▋                                     | 242/453 [01:06<00:56,  3.74it/s]\n",
      " 54%|██████████████████████████████████████████▉                                     | 243/453 [01:07<00:57,  3.66it/s]\n",
      " 54%|███████████████████████████████████████████                                     | 244/453 [01:07<00:56,  3.70it/s]\n",
      " 54%|███████████████████████████████████████████▎                                    | 245/453 [01:07<00:56,  3.69it/s]\n",
      " 54%|███████████████████████████████████████████▍                                    | 246/453 [01:07<00:56,  3.66it/s]\n",
      " 55%|███████████████████████████████████████████▌                                    | 247/453 [01:08<00:57,  3.56it/s]\n",
      " 55%|███████████████████████████████████████████▊                                    | 248/453 [01:08<00:56,  3.64it/s]\n",
      " 55%|███████████████████████████████████████████▉                                    | 249/453 [01:08<00:55,  3.70it/s]\n",
      " 55%|████████████████████████████████████████████▏                                   | 250/453 [01:08<00:54,  3.71it/s]\n",
      " 55%|████████████████████████████████████████████▎                                   | 251/453 [01:09<00:54,  3.71it/s]\n",
      " 56%|████████████████████████████████████████████▌                                   | 252/453 [01:09<00:54,  3.70it/s]\n",
      " 56%|████████████████████████████████████████████▋                                   | 253/453 [01:09<00:54,  3.69it/s]\n",
      " 56%|████████████████████████████████████████████▊                                   | 254/453 [01:10<00:53,  3.72it/s]\n",
      " 56%|█████████████████████████████████████████████                                   | 255/453 [01:10<00:53,  3.70it/s]\n",
      " 57%|█████████████████████████████████████████████▏                                  | 256/453 [01:10<00:55,  3.58it/s]\n",
      " 57%|█████████████████████████████████████████████▍                                  | 257/453 [01:10<00:53,  3.64it/s]\n",
      " 57%|█████████████████████████████████████████████▌                                  | 258/453 [01:11<00:53,  3.63it/s]\n",
      " 57%|█████████████████████████████████████████████▋                                  | 259/453 [01:11<00:52,  3.67it/s]\n",
      " 57%|█████████████████████████████████████████████▉                                  | 260/453 [01:11<00:52,  3.70it/s]\n",
      " 58%|██████████████████████████████████████████████                                  | 261/453 [01:12<00:53,  3.57it/s]\n",
      " 58%|██████████████████████████████████████████████▎                                 | 262/453 [01:12<00:52,  3.65it/s]\n",
      " 58%|██████████████████████████████████████████████▍                                 | 263/453 [01:12<00:53,  3.53it/s]\n",
      " 58%|██████████████████████████████████████████████▌                                 | 264/453 [01:12<00:57,  3.30it/s]\n",
      " 58%|██████████████████████████████████████████████▊                                 | 265/453 [01:13<00:59,  3.18it/s]\n",
      " 59%|██████████████████████████████████████████████▉                                 | 266/453 [01:13<01:01,  3.05it/s]\n",
      " 59%|███████████████████████████████████████████████▏                                | 267/453 [01:13<00:57,  3.26it/s]\n",
      " 59%|███████████████████████████████████████████████▎                                | 268/453 [01:14<00:55,  3.36it/s]\n",
      " 59%|███████████████████████████████████████████████▌                                | 269/453 [01:14<00:53,  3.41it/s]\n",
      " 60%|███████████████████████████████████████████████▋                                | 270/453 [01:14<00:52,  3.51it/s]\n",
      " 60%|███████████████████████████████████████████████▊                                | 271/453 [01:14<00:50,  3.58it/s]\n"
     ]
    },
    {
     "name": "stderr",
     "output_type": "stream",
     "text": [
      " 60%|████████████████████████████████████████████████                                | 272/453 [01:15<00:50,  3.59it/s]\n",
      " 60%|████████████████████████████████████████████████▏                               | 273/453 [01:15<00:49,  3.64it/s]\n",
      " 60%|████████████████████████████████████████████████▍                               | 274/453 [01:15<00:50,  3.56it/s]\n",
      " 61%|████████████████████████████████████████████████▌                               | 275/453 [01:16<00:49,  3.61it/s]\n",
      " 61%|████████████████████████████████████████████████▋                               | 276/453 [01:16<00:48,  3.62it/s]\n",
      " 61%|████████████████████████████████████████████████▉                               | 277/453 [01:16<00:47,  3.67it/s]\n",
      " 61%|█████████████████████████████████████████████████                               | 278/453 [01:16<00:48,  3.64it/s]\n",
      " 62%|█████████████████████████████████████████████████▎                              | 279/453 [01:17<00:47,  3.63it/s]\n",
      " 62%|█████████████████████████████████████████████████▍                              | 280/453 [01:17<00:47,  3.63it/s]\n",
      " 62%|█████████████████████████████████████████████████▌                              | 281/453 [01:17<00:47,  3.64it/s]\n",
      " 62%|█████████████████████████████████████████████████▊                              | 282/453 [01:17<00:46,  3.67it/s]\n",
      " 62%|█████████████████████████████████████████████████▉                              | 283/453 [01:18<00:46,  3.68it/s]\n",
      " 63%|██████████████████████████████████████████████████▏                             | 284/453 [01:18<00:45,  3.71it/s]\n",
      " 63%|██████████████████████████████████████████████████▎                             | 285/453 [01:18<00:45,  3.73it/s]\n",
      " 63%|██████████████████████████████████████████████████▌                             | 286/453 [01:19<00:44,  3.73it/s]\n",
      " 63%|██████████████████████████████████████████████████▋                             | 287/453 [01:19<00:45,  3.66it/s]\n",
      " 64%|██████████████████████████████████████████████████▊                             | 288/453 [01:19<00:48,  3.43it/s]\n",
      " 64%|███████████████████████████████████████████████████                             | 289/453 [01:19<00:47,  3.47it/s]\n",
      " 64%|███████████████████████████████████████████████████▏                            | 290/453 [01:20<00:46,  3.50it/s]\n",
      " 64%|███████████████████████████████████████████████████▍                            | 291/453 [01:20<00:45,  3.53it/s]\n",
      " 64%|███████████████████████████████████████████████████▌                            | 292/453 [01:20<00:45,  3.55it/s]\n",
      " 65%|███████████████████████████████████████████████████▋                            | 293/453 [01:21<00:45,  3.52it/s]\n",
      " 65%|███████████████████████████████████████████████████▉                            | 294/453 [01:21<00:44,  3.58it/s]\n",
      " 65%|████████████████████████████████████████████████████                            | 295/453 [01:21<00:43,  3.60it/s]\n",
      " 65%|████████████████████████████████████████████████████▎                           | 296/453 [01:21<00:43,  3.60it/s]\n",
      " 66%|████████████████████████████████████████████████████▍                           | 297/453 [01:22<00:42,  3.63it/s]\n",
      " 66%|████████████████████████████████████████████████████▋                           | 298/453 [01:22<00:43,  3.60it/s]\n",
      " 66%|████████████████████████████████████████████████████▊                           | 299/453 [01:22<00:42,  3.59it/s]\n",
      " 66%|████████████████████████████████████████████████████▉                           | 300/453 [01:23<00:43,  3.56it/s]\n",
      " 66%|█████████████████████████████████████████████████████▏                          | 301/453 [01:23<00:42,  3.61it/s]\n",
      " 67%|█████████████████████████████████████████████████████▎                          | 302/453 [01:23<00:42,  3.56it/s]\n",
      " 67%|█████████████████████████████████████████████████████▌                          | 303/453 [01:23<00:41,  3.60it/s]\n",
      " 67%|█████████████████████████████████████████████████████▋                          | 304/453 [01:24<00:40,  3.64it/s]\n",
      " 67%|█████████████████████████████████████████████████████▊                          | 305/453 [01:24<00:41,  3.57it/s]\n",
      " 68%|██████████████████████████████████████████████████████                          | 306/453 [01:24<00:40,  3.60it/s]\n",
      " 68%|██████████████████████████████████████████████████████▏                         | 307/453 [01:24<00:40,  3.60it/s]\n",
      " 68%|██████████████████████████████████████████████████████▍                         | 308/453 [01:25<00:39,  3.65it/s]\n",
      " 68%|██████████████████████████████████████████████████████▌                         | 309/453 [01:25<00:39,  3.64it/s]\n",
      " 68%|██████████████████████████████████████████████████████▋                         | 310/453 [01:25<00:39,  3.64it/s]\n",
      " 69%|██████████████████████████████████████████████████████▉                         | 311/453 [01:26<00:40,  3.53it/s]\n",
      " 69%|███████████████████████████████████████████████████████                         | 312/453 [01:26<00:39,  3.60it/s]\n",
      " 69%|███████████████████████████████████████████████████████▎                        | 313/453 [01:26<00:40,  3.48it/s]\n",
      " 69%|███████████████████████████████████████████████████████▍                        | 314/453 [01:26<00:39,  3.53it/s]\n",
      " 70%|███████████████████████████████████████████████████████▋                        | 315/453 [01:27<00:39,  3.47it/s]\n",
      " 70%|███████████████████████████████████████████████████████▊                        | 316/453 [01:27<00:39,  3.46it/s]\n",
      " 70%|███████████████████████████████████████████████████████▉                        | 317/453 [01:27<00:39,  3.46it/s]\n",
      " 70%|████████████████████████████████████████████████████████▏                       | 318/453 [01:28<00:38,  3.51it/s]\n",
      " 70%|████████████████████████████████████████████████████████▎                       | 319/453 [01:28<00:38,  3.47it/s]\n",
      " 71%|████████████████████████████████████████████████████████▌                       | 320/453 [01:28<00:37,  3.55it/s]\n",
      " 71%|████████████████████████████████████████████████████████▋                       | 321/453 [01:28<00:38,  3.46it/s]\n",
      " 71%|████████████████████████████████████████████████████████▊                       | 322/453 [01:29<00:37,  3.51it/s]\n",
      " 71%|█████████████████████████████████████████████████████████                       | 323/453 [01:29<00:37,  3.48it/s]\n",
      " 72%|█████████████████████████████████████████████████████████▏                      | 324/453 [01:29<00:36,  3.50it/s]\n",
      " 72%|█████████████████████████████████████████████████████████▍                      | 325/453 [01:30<00:36,  3.52it/s]\n",
      " 72%|█████████████████████████████████████████████████████████▌                      | 326/453 [01:30<00:35,  3.54it/s]\n",
      " 72%|█████████████████████████████████████████████████████████▋                      | 327/453 [01:30<00:35,  3.59it/s]\n",
      " 72%|█████████████████████████████████████████████████████████▉                      | 328/453 [01:30<00:35,  3.49it/s]\n",
      " 73%|██████████████████████████████████████████████████████████                      | 329/453 [01:31<00:34,  3.57it/s]\n",
      " 73%|██████████████████████████████████████████████████████████▎                     | 330/453 [01:31<00:34,  3.59it/s]\n",
      " 73%|██████████████████████████████████████████████████████████▍                     | 331/453 [01:31<00:33,  3.62it/s]\n",
      " 73%|██████████████████████████████████████████████████████████▋                     | 332/453 [01:32<00:33,  3.66it/s]\n",
      " 74%|██████████████████████████████████████████████████████████▊                     | 333/453 [01:32<00:33,  3.54it/s]\n",
      " 74%|██████████████████████████████████████████████████████████▉                     | 334/453 [01:32<00:32,  3.62it/s]\n",
      " 74%|███████████████████████████████████████████████████████████▏                    | 335/453 [01:32<00:32,  3.62it/s]\n",
      " 74%|███████████████████████████████████████████████████████████▎                    | 336/453 [01:33<00:32,  3.63it/s]\n",
      " 74%|███████████████████████████████████████████████████████████▌                    | 337/453 [01:33<00:31,  3.66it/s]\n",
      " 75%|███████████████████████████████████████████████████████████▋                    | 338/453 [01:33<00:31,  3.62it/s]\n",
      " 75%|███████████████████████████████████████████████████████████▊                    | 339/453 [01:33<00:31,  3.60it/s]\n",
      " 75%|████████████████████████████████████████████████████████████                    | 340/453 [01:34<00:31,  3.64it/s]\n",
      " 75%|████████████████████████████████████████████████████████████▏                   | 341/453 [01:34<00:30,  3.65it/s]\n",
      " 75%|████████████████████████████████████████████████████████████▍                   | 342/453 [01:34<00:30,  3.62it/s]\n",
      " 76%|████████████████████████████████████████████████████████████▌                   | 343/453 [01:35<00:29,  3.68it/s]\n",
      " 76%|████████████████████████████████████████████████████████████▊                   | 344/453 [01:35<00:29,  3.63it/s]\n",
      " 76%|████████████████████████████████████████████████████████████▉                   | 345/453 [01:35<00:29,  3.61it/s]\n",
      " 76%|█████████████████████████████████████████████████████████████                   | 346/453 [01:35<00:29,  3.63it/s]\n",
      " 77%|█████████████████████████████████████████████████████████████▎                  | 347/453 [01:36<00:29,  3.58it/s]\n",
      " 77%|█████████████████████████████████████████████████████████████▍                  | 348/453 [01:36<00:28,  3.63it/s]\n",
      " 77%|█████████████████████████████████████████████████████████████▋                  | 349/453 [01:36<00:28,  3.66it/s]\n",
      " 77%|█████████████████████████████████████████████████████████████▊                  | 350/453 [01:36<00:28,  3.65it/s]\n",
      " 77%|█████████████████████████████████████████████████████████████▉                  | 351/453 [01:37<00:28,  3.63it/s]\n",
      " 78%|██████████████████████████████████████████████████████████████▏                 | 352/453 [01:37<00:27,  3.62it/s]\n",
      " 78%|██████████████████████████████████████████████████████████████▎                 | 353/453 [01:37<00:27,  3.67it/s]\n",
      " 78%|██████████████████████████████████████████████████████████████▌                 | 354/453 [01:38<00:26,  3.70it/s]\n",
      " 78%|██████████████████████████████████████████████████████████████▋                 | 355/453 [01:38<00:26,  3.68it/s]\n",
      " 79%|██████████████████████████████████████████████████████████████▊                 | 356/453 [01:38<00:26,  3.72it/s]\n",
      " 79%|███████████████████████████████████████████████████████████████                 | 357/453 [01:38<00:25,  3.74it/s]\n",
      " 79%|███████████████████████████████████████████████████████████████▏                | 358/453 [01:39<00:25,  3.70it/s]\n",
      " 79%|███████████████████████████████████████████████████████████████▍                | 359/453 [01:39<00:25,  3.69it/s]\n",
      " 79%|███████████████████████████████████████████████████████████████▌                | 360/453 [01:39<00:25,  3.71it/s]\n",
      " 80%|███████████████████████████████████████████████████████████████▊                | 361/453 [01:39<00:25,  3.57it/s]\n",
      " 80%|███████████████████████████████████████████████████████████████▉                | 362/453 [01:40<00:24,  3.65it/s]\n",
      " 80%|████████████████████████████████████████████████████████████████                | 363/453 [01:40<00:24,  3.67it/s]\n",
      " 80%|████████████████████████████████████████████████████████████████▎               | 364/453 [01:40<00:24,  3.62it/s]\n",
      " 81%|████████████████████████████████████████████████████████████████▍               | 365/453 [01:41<00:24,  3.66it/s]\n",
      " 81%|████████████████████████████████████████████████████████████████▋               | 366/453 [01:41<00:23,  3.71it/s]\n",
      " 81%|████████████████████████████████████████████████████████████████▊               | 367/453 [01:41<00:23,  3.71it/s]\n",
      " 81%|████████████████████████████████████████████████████████████████▉               | 368/453 [01:41<00:22,  3.74it/s]\n",
      " 81%|█████████████████████████████████████████████████████████████████▏              | 369/453 [01:42<00:22,  3.70it/s]\n",
      " 82%|█████████████████████████████████████████████████████████████████▎              | 370/453 [01:42<00:22,  3.72it/s]\n",
      " 82%|█████████████████████████████████████████████████████████████████▌              | 371/453 [01:42<00:22,  3.67it/s]\n",
      " 82%|█████████████████████████████████████████████████████████████████▋              | 372/453 [01:42<00:21,  3.71it/s]\n",
      " 82%|█████████████████████████████████████████████████████████████████▊              | 373/453 [01:43<00:21,  3.71it/s]\n",
      " 83%|██████████████████████████████████████████████████████████████████              | 374/453 [01:43<00:21,  3.61it/s]\n",
      " 83%|██████████████████████████████████████████████████████████████████▏             | 375/453 [01:43<00:22,  3.40it/s]\n",
      " 83%|██████████████████████████████████████████████████████████████████▍             | 376/453 [01:44<00:23,  3.24it/s]\n",
      " 83%|██████████████████████████████████████████████████████████████████▌             | 377/453 [01:44<00:24,  3.16it/s]\n",
      " 83%|██████████████████████████████████████████████████████████████████▊             | 378/453 [01:44<00:23,  3.23it/s]\n",
      " 84%|██████████████████████████████████████████████████████████████████▉             | 379/453 [01:45<00:22,  3.36it/s]\n",
      " 84%|███████████████████████████████████████████████████████████████████             | 380/453 [01:45<00:21,  3.40it/s]\n",
      " 84%|███████████████████████████████████████████████████████████████████▎            | 381/453 [01:45<00:20,  3.44it/s]\n",
      " 84%|███████████████████████████████████████████████████████████████████▍            | 382/453 [01:45<00:19,  3.56it/s]\n",
      " 85%|███████████████████████████████████████████████████████████████████▋            | 383/453 [01:46<00:19,  3.57it/s]\n",
      " 85%|███████████████████████████████████████████████████████████████████▊            | 384/453 [01:46<00:19,  3.57it/s]\n",
      " 85%|███████████████████████████████████████████████████████████████████▉            | 385/453 [01:46<00:18,  3.61it/s]\n",
      " 85%|████████████████████████████████████████████████████████████████████▏           | 386/453 [01:47<00:18,  3.62it/s]\n",
      " 85%|████████████████████████████████████████████████████████████████████▎           | 387/453 [01:47<00:18,  3.57it/s]\n",
      " 86%|████████████████████████████████████████████████████████████████████▌           | 388/453 [01:47<00:17,  3.63it/s]\n",
      " 86%|████████████████████████████████████████████████████████████████████▋           | 389/453 [01:47<00:17,  3.65it/s]\n",
      " 86%|████████████████████████████████████████████████████████████████████▊           | 390/453 [01:48<00:17,  3.62it/s]\n",
      " 86%|█████████████████████████████████████████████████████████████████████           | 391/453 [01:48<00:16,  3.67it/s]\n",
      " 87%|█████████████████████████████████████████████████████████████████████▏          | 392/453 [01:48<00:16,  3.67it/s]\n",
      " 87%|█████████████████████████████████████████████████████████████████████▍          | 393/453 [01:48<00:16,  3.54it/s]\n",
      " 87%|█████████████████████████████████████████████████████████████████████▌          | 394/453 [01:49<00:16,  3.62it/s]\n",
      " 87%|█████████████████████████████████████████████████████████████████████▊          | 395/453 [01:49<00:15,  3.63it/s]\n",
      " 87%|█████████████████████████████████████████████████████████████████████▉          | 396/453 [01:49<00:15,  3.62it/s]\n",
      " 88%|██████████████████████████████████████████████████████████████████████          | 397/453 [01:50<00:15,  3.65it/s]\n",
      " 88%|██████████████████████████████████████████████████████████████████████▎         | 398/453 [01:50<00:15,  3.50it/s]\n",
      " 88%|██████████████████████████████████████████████████████████████████████▍         | 399/453 [01:50<00:15,  3.59it/s]\n",
      " 88%|██████████████████████████████████████████████████████████████████████▋         | 400/453 [01:50<00:14,  3.60it/s]\n",
      " 89%|██████████████████████████████████████████████████████████████████████▊         | 401/453 [01:51<00:14,  3.64it/s]\n",
      " 89%|██████████████████████████████████████████████████████████████████████▉         | 402/453 [01:51<00:13,  3.69it/s]\n",
      " 89%|███████████████████████████████████████████████████████████████████████▏        | 403/453 [01:51<00:13,  3.72it/s]\n",
      " 89%|███████████████████████████████████████████████████████████████████████▎        | 404/453 [01:51<00:13,  3.71it/s]\n",
      " 89%|███████████████████████████████████████████████████████████████████████▌        | 405/453 [01:52<00:12,  3.73it/s]\n",
      " 90%|███████████████████████████████████████████████████████████████████████▋        | 406/453 [01:52<00:12,  3.71it/s]\n",
      " 90%|███████████████████████████████████████████████████████████████████████▉        | 407/453 [01:52<00:12,  3.69it/s]\n"
     ]
    },
    {
     "name": "stderr",
     "output_type": "stream",
     "text": [
      " 90%|████████████████████████████████████████████████████████████████████████        | 408/453 [01:53<00:12,  3.65it/s]\n",
      " 90%|████████████████████████████████████████████████████████████████████████▏       | 409/453 [01:53<00:12,  3.64it/s]\n",
      " 91%|████████████████████████████████████████████████████████████████████████▍       | 410/453 [01:53<00:11,  3.67it/s]\n",
      " 91%|████████████████████████████████████████████████████████████████████████▌       | 411/453 [01:53<00:11,  3.69it/s]\n",
      " 91%|████████████████████████████████████████████████████████████████████████▊       | 412/453 [01:54<00:11,  3.66it/s]\n",
      " 91%|████████████████████████████████████████████████████████████████████████▉       | 413/453 [01:54<00:11,  3.53it/s]\n",
      " 91%|█████████████████████████████████████████████████████████████████████████       | 414/453 [01:54<00:10,  3.63it/s]\n",
      " 92%|█████████████████████████████████████████████████████████████████████████▎      | 415/453 [01:54<00:10,  3.65it/s]\n",
      " 92%|█████████████████████████████████████████████████████████████████████████▍      | 416/453 [01:55<00:10,  3.68it/s]\n",
      " 92%|█████████████████████████████████████████████████████████████████████████▋      | 417/453 [01:55<00:09,  3.69it/s]\n",
      " 92%|█████████████████████████████████████████████████████████████████████████▊      | 418/453 [01:55<00:09,  3.69it/s]\n",
      " 92%|█████████████████████████████████████████████████████████████████████████▉      | 419/453 [01:56<00:09,  3.68it/s]\n",
      " 93%|██████████████████████████████████████████████████████████████████████████▏     | 420/453 [01:56<00:08,  3.71it/s]\n",
      " 93%|██████████████████████████████████████████████████████████████████████████▎     | 421/453 [01:56<00:08,  3.72it/s]\n",
      " 93%|██████████████████████████████████████████████████████████████████████████▌     | 422/453 [01:56<00:08,  3.72it/s]\n",
      " 93%|██████████████████████████████████████████████████████████████████████████▋     | 423/453 [01:57<00:08,  3.67it/s]\n",
      " 94%|██████████████████████████████████████████████████████████████████████████▉     | 424/453 [01:57<00:07,  3.68it/s]\n",
      " 94%|███████████████████████████████████████████████████████████████████████████     | 425/453 [01:57<00:07,  3.56it/s]\n",
      " 94%|███████████████████████████████████████████████████████████████████████████▏    | 426/453 [01:57<00:07,  3.61it/s]\n",
      " 94%|███████████████████████████████████████████████████████████████████████████▍    | 427/453 [01:58<00:07,  3.59it/s]\n",
      " 94%|███████████████████████████████████████████████████████████████████████████▌    | 428/453 [01:58<00:06,  3.59it/s]\n",
      " 95%|███████████████████████████████████████████████████████████████████████████▊    | 429/453 [01:58<00:06,  3.62it/s]\n",
      " 95%|███████████████████████████████████████████████████████████████████████████▉    | 430/453 [01:59<00:06,  3.58it/s]\n",
      " 95%|████████████████████████████████████████████████████████████████████████████    | 431/453 [01:59<00:06,  3.51it/s]\n",
      " 95%|████████████████████████████████████████████████████████████████████████████▎   | 432/453 [01:59<00:05,  3.51it/s]\n",
      " 96%|████████████████████████████████████████████████████████████████████████████▍   | 433/453 [01:59<00:05,  3.56it/s]\n",
      " 96%|████████████████████████████████████████████████████████████████████████████▋   | 434/453 [02:00<00:05,  3.58it/s]\n",
      " 96%|████████████████████████████████████████████████████████████████████████████▊   | 435/453 [02:00<00:04,  3.61it/s]\n",
      " 96%|████████████████████████████████████████████████████████████████████████████▉   | 436/453 [02:00<00:04,  3.61it/s]\n",
      " 96%|█████████████████████████████████████████████████████████████████████████████▏  | 437/453 [02:01<00:04,  3.63it/s]\n",
      " 97%|█████████████████████████████████████████████████████████████████████████████▎  | 438/453 [02:01<00:04,  3.65it/s]\n",
      " 97%|█████████████████████████████████████████████████████████████████████████████▌  | 439/453 [02:01<00:03,  3.69it/s]\n",
      " 97%|█████████████████████████████████████████████████████████████████████████████▋  | 440/453 [02:01<00:03,  3.65it/s]\n",
      " 97%|█████████████████████████████████████████████████████████████████████████████▉  | 441/453 [02:02<00:03,  3.60it/s]\n",
      " 98%|██████████████████████████████████████████████████████████████████████████████  | 442/453 [02:02<00:03,  3.61it/s]\n",
      " 98%|██████████████████████████████████████████████████████████████████████████████▏ | 443/453 [02:02<00:02,  3.66it/s]\n",
      " 98%|██████████████████████████████████████████████████████████████████████████████▍ | 444/453 [02:02<00:02,  3.64it/s]\n",
      " 98%|██████████████████████████████████████████████████████████████████████████████▌ | 445/453 [02:03<00:02,  3.68it/s]\n",
      " 98%|██████████████████████████████████████████████████████████████████████████████▊ | 446/453 [02:03<00:01,  3.68it/s]\n",
      " 99%|██████████████████████████████████████████████████████████████████████████████▉ | 447/453 [02:03<00:01,  3.67it/s]\n",
      " 99%|███████████████████████████████████████████████████████████████████████████████ | 448/453 [02:04<00:01,  3.67it/s]\n",
      " 99%|███████████████████████████████████████████████████████████████████████████████▎| 449/453 [02:04<00:01,  3.65it/s]\n",
      " 99%|███████████████████████████████████████████████████████████████████████████████▍| 450/453 [02:04<00:00,  3.69it/s]\n",
      "100%|███████████████████████████████████████████████████████████████████████████████▋| 451/453 [02:04<00:00,  3.70it/s]\n",
      "100%|███████████████████████████████████████████████████████████████████████████████▊| 452/453 [02:05<00:00,  3.67it/s]\n",
      "100%|████████████████████████████████████████████████████████████████████████████████| 453/453 [02:05<00:00,  3.90it/s]"
     ]
    },
    {
     "name": "stdout",
     "output_type": "stream",
     "text": [
      "phase Loss: 0.0127 Acc: 0.8522\n"
     ]
    },
    {
     "name": "stderr",
     "output_type": "stream",
     "text": [
      "\n",
      "  0%|                                                                                           | 0/80 [00:00<?, ?it/s]\n",
      "  1%|█                                                                                  | 1/80 [00:00<00:13,  5.97it/s]\n",
      "  2%|██                                                                                 | 2/80 [00:00<00:12,  6.11it/s]\n",
      "  4%|███                                                                                | 3/80 [00:00<00:12,  5.93it/s]\n",
      "  5%|████▏                                                                              | 4/80 [00:00<00:12,  6.00it/s]\n",
      "  6%|█████▏                                                                             | 5/80 [00:00<00:12,  6.17it/s]\n",
      "  8%|██████▏                                                                            | 6/80 [00:00<00:12,  6.10it/s]\n",
      "  9%|███████▎                                                                           | 7/80 [00:01<00:11,  6.10it/s]\n",
      " 10%|████████▎                                                                          | 8/80 [00:01<00:11,  6.30it/s]\n",
      " 11%|█████████▎                                                                         | 9/80 [00:01<00:11,  6.41it/s]\n",
      " 12%|██████████▎                                                                       | 10/80 [00:01<00:10,  6.55it/s]\n",
      " 14%|███████████▎                                                                      | 11/80 [00:01<00:10,  6.59it/s]\n",
      " 15%|████████████▎                                                                     | 12/80 [00:01<00:10,  6.49it/s]\n",
      " 16%|█████████████▎                                                                    | 13/80 [00:02<00:10,  6.30it/s]\n",
      " 18%|██████████████▎                                                                   | 14/80 [00:02<00:10,  6.24it/s]\n",
      " 19%|███████████████▍                                                                  | 15/80 [00:02<00:10,  6.38it/s]\n",
      " 20%|████████████████▍                                                                 | 16/80 [00:02<00:09,  6.46it/s]\n",
      " 21%|█████████████████▍                                                                | 17/80 [00:02<00:09,  6.33it/s]\n",
      " 22%|██████████████████▍                                                               | 18/80 [00:02<00:09,  6.33it/s]\n",
      " 24%|███████████████████▍                                                              | 19/80 [00:02<00:09,  6.51it/s]\n",
      " 25%|████████████████████▌                                                             | 20/80 [00:03<00:09,  6.52it/s]\n",
      " 26%|█████████████████████▌                                                            | 21/80 [00:03<00:08,  6.58it/s]\n",
      " 28%|██████████████████████▌                                                           | 22/80 [00:03<00:08,  6.60it/s]\n",
      " 29%|███████████████████████▌                                                          | 23/80 [00:03<00:08,  6.61it/s]\n",
      " 30%|████████████████████████▌                                                         | 24/80 [00:03<00:08,  6.65it/s]\n",
      " 31%|█████████████████████████▋                                                        | 25/80 [00:03<00:08,  6.59it/s]\n",
      " 32%|██████████████████████████▋                                                       | 26/80 [00:04<00:08,  6.59it/s]\n",
      " 34%|███████████████████████████▋                                                      | 27/80 [00:04<00:08,  6.61it/s]\n",
      " 35%|████████████████████████████▋                                                     | 28/80 [00:04<00:07,  6.51it/s]\n",
      " 36%|█████████████████████████████▋                                                    | 29/80 [00:04<00:07,  6.46it/s]\n",
      " 38%|██████████████████████████████▊                                                   | 30/80 [00:04<00:07,  6.55it/s]\n",
      " 39%|███████████████████████████████▊                                                  | 31/80 [00:04<00:07,  6.21it/s]\n",
      " 40%|████████████████████████████████▊                                                 | 32/80 [00:05<00:07,  6.33it/s]\n",
      " 41%|█████████████████████████████████▊                                                | 33/80 [00:05<00:07,  6.45it/s]\n",
      " 42%|██████████████████████████████████▊                                               | 34/80 [00:05<00:07,  6.44it/s]\n",
      " 44%|███████████████████████████████████▉                                              | 35/80 [00:05<00:06,  6.47it/s]\n",
      " 45%|████████████████████████████████████▉                                             | 36/80 [00:05<00:06,  6.34it/s]\n",
      " 46%|█████████████████████████████████████▉                                            | 37/80 [00:05<00:06,  6.33it/s]\n",
      " 48%|██████████████████████████████████████▉                                           | 38/80 [00:05<00:06,  6.38it/s]\n",
      " 49%|███████████████████████████████████████▉                                          | 39/80 [00:06<00:06,  6.44it/s]\n",
      " 50%|█████████████████████████████████████████                                         | 40/80 [00:06<00:06,  6.35it/s]\n",
      " 51%|██████████████████████████████████████████                                        | 41/80 [00:06<00:06,  6.45it/s]\n",
      " 52%|███████████████████████████████████████████                                       | 42/80 [00:06<00:05,  6.51it/s]\n",
      " 54%|████████████████████████████████████████████                                      | 43/80 [00:06<00:05,  6.57it/s]\n",
      " 55%|█████████████████████████████████████████████                                     | 44/80 [00:06<00:05,  6.66it/s]\n",
      " 56%|██████████████████████████████████████████████▏                                   | 45/80 [00:06<00:05,  6.64it/s]\n",
      " 57%|███████████████████████████████████████████████▏                                  | 46/80 [00:07<00:05,  6.63it/s]\n",
      " 59%|████████████████████████████████████████████████▏                                 | 47/80 [00:07<00:05,  6.37it/s]\n",
      " 60%|█████████████████████████████████████████████████▏                                | 48/80 [00:07<00:04,  6.43it/s]\n",
      " 61%|██████████████████████████████████████████████████▏                               | 49/80 [00:07<00:04,  6.49it/s]\n",
      " 62%|███████████████████████████████████████████████████▎                              | 50/80 [00:07<00:04,  6.47it/s]\n",
      " 64%|████████████████████████████████████████████████████▎                             | 51/80 [00:07<00:04,  6.46it/s]\n",
      " 65%|█████████████████████████████████████████████████████▎                            | 52/80 [00:08<00:04,  6.49it/s]\n",
      " 66%|██████████████████████████████████████████████████████▎                           | 53/80 [00:08<00:04,  6.40it/s]\n",
      " 68%|███████████████████████████████████████████████████████▎                          | 54/80 [00:08<00:04,  6.34it/s]\n",
      " 69%|████████████████████████████████████████████████████████▍                         | 55/80 [00:08<00:03,  6.51it/s]\n",
      " 70%|█████████████████████████████████████████████████████████▍                        | 56/80 [00:08<00:03,  6.51it/s]\n",
      " 71%|██████████████████████████████████████████████████████████▍                       | 57/80 [00:08<00:03,  6.56it/s]\n",
      " 72%|███████████████████████████████████████████████████████████▍                      | 58/80 [00:09<00:03,  6.48it/s]\n",
      " 74%|████████████████████████████████████████████████████████████▍                     | 59/80 [00:09<00:03,  5.79it/s]\n",
      " 75%|█████████████████████████████████████████████████████████████▌                    | 60/80 [00:09<00:03,  5.30it/s]\n",
      " 76%|██████████████████████████████████████████████████████████████▌                   | 61/80 [00:09<00:03,  5.06it/s]\n",
      " 78%|███████████████████████████████████████████████████████████████▌                  | 62/80 [00:09<00:03,  4.85it/s]\n",
      " 79%|████████████████████████████████████████████████████████████████▌                 | 63/80 [00:10<00:03,  4.73it/s]\n",
      " 80%|█████████████████████████████████████████████████████████████████▌                | 64/80 [00:10<00:03,  5.01it/s]\n",
      " 81%|██████████████████████████████████████████████████████████████████▋               | 65/80 [00:10<00:02,  5.41it/s]\n",
      " 82%|███████████████████████████████████████████████████████████████████▋              | 66/80 [00:10<00:02,  5.64it/s]\n",
      " 84%|████████████████████████████████████████████████████████████████████▋             | 67/80 [00:10<00:02,  5.93it/s]\n",
      " 85%|█████████████████████████████████████████████████████████████████████▋            | 68/80 [00:10<00:01,  6.14it/s]\n",
      " 86%|██████████████████████████████████████████████████████████████████████▋           | 69/80 [00:11<00:01,  6.22it/s]\n",
      " 88%|███████████████████████████████████████████████████████████████████████▊          | 70/80 [00:11<00:01,  6.26it/s]\n",
      " 89%|████████████████████████████████████████████████████████████████████████▊         | 71/80 [00:11<00:01,  6.39it/s]\n",
      " 90%|█████████████████████████████████████████████████████████████████████████▊        | 72/80 [00:11<00:01,  6.45it/s]\n",
      " 91%|██████████████████████████████████████████████████████████████████████████▊       | 73/80 [00:11<00:01,  6.55it/s]\n",
      " 92%|███████████████████████████████████████████████████████████████████████████▊      | 74/80 [00:11<00:00,  6.48it/s]\n",
      " 94%|████████████████████████████████████████████████████████████████████████████▉     | 75/80 [00:11<00:00,  6.47it/s]\n",
      " 95%|█████████████████████████████████████████████████████████████████████████████▉    | 76/80 [00:12<00:00,  6.47it/s]\n",
      " 96%|██████████████████████████████████████████████████████████████████████████████▉   | 77/80 [00:12<00:00,  6.46it/s]\n",
      " 98%|███████████████████████████████████████████████████████████████████████████████▉  | 78/80 [00:12<00:00,  6.52it/s]\n",
      " 99%|████████████████████████████████████████████████████████████████████████████████▉ | 79/80 [00:12<00:00,  6.29it/s]\n",
      "100%|██████████████████████████████████████████████████████████████████████████████████| 80/80 [00:12<00:00,  6.43it/s]"
     ]
    },
    {
     "name": "stdout",
     "output_type": "stream",
     "text": [
      "phase Loss: 0.0166 Acc: 0.8180\n",
      "0.0005\n",
      "Training complete in 4m 38s\n",
      "Best val Acc: 0.828180\n"
     ]
    }
   ],
   "source": [
    "model_conv = train_model(model_conv, {'train':train_loader, 'val':val_loader}, dataset_sizes, criterion, optimizer_conv, exp_lr_scheduler, True,\n",
    "                     num_epochs=2)"
   ]
  },
  {
   "cell_type": "code",
   "execution_count": 32,
   "metadata": {},
   "outputs": [
    {
     "name": "stderr",
     "output_type": "stream",
     "text": [
      "\n",
      "  0%|                                                                                           | 0/80 [00:00<?, ?it/s]\n",
      "  1%|█                                                                                  | 1/80 [00:00<00:09,  7.96it/s]\n",
      "  2%|██                                                                                 | 2/80 [00:00<00:09,  8.29it/s]\n",
      "  4%|███                                                                                | 3/80 [00:00<00:09,  8.33it/s]\n",
      "  5%|████▏                                                                              | 4/80 [00:00<00:08,  8.49it/s]\n",
      "  6%|█████▏                                                                             | 5/80 [00:00<00:08,  8.53it/s]\n",
      "  8%|██████▏                                                                            | 6/80 [00:00<00:08,  8.68it/s]\n",
      "  9%|███████▎                                                                           | 7/80 [00:00<00:08,  8.74it/s]\n",
      " 10%|████████▎                                                                          | 8/80 [00:00<00:08,  8.62it/s]\n",
      " 11%|█████████▎                                                                         | 9/80 [00:01<00:08,  8.60it/s]\n",
      " 12%|██████████▎                                                                       | 10/80 [00:01<00:08,  8.64it/s]\n",
      " 14%|███████████▎                                                                      | 11/80 [00:01<00:08,  8.32it/s]\n",
      " 15%|████████████▎                                                                     | 12/80 [00:01<00:08,  8.50it/s]\n",
      " 16%|█████████████▎                                                                    | 13/80 [00:01<00:08,  8.37it/s]\n",
      " 18%|██████████████▎                                                                   | 14/80 [00:01<00:07,  8.28it/s]\n",
      " 19%|███████████████▍                                                                  | 15/80 [00:01<00:08,  7.87it/s]\n",
      " 20%|████████████████▍                                                                 | 16/80 [00:01<00:08,  7.97it/s]\n",
      " 21%|█████████████████▍                                                                | 17/80 [00:02<00:07,  8.29it/s]\n",
      " 22%|██████████████████▍                                                               | 18/80 [00:02<00:07,  8.52it/s]\n",
      " 24%|███████████████████▍                                                              | 19/80 [00:02<00:07,  8.38it/s]\n",
      " 25%|████████████████████▌                                                             | 20/80 [00:02<00:07,  7.84it/s]\n",
      " 26%|█████████████████████▌                                                            | 21/80 [00:02<00:07,  7.56it/s]\n",
      " 28%|██████████████████████▌                                                           | 22/80 [00:02<00:07,  7.48it/s]\n",
      " 29%|███████████████████████▌                                                          | 23/80 [00:02<00:07,  7.57it/s]\n",
      " 30%|████████████████████████▌                                                         | 24/80 [00:02<00:07,  7.51it/s]\n",
      " 31%|█████████████████████████▋                                                        | 25/80 [00:03<00:07,  7.42it/s]\n",
      " 32%|██████████████████████████▋                                                       | 26/80 [00:03<00:07,  7.23it/s]\n",
      " 34%|███████████████████████████▋                                                      | 27/80 [00:03<00:06,  7.65it/s]\n",
      " 35%|████████████████████████████▋                                                     | 28/80 [00:03<00:06,  7.93it/s]\n",
      " 36%|█████████████████████████████▋                                                    | 29/80 [00:03<00:06,  8.05it/s]\n",
      " 38%|██████████████████████████████▊                                                   | 30/80 [00:03<00:06,  8.08it/s]\n",
      " 39%|███████████████████████████████▊                                                  | 31/80 [00:03<00:06,  7.93it/s]\n",
      " 40%|████████████████████████████████▊                                                 | 32/80 [00:03<00:05,  8.17it/s]\n",
      " 41%|█████████████████████████████████▊                                                | 33/80 [00:04<00:05,  8.39it/s]\n",
      " 42%|██████████████████████████████████▊                                               | 34/80 [00:04<00:05,  8.44it/s]\n",
      " 44%|███████████████████████████████████▉                                              | 35/80 [00:04<00:05,  8.07it/s]\n",
      " 45%|████████████████████████████████████▉                                             | 36/80 [00:04<00:05,  7.78it/s]\n",
      " 46%|█████████████████████████████████████▉                                            | 37/80 [00:04<00:05,  7.88it/s]\n",
      " 48%|██████████████████████████████████████▉                                           | 38/80 [00:04<00:05,  7.98it/s]\n",
      " 49%|███████████████████████████████████████▉                                          | 39/80 [00:04<00:05,  8.19it/s]\n",
      " 50%|█████████████████████████████████████████                                         | 40/80 [00:04<00:04,  8.02it/s]\n",
      " 51%|██████████████████████████████████████████                                        | 41/80 [00:05<00:04,  8.26it/s]\n",
      " 52%|███████████████████████████████████████████                                       | 42/80 [00:05<00:04,  8.48it/s]\n",
      " 54%|████████████████████████████████████████████                                      | 43/80 [00:05<00:04,  8.19it/s]\n",
      " 55%|█████████████████████████████████████████████                                     | 44/80 [00:05<00:04,  7.93it/s]\n",
      " 56%|██████████████████████████████████████████████▏                                   | 45/80 [00:05<00:04,  7.90it/s]\n",
      " 57%|███████████████████████████████████████████████▏                                  | 46/80 [00:05<00:04,  8.13it/s]\n",
      " 59%|████████████████████████████████████████████████▏                                 | 47/80 [00:05<00:04,  8.10it/s]\n",
      " 60%|█████████████████████████████████████████████████▏                                | 48/80 [00:05<00:03,  8.19it/s]\n",
      " 61%|██████████████████████████████████████████████████▏                               | 49/80 [00:06<00:03,  8.45it/s]\n",
      " 62%|███████████████████████████████████████████████████▎                              | 50/80 [00:06<00:03,  8.25it/s]\n",
      " 64%|████████████████████████████████████████████████████▎                             | 51/80 [00:06<00:03,  8.14it/s]\n",
      " 65%|█████████████████████████████████████████████████████▎                            | 52/80 [00:06<00:03,  7.84it/s]\n",
      " 66%|██████████████████████████████████████████████████████▎                           | 53/80 [00:06<00:03,  7.54it/s]\n",
      " 68%|███████████████████████████████████████████████████████▎                          | 54/80 [00:06<00:03,  7.39it/s]\n",
      " 69%|████████████████████████████████████████████████████████▍                         | 55/80 [00:06<00:03,  7.67it/s]\n",
      " 70%|█████████████████████████████████████████████████████████▍                        | 56/80 [00:06<00:03,  7.70it/s]\n",
      " 71%|██████████████████████████████████████████████████████████▍                       | 57/80 [00:07<00:02,  7.81it/s]\n",
      " 72%|███████████████████████████████████████████████████████████▍                      | 58/80 [00:07<00:02,  8.12it/s]\n",
      " 74%|████████████████████████████████████████████████████████████▍                     | 59/80 [00:07<00:02,  8.23it/s]\n",
      " 75%|█████████████████████████████████████████████████████████████▌                    | 60/80 [00:07<00:02,  8.21it/s]\n",
      " 76%|██████████████████████████████████████████████████████████████▌                   | 61/80 [00:07<00:02,  8.42it/s]\n",
      " 78%|███████████████████████████████████████████████████████████████▌                  | 62/80 [00:07<00:02,  8.27it/s]\n",
      " 79%|████████████████████████████████████████████████████████████████▌                 | 63/80 [00:07<00:02,  8.38it/s]\n",
      " 80%|█████████████████████████████████████████████████████████████████▌                | 64/80 [00:07<00:01,  8.59it/s]\n",
      " 81%|██████████████████████████████████████████████████████████████████▋               | 65/80 [00:07<00:01,  8.79it/s]\n",
      " 82%|███████████████████████████████████████████████████████████████████▋              | 66/80 [00:08<00:01,  8.54it/s]\n",
      " 84%|████████████████████████████████████████████████████████████████████▋             | 67/80 [00:08<00:01,  8.51it/s]\n"
     ]
    },
    {
     "name": "stderr",
     "output_type": "stream",
     "text": [
      " 85%|█████████████████████████████████████████████████████████████████████▋            | 68/80 [00:08<00:01,  8.59it/s]\n",
      " 86%|██████████████████████████████████████████████████████████████████████▋           | 69/80 [00:08<00:01,  8.61it/s]\n",
      " 88%|███████████████████████████████████████████████████████████████████████▊          | 70/80 [00:08<00:01,  8.44it/s]\n",
      " 89%|████████████████████████████████████████████████████████████████████████▊         | 71/80 [00:08<00:01,  8.68it/s]\n",
      " 90%|█████████████████████████████████████████████████████████████████████████▊        | 72/80 [00:08<00:00,  8.60it/s]\n",
      " 91%|██████████████████████████████████████████████████████████████████████████▊       | 73/80 [00:08<00:00,  8.70it/s]\n",
      " 92%|███████████████████████████████████████████████████████████████████████████▊      | 74/80 [00:09<00:00,  8.82it/s]\n",
      " 94%|████████████████████████████████████████████████████████████████████████████▉     | 75/80 [00:09<00:00,  8.91it/s]\n",
      " 95%|█████████████████████████████████████████████████████████████████████████████▉    | 76/80 [00:09<00:00,  8.60it/s]\n",
      " 96%|██████████████████████████████████████████████████████████████████████████████▉   | 77/80 [00:09<00:00,  8.64it/s]\n",
      " 98%|███████████████████████████████████████████████████████████████████████████████▉  | 78/80 [00:09<00:00,  8.48it/s]\n",
      " 99%|████████████████████████████████████████████████████████████████████████████████▉ | 79/80 [00:09<00:00,  8.53it/s]\n",
      "100%|██████████████████████████████████████████████████████████████████████████████████| 80/80 [00:09<00:00,  8.77it/s]"
     ]
    }
   ],
   "source": [
    "def test_model(model, dataloaders, optimizer, use_gpu):\n",
    "    model.train(False)\n",
    "    predictions = []\n",
    "    labels = []\n",
    "    for data in tqdm(dataloaders):\n",
    "        inputs, labels_ = data\n",
    "        if use_gpu:\n",
    "            inputs = Variable(inputs.cuda())\n",
    "        else:\n",
    "            inputs = Variable(inputs)\n",
    "\n",
    "        # zero the parameter gradients\n",
    "        optimizer.zero_grad()\n",
    "\n",
    "        # forward\n",
    "        outputs = model(inputs)\n",
    "        _, preds = torch.max(outputs.data, 1)\n",
    "        predictions.append(preds)\n",
    "        labels.append(labels_)\n",
    "\n",
    "    return predictions, labels\n",
    "  \n",
    "predictions, labels = test_model(model_conv, val_loader, optimizer_conv, True)"
   ]
  },
  {
   "cell_type": "code",
   "execution_count": 33,
   "metadata": {},
   "outputs": [],
   "source": [
    "#model_path = 'C:\\Users\\rohit\\VirtualEnv'\n",
    "torch.save(model_conv.state_dict(), 'resnet50_places365.pth')"
   ]
  },
  {
   "cell_type": "code",
   "execution_count": 39,
   "metadata": {},
   "outputs": [],
   "source": [
    "predictions1, labels1 = torch.cat(predictions), torch.cat(labels)\n",
    "predictions1, labels1 = np.array(predictions1.cpu()), np.array(labels1)"
   ]
  },
  {
   "cell_type": "code",
   "execution_count": 40,
   "metadata": {},
   "outputs": [
    {
     "data": {
      "text/plain": [
       "array([3, 4, 0, ..., 5, 5, 4], dtype=int64)"
      ]
     },
     "execution_count": 40,
     "metadata": {},
     "output_type": "execute_result"
    }
   ],
   "source": [
    "predictions1"
   ]
  },
  {
   "cell_type": "code",
   "execution_count": 41,
   "metadata": {},
   "outputs": [
    {
     "data": {
      "text/plain": [
       "array([3, 4, 0, ..., 5, 5, 4], dtype=int64)"
      ]
     },
     "execution_count": 41,
     "metadata": {},
     "output_type": "execute_result"
    }
   ],
   "source": [
    "labels1"
   ]
  },
  {
   "cell_type": "code",
   "execution_count": 42,
   "metadata": {},
   "outputs": [
    {
     "data": {
      "text/plain": [
       "2555"
      ]
     },
     "execution_count": 42,
     "metadata": {},
     "output_type": "execute_result"
    }
   ],
   "source": [
    "len(labels1)"
   ]
  },
  {
   "cell_type": "code",
   "execution_count": 34,
   "metadata": {},
   "outputs": [],
   "source": [
    "def test1_model(model, dataloaders, optimizer, use_gpu):\n",
    "    model.train(False)\n",
    "    predictions = []\n",
    "    labels = []\n",
    "    for data in tqdm(dataloaders):\n",
    "        inputs = data\n",
    "        if use_gpu:\n",
    "            inputs = Variable(inputs.cuda())\n",
    "        else:\n",
    "            inputs = Variable(inputs)\n",
    "\n",
    "        # zero the parameter gradients\n",
    "        optimizer.zero_grad()\n",
    "\n",
    "        # forward\n",
    "        outputs = model(inputs)\n",
    "        _, preds = torch.max(outputs.data, 1)\n",
    "        predictions.append(preds)\n",
    "        #labels.append(labels_)\n",
    "\n",
    "    return predictions"
   ]
  },
  {
   "cell_type": "code",
   "execution_count": 35,
   "metadata": {},
   "outputs": [
    {
     "name": "stderr",
     "output_type": "stream",
     "text": [
      "\n",
      "  0%|                                                                                          | 0/229 [00:00<?, ?it/s]\n",
      "  0%|▎                                                                                 | 1/229 [00:00<00:28,  8.02it/s]\n",
      "  1%|▋                                                                                 | 2/229 [00:00<00:28,  8.10it/s]\n",
      "  1%|█                                                                                 | 3/229 [00:00<00:27,  8.23it/s]\n",
      "  2%|█▍                                                                                | 4/229 [00:00<00:27,  8.23it/s]\n",
      "  2%|█▊                                                                                | 5/229 [00:00<00:26,  8.37it/s]\n",
      "  3%|██▏                                                                               | 6/229 [00:00<00:26,  8.43it/s]\n",
      "  3%|██▌                                                                               | 7/229 [00:00<00:26,  8.39it/s]\n",
      "  3%|██▊                                                                               | 8/229 [00:00<00:26,  8.29it/s]\n",
      "  4%|███▏                                                                              | 9/229 [00:01<00:26,  8.27it/s]\n",
      "  4%|███▌                                                                             | 10/229 [00:01<00:26,  8.28it/s]\n",
      "  5%|███▉                                                                             | 11/229 [00:01<00:27,  7.89it/s]\n",
      "  5%|████▏                                                                            | 12/229 [00:01<00:28,  7.67it/s]\n",
      "  6%|████▌                                                                            | 13/229 [00:01<00:28,  7.55it/s]\n",
      "  6%|████▉                                                                            | 14/229 [00:01<00:28,  7.65it/s]\n",
      "  7%|█████▎                                                                           | 15/229 [00:01<00:27,  7.87it/s]\n",
      "  7%|█████▋                                                                           | 16/229 [00:01<00:26,  7.97it/s]\n",
      "  7%|██████                                                                           | 17/229 [00:02<00:26,  7.91it/s]\n",
      "  8%|██████▎                                                                          | 18/229 [00:02<00:26,  8.06it/s]\n",
      "  8%|██████▋                                                                          | 19/229 [00:02<00:25,  8.14it/s]\n",
      "  9%|███████                                                                          | 20/229 [00:02<00:25,  8.25it/s]\n",
      "  9%|███████▍                                                                         | 21/229 [00:02<00:24,  8.32it/s]\n",
      " 10%|███████▊                                                                         | 22/229 [00:02<00:24,  8.44it/s]\n",
      " 10%|████████▏                                                                        | 23/229 [00:02<00:24,  8.48it/s]\n",
      " 10%|████████▍                                                                        | 24/229 [00:02<00:24,  8.50it/s]\n",
      " 11%|████████▊                                                                        | 25/229 [00:03<00:23,  8.61it/s]\n",
      " 11%|█████████▏                                                                       | 26/229 [00:03<00:23,  8.58it/s]\n",
      " 12%|█████████▌                                                                       | 27/229 [00:03<00:23,  8.51it/s]\n",
      " 12%|█████████▉                                                                       | 28/229 [00:03<00:23,  8.59it/s]\n",
      " 13%|██████████▎                                                                      | 29/229 [00:03<00:23,  8.59it/s]\n",
      " 13%|██████████▌                                                                      | 30/229 [00:03<00:23,  8.54it/s]\n",
      " 14%|██████████▉                                                                      | 31/229 [00:03<00:23,  8.50it/s]\n",
      " 14%|███████████▎                                                                     | 32/229 [00:03<00:23,  8.50it/s]\n",
      " 14%|███████████▋                                                                     | 33/229 [00:03<00:22,  8.54it/s]\n",
      " 15%|████████████                                                                     | 34/229 [00:04<00:22,  8.49it/s]\n",
      " 15%|████████████▍                                                                    | 35/229 [00:04<00:22,  8.51it/s]\n",
      " 16%|████████████▋                                                                    | 36/229 [00:04<00:22,  8.49it/s]\n",
      " 16%|█████████████                                                                    | 37/229 [00:04<00:22,  8.45it/s]\n",
      " 17%|█████████████▍                                                                   | 38/229 [00:04<00:22,  8.48it/s]\n",
      " 17%|█████████████▊                                                                   | 39/229 [00:04<00:22,  8.44it/s]\n",
      " 17%|██████████████▏                                                                  | 40/229 [00:04<00:23,  8.05it/s]\n",
      " 18%|██████████████▌                                                                  | 41/229 [00:04<00:24,  7.76it/s]\n",
      " 18%|██████████████▊                                                                  | 42/229 [00:05<00:24,  7.64it/s]\n",
      " 19%|███████████████▏                                                                 | 43/229 [00:05<00:25,  7.42it/s]\n",
      " 19%|███████████████▌                                                                 | 44/229 [00:05<00:25,  7.33it/s]\n",
      " 20%|███████████████▉                                                                 | 45/229 [00:05<00:25,  7.25it/s]\n",
      " 20%|████████████████▎                                                                | 46/229 [00:05<00:24,  7.58it/s]\n",
      " 21%|████████████████▌                                                                | 47/229 [00:05<00:23,  7.83it/s]\n",
      " 21%|████████████████▉                                                                | 48/229 [00:05<00:22,  7.96it/s]\n",
      " 21%|█████████████████▎                                                               | 49/229 [00:06<00:22,  8.08it/s]\n",
      " 22%|█████████████████▋                                                               | 50/229 [00:06<00:21,  8.22it/s]\n",
      " 22%|██████████████████                                                               | 51/229 [00:06<00:21,  8.30it/s]\n",
      " 23%|██████████████████▍                                                              | 52/229 [00:06<00:21,  8.34it/s]\n",
      " 23%|██████████████████▋                                                              | 53/229 [00:06<00:22,  7.93it/s]\n",
      " 24%|███████████████████                                                              | 54/229 [00:06<00:22,  7.77it/s]\n",
      " 24%|███████████████████▍                                                             | 55/229 [00:06<00:22,  7.63it/s]\n",
      " 24%|███████████████████▊                                                             | 56/229 [00:06<00:22,  7.57it/s]\n",
      " 25%|████████████████████▏                                                            | 57/229 [00:07<00:23,  7.34it/s]\n",
      " 25%|████████████████████▌                                                            | 58/229 [00:07<00:23,  7.37it/s]\n",
      " 26%|████████████████████▊                                                            | 59/229 [00:07<00:22,  7.47it/s]\n",
      " 26%|█████████████████████▏                                                           | 60/229 [00:07<00:22,  7.42it/s]\n",
      " 27%|█████████████████████▌                                                           | 61/229 [00:07<00:23,  7.29it/s]\n",
      " 27%|█████████████████████▉                                                           | 62/229 [00:07<00:22,  7.29it/s]\n",
      " 28%|██████████████████████▎                                                          | 63/229 [00:07<00:22,  7.28it/s]\n",
      " 28%|██████████████████████▋                                                          | 64/229 [00:08<00:22,  7.28it/s]\n",
      " 28%|██████████████████████▉                                                          | 65/229 [00:08<00:22,  7.23it/s]\n",
      " 29%|███████████████████████▎                                                         | 66/229 [00:08<00:22,  7.28it/s]\n",
      " 29%|███████████████████████▋                                                         | 67/229 [00:08<00:22,  7.25it/s]\n"
     ]
    },
    {
     "name": "stderr",
     "output_type": "stream",
     "text": [
      " 30%|████████████████████████                                                         | 68/229 [00:08<00:22,  7.27it/s]\n",
      " 30%|████████████████████████▍                                                        | 69/229 [00:08<00:22,  7.11it/s]\n",
      " 31%|████████████████████████▊                                                        | 70/229 [00:08<00:22,  7.17it/s]\n",
      " 31%|█████████████████████████                                                        | 71/229 [00:08<00:21,  7.22it/s]\n",
      " 31%|█████████████████████████▍                                                       | 72/229 [00:09<00:21,  7.22it/s]\n",
      " 32%|█████████████████████████▊                                                       | 73/229 [00:09<00:21,  7.23it/s]\n",
      " 32%|██████████████████████████▏                                                      | 74/229 [00:09<00:21,  7.34it/s]\n",
      " 33%|██████████████████████████▌                                                      | 75/229 [00:09<00:21,  7.25it/s]\n",
      " 33%|██████████████████████████▉                                                      | 76/229 [00:09<00:21,  7.09it/s]\n",
      " 34%|███████████████████████████▏                                                     | 77/229 [00:09<00:21,  7.09it/s]\n",
      " 34%|███████████████████████████▌                                                     | 78/229 [00:09<00:20,  7.30it/s]\n",
      " 34%|███████████████████████████▉                                                     | 79/229 [00:10<00:20,  7.34it/s]\n",
      " 35%|████████████████████████████▎                                                    | 80/229 [00:10<00:20,  7.21it/s]\n",
      " 35%|████████████████████████████▋                                                    | 81/229 [00:10<00:20,  7.30it/s]\n",
      " 36%|█████████████████████████████                                                    | 82/229 [00:10<00:19,  7.37it/s]\n",
      " 36%|█████████████████████████████▎                                                   | 83/229 [00:10<00:19,  7.34it/s]\n",
      " 37%|█████████████████████████████▋                                                   | 84/229 [00:10<00:20,  7.24it/s]\n",
      " 37%|██████████████████████████████                                                   | 85/229 [00:10<00:19,  7.23it/s]\n",
      " 38%|██████████████████████████████▍                                                  | 86/229 [00:11<00:19,  7.43it/s]\n",
      " 38%|██████████████████████████████▊                                                  | 87/229 [00:11<00:19,  7.43it/s]\n",
      " 38%|███████████████████████████████▏                                                 | 88/229 [00:11<00:19,  7.33it/s]\n",
      " 39%|███████████████████████████████▍                                                 | 89/229 [00:11<00:19,  7.23it/s]\n",
      " 39%|███████████████████████████████▊                                                 | 90/229 [00:11<00:18,  7.40it/s]\n",
      " 40%|████████████████████████████████▏                                                | 91/229 [00:11<00:18,  7.56it/s]\n",
      " 40%|████████████████████████████████▌                                                | 92/229 [00:11<00:17,  7.75it/s]\n",
      " 41%|████████████████████████████████▉                                                | 93/229 [00:11<00:17,  8.00it/s]\n",
      " 41%|█████████████████████████████████▏                                               | 94/229 [00:12<00:16,  8.12it/s]\n",
      " 41%|█████████████████████████████████▌                                               | 95/229 [00:12<00:16,  8.09it/s]\n",
      " 42%|█████████████████████████████████▉                                               | 96/229 [00:12<00:16,  8.19it/s]\n",
      " 42%|██████████████████████████████████▎                                              | 97/229 [00:12<00:15,  8.30it/s]\n",
      " 43%|██████████████████████████████████▋                                              | 98/229 [00:12<00:15,  8.38it/s]\n",
      " 43%|███████████████████████████████████                                              | 99/229 [00:12<00:15,  8.19it/s]\n",
      " 44%|██████████████████████████████████▉                                             | 100/229 [00:12<00:16,  7.98it/s]\n",
      " 44%|███████████████████████████████████▎                                            | 101/229 [00:12<00:16,  7.86it/s]\n",
      " 45%|███████████████████████████████████▋                                            | 102/229 [00:13<00:16,  7.69it/s]\n",
      " 45%|███████████████████████████████████▉                                            | 103/229 [00:13<00:17,  7.39it/s]\n",
      " 45%|████████████████████████████████████▎                                           | 104/229 [00:13<00:16,  7.57it/s]\n",
      " 46%|████████████████████████████████████▋                                           | 105/229 [00:13<00:15,  7.81it/s]\n",
      " 46%|█████████████████████████████████████                                           | 106/229 [00:13<00:15,  7.98it/s]\n",
      " 47%|█████████████████████████████████████▍                                          | 107/229 [00:13<00:15,  7.86it/s]\n",
      " 47%|█████████████████████████████████████▋                                          | 108/229 [00:13<00:15,  7.67it/s]\n",
      " 48%|██████████████████████████████████████                                          | 109/229 [00:13<00:15,  7.76it/s]\n",
      " 48%|██████████████████████████████████████▍                                         | 110/229 [00:14<00:14,  7.95it/s]\n",
      " 48%|██████████████████████████████████████▊                                         | 111/229 [00:14<00:14,  8.12it/s]\n",
      " 49%|███████████████████████████████████████▏                                        | 112/229 [00:14<00:14,  8.21it/s]\n",
      " 49%|███████████████████████████████████████▍                                        | 113/229 [00:14<00:13,  8.34it/s]\n",
      " 50%|███████████████████████████████████████▊                                        | 114/229 [00:14<00:13,  8.32it/s]\n",
      " 50%|████████████████████████████████████████▏                                       | 115/229 [00:14<00:14,  7.86it/s]\n",
      " 51%|████████████████████████████████████████▌                                       | 116/229 [00:14<00:14,  7.74it/s]\n",
      " 51%|████████████████████████████████████████▊                                       | 117/229 [00:14<00:14,  7.58it/s]\n",
      " 52%|█████████████████████████████████████████▏                                      | 118/229 [00:15<00:14,  7.55it/s]\n",
      " 52%|█████████████████████████████████████████▌                                      | 119/229 [00:15<00:14,  7.46it/s]\n",
      " 52%|█████████████████████████████████████████▉                                      | 120/229 [00:15<00:14,  7.47it/s]\n",
      " 53%|██████████████████████████████████████████▎                                     | 121/229 [00:15<00:14,  7.36it/s]\n",
      " 53%|██████████████████████████████████████████▌                                     | 122/229 [00:15<00:14,  7.51it/s]\n",
      " 54%|██████████████████████████████████████████▉                                     | 123/229 [00:15<00:14,  7.15it/s]\n",
      " 54%|███████████████████████████████████████████▎                                    | 124/229 [00:15<00:15,  6.68it/s]\n",
      " 55%|███████████████████████████████████████████▋                                    | 125/229 [00:16<00:15,  6.50it/s]\n",
      " 55%|████████████████████████████████████████████                                    | 126/229 [00:16<00:16,  6.39it/s]\n",
      " 55%|████████████████████████████████████████████▎                                   | 127/229 [00:16<00:15,  6.45it/s]\n",
      " 56%|████████████████████████████████████████████▋                                   | 128/229 [00:16<00:15,  6.62it/s]\n",
      " 56%|█████████████████████████████████████████████                                   | 129/229 [00:16<00:14,  6.89it/s]\n",
      " 57%|█████████████████████████████████████████████▍                                  | 130/229 [00:16<00:14,  6.84it/s]\n",
      " 57%|█████████████████████████████████████████████▊                                  | 131/229 [00:17<00:14,  6.58it/s]\n",
      " 58%|██████████████████████████████████████████████                                  | 132/229 [00:17<00:15,  6.41it/s]\n",
      " 58%|██████████████████████████████████████████████▍                                 | 133/229 [00:17<00:14,  6.43it/s]\n",
      " 59%|██████████████████████████████████████████████▊                                 | 134/229 [00:17<00:14,  6.71it/s]\n",
      " 59%|███████████████████████████████████████████████▏                                | 135/229 [00:17<00:13,  7.06it/s]\n"
     ]
    },
    {
     "name": "stderr",
     "output_type": "stream",
     "text": [
      " 59%|███████████████████████████████████████████████▌                                | 136/229 [00:17<00:12,  7.30it/s]\n",
      " 60%|███████████████████████████████████████████████▊                                | 137/229 [00:17<00:12,  7.52it/s]\n",
      " 60%|████████████████████████████████████████████████▏                               | 138/229 [00:18<00:11,  7.75it/s]\n",
      " 61%|████████████████████████████████████████████████▌                               | 139/229 [00:18<00:11,  7.96it/s]\n",
      " 61%|████████████████████████████████████████████████▉                               | 140/229 [00:18<00:11,  7.53it/s]\n",
      " 62%|█████████████████████████████████████████████████▎                              | 141/229 [00:18<00:11,  7.45it/s]\n",
      " 62%|█████████████████████████████████████████████████▌                              | 142/229 [00:18<00:11,  7.26it/s]\n",
      " 62%|█████████████████████████████████████████████████▉                              | 143/229 [00:18<00:11,  7.65it/s]\n",
      " 63%|██████████████████████████████████████████████████▎                             | 144/229 [00:18<00:10,  7.90it/s]\n",
      " 63%|██████████████████████████████████████████████████▋                             | 145/229 [00:18<00:10,  7.92it/s]\n",
      " 64%|███████████████████████████████████████████████████                             | 146/229 [00:19<00:10,  7.97it/s]\n",
      " 64%|███████████████████████████████████████████████████▎                            | 147/229 [00:19<00:10,  8.08it/s]\n",
      " 65%|███████████████████████████████████████████████████▋                            | 148/229 [00:19<00:10,  8.08it/s]\n",
      " 65%|████████████████████████████████████████████████████                            | 149/229 [00:19<00:09,  8.16it/s]\n",
      " 66%|████████████████████████████████████████████████████▍                           | 150/229 [00:19<00:09,  8.26it/s]\n",
      " 66%|████████████████████████████████████████████████████▊                           | 151/229 [00:19<00:09,  8.31it/s]\n",
      " 66%|█████████████████████████████████████████████████████                           | 152/229 [00:19<00:09,  8.36it/s]\n",
      " 67%|█████████████████████████████████████████████████████▍                          | 153/229 [00:19<00:09,  8.40it/s]\n",
      " 67%|█████████████████████████████████████████████████████▊                          | 154/229 [00:19<00:08,  8.35it/s]\n",
      " 68%|██████████████████████████████████████████████████████▏                         | 155/229 [00:20<00:09,  7.99it/s]\n",
      " 68%|██████████████████████████████████████████████████████▍                         | 156/229 [00:20<00:09,  7.74it/s]\n",
      " 69%|██████████████████████████████████████████████████████▊                         | 157/229 [00:20<00:09,  7.66it/s]\n",
      " 69%|███████████████████████████████████████████████████████▏                        | 158/229 [00:20<00:09,  7.69it/s]\n",
      " 69%|███████████████████████████████████████████████████████▌                        | 159/229 [00:20<00:08,  7.98it/s]\n",
      " 70%|███████████████████████████████████████████████████████▉                        | 160/229 [00:20<00:08,  8.07it/s]\n",
      " 70%|████████████████████████████████████████████████████████▏                       | 161/229 [00:20<00:08,  8.17it/s]\n",
      " 71%|████████████████████████████████████████████████████████▌                       | 162/229 [00:20<00:08,  8.31it/s]\n",
      " 71%|████████████████████████████████████████████████████████▉                       | 163/229 [00:21<00:07,  8.32it/s]\n",
      " 72%|█████████████████████████████████████████████████████████▎                      | 164/229 [00:21<00:07,  8.37it/s]\n",
      " 72%|█████████████████████████████████████████████████████████▋                      | 165/229 [00:21<00:07,  8.29it/s]\n",
      " 72%|█████████████████████████████████████████████████████████▉                      | 166/229 [00:21<00:07,  8.24it/s]\n",
      " 73%|██████████████████████████████████████████████████████████▎                     | 167/229 [00:21<00:07,  8.34it/s]\n",
      " 73%|██████████████████████████████████████████████████████████▋                     | 168/229 [00:21<00:07,  8.43it/s]\n",
      " 74%|███████████████████████████████████████████████████████████                     | 169/229 [00:21<00:07,  8.47it/s]\n",
      " 74%|███████████████████████████████████████████████████████████▍                    | 170/229 [00:21<00:06,  8.50it/s]\n",
      " 75%|███████████████████████████████████████████████████████████▋                    | 171/229 [00:22<00:06,  8.59it/s]\n",
      " 75%|████████████████████████████████████████████████████████████                    | 172/229 [00:22<00:06,  8.69it/s]\n",
      " 76%|████████████████████████████████████████████████████████████▍                   | 173/229 [00:22<00:06,  8.61it/s]\n",
      " 76%|████████████████████████████████████████████████████████████▊                   | 174/229 [00:22<00:06,  8.62it/s]\n",
      " 76%|█████████████████████████████████████████████████████████████▏                  | 175/229 [00:22<00:06,  8.58it/s]\n",
      " 77%|█████████████████████████████████████████████████████████████▍                  | 176/229 [00:22<00:06,  8.51it/s]\n",
      " 77%|█████████████████████████████████████████████████████████████▊                  | 177/229 [00:22<00:06,  8.49it/s]\n",
      " 78%|██████████████████████████████████████████████████████████████▏                 | 178/229 [00:22<00:06,  8.40it/s]\n",
      " 78%|██████████████████████████████████████████████████████████████▌                 | 179/229 [00:23<00:06,  8.27it/s]\n",
      " 79%|██████████████████████████████████████████████████████████████▉                 | 180/229 [00:23<00:05,  8.29it/s]\n",
      " 79%|███████████████████████████████████████████████████████████████▏                | 181/229 [00:23<00:05,  8.27it/s]\n",
      " 79%|███████████████████████████████████████████████████████████████▌                | 182/229 [00:23<00:05,  8.21it/s]\n",
      " 80%|███████████████████████████████████████████████████████████████▉                | 183/229 [00:23<00:05,  8.30it/s]\n",
      " 80%|████████████████████████████████████████████████████████████████▎               | 184/229 [00:23<00:05,  8.31it/s]\n",
      " 81%|████████████████████████████████████████████████████████████████▋               | 185/229 [00:23<00:05,  8.31it/s]\n",
      " 81%|████████████████████████████████████████████████████████████████▉               | 186/229 [00:23<00:05,  8.26it/s]\n",
      " 82%|█████████████████████████████████████████████████████████████████▎              | 187/229 [00:23<00:05,  8.35it/s]\n",
      " 82%|█████████████████████████████████████████████████████████████████▋              | 188/229 [00:24<00:04,  8.27it/s]\n",
      " 83%|██████████████████████████████████████████████████████████████████              | 189/229 [00:24<00:04,  8.25it/s]\n",
      " 83%|██████████████████████████████████████████████████████████████████▍             | 190/229 [00:24<00:04,  8.30it/s]\n",
      " 83%|██████████████████████████████████████████████████████████████████▋             | 191/229 [00:24<00:04,  8.12it/s]\n",
      " 84%|███████████████████████████████████████████████████████████████████             | 192/229 [00:24<00:04,  8.09it/s]\n",
      " 84%|███████████████████████████████████████████████████████████████████▍            | 193/229 [00:24<00:04,  8.17it/s]\n",
      " 85%|███████████████████████████████████████████████████████████████████▊            | 194/229 [00:24<00:04,  8.16it/s]\n",
      " 85%|████████████████████████████████████████████████████████████████████            | 195/229 [00:24<00:04,  8.08it/s]\n",
      " 86%|████████████████████████████████████████████████████████████████████▍           | 196/229 [00:25<00:04,  8.10it/s]\n",
      " 86%|████████████████████████████████████████████████████████████████████▊           | 197/229 [00:25<00:03,  8.14it/s]\n",
      " 86%|█████████████████████████████████████████████████████████████████████▏          | 198/229 [00:25<00:03,  8.16it/s]\n",
      " 87%|█████████████████████████████████████████████████████████████████████▌          | 199/229 [00:25<00:03,  8.18it/s]\n",
      " 87%|█████████████████████████████████████████████████████████████████████▊          | 200/229 [00:25<00:03,  8.19it/s]\n",
      " 88%|██████████████████████████████████████████████████████████████████████▏         | 201/229 [00:25<00:03,  8.18it/s]\n",
      " 88%|██████████████████████████████████████████████████████████████████████▌         | 202/229 [00:25<00:03,  8.19it/s]\n",
      " 89%|██████████████████████████████████████████████████████████████████████▉         | 203/229 [00:25<00:03,  7.55it/s]\n"
     ]
    },
    {
     "name": "stderr",
     "output_type": "stream",
     "text": [
      " 89%|███████████████████████████████████████████████████████████████████████▎        | 204/229 [00:26<00:03,  6.84it/s]\n",
      " 90%|███████████████████████████████████████████████████████████████████████▌        | 205/229 [00:26<00:03,  6.53it/s]\n",
      " 90%|███████████████████████████████████████████████████████████████████████▉        | 206/229 [00:26<00:03,  6.32it/s]\n",
      " 90%|████████████████████████████████████████████████████████████████████████▎       | 207/229 [00:26<00:03,  6.31it/s]\n",
      " 91%|████████████████████████████████████████████████████████████████████████▋       | 208/229 [00:26<00:03,  6.27it/s]\n",
      " 91%|█████████████████████████████████████████████████████████████████████████       | 209/229 [00:26<00:03,  6.21it/s]\n",
      " 92%|█████████████████████████████████████████████████████████████████████████▎      | 210/229 [00:27<00:02,  6.69it/s]\n",
      " 92%|█████████████████████████████████████████████████████████████████████████▋      | 211/229 [00:27<00:02,  7.19it/s]\n",
      " 93%|██████████████████████████████████████████████████████████████████████████      | 212/229 [00:27<00:02,  7.37it/s]\n",
      " 93%|██████████████████████████████████████████████████████████████████████████▍     | 213/229 [00:27<00:02,  7.57it/s]\n",
      " 93%|██████████████████████████████████████████████████████████████████████████▊     | 214/229 [00:27<00:01,  7.81it/s]\n",
      " 94%|███████████████████████████████████████████████████████████████████████████     | 215/229 [00:27<00:01,  7.91it/s]\n",
      " 94%|███████████████████████████████████████████████████████████████████████████▍    | 216/229 [00:27<00:01,  8.12it/s]\n",
      " 95%|███████████████████████████████████████████████████████████████████████████▊    | 217/229 [00:27<00:01,  8.19it/s]\n",
      " 95%|████████████████████████████████████████████████████████████████████████████▏   | 218/229 [00:28<00:01,  8.14it/s]\n",
      " 96%|████████████████████████████████████████████████████████████████████████████▌   | 219/229 [00:28<00:01,  7.93it/s]\n",
      " 96%|████████████████████████████████████████████████████████████████████████████▊   | 220/229 [00:28<00:01,  8.13it/s]\n",
      " 97%|█████████████████████████████████████████████████████████████████████████████▏  | 221/229 [00:28<00:00,  8.20it/s]\n",
      " 97%|█████████████████████████████████████████████████████████████████████████████▌  | 222/229 [00:28<00:00,  8.12it/s]\n",
      " 97%|█████████████████████████████████████████████████████████████████████████████▉  | 223/229 [00:28<00:00,  8.17it/s]\n",
      " 98%|██████████████████████████████████████████████████████████████████████████████▎ | 224/229 [00:28<00:00,  8.25it/s]\n",
      " 98%|██████████████████████████████████████████████████████████████████████████████▌ | 225/229 [00:28<00:00,  8.24it/s]\n",
      " 99%|██████████████████████████████████████████████████████████████████████████████▉ | 226/229 [00:29<00:00,  8.29it/s]\n",
      " 99%|███████████████████████████████████████████████████████████████████████████████▎| 227/229 [00:29<00:00,  8.31it/s]\n",
      "100%|███████████████████████████████████████████████████████████████████████████████▋| 228/229 [00:29<00:00,  8.35it/s]\n",
      "100%|████████████████████████████████████████████████████████████████████████████████| 229/229 [00:29<00:00,  7.80it/s]"
     ]
    }
   ],
   "source": [
    "predictions2 = test1_model(model_conv, test_dataloader, optimizer_conv, True)"
   ]
  },
  {
   "cell_type": "code",
   "execution_count": 36,
   "metadata": {},
   "outputs": [],
   "source": [
    "\n",
    "predictions3 = torch.cat(predictions2)\n",
    "predictions3 = np.array(predictions3.cpu())"
   ]
  },
  {
   "cell_type": "code",
   "execution_count": 39,
   "metadata": {},
   "outputs": [
    {
     "data": {
      "text/plain": [
       "7301"
      ]
     },
     "execution_count": 39,
     "metadata": {},
     "output_type": "execute_result"
    }
   ],
   "source": [
    "len(predictions3)"
   ]
  },
  {
   "cell_type": "code",
   "execution_count": 40,
   "metadata": {},
   "outputs": [
    {
     "data": {
      "text/plain": [
       "array([5, 0, 4, 2, 5], dtype=int64)"
      ]
     },
     "execution_count": 40,
     "metadata": {},
     "output_type": "execute_result"
    }
   ],
   "source": [
    "predictions3[:5]"
   ]
  },
  {
   "cell_type": "code",
   "execution_count": 41,
   "metadata": {},
   "outputs": [
    {
     "ename": "FileNotFoundError",
     "evalue": "[Errno 2] File b'resnet50_15_col.csv' does not exist: b'resnet50_15_col.csv'",
     "output_type": "error",
     "traceback": [
      "\u001b[1;31m---------------------------------------------------------------------------\u001b[0m",
      "\u001b[1;31mFileNotFoundError\u001b[0m                         Traceback (most recent call last)",
      "\u001b[1;32m<ipython-input-41-a5b1662aa644>\u001b[0m in \u001b[0;36m<module>\u001b[1;34m\u001b[0m\n\u001b[1;32m----> 1\u001b[1;33m \u001b[0mresult\u001b[0m \u001b[1;33m=\u001b[0m \u001b[0mpd\u001b[0m\u001b[1;33m.\u001b[0m\u001b[0mread_csv\u001b[0m\u001b[1;33m(\u001b[0m\u001b[1;34m'resnet50_15_col.csv'\u001b[0m\u001b[1;33m)\u001b[0m\u001b[1;33m\u001b[0m\u001b[1;33m\u001b[0m\u001b[0m\n\u001b[0m",
      "\u001b[1;32mc:\\users\\rohit\\virtualenv\\lib\\site-packages\\pandas\\io\\parsers.py\u001b[0m in \u001b[0;36mparser_f\u001b[1;34m(filepath_or_buffer, sep, delimiter, header, names, index_col, usecols, squeeze, prefix, mangle_dupe_cols, dtype, engine, converters, true_values, false_values, skipinitialspace, skiprows, skipfooter, nrows, na_values, keep_default_na, na_filter, verbose, skip_blank_lines, parse_dates, infer_datetime_format, keep_date_col, date_parser, dayfirst, iterator, chunksize, compression, thousands, decimal, lineterminator, quotechar, quoting, doublequote, escapechar, comment, encoding, dialect, tupleize_cols, error_bad_lines, warn_bad_lines, delim_whitespace, low_memory, memory_map, float_precision)\u001b[0m\n\u001b[0;32m    700\u001b[0m                     skip_blank_lines=skip_blank_lines)\n\u001b[0;32m    701\u001b[0m \u001b[1;33m\u001b[0m\u001b[0m\n\u001b[1;32m--> 702\u001b[1;33m         \u001b[1;32mreturn\u001b[0m \u001b[0m_read\u001b[0m\u001b[1;33m(\u001b[0m\u001b[0mfilepath_or_buffer\u001b[0m\u001b[1;33m,\u001b[0m \u001b[0mkwds\u001b[0m\u001b[1;33m)\u001b[0m\u001b[1;33m\u001b[0m\u001b[1;33m\u001b[0m\u001b[0m\n\u001b[0m\u001b[0;32m    703\u001b[0m \u001b[1;33m\u001b[0m\u001b[0m\n\u001b[0;32m    704\u001b[0m     \u001b[0mparser_f\u001b[0m\u001b[1;33m.\u001b[0m\u001b[0m__name__\u001b[0m \u001b[1;33m=\u001b[0m \u001b[0mname\u001b[0m\u001b[1;33m\u001b[0m\u001b[1;33m\u001b[0m\u001b[0m\n",
      "\u001b[1;32mc:\\users\\rohit\\virtualenv\\lib\\site-packages\\pandas\\io\\parsers.py\u001b[0m in \u001b[0;36m_read\u001b[1;34m(filepath_or_buffer, kwds)\u001b[0m\n\u001b[0;32m    427\u001b[0m \u001b[1;33m\u001b[0m\u001b[0m\n\u001b[0;32m    428\u001b[0m     \u001b[1;31m# Create the parser.\u001b[0m\u001b[1;33m\u001b[0m\u001b[1;33m\u001b[0m\u001b[1;33m\u001b[0m\u001b[0m\n\u001b[1;32m--> 429\u001b[1;33m     \u001b[0mparser\u001b[0m \u001b[1;33m=\u001b[0m \u001b[0mTextFileReader\u001b[0m\u001b[1;33m(\u001b[0m\u001b[0mfilepath_or_buffer\u001b[0m\u001b[1;33m,\u001b[0m \u001b[1;33m**\u001b[0m\u001b[0mkwds\u001b[0m\u001b[1;33m)\u001b[0m\u001b[1;33m\u001b[0m\u001b[1;33m\u001b[0m\u001b[0m\n\u001b[0m\u001b[0;32m    430\u001b[0m \u001b[1;33m\u001b[0m\u001b[0m\n\u001b[0;32m    431\u001b[0m     \u001b[1;32mif\u001b[0m \u001b[0mchunksize\u001b[0m \u001b[1;32mor\u001b[0m \u001b[0miterator\u001b[0m\u001b[1;33m:\u001b[0m\u001b[1;33m\u001b[0m\u001b[1;33m\u001b[0m\u001b[0m\n",
      "\u001b[1;32mc:\\users\\rohit\\virtualenv\\lib\\site-packages\\pandas\\io\\parsers.py\u001b[0m in \u001b[0;36m__init__\u001b[1;34m(self, f, engine, **kwds)\u001b[0m\n\u001b[0;32m    893\u001b[0m             \u001b[0mself\u001b[0m\u001b[1;33m.\u001b[0m\u001b[0moptions\u001b[0m\u001b[1;33m[\u001b[0m\u001b[1;34m'has_index_names'\u001b[0m\u001b[1;33m]\u001b[0m \u001b[1;33m=\u001b[0m \u001b[0mkwds\u001b[0m\u001b[1;33m[\u001b[0m\u001b[1;34m'has_index_names'\u001b[0m\u001b[1;33m]\u001b[0m\u001b[1;33m\u001b[0m\u001b[1;33m\u001b[0m\u001b[0m\n\u001b[0;32m    894\u001b[0m \u001b[1;33m\u001b[0m\u001b[0m\n\u001b[1;32m--> 895\u001b[1;33m         \u001b[0mself\u001b[0m\u001b[1;33m.\u001b[0m\u001b[0m_make_engine\u001b[0m\u001b[1;33m(\u001b[0m\u001b[0mself\u001b[0m\u001b[1;33m.\u001b[0m\u001b[0mengine\u001b[0m\u001b[1;33m)\u001b[0m\u001b[1;33m\u001b[0m\u001b[1;33m\u001b[0m\u001b[0m\n\u001b[0m\u001b[0;32m    896\u001b[0m \u001b[1;33m\u001b[0m\u001b[0m\n\u001b[0;32m    897\u001b[0m     \u001b[1;32mdef\u001b[0m \u001b[0mclose\u001b[0m\u001b[1;33m(\u001b[0m\u001b[0mself\u001b[0m\u001b[1;33m)\u001b[0m\u001b[1;33m:\u001b[0m\u001b[1;33m\u001b[0m\u001b[1;33m\u001b[0m\u001b[0m\n",
      "\u001b[1;32mc:\\users\\rohit\\virtualenv\\lib\\site-packages\\pandas\\io\\parsers.py\u001b[0m in \u001b[0;36m_make_engine\u001b[1;34m(self, engine)\u001b[0m\n\u001b[0;32m   1120\u001b[0m     \u001b[1;32mdef\u001b[0m \u001b[0m_make_engine\u001b[0m\u001b[1;33m(\u001b[0m\u001b[0mself\u001b[0m\u001b[1;33m,\u001b[0m \u001b[0mengine\u001b[0m\u001b[1;33m=\u001b[0m\u001b[1;34m'c'\u001b[0m\u001b[1;33m)\u001b[0m\u001b[1;33m:\u001b[0m\u001b[1;33m\u001b[0m\u001b[1;33m\u001b[0m\u001b[0m\n\u001b[0;32m   1121\u001b[0m         \u001b[1;32mif\u001b[0m \u001b[0mengine\u001b[0m \u001b[1;33m==\u001b[0m \u001b[1;34m'c'\u001b[0m\u001b[1;33m:\u001b[0m\u001b[1;33m\u001b[0m\u001b[1;33m\u001b[0m\u001b[0m\n\u001b[1;32m-> 1122\u001b[1;33m             \u001b[0mself\u001b[0m\u001b[1;33m.\u001b[0m\u001b[0m_engine\u001b[0m \u001b[1;33m=\u001b[0m \u001b[0mCParserWrapper\u001b[0m\u001b[1;33m(\u001b[0m\u001b[0mself\u001b[0m\u001b[1;33m.\u001b[0m\u001b[0mf\u001b[0m\u001b[1;33m,\u001b[0m \u001b[1;33m**\u001b[0m\u001b[0mself\u001b[0m\u001b[1;33m.\u001b[0m\u001b[0moptions\u001b[0m\u001b[1;33m)\u001b[0m\u001b[1;33m\u001b[0m\u001b[1;33m\u001b[0m\u001b[0m\n\u001b[0m\u001b[0;32m   1123\u001b[0m         \u001b[1;32melse\u001b[0m\u001b[1;33m:\u001b[0m\u001b[1;33m\u001b[0m\u001b[1;33m\u001b[0m\u001b[0m\n\u001b[0;32m   1124\u001b[0m             \u001b[1;32mif\u001b[0m \u001b[0mengine\u001b[0m \u001b[1;33m==\u001b[0m \u001b[1;34m'python'\u001b[0m\u001b[1;33m:\u001b[0m\u001b[1;33m\u001b[0m\u001b[1;33m\u001b[0m\u001b[0m\n",
      "\u001b[1;32mc:\\users\\rohit\\virtualenv\\lib\\site-packages\\pandas\\io\\parsers.py\u001b[0m in \u001b[0;36m__init__\u001b[1;34m(self, src, **kwds)\u001b[0m\n\u001b[0;32m   1851\u001b[0m         \u001b[0mkwds\u001b[0m\u001b[1;33m[\u001b[0m\u001b[1;34m'usecols'\u001b[0m\u001b[1;33m]\u001b[0m \u001b[1;33m=\u001b[0m \u001b[0mself\u001b[0m\u001b[1;33m.\u001b[0m\u001b[0musecols\u001b[0m\u001b[1;33m\u001b[0m\u001b[1;33m\u001b[0m\u001b[0m\n\u001b[0;32m   1852\u001b[0m \u001b[1;33m\u001b[0m\u001b[0m\n\u001b[1;32m-> 1853\u001b[1;33m         \u001b[0mself\u001b[0m\u001b[1;33m.\u001b[0m\u001b[0m_reader\u001b[0m \u001b[1;33m=\u001b[0m \u001b[0mparsers\u001b[0m\u001b[1;33m.\u001b[0m\u001b[0mTextReader\u001b[0m\u001b[1;33m(\u001b[0m\u001b[0msrc\u001b[0m\u001b[1;33m,\u001b[0m \u001b[1;33m**\u001b[0m\u001b[0mkwds\u001b[0m\u001b[1;33m)\u001b[0m\u001b[1;33m\u001b[0m\u001b[1;33m\u001b[0m\u001b[0m\n\u001b[0m\u001b[0;32m   1854\u001b[0m         \u001b[0mself\u001b[0m\u001b[1;33m.\u001b[0m\u001b[0munnamed_cols\u001b[0m \u001b[1;33m=\u001b[0m \u001b[0mself\u001b[0m\u001b[1;33m.\u001b[0m\u001b[0m_reader\u001b[0m\u001b[1;33m.\u001b[0m\u001b[0munnamed_cols\u001b[0m\u001b[1;33m\u001b[0m\u001b[1;33m\u001b[0m\u001b[0m\n\u001b[0;32m   1855\u001b[0m \u001b[1;33m\u001b[0m\u001b[0m\n",
      "\u001b[1;32mpandas\\_libs\\parsers.pyx\u001b[0m in \u001b[0;36mpandas._libs.parsers.TextReader.__cinit__\u001b[1;34m()\u001b[0m\n",
      "\u001b[1;32mpandas\\_libs\\parsers.pyx\u001b[0m in \u001b[0;36mpandas._libs.parsers.TextReader._setup_parser_source\u001b[1;34m()\u001b[0m\n",
      "\u001b[1;31mFileNotFoundError\u001b[0m: [Errno 2] File b'resnet50_15_col.csv' does not exist: b'resnet50_15_col.csv'"
     ]
    }
   ],
   "source": [
    "result = pd.read_csv('submissresnet50_15_col.csv')"
   ]
  },
  {
   "cell_type": "code",
   "execution_count": 37,
   "metadata": {},
   "outputs": [
    {
     "data": {
      "text/plain": [
       "7301"
      ]
     },
     "execution_count": 37,
     "metadata": {},
     "output_type": "execute_result"
    }
   ],
   "source": [
    "result.shape[0]"
   ]
  },
  {
   "cell_type": "code",
   "execution_count": 38,
   "metadata": {},
   "outputs": [],
   "source": [
    "result['label'] = predictions3"
   ]
  },
  {
   "cell_type": "code",
   "execution_count": 39,
   "metadata": {},
   "outputs": [
    {
     "data": {
      "text/html": [
       "<div>\n",
       "<style scoped>\n",
       "    .dataframe tbody tr th:only-of-type {\n",
       "        vertical-align: middle;\n",
       "    }\n",
       "\n",
       "    .dataframe tbody tr th {\n",
       "        vertical-align: top;\n",
       "    }\n",
       "\n",
       "    .dataframe thead th {\n",
       "        text-align: right;\n",
       "    }\n",
       "</style>\n",
       "<table border=\"1\" class=\"dataframe\">\n",
       "  <thead>\n",
       "    <tr style=\"text-align: right;\">\n",
       "      <th></th>\n",
       "      <th>image_name</th>\n",
       "      <th>label</th>\n",
       "    </tr>\n",
       "  </thead>\n",
       "  <tbody>\n",
       "    <tr>\n",
       "      <th>0</th>\n",
       "      <td>3.jpg</td>\n",
       "      <td>5</td>\n",
       "    </tr>\n",
       "    <tr>\n",
       "      <th>1</th>\n",
       "      <td>5.jpg</td>\n",
       "      <td>0</td>\n",
       "    </tr>\n",
       "    <tr>\n",
       "      <th>2</th>\n",
       "      <td>6.jpg</td>\n",
       "      <td>4</td>\n",
       "    </tr>\n",
       "    <tr>\n",
       "      <th>3</th>\n",
       "      <td>11.jpg</td>\n",
       "      <td>2</td>\n",
       "    </tr>\n",
       "    <tr>\n",
       "      <th>4</th>\n",
       "      <td>14.jpg</td>\n",
       "      <td>5</td>\n",
       "    </tr>\n",
       "  </tbody>\n",
       "</table>\n",
       "</div>"
      ],
      "text/plain": [
       "  image_name  label\n",
       "0      3.jpg      5\n",
       "1      5.jpg      0\n",
       "2      6.jpg      4\n",
       "3     11.jpg      2\n",
       "4     14.jpg      5"
      ]
     },
     "execution_count": 39,
     "metadata": {},
     "output_type": "execute_result"
    }
   ],
   "source": [
    "result.head()"
   ]
  },
  {
   "cell_type": "code",
   "execution_count": 40,
   "metadata": {},
   "outputs": [],
   "source": [
    "result.to_csv('torch_resnet50_places365.csv',index=False)"
   ]
  }
 ],
 "metadata": {
  "kernelspec": {
   "display_name": "PyTorch",
   "language": "python",
   "name": "pytorch"
  },
  "language_info": {
   "codemirror_mode": {
    "name": "ipython",
    "version": 3
   },
   "file_extension": ".py",
   "mimetype": "text/x-python",
   "name": "python",
   "nbconvert_exporter": "python",
   "pygments_lexer": "ipython3",
   "version": "3.6.8"
  }
 },
 "nbformat": 4,
 "nbformat_minor": 2
}
