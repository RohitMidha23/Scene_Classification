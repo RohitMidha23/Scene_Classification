{
 "cells": [
  {
   "cell_type": "code",
   "execution_count": 2,
   "metadata": {},
   "outputs": [],
   "source": [
    "import os\n",
    "import pandas as pd\n",
    "from sklearn.model_selection import StratifiedKFold\n",
    "\n",
    "train_df = pd.read_csv(\"train-scene/train.csv\")\n",
    "y = train_df['label'].values\n",
    "\n",
    "kf = StratifiedKFold(n_splits=5, shuffle=True, random_state=2411)\n",
    "for fold, (train_idx, valid_idx) in enumerate(kf.split(train_df, y)):\n",
    "    train_fold = train_df.iloc[train_idx]\n",
    "    valid_fold = train_df.iloc[valid_idx]\n",
    "\n",
    "    os.makedirs(\"kfold/\", exist_ok=True)\n",
    "\n",
    "    train_fold.to_csv(f\"kfold/train_{fold}.csv\", index=False)\n",
    "    valid_fold.to_csv(f\"kfold/valid_{fold}.csv\", index=False)"
   ]
  },
  {
   "cell_type": "code",
   "execution_count": null,
   "metadata": {},
   "outputs": [],
   "source": []
  }
 ],
 "metadata": {
  "kernelspec": {
   "display_name": "PyTorch",
   "language": "python",
   "name": "pytorch"
  },
  "language_info": {
   "codemirror_mode": {
    "name": "ipython",
    "version": 3
   },
   "file_extension": ".py",
   "mimetype": "text/x-python",
   "name": "python",
   "nbconvert_exporter": "python",
   "pygments_lexer": "ipython3",
   "version": "3.6.8"
  }
 },
 "nbformat": 4,
 "nbformat_minor": 2
}
